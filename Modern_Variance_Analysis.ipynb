{
 "cells": [
  {
   "cell_type": "code",
   "execution_count": 1,
   "id": "7712e092-1a7b-477a-89cb-d24b5540b355",
   "metadata": {},
   "outputs": [],
   "source": [
    "import requests\n",
    "import yfinance as yf # Used to grab the stock prices, with yahoo\n",
    "import numpy as np\n",
    "import pandas as pd\n",
    "from datetime import datetime\n",
    "import seaborn as sns\n",
    "from dotenv import load_dotenv\n",
    "import alpaca_trade_api as tradeapi\n",
    "from utils.MCForecastTools import MCSimulation\n"
   ]
  },
  {
   "cell_type": "code",
   "execution_count": 2,
   "id": "eaea87af-44cb-446d-a658-8ad5a0b351a6",
   "metadata": {},
   "outputs": [
    {
     "name": "stdout",
     "output_type": "stream",
     "text": [
      "yfinance.Ticker object <WMT>\n"
     ]
    }
   ],
   "source": [
    "amazon = yf.Ticker(\"AMZN\")\n",
    "walmart = yf.Ticker(\"WMT\")\n",
    "ebay = yf.Ticker(\"EBAY\")\n",
    "target = yf.Ticker(\"TGT\")\n",
    "overstock = yf.Ticker(\"OSTK\")\n",
    "print(walmart)"
   ]
  },
  {
   "cell_type": "code",
   "execution_count": 3,
   "id": "42a3a755-fc4c-42e9-a42d-f50947b3715d",
   "metadata": {},
   "outputs": [
    {
     "name": "stdout",
     "output_type": "stream",
     "text": [
      "Current Amazon Price: 3515.25\n",
      "Current Amazon Investment Value: 215950.97027792264\n",
      "Current Walmart Price: 149.52\n",
      "Current Walmart Investment Value: 153323.86386883567\n",
      "Current Ebay Price: 74.1\n",
      "Current Ebay Investment Value: 259626.3748723153\n",
      "Current Target Price: 252.78\n",
      "Current Target Investment Value: 317600.26376979577\n",
      "Current Overstock Price: 105.67\n",
      "Current Overstock Investment Value: 533686.8956407523\n"
     ]
    }
   ],
   "source": [
    "total_investment = 500000\n",
    "\n",
    "#Amazon Data\n",
    "initial_amazon_price = 1627.800049\n",
    "initial_amazon_investment = 100000\n",
    "amount_of_amazon_stock = initial_amazon_investment/initial_amazon_price\n",
    "current_amazon_price = amazon.info['open']\n",
    "current_amazon_investment_value = current_amazon_price * amount_of_amazon_stock\n",
    "\n",
    "#Walmart Data\n",
    "initial_walmart_price = 97.519066\n",
    "initial_walmart_investment = 100000\n",
    "amount_of_walmart_stock = initial_walmart_investment/initial_walmart_price\n",
    "current_walmart_price = walmart.info['open']\n",
    "current_walmart_investment_value = current_walmart_price * amount_of_walmart_stock\n",
    "\n",
    "#Ebay Data\n",
    "initial_ebay_price = 28.541014\n",
    "initial_ebay_investment = 100000\n",
    "amount_of_ebay_stock = initial_ebay_investment/initial_ebay_price\n",
    "current_ebay_price = ebay.info['open']\n",
    "current_ebay_investment_value = current_ebay_price * amount_of_ebay_stock\n",
    "\n",
    "#Target Data\n",
    "initial_target_price = 79.590614\n",
    "initial_target_investment = 100000\n",
    "amount_of_target_stock = initial_target_investment/initial_target_price\n",
    "current_target_price = target.info['open']\n",
    "current_target_investment_value = current_target_price * amount_of_target_stock\n",
    "\n",
    "#Overstock Data\n",
    "initial_overstock_price = 19.799999\n",
    "initial_overstock_investment = 100000\n",
    "amount_of_overstock_stock = initial_overstock_investment/initial_overstock_price\n",
    "current_overstock_price = overstock.info['open']\n",
    "current_overstock_investment_value = current_overstock_price * amount_of_overstock_stock\n",
    "\n",
    "\n",
    "print(\"Current Amazon Price:\",current_amazon_price)\n",
    "print(\"Current Amazon Investment Value:\",current_amazon_investment_value)\n",
    "print(\"Current Walmart Price:\",current_walmart_price)\n",
    "print(\"Current Walmart Investment Value:\",current_walmart_investment_value)\n",
    "print(\"Current Ebay Price:\",current_ebay_price)\n",
    "print(\"Current Ebay Investment Value:\",current_ebay_investment_value)\n",
    "print(\"Current Target Price:\",current_target_price)\n",
    "print(\"Current Target Investment Value:\",current_target_investment_value)\n",
    "print(\"Current Overstock Price:\",current_overstock_price)\n",
    "print(\"Current Overstock Investment Value:\",current_overstock_investment_value)"
   ]
  },
  {
   "cell_type": "markdown",
   "id": "96e633ed-9db6-4223-9488-49f3945fb18b",
   "metadata": {},
   "source": [
    "# Amazon Expected Rate of Return Calculations"
   ]
  },
  {
   "cell_type": "code",
   "execution_count": 4,
   "id": "2688676c-7251-496e-ad8b-9003ae3ef9ab",
   "metadata": {},
   "outputs": [],
   "source": [
    "amazon_historical_year1_begin = amazon.history(start=\"2018-11-05\", end=\"2018-11-06\")\n",
    "amazon_historical_year1_end = amazon.history(start=\"2019-11-05\", end=\"2019-11-06\")\n",
    "initial_value_year1_amazon = amazon_historical_year1_begin['Close']['2018-11-05']\n",
    "current_value_year1_amazon= amazon_historical_year1_end['Close']['2019-11-05']"
   ]
  },
  {
   "cell_type": "code",
   "execution_count": 5,
   "id": "040f46b9-3a03-4015-8531-5b22c6a6e9d4",
   "metadata": {},
   "outputs": [
    {
     "data": {
      "text/plain": [
       "10.683739211985838"
      ]
     },
     "execution_count": 5,
     "metadata": {},
     "output_type": "execute_result"
    }
   ],
   "source": [
    "year1_ror_amazon = ((current_value_year1_amazon - initial_value_year1_amazon)/initial_value_year1_amazon)*100\n",
    "\n",
    "year1_ror_amazon"
   ]
  },
  {
   "cell_type": "code",
   "execution_count": 6,
   "id": "cfe1d346-3516-4458-a91b-9e9e254a3c9a",
   "metadata": {},
   "outputs": [],
   "source": [
    "amazon_historical_year2_begin = amazon.history(start=\"2019-11-05\", end=\"2019-11-06\")\n",
    "amazon_historical_year2_end = amazon.history(start=\"2020-11-05\", end=\"2020-11-06\")\n",
    "initial_value_year2_amazon = amazon_historical_year2_begin['Close']['2019-11-05']\n",
    "current_value_year2_amazon= amazon_historical_year2_end['Close']['2020-11-05']"
   ]
  },
  {
   "cell_type": "code",
   "execution_count": 7,
   "id": "9b55cf91-5644-4d09-97c4-7708a41dece1",
   "metadata": {},
   "outputs": [
    {
     "data": {
      "text/plain": [
       "84.38039817859662"
      ]
     },
     "execution_count": 7,
     "metadata": {},
     "output_type": "execute_result"
    }
   ],
   "source": [
    "year2_ror_amazon = ((current_value_year2_amazon - initial_value_year2_amazon)/initial_value_year2_amazon)*100\n",
    "\n",
    "year2_ror_amazon"
   ]
  },
  {
   "cell_type": "code",
   "execution_count": 8,
   "id": "4a9b14bb-4467-4922-8680-569495099658",
   "metadata": {},
   "outputs": [],
   "source": [
    "amazon_historical_year3_begin = amazon.history(start=\"2020-11-05\", end=\"2020-11-06\")\n",
    "amazon_historical_year3_end = amazon.history(start=\"2021-11-03\", end=\"2021-11-04\")\n",
    "initial_value_year3_amazon = amazon_historical_year3_begin['Close']['2020-11-05']\n",
    "current_value_year3_amazon= amazon_historical_year3_end['Close']['2021-11-03']"
   ]
  },
  {
   "cell_type": "code",
   "execution_count": 9,
   "id": "79dae985-f65c-44ca-af7c-41c581a16d03",
   "metadata": {},
   "outputs": [
    {
     "data": {
      "text/plain": [
       "1.8663455749548463"
      ]
     },
     "execution_count": 9,
     "metadata": {},
     "output_type": "execute_result"
    }
   ],
   "source": [
    "year3_ror_amazon = ((current_value_year3_amazon - initial_value_year3_amazon)/initial_value_year3_amazon)*100\n",
    "\n",
    "year3_ror_amazon"
   ]
  },
  {
   "cell_type": "code",
   "execution_count": 10,
   "id": "f78f69e8-1488-4808-b555-8d906d18a72f",
   "metadata": {},
   "outputs": [
    {
     "data": {
      "text/plain": [
       "32.310160988512436"
      ]
     },
     "execution_count": 10,
     "metadata": {},
     "output_type": "execute_result"
    }
   ],
   "source": [
    "expected_ror_amazon = (year1_ror_amazon + year2_ror_amazon + year3_ror_amazon)/3\n",
    "\n",
    "expected_ror_amazon"
   ]
  },
  {
   "cell_type": "markdown",
   "id": "2eb1b399-5078-4f45-9ee9-c77e95765549",
   "metadata": {},
   "source": [
    "# Walmart Expected Rate of Return Calculations"
   ]
  },
  {
   "cell_type": "code",
   "execution_count": 11,
   "id": "3bdce9c0-9fb2-4af6-a2ee-335875d27d13",
   "metadata": {},
   "outputs": [],
   "source": [
    "walmart_historical_year1_begin = walmart.history(start=\"2018-11-05\", end=\"2018-11-06\")\n",
    "walmart_historical_year1_end = walmart.history(start=\"2019-11-05\", end=\"2019-11-06\")\n",
    "initial_value_year1_wmt = walmart_historical_year1_begin['Close']['2018-11-05']\n",
    "current_value_year1_wmt= walmart_historical_year1_end['Close']['2019-11-05']"
   ]
  },
  {
   "cell_type": "code",
   "execution_count": 12,
   "id": "37342c8f-884e-4e18-8546-e996aaf48fbf",
   "metadata": {},
   "outputs": [
    {
     "data": {
      "text/plain": [
       "17.95209629278384"
      ]
     },
     "execution_count": 12,
     "metadata": {},
     "output_type": "execute_result"
    }
   ],
   "source": [
    "year1_ror_wmt = ((current_value_year1_wmt - initial_value_year1_wmt)/initial_value_year1_wmt)*100\n",
    "\n",
    "year1_ror_wmt"
   ]
  },
  {
   "cell_type": "code",
   "execution_count": 13,
   "id": "31b7166c-eddc-449e-868e-892b2b7a13ce",
   "metadata": {},
   "outputs": [],
   "source": [
    "walmart_historical_year2_begin = walmart.history(start=\"2019-11-05\", end=\"2019-11-06\")\n",
    "walmart_historical_year2_end = walmart.history(start=\"2020-11-05\", end=\"2020-11-06\")\n",
    "initial_value_year2_wmt = walmart_historical_year2_begin['Close']['2019-11-05']\n",
    "current_value_year2_wmt= walmart_historical_year2_end['Close']['2020-11-05']"
   ]
  },
  {
   "cell_type": "code",
   "execution_count": 14,
   "id": "537ee0bf-88b2-4220-965e-0a441c0447b1",
   "metadata": {},
   "outputs": [
    {
     "data": {
      "text/plain": [
       "22.821495133636702"
      ]
     },
     "execution_count": 14,
     "metadata": {},
     "output_type": "execute_result"
    }
   ],
   "source": [
    "year2_ror_wmt = ((current_value_year2_wmt - initial_value_year2_wmt)/initial_value_year2_wmt)*100\n",
    "\n",
    "year2_ror_wmt"
   ]
  },
  {
   "cell_type": "code",
   "execution_count": 15,
   "id": "1d998dec-3159-4deb-9f3e-6590d3cd2e94",
   "metadata": {},
   "outputs": [],
   "source": [
    "walmart_historical_year3_begin = walmart.history(start=\"2020-11-05\", end=\"2020-11-06\")\n",
    "walmart_historical_year3_end = walmart.history(start=\"2021-11-03\", end=\"2021-11-04\")\n",
    "initial_value_year3_wmt = walmart_historical_year3_begin['Close']['2020-11-05']\n",
    "current_value_year3_wmt= walmart_historical_year3_end['Close']['2021-11-03']"
   ]
  },
  {
   "cell_type": "code",
   "execution_count": 16,
   "id": "3c9f5f13-c8fd-477a-ad3e-3e224993ae39",
   "metadata": {},
   "outputs": [
    {
     "data": {
      "text/plain": [
       "6.302263743819454"
      ]
     },
     "execution_count": 16,
     "metadata": {},
     "output_type": "execute_result"
    }
   ],
   "source": [
    "year3_ror_wmt = ((current_value_year3_wmt - initial_value_year3_wmt)/initial_value_year3_wmt)*100\n",
    "\n",
    "year3_ror_wmt"
   ]
  },
  {
   "cell_type": "code",
   "execution_count": 17,
   "id": "500d9fc5-6670-4b8b-8852-8e7f1132b1bd",
   "metadata": {},
   "outputs": [
    {
     "data": {
      "text/plain": [
       "15.69195172341333"
      ]
     },
     "execution_count": 17,
     "metadata": {},
     "output_type": "execute_result"
    }
   ],
   "source": [
    "expected_ror_wmt = (year1_ror_wmt + year2_ror_wmt + year3_ror_wmt)/3\n",
    "\n",
    "expected_ror_wmt"
   ]
  },
  {
   "cell_type": "markdown",
   "id": "27b9bc72-f226-498f-aad5-4531f563495f",
   "metadata": {},
   "source": [
    "# Ebay Expected Rate of Return Calculations"
   ]
  },
  {
   "cell_type": "code",
   "execution_count": 18,
   "id": "a770009c-9726-48ed-8844-8cdc782d76a1",
   "metadata": {},
   "outputs": [],
   "source": [
    "ebay_historical_year1_begin = ebay.history(start=\"2018-11-05\", end=\"2018-11-06\")\n",
    "ebay_historical_year1_end = ebay.history(start=\"2019-11-05\", end=\"2019-11-06\")\n",
    "initial_value_year1_ebay = ebay_historical_year1_begin['Close']['2018-11-05']\n",
    "current_value_year1_ebay= ebay_historical_year1_end['Close']['2019-11-05']"
   ]
  },
  {
   "cell_type": "code",
   "execution_count": 19,
   "id": "52be4725-10c3-4ace-8fbd-785553d58045",
   "metadata": {},
   "outputs": [
    {
     "data": {
      "text/plain": [
       "21.036553031530747"
      ]
     },
     "execution_count": 19,
     "metadata": {},
     "output_type": "execute_result"
    }
   ],
   "source": [
    "year1_ror_ebay = ((current_value_year1_ebay - initial_value_year1_ebay)/initial_value_year1_ebay)*100\n",
    "\n",
    "year1_ror_ebay"
   ]
  },
  {
   "cell_type": "code",
   "execution_count": 20,
   "id": "bcffa492-7d46-4806-92c9-f0c0ebe94a53",
   "metadata": {},
   "outputs": [],
   "source": [
    "ebay_historical_year2_begin = ebay.history(start=\"2019-11-05\", end=\"2019-11-06\")\n",
    "ebay_historical_year2_end = ebay.history(start=\"2020-11-05\", end=\"2020-11-06\")\n",
    "initial_value_year2_ebay = ebay_historical_year2_begin['Close']['2019-11-05']\n",
    "current_value_year2_ebay= ebay_historical_year2_end['Close']['2020-11-05']"
   ]
  },
  {
   "cell_type": "code",
   "execution_count": 21,
   "id": "433c715a-82c7-47d2-b671-1c2e4bdacaa5",
   "metadata": {},
   "outputs": [
    {
     "data": {
      "text/plain": [
       "41.37554974539474"
      ]
     },
     "execution_count": 21,
     "metadata": {},
     "output_type": "execute_result"
    }
   ],
   "source": [
    "year2_ror_ebay = ((current_value_year2_ebay - initial_value_year2_ebay)/initial_value_year2_ebay)*100\n",
    "\n",
    "year2_ror_ebay"
   ]
  },
  {
   "cell_type": "code",
   "execution_count": 22,
   "id": "69a35e28-a20d-445a-a8a3-a97f29b032f1",
   "metadata": {},
   "outputs": [],
   "source": [
    "ebay_historical_year3_begin = ebay.history(start=\"2020-11-05\", end=\"2020-11-06\")\n",
    "ebay_historical_year3_end = ebay.history(start=\"2021-11-03\", end=\"2021-11-04\")\n",
    "initial_value_year3_ebay = ebay_historical_year3_begin['Close']['2020-11-05']\n",
    "current_value_year3_ebay= ebay_historical_year3_end['Close']['2021-11-03']"
   ]
  },
  {
   "cell_type": "code",
   "execution_count": 23,
   "id": "b691c51f-549d-4087-b7d7-983ff871677c",
   "metadata": {},
   "outputs": [
    {
     "data": {
      "text/plain": [
       "54.48945270214486"
      ]
     },
     "execution_count": 23,
     "metadata": {},
     "output_type": "execute_result"
    }
   ],
   "source": [
    "year3_ror_ebay = ((current_value_year3_ebay - initial_value_year3_ebay)/initial_value_year3_ebay)*100\n",
    "\n",
    "year3_ror_ebay"
   ]
  },
  {
   "cell_type": "code",
   "execution_count": 24,
   "id": "ad7227e5-3e62-4d0f-80da-7cde21e15fc9",
   "metadata": {},
   "outputs": [
    {
     "data": {
      "text/plain": [
       "38.96718515969012"
      ]
     },
     "execution_count": 24,
     "metadata": {},
     "output_type": "execute_result"
    }
   ],
   "source": [
    "expected_ror_ebay = (year1_ror_ebay + year2_ror_ebay + year3_ror_ebay)/3\n",
    "\n",
    "expected_ror_ebay"
   ]
  },
  {
   "cell_type": "markdown",
   "id": "e6f48691-db1a-420e-b0b0-82968ad73d4c",
   "metadata": {},
   "source": [
    "# Target Expected Rate of Return Calculations"
   ]
  },
  {
   "cell_type": "code",
   "execution_count": 25,
   "id": "63779241-f64c-4f00-907f-afb915bda035",
   "metadata": {},
   "outputs": [],
   "source": [
    "target_historical_year1_begin = target.history(start=\"2018-11-05\", end=\"2018-11-06\")\n",
    "target_historical_year1_end = target.history(start=\"2019-11-05\", end=\"2019-11-06\")\n",
    "initial_value_year1_target = target_historical_year1_begin['Close']['2018-11-05']\n",
    "current_value_year1_target= target_historical_year1_end['Close']['2019-11-05']"
   ]
  },
  {
   "cell_type": "code",
   "execution_count": 26,
   "id": "d5db9fe9-5aaa-48cf-a16b-d08d6d590913",
   "metadata": {},
   "outputs": [
    {
     "data": {
      "text/plain": [
       "33.3721142792069"
      ]
     },
     "execution_count": 26,
     "metadata": {},
     "output_type": "execute_result"
    }
   ],
   "source": [
    "year1_ror_target = ((current_value_year1_target - initial_value_year1_target)/initial_value_year1_target)*100\n",
    "\n",
    "year1_ror_target"
   ]
  },
  {
   "cell_type": "code",
   "execution_count": 27,
   "id": "72d3b737-1596-44dc-be5d-94fd6c9534c4",
   "metadata": {},
   "outputs": [],
   "source": [
    "target_historical_year2_begin = target.history(start=\"2019-11-05\", end=\"2019-11-06\")\n",
    "target_historical_year2_end = target.history(start=\"2020-11-05\", end=\"2020-11-06\")\n",
    "initial_value_year2_target = target_historical_year2_begin['Close']['2019-11-05']\n",
    "current_value_year2_target= target_historical_year2_end['Close']['2020-11-05']"
   ]
  },
  {
   "cell_type": "code",
   "execution_count": 28,
   "id": "d85ea248-9c0f-4269-a578-bcbbda7bbacf",
   "metadata": {},
   "outputs": [
    {
     "data": {
      "text/plain": [
       "47.307620628610564"
      ]
     },
     "execution_count": 28,
     "metadata": {},
     "output_type": "execute_result"
    }
   ],
   "source": [
    "year2_ror_target = ((current_value_year2_target - initial_value_year2_target)/initial_value_year2_target)*100\n",
    "\n",
    "year2_ror_target"
   ]
  },
  {
   "cell_type": "code",
   "execution_count": 29,
   "id": "9f4c42a8-aea9-4aa2-8443-0f1a898f14a1",
   "metadata": {},
   "outputs": [],
   "source": [
    "target_historical_year3_begin = target.history(start=\"2020-11-05\", end=\"2020-11-06\")\n",
    "target_historical_year3_end = target.history(start=\"2021-11-03\", end=\"2021-11-04\")\n",
    "initial_value_year3_target = target_historical_year3_begin['Close']['2020-11-05']\n",
    "current_value_year3_target= target_historical_year3_end['Close']['2021-11-03']"
   ]
  },
  {
   "cell_type": "code",
   "execution_count": 30,
   "id": "ddf3e242-609f-4953-8ce5-210c85824259",
   "metadata": {},
   "outputs": [
    {
     "data": {
      "text/plain": [
       "66.5350453183703"
      ]
     },
     "execution_count": 30,
     "metadata": {},
     "output_type": "execute_result"
    }
   ],
   "source": [
    "year3_ror_target = ((current_value_year3_target - initial_value_year3_target)/initial_value_year3_target)*100\n",
    "\n",
    "year3_ror_target"
   ]
  },
  {
   "cell_type": "code",
   "execution_count": 31,
   "id": "8bdcbba1-b17a-411e-b8f4-05c83851f69d",
   "metadata": {},
   "outputs": [
    {
     "data": {
      "text/plain": [
       "49.07159340872926"
      ]
     },
     "execution_count": 31,
     "metadata": {},
     "output_type": "execute_result"
    }
   ],
   "source": [
    "expected_ror_target = (year1_ror_target + year2_ror_target + year3_ror_target)/3\n",
    "\n",
    "expected_ror_target"
   ]
  },
  {
   "cell_type": "markdown",
   "id": "5b010ec3-a040-4865-b3c8-999f2caf9d54",
   "metadata": {},
   "source": [
    "# Overstock Expected Rate of Return Calculations"
   ]
  },
  {
   "cell_type": "code",
   "execution_count": 32,
   "id": "3a5dc083-9abe-4925-b007-c549a1fcae57",
   "metadata": {},
   "outputs": [],
   "source": [
    "overstock_historical_year1_begin = overstock.history(start=\"2018-11-05\", end=\"2018-11-06\")\n",
    "overstock_historical_year1_end = overstock.history(start=\"2019-11-05\", end=\"2019-11-06\")\n",
    "initial_value_year1_overstock = overstock_historical_year1_begin['Close']['2018-11-05']\n",
    "current_value_year1_overstock= overstock_historical_year1_end['Close']['2019-11-05']"
   ]
  },
  {
   "cell_type": "code",
   "execution_count": 33,
   "id": "46cc587a-9be2-4f93-8e15-245e16719a0a",
   "metadata": {},
   "outputs": [
    {
     "data": {
      "text/plain": [
       "-49.34343374015091"
      ]
     },
     "execution_count": 33,
     "metadata": {},
     "output_type": "execute_result"
    }
   ],
   "source": [
    "year1_ror_overstock = ((current_value_year1_overstock - initial_value_year1_overstock)/initial_value_year1_overstock)*100\n",
    "\n",
    "year1_ror_overstock"
   ]
  },
  {
   "cell_type": "code",
   "execution_count": 34,
   "id": "dc777a52-be54-417f-8265-7d8e11921eae",
   "metadata": {},
   "outputs": [],
   "source": [
    "overstock_historical_year2_begin = overstock.history(start=\"2019-11-05\", end=\"2019-11-06\")\n",
    "overstock_historical_year2_end = overstock.history(start=\"2020-11-05\", end=\"2020-11-06\")\n",
    "initial_value_year2_overstock = overstock_historical_year2_begin['Close']['2019-11-05']\n",
    "current_value_year2_overstock= overstock_historical_year2_end['Close']['2020-11-05']"
   ]
  },
  {
   "cell_type": "code",
   "execution_count": 35,
   "id": "93ebc15a-80b3-456d-bd06-ea43ba5d7d9e",
   "metadata": {},
   "outputs": [
    {
     "data": {
      "text/plain": [
       "583.3499774702757"
      ]
     },
     "execution_count": 35,
     "metadata": {},
     "output_type": "execute_result"
    }
   ],
   "source": [
    "year2_ror_overstock = ((current_value_year2_overstock - initial_value_year2_overstock)/initial_value_year2_overstock)*100\n",
    "\n",
    "year2_ror_overstock"
   ]
  },
  {
   "cell_type": "code",
   "execution_count": 36,
   "id": "31aa0ee6-0378-499e-96a2-6db8bf8f85ca",
   "metadata": {},
   "outputs": [],
   "source": [
    "overstock_historical_year3_begin = overstock.history(start=\"2020-11-05\", end=\"2020-11-06\")\n",
    "overstock_historical_year3_end = overstock.history(start=\"2021-11-03\", end=\"2021-11-04\")\n",
    "initial_value_year3_overstock = overstock_historical_year3_begin['Close']['2020-11-05']\n",
    "current_value_year3_overstock= overstock_historical_year3_end['Close']['2021-11-03']"
   ]
  },
  {
   "cell_type": "code",
   "execution_count": 37,
   "id": "18a7a414-a056-491f-9cc6-714717f25bdc",
   "metadata": {},
   "outputs": [
    {
     "data": {
      "text/plain": [
       "52.90341647488361"
      ]
     },
     "execution_count": 37,
     "metadata": {},
     "output_type": "execute_result"
    }
   ],
   "source": [
    "year3_ror_overstock = ((current_value_year3_overstock - initial_value_year3_overstock)/initial_value_year3_overstock)*100\n",
    "\n",
    "year3_ror_overstock"
   ]
  },
  {
   "cell_type": "code",
   "execution_count": 38,
   "id": "449ab18f-d510-4eb3-9728-b608382819e1",
   "metadata": {},
   "outputs": [
    {
     "data": {
      "text/plain": [
       "195.6366534016695"
      ]
     },
     "execution_count": 38,
     "metadata": {},
     "output_type": "execute_result"
    }
   ],
   "source": [
    "expected_ror_overstock = (year1_ror_overstock + year2_ror_overstock + year3_ror_overstock)/3\n",
    "\n",
    "expected_ror_overstock"
   ]
  },
  {
   "cell_type": "code",
   "execution_count": 39,
   "id": "ad515303-abf7-47d2-ad9a-697b0d1d9645",
   "metadata": {},
   "outputs": [
    {
     "data": {
      "text/plain": [
       "Date\n",
       "2018-11-09    1712.430054\n",
       "2018-11-12    1636.849976\n",
       "2018-11-13    1631.170044\n",
       "2018-11-14    1599.010010\n",
       "2018-11-15    1619.439941\n",
       "                 ...     \n",
       "2021-11-03    3384.000000\n",
       "2021-11-04    3477.000000\n",
       "2021-11-05    3518.989990\n",
       "2021-11-08    3488.979980\n",
       "2021-11-09    3568.820068\n",
       "Name: Close, Length: 755, dtype: float64"
      ]
     },
     "execution_count": 39,
     "metadata": {},
     "output_type": "execute_result"
    }
   ],
   "source": [
    "amazon_history = amazon.history(period = \"3y\")\n",
    "\n",
    "amazon_history['Close']"
   ]
  },
  {
   "cell_type": "code",
   "execution_count": 40,
   "id": "e0cd8b1c-9914-42cf-af14-05f13c9f3269",
   "metadata": {},
   "outputs": [
    {
     "data": {
      "text/plain": [
       "Date\n",
       "2018-11-09    100.030228\n",
       "2018-11-12     98.428772\n",
       "2018-11-13     97.547493\n",
       "2018-11-14     96.211342\n",
       "2018-11-15     94.325592\n",
       "                 ...    \n",
       "2021-11-03    150.179993\n",
       "2021-11-04    151.279999\n",
       "2021-11-05    150.229996\n",
       "2021-11-08    149.270004\n",
       "2021-11-09    149.280106\n",
       "Name: Close, Length: 755, dtype: float64"
      ]
     },
     "execution_count": 40,
     "metadata": {},
     "output_type": "execute_result"
    }
   ],
   "source": [
    "walmart_history = walmart.history(period = \"3y\")\n",
    "\n",
    "walmart_history['Close']"
   ]
  },
  {
   "cell_type": "code",
   "execution_count": 41,
   "id": "29baf597-2215-4c01-affb-5ff6be4c443e",
   "metadata": {},
   "outputs": [
    {
     "data": {
      "text/plain": [
       "Date\n",
       "2018-11-09    28.531384\n",
       "2018-11-12    27.886223\n",
       "2018-11-13    27.058113\n",
       "2018-11-14    26.855898\n",
       "2018-11-15    27.125515\n",
       "                ...    \n",
       "2021-11-03    75.449997\n",
       "2021-11-04    76.279999\n",
       "2021-11-05    75.570000\n",
       "2021-11-08    73.760002\n",
       "2021-11-09    74.209999\n",
       "Name: Close, Length: 755, dtype: float64"
      ]
     },
     "execution_count": 41,
     "metadata": {},
     "output_type": "execute_result"
    }
   ],
   "source": [
    "ebay_history = ebay.history(period = \"3y\")\n",
    "\n",
    "ebay_history['Close']"
   ]
  },
  {
   "cell_type": "code",
   "execution_count": 42,
   "id": "57f243b9-86df-4991-96f6-d1fc5181a809",
   "metadata": {},
   "outputs": [
    {
     "data": {
      "text/plain": [
       "Date\n",
       "2018-11-09     81.073326\n",
       "2018-11-12     79.702515\n",
       "2018-11-13     78.630119\n",
       "2018-11-14     77.520416\n",
       "2018-11-15     75.310356\n",
       "                 ...    \n",
       "2021-11-03    260.410004\n",
       "2021-11-04    260.440002\n",
       "2021-11-05    254.270004\n",
       "2021-11-08    253.330002\n",
       "2021-11-09    254.085007\n",
       "Name: Close, Length: 755, dtype: float64"
      ]
     },
     "execution_count": 42,
     "metadata": {},
     "output_type": "execute_result"
    }
   ],
   "source": [
    "target_history = target.history(period = \"3y\")\n",
    "\n",
    "target_history['Close']"
   ]
  },
  {
   "cell_type": "code",
   "execution_count": 43,
   "id": "f54412a4-b1bc-436c-8e2f-0ab975115712",
   "metadata": {},
   "outputs": [
    {
     "data": {
      "text/plain": [
       "Date\n",
       "2018-11-09     17.200001\n",
       "2018-11-12     17.760000\n",
       "2018-11-13     17.790001\n",
       "2018-11-14     16.950001\n",
       "2018-11-15     17.530001\n",
       "                 ...    \n",
       "2021-11-03    104.800003\n",
       "2021-11-04    104.889999\n",
       "2021-11-05    104.459999\n",
       "2021-11-08    105.360001\n",
       "2021-11-09    102.029999\n",
       "Name: Close, Length: 755, dtype: float64"
      ]
     },
     "execution_count": 43,
     "metadata": {},
     "output_type": "execute_result"
    }
   ],
   "source": [
    "overstock_history = overstock.history(period = \"3y\")\n",
    "\n",
    "overstock_history['Close']"
   ]
  },
  {
   "cell_type": "code",
   "execution_count": 44,
   "id": "cd3582ca-cbea-4057-9bdd-cf0435a6a856",
   "metadata": {},
   "outputs": [],
   "source": [
    "start = datetime(2018, 11, 5)\n",
    "symbols_list = ['AMZN', 'WMT', 'EBAY', 'TGT', 'OSTK']\n"
   ]
  },
  {
   "cell_type": "code",
   "execution_count": 45,
   "id": "bec464bf-ac58-45f0-ac63-2c028ed42acb",
   "metadata": {},
   "outputs": [
    {
     "data": {
      "text/html": [
       "<div>\n",
       "<style scoped>\n",
       "    .dataframe tbody tr th:only-of-type {\n",
       "        vertical-align: middle;\n",
       "    }\n",
       "\n",
       "    .dataframe tbody tr th {\n",
       "        vertical-align: top;\n",
       "    }\n",
       "\n",
       "    .dataframe thead th {\n",
       "        text-align: right;\n",
       "    }\n",
       "</style>\n",
       "<table border=\"1\" class=\"dataframe\">\n",
       "  <thead>\n",
       "    <tr style=\"text-align: right;\">\n",
       "      <th></th>\n",
       "      <th>Overstock</th>\n",
       "      <th>Target</th>\n",
       "      <th>Ebay</th>\n",
       "      <th>Walmart</th>\n",
       "      <th>Amazon</th>\n",
       "    </tr>\n",
       "    <tr>\n",
       "      <th>Date</th>\n",
       "      <th></th>\n",
       "      <th></th>\n",
       "      <th></th>\n",
       "      <th></th>\n",
       "      <th></th>\n",
       "    </tr>\n",
       "  </thead>\n",
       "  <tbody>\n",
       "    <tr>\n",
       "      <th>2018-11-09</th>\n",
       "      <td>17.200001</td>\n",
       "      <td>81.073326</td>\n",
       "      <td>28.531384</td>\n",
       "      <td>100.030228</td>\n",
       "      <td>1712.430054</td>\n",
       "    </tr>\n",
       "    <tr>\n",
       "      <th>2018-11-12</th>\n",
       "      <td>17.760000</td>\n",
       "      <td>79.702515</td>\n",
       "      <td>27.886223</td>\n",
       "      <td>98.428772</td>\n",
       "      <td>1636.849976</td>\n",
       "    </tr>\n",
       "    <tr>\n",
       "      <th>2018-11-13</th>\n",
       "      <td>17.790001</td>\n",
       "      <td>78.630119</td>\n",
       "      <td>27.058113</td>\n",
       "      <td>97.547493</td>\n",
       "      <td>1631.170044</td>\n",
       "    </tr>\n",
       "    <tr>\n",
       "      <th>2018-11-14</th>\n",
       "      <td>16.950001</td>\n",
       "      <td>77.520416</td>\n",
       "      <td>26.855898</td>\n",
       "      <td>96.211342</td>\n",
       "      <td>1599.010010</td>\n",
       "    </tr>\n",
       "    <tr>\n",
       "      <th>2018-11-15</th>\n",
       "      <td>17.530001</td>\n",
       "      <td>75.310356</td>\n",
       "      <td>27.125515</td>\n",
       "      <td>94.325592</td>\n",
       "      <td>1619.439941</td>\n",
       "    </tr>\n",
       "    <tr>\n",
       "      <th>...</th>\n",
       "      <td>...</td>\n",
       "      <td>...</td>\n",
       "      <td>...</td>\n",
       "      <td>...</td>\n",
       "      <td>...</td>\n",
       "    </tr>\n",
       "    <tr>\n",
       "      <th>2021-11-03</th>\n",
       "      <td>104.800003</td>\n",
       "      <td>260.410004</td>\n",
       "      <td>75.449997</td>\n",
       "      <td>150.179993</td>\n",
       "      <td>3384.000000</td>\n",
       "    </tr>\n",
       "    <tr>\n",
       "      <th>2021-11-04</th>\n",
       "      <td>104.889999</td>\n",
       "      <td>260.440002</td>\n",
       "      <td>76.279999</td>\n",
       "      <td>151.279999</td>\n",
       "      <td>3477.000000</td>\n",
       "    </tr>\n",
       "    <tr>\n",
       "      <th>2021-11-05</th>\n",
       "      <td>104.459999</td>\n",
       "      <td>254.270004</td>\n",
       "      <td>75.570000</td>\n",
       "      <td>150.229996</td>\n",
       "      <td>3518.989990</td>\n",
       "    </tr>\n",
       "    <tr>\n",
       "      <th>2021-11-08</th>\n",
       "      <td>105.360001</td>\n",
       "      <td>253.330002</td>\n",
       "      <td>73.760002</td>\n",
       "      <td>149.270004</td>\n",
       "      <td>3488.979980</td>\n",
       "    </tr>\n",
       "    <tr>\n",
       "      <th>2021-11-09</th>\n",
       "      <td>102.029999</td>\n",
       "      <td>254.085007</td>\n",
       "      <td>74.209999</td>\n",
       "      <td>149.280106</td>\n",
       "      <td>3568.820068</td>\n",
       "    </tr>\n",
       "  </tbody>\n",
       "</table>\n",
       "<p>755 rows × 5 columns</p>\n",
       "</div>"
      ],
      "text/plain": [
       "             Overstock      Target       Ebay     Walmart       Amazon\n",
       "Date                                                                  \n",
       "2018-11-09   17.200001   81.073326  28.531384  100.030228  1712.430054\n",
       "2018-11-12   17.760000   79.702515  27.886223   98.428772  1636.849976\n",
       "2018-11-13   17.790001   78.630119  27.058113   97.547493  1631.170044\n",
       "2018-11-14   16.950001   77.520416  26.855898   96.211342  1599.010010\n",
       "2018-11-15   17.530001   75.310356  27.125515   94.325592  1619.439941\n",
       "...                ...         ...        ...         ...          ...\n",
       "2021-11-03  104.800003  260.410004  75.449997  150.179993  3384.000000\n",
       "2021-11-04  104.889999  260.440002  76.279999  151.279999  3477.000000\n",
       "2021-11-05  104.459999  254.270004  75.570000  150.229996  3518.989990\n",
       "2021-11-08  105.360001  253.330002  73.760002  149.270004  3488.979980\n",
       "2021-11-09  102.029999  254.085007  74.209999  149.280106  3568.820068\n",
       "\n",
       "[755 rows x 5 columns]"
      ]
     },
     "metadata": {},
     "output_type": "display_data"
    }
   ],
   "source": [
    "overstock_df = pd.DataFrame(data = overstock_history['Close'])\n",
    "target_df = pd.DataFrame(data = target_history['Close'])\n",
    "ebay_df = pd.DataFrame(data = ebay_history['Close'])\n",
    "walmart_df = pd.DataFrame(data = walmart_history['Close'])\n",
    "amazon_df = pd.DataFrame(data = amazon_history['Close'])\n",
    "\n",
    "\n",
    "dataframe = pd.concat([overstock_df, target_df, ebay_df, walmart_df, amazon_df], axis = 1)\n",
    "\n",
    "dataframe.columns = [ \"Overstock\", \"Target\", \"Ebay\", \"Walmart\", \"Amazon\"]\n",
    "display(dataframe)"
   ]
  },
  {
   "cell_type": "code",
   "execution_count": 46,
   "id": "fe6ebd89-7dcd-4872-8b19-ac35cf9278ba",
   "metadata": {},
   "outputs": [
    {
     "data": {
      "text/html": [
       "<div>\n",
       "<style scoped>\n",
       "    .dataframe tbody tr th:only-of-type {\n",
       "        vertical-align: middle;\n",
       "    }\n",
       "\n",
       "    .dataframe tbody tr th {\n",
       "        vertical-align: top;\n",
       "    }\n",
       "\n",
       "    .dataframe thead th {\n",
       "        text-align: right;\n",
       "    }\n",
       "</style>\n",
       "<table border=\"1\" class=\"dataframe\">\n",
       "  <thead>\n",
       "    <tr style=\"text-align: right;\">\n",
       "      <th></th>\n",
       "      <th>Overstock</th>\n",
       "      <th>Target</th>\n",
       "      <th>Ebay</th>\n",
       "      <th>Walmart</th>\n",
       "      <th>Amazon</th>\n",
       "    </tr>\n",
       "  </thead>\n",
       "  <tbody>\n",
       "    <tr>\n",
       "      <th>Overstock</th>\n",
       "      <td>1.000000</td>\n",
       "      <td>0.827325</td>\n",
       "      <td>0.882567</td>\n",
       "      <td>0.805440</td>\n",
       "      <td>0.921022</td>\n",
       "    </tr>\n",
       "    <tr>\n",
       "      <th>Target</th>\n",
       "      <td>0.827325</td>\n",
       "      <td>1.000000</td>\n",
       "      <td>0.935990</td>\n",
       "      <td>0.896351</td>\n",
       "      <td>0.887518</td>\n",
       "    </tr>\n",
       "    <tr>\n",
       "      <th>Ebay</th>\n",
       "      <td>0.882567</td>\n",
       "      <td>0.935990</td>\n",
       "      <td>1.000000</td>\n",
       "      <td>0.851760</td>\n",
       "      <td>0.922339</td>\n",
       "    </tr>\n",
       "    <tr>\n",
       "      <th>Walmart</th>\n",
       "      <td>0.805440</td>\n",
       "      <td>0.896351</td>\n",
       "      <td>0.851760</td>\n",
       "      <td>1.000000</td>\n",
       "      <td>0.921266</td>\n",
       "    </tr>\n",
       "    <tr>\n",
       "      <th>Amazon</th>\n",
       "      <td>0.921022</td>\n",
       "      <td>0.887518</td>\n",
       "      <td>0.922339</td>\n",
       "      <td>0.921266</td>\n",
       "      <td>1.000000</td>\n",
       "    </tr>\n",
       "  </tbody>\n",
       "</table>\n",
       "</div>"
      ],
      "text/plain": [
       "           Overstock    Target      Ebay   Walmart    Amazon\n",
       "Overstock   1.000000  0.827325  0.882567  0.805440  0.921022\n",
       "Target      0.827325  1.000000  0.935990  0.896351  0.887518\n",
       "Ebay        0.882567  0.935990  1.000000  0.851760  0.922339\n",
       "Walmart     0.805440  0.896351  0.851760  1.000000  0.921266\n",
       "Amazon      0.921022  0.887518  0.922339  0.921266  1.000000"
      ]
     },
     "execution_count": 46,
     "metadata": {},
     "output_type": "execute_result"
    }
   ],
   "source": [
    "corr_df = dataframe.corr(method='pearson')\n",
    " #reset symbol as index (rather than 0-X)\n",
    "corr_df.head().reset_index()\n",
    "corr_df.head(10)"
   ]
  },
  {
   "cell_type": "code",
   "execution_count": 47,
   "id": "346c4a92",
   "metadata": {},
   "outputs": [
    {
     "data": {
      "text/plain": [
       "<AxesSubplot:>"
      ]
     },
     "execution_count": 47,
     "metadata": {},
     "output_type": "execute_result"
    },
    {
     "data": {
      "image/png": "[encoded data removed]",
      "text/plain": [
       "<Figure size 432x288 with 2 Axes>"
      ]
     },
     "metadata": {
      "needs_background": "light"
     },
     "output_type": "display_data"
    }
   ],
   "source": [
    "# Create a heatmap from the correlation values\n",
    "sns.heatmap(corr_df)"
   ]
  },
  {
   "cell_type": "markdown",
   "id": "320cf162-0b0a-4724-9935-3d45d8fbc3d1",
   "metadata": {},
   "source": [
    "# Overstock Portfolio Variances"
   ]
  },
  {
   "cell_type": "code",
   "execution_count": 48,
   "id": "f25e9381-8ca5-4330-8b81-af6715c86ce1",
   "metadata": {},
   "outputs": [],
   "source": [
    "overstock_std = float(overstock_df['Close'].std())/100\n",
    "target_std = float(target_df['Close'].std())/100\n",
    "ebay_std = float(ebay_df['Close'].std())/100\n",
    "walmart_std = float(walmart_df['Close'].std())/100\n",
    "amazon_std = float(amazon_df['Close'].std())/100"
   ]
  },
  {
   "cell_type": "code",
   "execution_count": 49,
   "id": "20f305bd-609f-42b0-b4f4-1435ca123bff",
   "metadata": {},
   "outputs": [
    {
     "data": {
      "text/plain": [
       "0.3247279286055989"
      ]
     },
     "metadata": {},
     "output_type": "display_data"
    },
    {
     "data": {
      "text/plain": [
       "0.6051369011878642"
      ]
     },
     "metadata": {},
     "output_type": "display_data"
    },
    {
     "data": {
      "text/plain": [
       "0.1405149431275516"
      ]
     },
     "metadata": {},
     "output_type": "display_data"
    },
    {
     "data": {
      "text/plain": [
       "0.18677614478857005"
      ]
     },
     "metadata": {},
     "output_type": "display_data"
    },
    {
     "data": {
      "text/plain": [
       "7.227408352989738"
      ]
     },
     "metadata": {},
     "output_type": "display_data"
    }
   ],
   "source": [
    "display(overstock_std)\n",
    "display(target_std)\n",
    "display(ebay_std)\n",
    "display(walmart_std)\n",
    "display(amazon_std)"
   ]
  },
  {
   "cell_type": "code",
   "execution_count": 50,
   "id": "1a8de642-d67d-47ba-95d3-58b36d35fa59",
   "metadata": {},
   "outputs": [],
   "source": [
    "def variance(weight1, std_1, weight2, std_2, corr_ratio):\n",
    "    variance = (((weight1 ** 2) * (std_1 ** 2)) + ((weight2 ** 2) * (std_2 ** 2)) + ((weight1 ** 2) * (std_1 ** 2) * (weight2 ** 2) * (std_2 ** 2) * (corr_ratio)))\n",
    "    return variance\n",
    "                                                                                 "
   ]
  },
  {
   "cell_type": "code",
   "execution_count": 51,
   "id": "cac6b1a1-d96f-4ccf-b3f1-8b75144af3ef",
   "metadata": {},
   "outputs": [
    {
     "name": "stdout",
     "output_type": "stream",
     "text": [
      "Overstock and Target Portfolio Variance 11.99%\n",
      "Overstock and Ebay Portfolio Variance 3.14%\n",
      "Overstock and Walmart Portfolio Variance 3.53%\n",
      "Overstock and Amazon Portfolio Variance 1336.93%\n"
     ]
    }
   ],
   "source": [
    "ostk_to_target_variance = variance(.50,overstock_std,.50,target_std,0.825182)\n",
    "ostk_to_ebay_variance = variance(.50,overstock_std,.50,ebay_std,0.880374)\n",
    "ostk_to_walmart_variance = variance(.50,overstock_std,.50,walmart_std,0.803650)\n",
    "ostk_to_amazon_variance = variance(.50,overstock_std,.50,amazon_std,0.825182)\n",
    "\n",
    "ostk_to_target_percentage = \"{:.2%}\".format(ostk_to_target_variance)\n",
    "ostk_to_ebay_percentage = \"{:.2%}\".format(ostk_to_ebay_variance)\n",
    "ostk_to_walmart_percentage = \"{:.2%}\".format(ostk_to_walmart_variance)\n",
    "ostk_to_amazon_percentage = \"{:.2%}\".format(ostk_to_amazon_variance)\n",
    "\n",
    "print(\"Overstock and Target Portfolio Variance\",ostk_to_target_percentage)\n",
    "print(\"Overstock and Ebay Portfolio Variance\",ostk_to_ebay_percentage)\n",
    "print(\"Overstock and Walmart Portfolio Variance\",ostk_to_walmart_percentage)\n",
    "print(\"Overstock and Amazon Portfolio Variance\",ostk_to_amazon_percentage)"
   ]
  },
  {
   "cell_type": "code",
   "execution_count": 52,
   "id": "09f29f19-bf76-4a76-85f5-d7d09ce6d7d0",
   "metadata": {},
   "outputs": [
    {
     "name": "stdout",
     "output_type": "stream",
     "text": [
      "Target and Ebay Portfolio Variance 9.69%\n",
      "Target and Walmart Portfolio Variance 10.10%\n",
      "Target and Amazon Portfolio Variance 1421.13%\n"
     ]
    }
   ],
   "source": [
    "tgt_to_ebay_variance = variance(.50,target_std,.50,ebay_std,0.935200)\n",
    "tgt_to_walmart_variance = variance(.50,target_std,.50,walmart_std,0.895973)\n",
    "tgt_to_amazon_variance = variance(.50,target_std,.50,amazon_std,0.887384)\n",
    "\n",
    "tgt_to_ebay_percentage = \"{:.2%}\".format(tgt_to_ebay_variance)\n",
    "tgt_to_walmart_percentage = \"{:.2%}\".format(tgt_to_walmart_variance)\n",
    "tgt_to_amazon_percentage = \"{:.2%}\".format(tgt_to_amazon_variance)\n",
    "\n",
    "\n",
    "print(\"Target and Ebay Portfolio Variance\",tgt_to_ebay_percentage)\n",
    "print(\"Target and Walmart Portfolio Variance\",tgt_to_walmart_percentage)\n",
    "print(\"Target and Amazon Portfolio Variance\",tgt_to_amazon_percentage)"
   ]
  },
  {
   "cell_type": "code",
   "execution_count": 53,
   "id": "4aa27053-89c1-40c7-b830-487becfeff12",
   "metadata": {},
   "outputs": [
    {
     "name": "stdout",
     "output_type": "stream",
     "text": [
      "Ebay and Walmart Portfolio Variance 1.37%\n",
      "Ebay and Amazon Portfolio Variance 1312.33%\n"
     ]
    }
   ],
   "source": [
    "ebay_to_walmart_variance = variance(.50,ebay_std,.50,walmart_std,0.851683)\n",
    "ebay_to_amazon_variance = variance(.50,ebay_std,.50,amazon_std,0.922619)\n",
    "\n",
    "ebay_to_walmart_percentage = \"{:.2%}\".format(ebay_to_walmart_variance)\n",
    "ebay_to_amazon_percentage = \"{:.2%}\".format(ebay_to_amazon_variance)\n",
    "\n",
    "\n",
    "print(\"Ebay and Walmart Portfolio Variance\",ebay_to_walmart_percentage)\n",
    "print(\"Ebay and Amazon Portfolio Variance\",ebay_to_amazon_percentage)"
   ]
  },
  {
   "cell_type": "code",
   "execution_count": 54,
   "id": "803901fd-3e69-4591-bd89-6a4d7c70fddc",
   "metadata": {},
   "outputs": [
    {
     "name": "stdout",
     "output_type": "stream",
     "text": [
      "Walmart and Amazon Portfolio Variance 1317.25%\n"
     ]
    }
   ],
   "source": [
    "walmart_to_amazon_variance = variance(.50,walmart_std,.50,amazon_std,0.921194)\n",
    "\n",
    "walmart_to_amazon_percentage = \"{:.2%}\".format(walmart_to_amazon_variance)\n",
    "\n",
    "print(\"Walmart and Amazon Portfolio Variance\",walmart_to_amazon_percentage)"
   ]
  },
  {
   "cell_type": "markdown",
   "id": "5968343a",
   "metadata": {},
   "source": [
    "Monte Carlo Simulation"
   ]
  },
  {
   "cell_type": "code",
   "execution_count": 55,
   "id": "30689223",
   "metadata": {},
   "outputs": [
    {
     "data": {
      "text/plain": [
       "True"
      ]
     },
     "execution_count": 55,
     "metadata": {},
     "output_type": "execute_result"
    }
   ],
   "source": [
    "# Load the environment variables from the .env file\n",
    "#by calling the load_dotenv function\n",
    "load_dotenv(\"/Users/johannmaiga/Downloads/MyFiles/FinTech Class/.api_keys\")"
   ]
  },
  {
   "cell_type": "code",
   "execution_count": 56,
   "id": "d1cf269e",
   "metadata": {},
   "outputs": [],
   "source": [
    "# Set the variables for the Alpaca API and secret keys\n",
    "alpaca_api_key = os.getenv(\"ALPACA_API_KEY\")\n",
    "alpaca_secret_key = os.getenv(\"ALPACA_SECRET_KEY\")\n",
    "\n",
    "# Create the Alpaca tradeapi.REST object\n",
    "alpaca = tradeapi.REST(\n",
    "    alpaca_api_key,\n",
    "    alpaca_secret_key,\n",
    "    api_version=\"v2\")"
   ]
  },
  {
   "cell_type": "code",
   "execution_count": 57,
   "id": "ccc49bdd",
   "metadata": {},
   "outputs": [],
   "source": [
    "# Set the tickers for both the bond and stock portion of the portfolio\n",
    "tickers = [\"AMZN\", \"WMT\", \"EBAY\", \"TGT\", \"OSTK\"]\n",
    "\n",
    "# Set timeframe to 1D \n",
    "timeframe = \"1D\"\n",
    "\n",
    "# Format current date as ISO format\n",
    "# Set both the start and end date at the date of your prior weekday \n",
    "# This will give you the closing price of the previous trading day\n",
    "# Alternatively you can use a start and end date of 2020-08-07\n",
    "start = pd.Timestamp(\"2018-11-05\", tz=\"America/New_York\").isoformat()\n",
    "end = pd.Timestamp(\"2021-11-04\", tz=\"America/New_York\").isoformat()\n",
    "\n",
    "# Set number of rows to 1000 to retrieve the maximum amount of rows\n",
    "limit_rows = 1000"
   ]
  },
  {
   "cell_type": "code",
   "execution_count": 58,
   "id": "bb411a11",
   "metadata": {},
   "outputs": [
    {
     "data": {
      "text/html": [
       "<div>\n",
       "<style scoped>\n",
       "    .dataframe tbody tr th:only-of-type {\n",
       "        vertical-align: middle;\n",
       "    }\n",
       "\n",
       "    .dataframe tbody tr th {\n",
       "        vertical-align: top;\n",
       "    }\n",
       "\n",
       "    .dataframe thead tr th {\n",
       "        text-align: left;\n",
       "    }\n",
       "</style>\n",
       "<table border=\"1\" class=\"dataframe\">\n",
       "  <thead>\n",
       "    <tr>\n",
       "      <th></th>\n",
       "      <th colspan=\"5\" halign=\"left\">AMZN</th>\n",
       "      <th colspan=\"5\" halign=\"left\">EBAY</th>\n",
       "      <th>...</th>\n",
       "      <th colspan=\"5\" halign=\"left\">TGT</th>\n",
       "      <th colspan=\"5\" halign=\"left\">WMT</th>\n",
       "    </tr>\n",
       "    <tr>\n",
       "      <th></th>\n",
       "      <th>open</th>\n",
       "      <th>high</th>\n",
       "      <th>low</th>\n",
       "      <th>close</th>\n",
       "      <th>volume</th>\n",
       "      <th>open</th>\n",
       "      <th>high</th>\n",
       "      <th>low</th>\n",
       "      <th>close</th>\n",
       "      <th>volume</th>\n",
       "      <th>...</th>\n",
       "      <th>open</th>\n",
       "      <th>high</th>\n",
       "      <th>low</th>\n",
       "      <th>close</th>\n",
       "      <th>volume</th>\n",
       "      <th>open</th>\n",
       "      <th>high</th>\n",
       "      <th>low</th>\n",
       "      <th>close</th>\n",
       "      <th>volume</th>\n",
       "    </tr>\n",
       "  </thead>\n",
       "  <tbody>\n",
       "    <tr>\n",
       "      <th>2018-11-05</th>\n",
       "      <td>1657.57</td>\n",
       "      <td>1658.0900</td>\n",
       "      <td>1596.360</td>\n",
       "      <td>1627.45</td>\n",
       "      <td>5231856</td>\n",
       "      <td>29.91</td>\n",
       "      <td>30.060</td>\n",
       "      <td>29.33</td>\n",
       "      <td>29.630</td>\n",
       "      <td>7945882</td>\n",
       "      <td>...</td>\n",
       "      <td>84.56</td>\n",
       "      <td>85.520</td>\n",
       "      <td>84.1086</td>\n",
       "      <td>85.33</td>\n",
       "      <td>3065961.0</td>\n",
       "      <td>101.19</td>\n",
       "      <td>103.1692</td>\n",
       "      <td>100.6324</td>\n",
       "      <td>102.89</td>\n",
       "      <td>5272222</td>\n",
       "    </tr>\n",
       "    <tr>\n",
       "      <th>2018-11-06</th>\n",
       "      <td>1618.35</td>\n",
       "      <td>1665.0000</td>\n",
       "      <td>1614.550</td>\n",
       "      <td>1642.86</td>\n",
       "      <td>4000487</td>\n",
       "      <td>29.59</td>\n",
       "      <td>30.260</td>\n",
       "      <td>29.46</td>\n",
       "      <td>29.950</td>\n",
       "      <td>11913131</td>\n",
       "      <td>...</td>\n",
       "      <td>85.44</td>\n",
       "      <td>85.670</td>\n",
       "      <td>84.9300</td>\n",
       "      <td>85.56</td>\n",
       "      <td>3218972.0</td>\n",
       "      <td>102.54</td>\n",
       "      <td>103.4400</td>\n",
       "      <td>102.0500</td>\n",
       "      <td>103.32</td>\n",
       "      <td>4385000</td>\n",
       "    </tr>\n",
       "    <tr>\n",
       "      <th>2018-11-07</th>\n",
       "      <td>1673.00</td>\n",
       "      <td>1759.2300</td>\n",
       "      <td>1664.075</td>\n",
       "      <td>1757.36</td>\n",
       "      <td>7606948</td>\n",
       "      <td>30.09</td>\n",
       "      <td>30.180</td>\n",
       "      <td>29.59</td>\n",
       "      <td>29.850</td>\n",
       "      <td>17014253</td>\n",
       "      <td>...</td>\n",
       "      <td>87.51</td>\n",
       "      <td>87.660</td>\n",
       "      <td>85.7600</td>\n",
       "      <td>86.72</td>\n",
       "      <td>6164998.0</td>\n",
       "      <td>103.66</td>\n",
       "      <td>104.4700</td>\n",
       "      <td>103.0500</td>\n",
       "      <td>104.34</td>\n",
       "      <td>5589694</td>\n",
       "    </tr>\n",
       "    <tr>\n",
       "      <th>2018-11-08</th>\n",
       "      <td>1752.89</td>\n",
       "      <td>1784.0000</td>\n",
       "      <td>1725.110</td>\n",
       "      <td>1754.95</td>\n",
       "      <td>3299391</td>\n",
       "      <td>29.74</td>\n",
       "      <td>29.967</td>\n",
       "      <td>29.52</td>\n",
       "      <td>29.845</td>\n",
       "      <td>8355718</td>\n",
       "      <td>...</td>\n",
       "      <td>87.00</td>\n",
       "      <td>87.855</td>\n",
       "      <td>86.7901</td>\n",
       "      <td>87.60</td>\n",
       "      <td>3516326.0</td>\n",
       "      <td>104.33</td>\n",
       "      <td>105.2600</td>\n",
       "      <td>104.0300</td>\n",
       "      <td>104.89</td>\n",
       "      <td>4099279</td>\n",
       "    </tr>\n",
       "    <tr>\n",
       "      <th>2018-11-09</th>\n",
       "      <td>1735.12</td>\n",
       "      <td>1743.9207</td>\n",
       "      <td>1701.870</td>\n",
       "      <td>1712.03</td>\n",
       "      <td>2962981</td>\n",
       "      <td>29.62</td>\n",
       "      <td>29.950</td>\n",
       "      <td>29.58</td>\n",
       "      <td>29.630</td>\n",
       "      <td>7301539</td>\n",
       "      <td>...</td>\n",
       "      <td>87.44</td>\n",
       "      <td>87.930</td>\n",
       "      <td>86.6700</td>\n",
       "      <td>86.96</td>\n",
       "      <td>2715011.0</td>\n",
       "      <td>105.00</td>\n",
       "      <td>105.9000</td>\n",
       "      <td>104.8100</td>\n",
       "      <td>105.55</td>\n",
       "      <td>5650275</td>\n",
       "    </tr>\n",
       "  </tbody>\n",
       "</table>\n",
       "<p>5 rows × 25 columns</p>\n",
       "</div>"
      ],
      "text/plain": [
       "               AMZN                                          EBAY          \\\n",
       "               open       high       low    close   volume   open    high   \n",
       "2018-11-05  1657.57  1658.0900  1596.360  1627.45  5231856  29.91  30.060   \n",
       "2018-11-06  1618.35  1665.0000  1614.550  1642.86  4000487  29.59  30.260   \n",
       "2018-11-07  1673.00  1759.2300  1664.075  1757.36  7606948  30.09  30.180   \n",
       "2018-11-08  1752.89  1784.0000  1725.110  1754.95  3299391  29.74  29.967   \n",
       "2018-11-09  1735.12  1743.9207  1701.870  1712.03  2962981  29.62  29.950   \n",
       "\n",
       "                                     ...    TGT                          \\\n",
       "              low   close    volume  ...   open    high      low  close   \n",
       "2018-11-05  29.33  29.630   7945882  ...  84.56  85.520  84.1086  85.33   \n",
       "2018-11-06  29.46  29.950  11913131  ...  85.44  85.670  84.9300  85.56   \n",
       "2018-11-07  29.59  29.850  17014253  ...  87.51  87.660  85.7600  86.72   \n",
       "2018-11-08  29.52  29.845   8355718  ...  87.00  87.855  86.7901  87.60   \n",
       "2018-11-09  29.58  29.630   7301539  ...  87.44  87.930  86.6700  86.96   \n",
       "\n",
       "                          WMT                                       \n",
       "               volume    open      high       low   close   volume  \n",
       "2018-11-05  3065961.0  101.19  103.1692  100.6324  102.89  5272222  \n",
       "2018-11-06  3218972.0  102.54  103.4400  102.0500  103.32  4385000  \n",
       "2018-11-07  6164998.0  103.66  104.4700  103.0500  104.34  5589694  \n",
       "2018-11-08  3516326.0  104.33  105.2600  104.0300  104.89  4099279  \n",
       "2018-11-09  2715011.0  105.00  105.9000  104.8100  105.55  5650275  \n",
       "\n",
       "[5 rows x 25 columns]"
      ]
     },
     "execution_count": 58,
     "metadata": {},
     "output_type": "execute_result"
    }
   ],
   "source": [
    "ecom_stocks = alpaca.get_barset(\n",
    "    tickers,\n",
    "    timeframe,\n",
    "    start = start,\n",
    "    end = end,\n",
    "    limit = limit_rows\n",
    ").df\n",
    "\n",
    "\n",
    "# Display both the first and last five rows of the DataFrame\n",
    "ecom_stocks.index = ecom_stocks.index.date\n",
    "ecom_stocks.head()"
   ]
  },
  {
   "cell_type": "code",
   "execution_count": 59,
   "id": "c7ad6cf4",
   "metadata": {},
   "outputs": [
    {
     "data": {
      "text/html": [
       "<div>\n",
       "<style scoped>\n",
       "    .dataframe tbody tr th:only-of-type {\n",
       "        vertical-align: middle;\n",
       "    }\n",
       "\n",
       "    .dataframe tbody tr th {\n",
       "        vertical-align: top;\n",
       "    }\n",
       "\n",
       "    .dataframe thead tr th {\n",
       "        text-align: left;\n",
       "    }\n",
       "</style>\n",
       "<table border=\"1\" class=\"dataframe\">\n",
       "  <thead>\n",
       "    <tr>\n",
       "      <th></th>\n",
       "      <th colspan=\"6\" halign=\"left\">AMZN</th>\n",
       "      <th colspan=\"4\" halign=\"left\">EBAY</th>\n",
       "      <th>...</th>\n",
       "      <th colspan=\"4\" halign=\"left\">TGT</th>\n",
       "      <th colspan=\"6\" halign=\"left\">WMT</th>\n",
       "    </tr>\n",
       "    <tr>\n",
       "      <th></th>\n",
       "      <th>open</th>\n",
       "      <th>high</th>\n",
       "      <th>low</th>\n",
       "      <th>close</th>\n",
       "      <th>volume</th>\n",
       "      <th>daily_return</th>\n",
       "      <th>open</th>\n",
       "      <th>high</th>\n",
       "      <th>low</th>\n",
       "      <th>close</th>\n",
       "      <th>...</th>\n",
       "      <th>low</th>\n",
       "      <th>close</th>\n",
       "      <th>volume</th>\n",
       "      <th>daily_return</th>\n",
       "      <th>open</th>\n",
       "      <th>high</th>\n",
       "      <th>low</th>\n",
       "      <th>close</th>\n",
       "      <th>volume</th>\n",
       "      <th>daily_return</th>\n",
       "    </tr>\n",
       "  </thead>\n",
       "  <tbody>\n",
       "    <tr>\n",
       "      <th>2018-11-06</th>\n",
       "      <td>1618.35</td>\n",
       "      <td>1665.0000</td>\n",
       "      <td>1614.550</td>\n",
       "      <td>1642.86</td>\n",
       "      <td>4000487</td>\n",
       "      <td>0.009469</td>\n",
       "      <td>29.59</td>\n",
       "      <td>30.260</td>\n",
       "      <td>29.460</td>\n",
       "      <td>29.950</td>\n",
       "      <td>...</td>\n",
       "      <td>84.9300</td>\n",
       "      <td>85.56</td>\n",
       "      <td>3218972.0</td>\n",
       "      <td>0.002695</td>\n",
       "      <td>102.54</td>\n",
       "      <td>103.440</td>\n",
       "      <td>102.0500</td>\n",
       "      <td>103.32</td>\n",
       "      <td>4385000</td>\n",
       "      <td>0.004179</td>\n",
       "    </tr>\n",
       "    <tr>\n",
       "      <th>2018-11-07</th>\n",
       "      <td>1673.00</td>\n",
       "      <td>1759.2300</td>\n",
       "      <td>1664.075</td>\n",
       "      <td>1757.36</td>\n",
       "      <td>7606948</td>\n",
       "      <td>0.069696</td>\n",
       "      <td>30.09</td>\n",
       "      <td>30.180</td>\n",
       "      <td>29.590</td>\n",
       "      <td>29.850</td>\n",
       "      <td>...</td>\n",
       "      <td>85.7600</td>\n",
       "      <td>86.72</td>\n",
       "      <td>6164998.0</td>\n",
       "      <td>0.013558</td>\n",
       "      <td>103.66</td>\n",
       "      <td>104.470</td>\n",
       "      <td>103.0500</td>\n",
       "      <td>104.34</td>\n",
       "      <td>5589694</td>\n",
       "      <td>0.009872</td>\n",
       "    </tr>\n",
       "    <tr>\n",
       "      <th>2018-11-08</th>\n",
       "      <td>1752.89</td>\n",
       "      <td>1784.0000</td>\n",
       "      <td>1725.110</td>\n",
       "      <td>1754.95</td>\n",
       "      <td>3299391</td>\n",
       "      <td>-0.001371</td>\n",
       "      <td>29.74</td>\n",
       "      <td>29.967</td>\n",
       "      <td>29.520</td>\n",
       "      <td>29.845</td>\n",
       "      <td>...</td>\n",
       "      <td>86.7901</td>\n",
       "      <td>87.60</td>\n",
       "      <td>3516326.0</td>\n",
       "      <td>0.010148</td>\n",
       "      <td>104.33</td>\n",
       "      <td>105.260</td>\n",
       "      <td>104.0300</td>\n",
       "      <td>104.89</td>\n",
       "      <td>4099279</td>\n",
       "      <td>0.005271</td>\n",
       "    </tr>\n",
       "    <tr>\n",
       "      <th>2018-11-09</th>\n",
       "      <td>1735.12</td>\n",
       "      <td>1743.9207</td>\n",
       "      <td>1701.870</td>\n",
       "      <td>1712.03</td>\n",
       "      <td>2962981</td>\n",
       "      <td>-0.024457</td>\n",
       "      <td>29.62</td>\n",
       "      <td>29.950</td>\n",
       "      <td>29.580</td>\n",
       "      <td>29.630</td>\n",
       "      <td>...</td>\n",
       "      <td>86.6700</td>\n",
       "      <td>86.96</td>\n",
       "      <td>2715011.0</td>\n",
       "      <td>-0.007306</td>\n",
       "      <td>105.00</td>\n",
       "      <td>105.900</td>\n",
       "      <td>104.8100</td>\n",
       "      <td>105.55</td>\n",
       "      <td>5650275</td>\n",
       "      <td>0.006292</td>\n",
       "    </tr>\n",
       "    <tr>\n",
       "      <th>2018-11-12</th>\n",
       "      <td>1699.67</td>\n",
       "      <td>1708.5500</td>\n",
       "      <td>1630.010</td>\n",
       "      <td>1636.79</td>\n",
       "      <td>3229882</td>\n",
       "      <td>-0.043948</td>\n",
       "      <td>29.60</td>\n",
       "      <td>29.700</td>\n",
       "      <td>28.910</td>\n",
       "      <td>28.960</td>\n",
       "      <td>...</td>\n",
       "      <td>85.2400</td>\n",
       "      <td>85.46</td>\n",
       "      <td>3437712.0</td>\n",
       "      <td>-0.017249</td>\n",
       "      <td>105.50</td>\n",
       "      <td>106.210</td>\n",
       "      <td>103.6500</td>\n",
       "      <td>103.88</td>\n",
       "      <td>6950839</td>\n",
       "      <td>-0.015822</td>\n",
       "    </tr>\n",
       "    <tr>\n",
       "      <th>...</th>\n",
       "      <td>...</td>\n",
       "      <td>...</td>\n",
       "      <td>...</td>\n",
       "      <td>...</td>\n",
       "      <td>...</td>\n",
       "      <td>...</td>\n",
       "      <td>...</td>\n",
       "      <td>...</td>\n",
       "      <td>...</td>\n",
       "      <td>...</td>\n",
       "      <td>...</td>\n",
       "      <td>...</td>\n",
       "      <td>...</td>\n",
       "      <td>...</td>\n",
       "      <td>...</td>\n",
       "      <td>...</td>\n",
       "      <td>...</td>\n",
       "      <td>...</td>\n",
       "      <td>...</td>\n",
       "      <td>...</td>\n",
       "      <td>...</td>\n",
       "    </tr>\n",
       "    <tr>\n",
       "      <th>2021-10-29</th>\n",
       "      <td>3300.03</td>\n",
       "      <td>3374.8200</td>\n",
       "      <td>3273.320</td>\n",
       "      <td>3372.43</td>\n",
       "      <td>5462617</td>\n",
       "      <td>-0.020923</td>\n",
       "      <td>72.11</td>\n",
       "      <td>76.980</td>\n",
       "      <td>72.065</td>\n",
       "      <td>76.730</td>\n",
       "      <td>...</td>\n",
       "      <td>256.5100</td>\n",
       "      <td>259.61</td>\n",
       "      <td>1603229.0</td>\n",
       "      <td>0.005578</td>\n",
       "      <td>147.94</td>\n",
       "      <td>150.099</td>\n",
       "      <td>147.5606</td>\n",
       "      <td>149.42</td>\n",
       "      <td>5577766</td>\n",
       "      <td>0.006670</td>\n",
       "    </tr>\n",
       "    <tr>\n",
       "      <th>2021-11-01</th>\n",
       "      <td>3366.04</td>\n",
       "      <td>3375.8600</td>\n",
       "      <td>3292.020</td>\n",
       "      <td>3317.99</td>\n",
       "      <td>3317329</td>\n",
       "      <td>-0.016143</td>\n",
       "      <td>76.65</td>\n",
       "      <td>77.610</td>\n",
       "      <td>75.550</td>\n",
       "      <td>76.300</td>\n",
       "      <td>...</td>\n",
       "      <td>257.4900</td>\n",
       "      <td>257.87</td>\n",
       "      <td>1526936.0</td>\n",
       "      <td>-0.006702</td>\n",
       "      <td>150.05</td>\n",
       "      <td>150.750</td>\n",
       "      <td>149.3500</td>\n",
       "      <td>149.80</td>\n",
       "      <td>3469224</td>\n",
       "      <td>0.002543</td>\n",
       "    </tr>\n",
       "    <tr>\n",
       "      <th>2021-11-02</th>\n",
       "      <td>3317.50</td>\n",
       "      <td>3331.1150</td>\n",
       "      <td>3283.550</td>\n",
       "      <td>3313.17</td>\n",
       "      <td>2364950</td>\n",
       "      <td>-0.001453</td>\n",
       "      <td>76.24</td>\n",
       "      <td>76.380</td>\n",
       "      <td>74.470</td>\n",
       "      <td>74.900</td>\n",
       "      <td>...</td>\n",
       "      <td>258.5401</td>\n",
       "      <td>260.29</td>\n",
       "      <td>1729084.0</td>\n",
       "      <td>0.009385</td>\n",
       "      <td>149.96</td>\n",
       "      <td>150.175</td>\n",
       "      <td>149.2800</td>\n",
       "      <td>149.72</td>\n",
       "      <td>3690780</td>\n",
       "      <td>-0.000534</td>\n",
       "    </tr>\n",
       "    <tr>\n",
       "      <th>2021-11-03</th>\n",
       "      <td>3310.46</td>\n",
       "      <td>3394.9200</td>\n",
       "      <td>3297.520</td>\n",
       "      <td>3384.00</td>\n",
       "      <td>3051730</td>\n",
       "      <td>0.021378</td>\n",
       "      <td>74.69</td>\n",
       "      <td>76.130</td>\n",
       "      <td>73.860</td>\n",
       "      <td>75.440</td>\n",
       "      <td>...</td>\n",
       "      <td>256.7200</td>\n",
       "      <td>260.47</td>\n",
       "      <td>1969187.0</td>\n",
       "      <td>0.000692</td>\n",
       "      <td>149.60</td>\n",
       "      <td>150.290</td>\n",
       "      <td>149.0300</td>\n",
       "      <td>150.19</td>\n",
       "      <td>3603828</td>\n",
       "      <td>0.003139</td>\n",
       "    </tr>\n",
       "    <tr>\n",
       "      <th>2021-11-04</th>\n",
       "      <td>3371.29</td>\n",
       "      <td>3498.6250</td>\n",
       "      <td>3365.000</td>\n",
       "      <td>3477.04</td>\n",
       "      <td>5077538</td>\n",
       "      <td>0.027494</td>\n",
       "      <td>75.56</td>\n",
       "      <td>77.000</td>\n",
       "      <td>74.950</td>\n",
       "      <td>76.280</td>\n",
       "      <td>...</td>\n",
       "      <td>259.4187</td>\n",
       "      <td>260.43</td>\n",
       "      <td>2152794.0</td>\n",
       "      <td>-0.000154</td>\n",
       "      <td>150.18</td>\n",
       "      <td>151.848</td>\n",
       "      <td>149.8300</td>\n",
       "      <td>151.28</td>\n",
       "      <td>4142644</td>\n",
       "      <td>0.007257</td>\n",
       "    </tr>\n",
       "  </tbody>\n",
       "</table>\n",
       "<p>753 rows × 30 columns</p>\n",
       "</div>"
      ],
      "text/plain": [
       "               AMZN                                                      \\\n",
       "               open       high       low    close   volume daily_return   \n",
       "2018-11-06  1618.35  1665.0000  1614.550  1642.86  4000487     0.009469   \n",
       "2018-11-07  1673.00  1759.2300  1664.075  1757.36  7606948     0.069696   \n",
       "2018-11-08  1752.89  1784.0000  1725.110  1754.95  3299391    -0.001371   \n",
       "2018-11-09  1735.12  1743.9207  1701.870  1712.03  2962981    -0.024457   \n",
       "2018-11-12  1699.67  1708.5500  1630.010  1636.79  3229882    -0.043948   \n",
       "...             ...        ...       ...      ...      ...          ...   \n",
       "2021-10-29  3300.03  3374.8200  3273.320  3372.43  5462617    -0.020923   \n",
       "2021-11-01  3366.04  3375.8600  3292.020  3317.99  3317329    -0.016143   \n",
       "2021-11-02  3317.50  3331.1150  3283.550  3313.17  2364950    -0.001453   \n",
       "2021-11-03  3310.46  3394.9200  3297.520  3384.00  3051730     0.021378   \n",
       "2021-11-04  3371.29  3498.6250  3365.000  3477.04  5077538     0.027494   \n",
       "\n",
       "             EBAY                          ...       TGT                     \\\n",
       "             open    high     low   close  ...       low   close     volume   \n",
       "2018-11-06  29.59  30.260  29.460  29.950  ...   84.9300   85.56  3218972.0   \n",
       "2018-11-07  30.09  30.180  29.590  29.850  ...   85.7600   86.72  6164998.0   \n",
       "2018-11-08  29.74  29.967  29.520  29.845  ...   86.7901   87.60  3516326.0   \n",
       "2018-11-09  29.62  29.950  29.580  29.630  ...   86.6700   86.96  2715011.0   \n",
       "2018-11-12  29.60  29.700  28.910  28.960  ...   85.2400   85.46  3437712.0   \n",
       "...           ...     ...     ...     ...  ...       ...     ...        ...   \n",
       "2021-10-29  72.11  76.980  72.065  76.730  ...  256.5100  259.61  1603229.0   \n",
       "2021-11-01  76.65  77.610  75.550  76.300  ...  257.4900  257.87  1526936.0   \n",
       "2021-11-02  76.24  76.380  74.470  74.900  ...  258.5401  260.29  1729084.0   \n",
       "2021-11-03  74.69  76.130  73.860  75.440  ...  256.7200  260.47  1969187.0   \n",
       "2021-11-04  75.56  77.000  74.950  76.280  ...  259.4187  260.43  2152794.0   \n",
       "\n",
       "                            WMT                                      \\\n",
       "           daily_return    open     high       low   close   volume   \n",
       "2018-11-06     0.002695  102.54  103.440  102.0500  103.32  4385000   \n",
       "2018-11-07     0.013558  103.66  104.470  103.0500  104.34  5589694   \n",
       "2018-11-08     0.010148  104.33  105.260  104.0300  104.89  4099279   \n",
       "2018-11-09    -0.007306  105.00  105.900  104.8100  105.55  5650275   \n",
       "2018-11-12    -0.017249  105.50  106.210  103.6500  103.88  6950839   \n",
       "...                 ...     ...      ...       ...     ...      ...   \n",
       "2021-10-29     0.005578  147.94  150.099  147.5606  149.42  5577766   \n",
       "2021-11-01    -0.006702  150.05  150.750  149.3500  149.80  3469224   \n",
       "2021-11-02     0.009385  149.96  150.175  149.2800  149.72  3690780   \n",
       "2021-11-03     0.000692  149.60  150.290  149.0300  150.19  3603828   \n",
       "2021-11-04    -0.000154  150.18  151.848  149.8300  151.28  4142644   \n",
       "\n",
       "                         \n",
       "           daily_return  \n",
       "2018-11-06     0.004179  \n",
       "2018-11-07     0.009872  \n",
       "2018-11-08     0.005271  \n",
       "2018-11-09     0.006292  \n",
       "2018-11-12    -0.015822  \n",
       "...                 ...  \n",
       "2021-10-29     0.006670  \n",
       "2021-11-01     0.002543  \n",
       "2021-11-02    -0.000534  \n",
       "2021-11-03     0.003139  \n",
       "2021-11-04     0.007257  \n",
       "\n",
       "[753 rows x 30 columns]"
      ]
     },
     "execution_count": 59,
     "metadata": {},
     "output_type": "execute_result"
    }
   ],
   "source": [
    "one_year_simulation = MCSimulation(\n",
    "    portfolio_data=ecom_stocks,\n",
    "    weights=[0.25, 0.75],\n",
    "    num_simulation=500,\n",
    "    num_trading_days=252,\n",
    ")\n",
    "\n",
    "# Review the simulation input data\n",
    "one_year_simulation.portfolio_data.dropna()"
   ]
  },
  {
   "cell_type": "code",
   "execution_count": 60,
   "id": "d637ab53",
   "metadata": {},
   "outputs": [
    {
     "name": "stdout",
     "output_type": "stream",
     "text": [
      "Running Monte Carlo simulation number 0.\n"
     ]
    },
    {
     "ename": "ValueError",
     "evalue": "Dot product shape mismatch, (253, 5) vs (2,)",
     "output_type": "error",
     "traceback": [
      "\u001b[0;31m---------------------------------------------------------------------------\u001b[0m",
      "\u001b[0;31mValueError\u001b[0m                                Traceback (most recent call last)",
      "\u001b[0;32m/var/folders/fg/w8bb3m7d6jngzbyl0ts5v91w0000gn/T/ipykernel_70182/578393222.py\u001b[0m in \u001b[0;36m<module>\u001b[0;34m\u001b[0m\n\u001b[1;32m      1\u001b[0m \u001b[0;31m# Run the Monte Carlo simulation to forecast 30 years cumulative returns\u001b[0m\u001b[0;34m\u001b[0m\u001b[0;34m\u001b[0m\u001b[0m\n\u001b[0;32m----> 2\u001b[0;31m \u001b[0mone_year_simulation\u001b[0m\u001b[0;34m.\u001b[0m\u001b[0mcalc_cumulative_return\u001b[0m\u001b[0;34m(\u001b[0m\u001b[0;34m)\u001b[0m\u001b[0;34m\u001b[0m\u001b[0;34m\u001b[0m\u001b[0m\n\u001b[0m",
      "\u001b[0;32m~/Downloads/MyFiles/FinTech Class/Repos/modern_ecommerce_analysis/utils/MCForecastTools.py\u001b[0m in \u001b[0;36mcalc_cumulative_return\u001b[0;34m(self)\u001b[0m\n\u001b[1;32m    122\u001b[0m \u001b[0;34m\u001b[0m\u001b[0m\n\u001b[1;32m    123\u001b[0m             \u001b[0;31m# Use the `dot` function with the weights to multiply weights with each column's simulated daily returns\u001b[0m\u001b[0;34m\u001b[0m\u001b[0;34m\u001b[0m\u001b[0m\n\u001b[0;32m--> 124\u001b[0;31m             \u001b[0msim_df\u001b[0m \u001b[0;34m=\u001b[0m \u001b[0msim_df\u001b[0m\u001b[0;34m.\u001b[0m\u001b[0mdot\u001b[0m\u001b[0;34m(\u001b[0m\u001b[0mself\u001b[0m\u001b[0;34m.\u001b[0m\u001b[0mweights\u001b[0m\u001b[0;34m)\u001b[0m\u001b[0;34m\u001b[0m\u001b[0;34m\u001b[0m\u001b[0m\n\u001b[0m\u001b[1;32m    125\u001b[0m \u001b[0;34m\u001b[0m\u001b[0m\n\u001b[1;32m    126\u001b[0m             \u001b[0;31m# Calculate the normalized, cumulative return series\u001b[0m\u001b[0;34m\u001b[0m\u001b[0;34m\u001b[0m\u001b[0m\n",
      "\u001b[0;32m~/opt/anaconda3/envs/dev/lib/python3.9/site-packages/pandas/core/frame.py\u001b[0m in \u001b[0;36mdot\u001b[0;34m(self, other)\u001b[0m\n\u001b[1;32m   1455\u001b[0m             \u001b[0mrvals\u001b[0m \u001b[0;34m=\u001b[0m \u001b[0mnp\u001b[0m\u001b[0;34m.\u001b[0m\u001b[0masarray\u001b[0m\u001b[0;34m(\u001b[0m\u001b[0mother\u001b[0m\u001b[0;34m)\u001b[0m\u001b[0;34m\u001b[0m\u001b[0;34m\u001b[0m\u001b[0m\n\u001b[1;32m   1456\u001b[0m             \u001b[0;32mif\u001b[0m \u001b[0mlvals\u001b[0m\u001b[0;34m.\u001b[0m\u001b[0mshape\u001b[0m\u001b[0;34m[\u001b[0m\u001b[0;36m1\u001b[0m\u001b[0;34m]\u001b[0m \u001b[0;34m!=\u001b[0m \u001b[0mrvals\u001b[0m\u001b[0;34m.\u001b[0m\u001b[0mshape\u001b[0m\u001b[0;34m[\u001b[0m\u001b[0;36m0\u001b[0m\u001b[0;34m]\u001b[0m\u001b[0;34m:\u001b[0m\u001b[0;34m\u001b[0m\u001b[0;34m\u001b[0m\u001b[0m\n\u001b[0;32m-> 1457\u001b[0;31m                 raise ValueError(\n\u001b[0m\u001b[1;32m   1458\u001b[0m                     \u001b[0;34mf\"Dot product shape mismatch, {lvals.shape} vs {rvals.shape}\"\u001b[0m\u001b[0;34m\u001b[0m\u001b[0;34m\u001b[0m\u001b[0m\n\u001b[1;32m   1459\u001b[0m                 )\n",
      "\u001b[0;31mValueError\u001b[0m: Dot product shape mismatch, (253, 5) vs (2,)"
     ]
    }
   ],
   "source": [
    "# Run the Monte Carlo simulation to forecast 30 years cumulative returns\n",
    "one_year_simulation.calc_cumulative_return()"
   ]
  },
  {
   "cell_type": "code",
   "execution_count": null,
   "id": "2365065b",
   "metadata": {},
   "outputs": [],
   "source": []
  },
  {
   "cell_type": "code",
   "execution_count": null,
   "id": "1d3ce8f3-84d0-40e7-9224-6cb7f4136f48",
   "metadata": {},
   "outputs": [],
   "source": [
    "# Gathering historical data for our list of 5-10 Eommerce stocks from 2018-2021 and putting in into a dataframe\n",
    "\n",
    "# selected_stocks = yf.download(\"AMZN\", group_by='tickers', start=\"2018-11-05\", end=\"2021-11-04\")\n",
    "# selected_stocks.head()"
   ]
  },
  {
   "cell_type": "code",
   "execution_count": null,
   "metadata": {},
   "outputs": [],
   "source": [
    "# ecom_stocks.reset_index()\n",
    "# selected_stocks.index = selected_stocks.index.date"
   ]
  },
  {
   "cell_type": "code",
   "execution_count": null,
   "id": "e4c8e7fc",
   "metadata": {},
   "outputs": [],
   "source": [
    "# cols = [4, 10, 16, 22, 28]\n",
    "\n",
    "# cols = [4]\n",
    "# ecom_stocks = selected_stocks.drop(selected_stocks.columns[cols], axis=1)\n",
    "# ecom_stocks"
   ]
  },
  {
   "cell_type": "code",
   "execution_count": null,
   "id": "7c8dbf80",
   "metadata": {},
   "outputs": [],
   "source": [
    "# Formatting the column names into lower case\n",
    "# ecom_stocks.rename(str.lower, axis='columns')"
   ]
  },
  {
   "cell_type": "code",
   "execution_count": null,
   "metadata": {},
   "outputs": [],
   "source": [
    "# ecom_stocks.reset_index(level=1)\n"
   ]
  },
  {
   "cell_type": "code",
   "execution_count": null,
   "id": "6b2480cf-d609-4fca-beb3-e38ec5b69014",
   "metadata": {},
   "outputs": [],
   "source": [
    "# one_year_simulation = MCSimulation(\n",
    "#     portfolio_data=ecom_stocks,\n",
    "#     weights=[0.25, 0.75],\n",
    "#     num_simulation=500,\n",
    "#     num_trading_days=252,\n",
    "# )\n",
    "\n",
    "# # Review the simulation input data\n",
    "# ecom_stocks.portfolio_data.dropna()\n",
    "# # ecom_stocks.calc_cumulative_return()"
   ]
  }
 ],
 "metadata": {
  "interpreter": {
   "hash": "7869c662c8a6f446188a32e32fc890b6a582dec6cee26594b9b99aec6f2cb252"
  },
  "kernelspec": {
   "display_name": "Python 3.9.7 64-bit ('dev': conda)",
   "name": "python3"
  },
  "language_info": {
   "codemirror_mode": {
    "name": "ipython",
    "version": 3
   },
   "file_extension": ".py",
   "mimetype": "text/x-python",
   "name": "python",
   "nbconvert_exporter": "python",
   "pygments_lexer": "ipython3",
   "version": "3.9.7"
  }
 },
 "nbformat": 4,
 "nbformat_minor": 5
}
