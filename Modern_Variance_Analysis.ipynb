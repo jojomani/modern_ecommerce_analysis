{
 "cells": [
  {
   "cell_type": "code",
   "execution_count": 12,
   "id": "7712e092-1a7b-477a-89cb-d24b5540b355",
   "metadata": {},
   "outputs": [],
   "source": [
    "import requests\n",
    "import yfinance as yf # Used to grab the stock prices, with yahoo\n",
    "import numpy as np\n",
    "import pandas as pd\n",
    "from datetime import datetime\n",
    "import seaborn as sns\n",
    "from utils.MCForecastTools import MCSimulation"
   ]
  },
  {
   "cell_type": "code",
   "execution_count": 13,
   "id": "eaea87af-44cb-446d-a658-8ad5a0b351a6",
   "metadata": {},
   "outputs": [
    {
     "name": "stdout",
     "output_type": "stream",
     "text": [
      "yfinance.Ticker object <WMT>\n"
     ]
    }
   ],
   "source": [
    "amazon = yf.Ticker(\"AMZN\")\n",
    "walmart = yf.Ticker(\"WMT\")\n",
    "ebay = yf.Ticker(\"EBAY\")\n",
    "target = yf.Ticker(\"TGT\")\n",
    "overstock = yf.Ticker(\"OSTK\")\n",
    "print(walmart)"
   ]
  },
  {
   "cell_type": "code",
   "execution_count": 14,
   "id": "42a3a755-fc4c-42e9-a42d-f50947b3715d",
   "metadata": {},
   "outputs": [
    {
     "name": "stdout",
     "output_type": "stream",
     "text": [
      "Current Amazon Price: 3523.24\n",
      "Current Amazon Investment Value: 216441.81680449133\n",
      "Current Walmart Price: 150.22\n",
      "Current Walmart Investment Value: 154041.6722202815\n",
      "Current Ebay Price: 75.79\n",
      "Current Ebay Investment Value: 265547.6781588769\n",
      "Current Target Price: 253.25\n",
      "Current Target Investment Value: 318190.785662239\n",
      "Current Overstock Price: 106.06\n",
      "Current Overstock Investment Value: 535656.5927099289\n"
     ]
    }
   ],
   "source": [
    "total_investment = 500000\n",
    "\n",
    "#Amazon Data\n",
    "initial_amazon_price = 1627.800049\n",
    "initial_amazon_investment = 100000\n",
    "amount_of_amazon_stock = initial_amazon_investment/initial_amazon_price\n",
    "current_amazon_price = amazon.info['open']\n",
    "current_amazon_investment_value = current_amazon_price * amount_of_amazon_stock\n",
    "\n",
    "#Walmart Data\n",
    "initial_walmart_price = 97.519066\n",
    "initial_walmart_investment = 100000\n",
    "amount_of_walmart_stock = initial_walmart_investment/initial_walmart_price\n",
    "current_walmart_price = walmart.info['open']\n",
    "current_walmart_investment_value = current_walmart_price * amount_of_walmart_stock\n",
    "\n",
    "#Ebay Data\n",
    "initial_ebay_price = 28.541014\n",
    "initial_ebay_investment = 100000\n",
    "amount_of_ebay_stock = initial_ebay_investment/initial_ebay_price\n",
    "current_ebay_price = ebay.info['open']\n",
    "current_ebay_investment_value = current_ebay_price * amount_of_ebay_stock\n",
    "\n",
    "#Target Data\n",
    "initial_target_price = 79.590614\n",
    "initial_target_investment = 100000\n",
    "amount_of_target_stock = initial_target_investment/initial_target_price\n",
    "current_target_price = target.info['open']\n",
    "current_target_investment_value = current_target_price * amount_of_target_stock\n",
    "\n",
    "#Overstock Data\n",
    "initial_overstock_price = 19.799999\n",
    "initial_overstock_investment = 100000\n",
    "amount_of_overstock_stock = initial_overstock_investment/initial_overstock_price\n",
    "current_overstock_price = overstock.info['open']\n",
    "current_overstock_investment_value = current_overstock_price * amount_of_overstock_stock\n",
    "\n",
    "\n",
    "print(\"Current Amazon Price:\",current_amazon_price)\n",
    "print(\"Current Amazon Investment Value:\",current_amazon_investment_value)\n",
    "print(\"Current Walmart Price:\",current_walmart_price)\n",
    "print(\"Current Walmart Investment Value:\",current_walmart_investment_value)\n",
    "print(\"Current Ebay Price:\",current_ebay_price)\n",
    "print(\"Current Ebay Investment Value:\",current_ebay_investment_value)\n",
    "print(\"Current Target Price:\",current_target_price)\n",
    "print(\"Current Target Investment Value:\",current_target_investment_value)\n",
    "print(\"Current Overstock Price:\",current_overstock_price)\n",
    "print(\"Current Overstock Investment Value:\",current_overstock_investment_value)"
   ]
  },
  {
   "cell_type": "markdown",
   "id": "96e633ed-9db6-4223-9488-49f3945fb18b",
   "metadata": {},
   "source": [
    "# Amazon Expected Rate of Return Calculations"
   ]
  },
  {
   "cell_type": "code",
   "execution_count": 15,
   "id": "2688676c-7251-496e-ad8b-9003ae3ef9ab",
   "metadata": {},
   "outputs": [],
   "source": [
    "amazon_historical_year1_begin = amazon.history(start=\"2018-11-05\", end=\"2018-11-06\")\n",
    "amazon_historical_year1_end = amazon.history(start=\"2019-11-05\", end=\"2019-11-06\")\n",
    "initial_value_year1_amazon = amazon_historical_year1_begin['Close']['2018-11-05']\n",
    "current_value_year1_amazon= amazon_historical_year1_end['Close']['2019-11-05']"
   ]
  },
  {
   "cell_type": "code",
   "execution_count": 16,
   "id": "040f46b9-3a03-4015-8531-5b22c6a6e9d4",
   "metadata": {},
   "outputs": [
    {
     "data": {
      "text/plain": [
       "10.683739211985838"
      ]
     },
     "execution_count": 16,
     "metadata": {},
     "output_type": "execute_result"
    }
   ],
   "source": [
    "year1_ror_amazon = ((current_value_year1_amazon - initial_value_year1_amazon)/initial_value_year1_amazon)*100\n",
    "\n",
    "year1_ror_amazon"
   ]
  },
  {
   "cell_type": "code",
   "execution_count": 17,
   "id": "cfe1d346-3516-4458-a91b-9e9e254a3c9a",
   "metadata": {},
   "outputs": [],
   "source": [
    "amazon_historical_year2_begin = amazon.history(start=\"2019-11-05\", end=\"2019-11-06\")\n",
    "amazon_historical_year2_end = amazon.history(start=\"2020-11-05\", end=\"2020-11-06\")\n",
    "initial_value_year2_amazon = amazon_historical_year2_begin['Close']['2019-11-05']\n",
    "current_value_year2_amazon= amazon_historical_year2_end['Close']['2020-11-05']"
   ]
  },
  {
   "cell_type": "code",
   "execution_count": 18,
   "id": "9b55cf91-5644-4d09-97c4-7708a41dece1",
   "metadata": {},
   "outputs": [
    {
     "data": {
      "text/plain": [
       "84.38039817859662"
      ]
     },
     "execution_count": 18,
     "metadata": {},
     "output_type": "execute_result"
    }
   ],
   "source": [
    "year2_ror_amazon = ((current_value_year2_amazon - initial_value_year2_amazon)/initial_value_year2_amazon)*100\n",
    "\n",
    "year2_ror_amazon"
   ]
  },
  {
   "cell_type": "code",
   "execution_count": 19,
   "id": "4a9b14bb-4467-4922-8680-569495099658",
   "metadata": {},
   "outputs": [],
   "source": [
    "amazon_historical_year3_begin = amazon.history(start=\"2020-11-05\", end=\"2020-11-06\")\n",
    "amazon_historical_year3_end = amazon.history(start=\"2021-11-03\", end=\"2021-11-04\")\n",
    "initial_value_year3_amazon = amazon_historical_year3_begin['Close']['2020-11-05']\n",
    "current_value_year3_amazon= amazon_historical_year3_end['Close']['2021-11-03']"
   ]
  },
  {
   "cell_type": "code",
   "execution_count": 20,
   "id": "79dae985-f65c-44ca-af7c-41c581a16d03",
   "metadata": {},
   "outputs": [
    {
     "data": {
      "text/plain": [
       "1.8663455749548463"
      ]
     },
     "execution_count": 20,
     "metadata": {},
     "output_type": "execute_result"
    }
   ],
   "source": [
    "year3_ror_amazon = ((current_value_year3_amazon - initial_value_year3_amazon)/initial_value_year3_amazon)*100\n",
    "\n",
    "year3_ror_amazon"
   ]
  },
  {
   "cell_type": "code",
   "execution_count": 21,
   "id": "f78f69e8-1488-4808-b555-8d906d18a72f",
   "metadata": {},
   "outputs": [
    {
     "data": {
      "text/plain": [
       "32.310160988512436"
      ]
     },
     "execution_count": 21,
     "metadata": {},
     "output_type": "execute_result"
    }
   ],
   "source": [
    "expected_ror_amazon = (year1_ror_amazon + year2_ror_amazon + year3_ror_amazon)/3\n",
    "\n",
    "expected_ror_amazon"
   ]
  },
  {
   "cell_type": "markdown",
   "id": "2eb1b399-5078-4f45-9ee9-c77e95765549",
   "metadata": {},
   "source": [
    "# Walmart Expected Rate of Return Calculations"
   ]
  },
  {
   "cell_type": "code",
   "execution_count": 22,
   "id": "3bdce9c0-9fb2-4af6-a2ee-335875d27d13",
   "metadata": {},
   "outputs": [],
   "source": [
    "walmart_historical_year1_begin = walmart.history(start=\"2018-11-05\", end=\"2018-11-06\")\n",
    "walmart_historical_year1_end = walmart.history(start=\"2019-11-05\", end=\"2019-11-06\")\n",
    "initial_value_year1_wmt = walmart_historical_year1_begin['Close']['2018-11-05']\n",
    "current_value_year1_wmt= walmart_historical_year1_end['Close']['2019-11-05']"
   ]
  },
  {
   "cell_type": "code",
   "execution_count": 23,
   "id": "37342c8f-884e-4e18-8546-e996aaf48fbf",
   "metadata": {},
   "outputs": [
    {
     "data": {
      "text/plain": [
       "17.952111939766628"
      ]
     },
     "execution_count": 23,
     "metadata": {},
     "output_type": "execute_result"
    }
   ],
   "source": [
    "year1_ror_wmt = ((current_value_year1_wmt - initial_value_year1_wmt)/initial_value_year1_wmt)*100\n",
    "\n",
    "year1_ror_wmt"
   ]
  },
  {
   "cell_type": "code",
   "execution_count": 24,
   "id": "31b7166c-eddc-449e-868e-892b2b7a13ce",
   "metadata": {},
   "outputs": [],
   "source": [
    "walmart_historical_year2_begin = walmart.history(start=\"2019-11-05\", end=\"2019-11-06\")\n",
    "walmart_historical_year2_end = walmart.history(start=\"2020-11-05\", end=\"2020-11-06\")\n",
    "initial_value_year2_wmt = walmart_historical_year2_begin['Close']['2019-11-05']\n",
    "current_value_year2_wmt= walmart_historical_year2_end['Close']['2020-11-05']"
   ]
  },
  {
   "cell_type": "code",
   "execution_count": 25,
   "id": "537ee0bf-88b2-4220-965e-0a441c0447b1",
   "metadata": {},
   "outputs": [
    {
     "data": {
      "text/plain": [
       "22.82150025270849"
      ]
     },
     "execution_count": 25,
     "metadata": {},
     "output_type": "execute_result"
    }
   ],
   "source": [
    "year2_ror_wmt = ((current_value_year2_wmt - initial_value_year2_wmt)/initial_value_year2_wmt)*100\n",
    "\n",
    "year2_ror_wmt"
   ]
  },
  {
   "cell_type": "code",
   "execution_count": 26,
   "id": "1d998dec-3159-4deb-9f3e-6590d3cd2e94",
   "metadata": {},
   "outputs": [],
   "source": [
    "walmart_historical_year3_begin = walmart.history(start=\"2020-11-05\", end=\"2020-11-06\")\n",
    "walmart_historical_year3_end = walmart.history(start=\"2021-11-03\", end=\"2021-11-04\")\n",
    "initial_value_year3_wmt = walmart_historical_year3_begin['Close']['2020-11-05']\n",
    "current_value_year3_wmt= walmart_historical_year3_end['Close']['2021-11-03']"
   ]
  },
  {
   "cell_type": "code",
   "execution_count": 27,
   "id": "3c9f5f13-c8fd-477a-ad3e-3e224993ae39",
   "metadata": {},
   "outputs": [
    {
     "data": {
      "text/plain": [
       "6.302263743819454"
      ]
     },
     "execution_count": 27,
     "metadata": {},
     "output_type": "execute_result"
    }
   ],
   "source": [
    "year3_ror_wmt = ((current_value_year3_wmt - initial_value_year3_wmt)/initial_value_year3_wmt)*100\n",
    "\n",
    "year3_ror_wmt"
   ]
  },
  {
   "cell_type": "code",
   "execution_count": 28,
   "id": "500d9fc5-6670-4b8b-8852-8e7f1132b1bd",
   "metadata": {},
   "outputs": [
    {
     "data": {
      "text/plain": [
       "15.691958645431521"
      ]
     },
     "execution_count": 28,
     "metadata": {},
     "output_type": "execute_result"
    }
   ],
   "source": [
    "expected_ror_wmt = (year1_ror_wmt + year2_ror_wmt + year3_ror_wmt)/3\n",
    "\n",
    "expected_ror_wmt"
   ]
  },
  {
   "cell_type": "markdown",
   "id": "27b9bc72-f226-498f-aad5-4531f563495f",
   "metadata": {},
   "source": [
    "# Ebay Expected Rate of Return Calculations"
   ]
  },
  {
   "cell_type": "code",
   "execution_count": 29,
   "id": "a770009c-9726-48ed-8844-8cdc782d76a1",
   "metadata": {},
   "outputs": [],
   "source": [
    "ebay_historical_year1_begin = ebay.history(start=\"2018-11-05\", end=\"2018-11-06\")\n",
    "ebay_historical_year1_end = ebay.history(start=\"2019-11-05\", end=\"2019-11-06\")\n",
    "initial_value_year1_ebay = ebay_historical_year1_begin['Close']['2018-11-05']\n",
    "current_value_year1_ebay= ebay_historical_year1_end['Close']['2019-11-05']"
   ]
  },
  {
   "cell_type": "code",
   "execution_count": 30,
   "id": "52be4725-10c3-4ace-8fbd-785553d58045",
   "metadata": {},
   "outputs": [
    {
     "data": {
      "text/plain": [
       "21.03653685418853"
      ]
     },
     "execution_count": 30,
     "metadata": {},
     "output_type": "execute_result"
    }
   ],
   "source": [
    "year1_ror_ebay = ((current_value_year1_ebay - initial_value_year1_ebay)/initial_value_year1_ebay)*100\n",
    "\n",
    "year1_ror_ebay"
   ]
  },
  {
   "cell_type": "code",
   "execution_count": 31,
   "id": "bcffa492-7d46-4806-92c9-f0c0ebe94a53",
   "metadata": {},
   "outputs": [],
   "source": [
    "ebay_historical_year2_begin = ebay.history(start=\"2019-11-05\", end=\"2019-11-06\")\n",
    "ebay_historical_year2_end = ebay.history(start=\"2020-11-05\", end=\"2020-11-06\")\n",
    "initial_value_year2_ebay = ebay_historical_year2_begin['Close']['2019-11-05']\n",
    "current_value_year2_ebay= ebay_historical_year2_end['Close']['2020-11-05']"
   ]
  },
  {
   "cell_type": "code",
   "execution_count": 32,
   "id": "433c715a-82c7-47d2-b671-1c2e4bdacaa5",
   "metadata": {},
   "outputs": [
    {
     "data": {
      "text/plain": [
       "41.37556535702825"
      ]
     },
     "execution_count": 32,
     "metadata": {},
     "output_type": "execute_result"
    }
   ],
   "source": [
    "year2_ror_ebay = ((current_value_year2_ebay - initial_value_year2_ebay)/initial_value_year2_ebay)*100\n",
    "\n",
    "year2_ror_ebay"
   ]
  },
  {
   "cell_type": "code",
   "execution_count": 33,
   "id": "69a35e28-a20d-445a-a8a3-a97f29b032f1",
   "metadata": {},
   "outputs": [],
   "source": [
    "ebay_historical_year3_begin = ebay.history(start=\"2020-11-05\", end=\"2020-11-06\")\n",
    "ebay_historical_year3_end = ebay.history(start=\"2021-11-03\", end=\"2021-11-04\")\n",
    "initial_value_year3_ebay = ebay_historical_year3_begin['Close']['2020-11-05']\n",
    "current_value_year3_ebay= ebay_historical_year3_end['Close']['2021-11-03']"
   ]
  },
  {
   "cell_type": "code",
   "execution_count": 34,
   "id": "b691c51f-549d-4087-b7d7-983ff871677c",
   "metadata": {},
   "outputs": [
    {
     "data": {
      "text/plain": [
       "54.48947683610462"
      ]
     },
     "execution_count": 34,
     "metadata": {},
     "output_type": "execute_result"
    }
   ],
   "source": [
    "year3_ror_ebay = ((current_value_year3_ebay - initial_value_year3_ebay)/initial_value_year3_ebay)*100\n",
    "\n",
    "year3_ror_ebay"
   ]
  },
  {
   "cell_type": "code",
   "execution_count": 35,
   "id": "ad7227e5-3e62-4d0f-80da-7cde21e15fc9",
   "metadata": {},
   "outputs": [
    {
     "data": {
      "text/plain": [
       "38.9671930157738"
      ]
     },
     "execution_count": 35,
     "metadata": {},
     "output_type": "execute_result"
    }
   ],
   "source": [
    "expected_ror_ebay = (year1_ror_ebay + year2_ror_ebay + year3_ror_ebay)/3\n",
    "\n",
    "expected_ror_ebay"
   ]
  },
  {
   "cell_type": "markdown",
   "id": "e6f48691-db1a-420e-b0b0-82968ad73d4c",
   "metadata": {},
   "source": [
    "# Target Expected Rate of Return Calculations"
   ]
  },
  {
   "cell_type": "code",
   "execution_count": 36,
   "id": "63779241-f64c-4f00-907f-afb915bda035",
   "metadata": {},
   "outputs": [],
   "source": [
    "target_historical_year1_begin = target.history(start=\"2018-11-05\", end=\"2018-11-06\")\n",
    "target_historical_year1_end = target.history(start=\"2019-11-05\", end=\"2019-11-06\")\n",
    "initial_value_year1_target = target_historical_year1_begin['Close']['2018-11-05']\n",
    "current_value_year1_target= target_historical_year1_end['Close']['2019-11-05']"
   ]
  },
  {
   "cell_type": "code",
   "execution_count": 37,
   "id": "d5db9fe9-5aaa-48cf-a16b-d08d6d590913",
   "metadata": {},
   "outputs": [
    {
     "data": {
      "text/plain": [
       "33.37207592487113"
      ]
     },
     "execution_count": 37,
     "metadata": {},
     "output_type": "execute_result"
    }
   ],
   "source": [
    "year1_ror_target = ((current_value_year1_target - initial_value_year1_target)/initial_value_year1_target)*100\n",
    "\n",
    "year1_ror_target"
   ]
  },
  {
   "cell_type": "code",
   "execution_count": 38,
   "id": "72d3b737-1596-44dc-be5d-94fd6c9534c4",
   "metadata": {},
   "outputs": [],
   "source": [
    "target_historical_year2_begin = target.history(start=\"2019-11-05\", end=\"2019-11-06\")\n",
    "target_historical_year2_end = target.history(start=\"2020-11-05\", end=\"2020-11-06\")\n",
    "initial_value_year2_target = target_historical_year2_begin['Close']['2019-11-05']\n",
    "current_value_year2_target= target_historical_year2_end['Close']['2020-11-05']"
   ]
  },
  {
   "cell_type": "code",
   "execution_count": 39,
   "id": "d85ea248-9c0f-4269-a578-bcbbda7bbacf",
   "metadata": {},
   "outputs": [
    {
     "data": {
      "text/plain": [
       "47.307620628610564"
      ]
     },
     "execution_count": 39,
     "metadata": {},
     "output_type": "execute_result"
    }
   ],
   "source": [
    "year2_ror_target = ((current_value_year2_target - initial_value_year2_target)/initial_value_year2_target)*100\n",
    "\n",
    "year2_ror_target"
   ]
  },
  {
   "cell_type": "code",
   "execution_count": 40,
   "id": "9f4c42a8-aea9-4aa2-8443-0f1a898f14a1",
   "metadata": {},
   "outputs": [],
   "source": [
    "target_historical_year3_begin = target.history(start=\"2020-11-05\", end=\"2020-11-06\")\n",
    "target_historical_year3_end = target.history(start=\"2021-11-03\", end=\"2021-11-04\")\n",
    "initial_value_year3_target = target_historical_year3_begin['Close']['2020-11-05']\n",
    "current_value_year3_target= target_historical_year3_end['Close']['2021-11-03']"
   ]
  },
  {
   "cell_type": "code",
   "execution_count": 41,
   "id": "ddf3e242-609f-4953-8ce5-210c85824259",
   "metadata": {},
   "outputs": [
    {
     "data": {
      "text/plain": [
       "66.53502906761157"
      ]
     },
     "execution_count": 41,
     "metadata": {},
     "output_type": "execute_result"
    }
   ],
   "source": [
    "year3_ror_target = ((current_value_year3_target - initial_value_year3_target)/initial_value_year3_target)*100\n",
    "\n",
    "year3_ror_target"
   ]
  },
  {
   "cell_type": "code",
   "execution_count": 42,
   "id": "8bdcbba1-b17a-411e-b8f4-05c83851f69d",
   "metadata": {},
   "outputs": [
    {
     "data": {
      "text/plain": [
       "49.071575207031096"
      ]
     },
     "execution_count": 42,
     "metadata": {},
     "output_type": "execute_result"
    }
   ],
   "source": [
    "expected_ror_target = (year1_ror_target + year2_ror_target + year3_ror_target)/3\n",
    "\n",
    "expected_ror_target"
   ]
  },
  {
   "cell_type": "markdown",
   "id": "5b010ec3-a040-4865-b3c8-999f2caf9d54",
   "metadata": {},
   "source": [
    "# Overstock Expected Rate of Return Calculations"
   ]
  },
  {
   "cell_type": "code",
   "execution_count": 43,
   "id": "3a5dc083-9abe-4925-b007-c549a1fcae57",
   "metadata": {},
   "outputs": [],
   "source": [
    "overstock_historical_year1_begin = overstock.history(start=\"2018-11-05\", end=\"2018-11-06\")\n",
    "overstock_historical_year1_end = overstock.history(start=\"2019-11-05\", end=\"2019-11-06\")\n",
    "initial_value_year1_overstock = overstock_historical_year1_begin['Close']['2018-11-05']\n",
    "current_value_year1_overstock= overstock_historical_year1_end['Close']['2019-11-05']"
   ]
  },
  {
   "cell_type": "code",
   "execution_count": 44,
   "id": "46cc587a-9be2-4f93-8e15-245e16719a0a",
   "metadata": {},
   "outputs": [
    {
     "data": {
      "text/plain": [
       "-49.34343374015091"
      ]
     },
     "execution_count": 44,
     "metadata": {},
     "output_type": "execute_result"
    }
   ],
   "source": [
    "year1_ror_overstock = ((current_value_year1_overstock - initial_value_year1_overstock)/initial_value_year1_overstock)*100\n",
    "\n",
    "year1_ror_overstock"
   ]
  },
  {
   "cell_type": "code",
   "execution_count": 45,
   "id": "dc777a52-be54-417f-8265-7d8e11921eae",
   "metadata": {},
   "outputs": [],
   "source": [
    "overstock_historical_year2_begin = overstock.history(start=\"2019-11-05\", end=\"2019-11-06\")\n",
    "overstock_historical_year2_end = overstock.history(start=\"2020-11-05\", end=\"2020-11-06\")\n",
    "initial_value_year2_overstock = overstock_historical_year2_begin['Close']['2019-11-05']\n",
    "current_value_year2_overstock= overstock_historical_year2_end['Close']['2020-11-05']"
   ]
  },
  {
   "cell_type": "code",
   "execution_count": 46,
   "id": "93ebc15a-80b3-456d-bd06-ea43ba5d7d9e",
   "metadata": {},
   "outputs": [
    {
     "data": {
      "text/plain": [
       "583.3499774702757"
      ]
     },
     "execution_count": 46,
     "metadata": {},
     "output_type": "execute_result"
    }
   ],
   "source": [
    "year2_ror_overstock = ((current_value_year2_overstock - initial_value_year2_overstock)/initial_value_year2_overstock)*100\n",
    "\n",
    "year2_ror_overstock"
   ]
  },
  {
   "cell_type": "code",
   "execution_count": 47,
   "id": "31aa0ee6-0378-499e-96a2-6db8bf8f85ca",
   "metadata": {},
   "outputs": [],
   "source": [
    "overstock_historical_year3_begin = overstock.history(start=\"2020-11-05\", end=\"2020-11-06\")\n",
    "overstock_historical_year3_end = overstock.history(start=\"2021-11-03\", end=\"2021-11-04\")\n",
    "initial_value_year3_overstock = overstock_historical_year3_begin['Close']['2020-11-05']\n",
    "current_value_year3_overstock= overstock_historical_year3_end['Close']['2021-11-03']"
   ]
  },
  {
   "cell_type": "code",
   "execution_count": 48,
   "id": "18a7a414-a056-491f-9cc6-714717f25bdc",
   "metadata": {},
   "outputs": [
    {
     "data": {
      "text/plain": [
       "52.90341647488361"
      ]
     },
     "execution_count": 48,
     "metadata": {},
     "output_type": "execute_result"
    }
   ],
   "source": [
    "year3_ror_overstock = ((current_value_year3_overstock - initial_value_year3_overstock)/initial_value_year3_overstock)*100\n",
    "\n",
    "year3_ror_overstock"
   ]
  },
  {
   "cell_type": "code",
   "execution_count": 49,
   "id": "449ab18f-d510-4eb3-9728-b608382819e1",
   "metadata": {},
   "outputs": [
    {
     "data": {
      "text/plain": [
       "195.6366534016695"
      ]
     },
     "execution_count": 49,
     "metadata": {},
     "output_type": "execute_result"
    }
   ],
   "source": [
    "expected_ror_overstock = (year1_ror_overstock + year2_ror_overstock + year3_ror_overstock)/3\n",
    "\n",
    "expected_ror_overstock"
   ]
  },
  {
   "cell_type": "code",
   "execution_count": 50,
   "id": "ad515303-abf7-47d2-ad9a-697b0d1d9645",
   "metadata": {},
   "outputs": [
    {
     "data": {
      "text/plain": [
       "Date\n",
       "2018-11-09    1712.430054\n",
       "2018-11-12    1636.849976\n",
       "2018-11-13    1631.170044\n",
       "2018-11-14    1599.010010\n",
       "2018-11-15    1619.439941\n",
       "                 ...     \n",
       "2021-11-02    3312.750000\n",
       "2021-11-03    3384.000000\n",
       "2021-11-04    3477.000000\n",
       "2021-11-05    3518.989990\n",
       "2021-11-08    3488.979980\n",
       "Name: Close, Length: 754, dtype: float64"
      ]
     },
     "execution_count": 50,
     "metadata": {},
     "output_type": "execute_result"
    }
   ],
   "source": [
    "amazon_history = amazon.history(period = \"3y\")\n",
    "\n",
    "amazon_history['Close']"
   ]
  },
  {
   "cell_type": "code",
   "execution_count": 51,
   "id": "e0cd8b1c-9914-42cf-af14-05f13c9f3269",
   "metadata": {},
   "outputs": [
    {
     "data": {
      "text/plain": [
       "Date\n",
       "2018-11-09    100.030228\n",
       "2018-11-12     98.428772\n",
       "2018-11-13     97.547485\n",
       "2018-11-14     96.211342\n",
       "2018-11-15     94.325584\n",
       "                 ...    \n",
       "2021-11-02    149.720001\n",
       "2021-11-03    150.179993\n",
       "2021-11-04    151.279999\n",
       "2021-11-05    150.229996\n",
       "2021-11-08    149.270004\n",
       "Name: Close, Length: 754, dtype: float64"
      ]
     },
     "execution_count": 51,
     "metadata": {},
     "output_type": "execute_result"
    }
   ],
   "source": [
    "walmart_history = walmart.history(period = \"3y\")\n",
    "\n",
    "walmart_history['Close']"
   ]
  },
  {
   "cell_type": "code",
   "execution_count": 52,
   "id": "29baf597-2215-4c01-affb-5ff6be4c443e",
   "metadata": {},
   "outputs": [
    {
     "data": {
      "text/plain": [
       "Date\n",
       "2018-11-09    28.531385\n",
       "2018-11-12    27.886227\n",
       "2018-11-13    27.058113\n",
       "2018-11-14    26.855900\n",
       "2018-11-15    27.125519\n",
       "                ...    \n",
       "2021-11-02    74.900002\n",
       "2021-11-03    75.449997\n",
       "2021-11-04    76.279999\n",
       "2021-11-05    75.570000\n",
       "2021-11-08    73.760002\n",
       "Name: Close, Length: 754, dtype: float64"
      ]
     },
     "execution_count": 52,
     "metadata": {},
     "output_type": "execute_result"
    }
   ],
   "source": [
    "ebay_history = ebay.history(period = \"3y\")\n",
    "\n",
    "ebay_history['Close']"
   ]
  },
  {
   "cell_type": "code",
   "execution_count": 53,
   "id": "57f243b9-86df-4991-96f6-d1fc5181a809",
   "metadata": {},
   "outputs": [
    {
     "data": {
      "text/plain": [
       "Date\n",
       "2018-11-09     81.073334\n",
       "2018-11-12     79.702530\n",
       "2018-11-13     78.630119\n",
       "2018-11-14     77.520409\n",
       "2018-11-15     75.310364\n",
       "                 ...    \n",
       "2021-11-02    260.260010\n",
       "2021-11-03    260.410004\n",
       "2021-11-04    260.440002\n",
       "2021-11-05    254.270004\n",
       "2021-11-08    253.330002\n",
       "Name: Close, Length: 754, dtype: float64"
      ]
     },
     "execution_count": 53,
     "metadata": {},
     "output_type": "execute_result"
    }
   ],
   "source": [
    "target_history = target.history(period = \"3y\")\n",
    "\n",
    "target_history['Close']"
   ]
  },
  {
   "cell_type": "code",
   "execution_count": 54,
   "id": "f54412a4-b1bc-436c-8e2f-0ab975115712",
   "metadata": {},
   "outputs": [
    {
     "data": {
      "text/plain": [
       "Date\n",
       "2018-11-09     17.200001\n",
       "2018-11-12     17.760000\n",
       "2018-11-13     17.790001\n",
       "2018-11-14     16.950001\n",
       "2018-11-15     17.530001\n",
       "                 ...    \n",
       "2021-11-02    101.360001\n",
       "2021-11-03    104.800003\n",
       "2021-11-04    104.889999\n",
       "2021-11-05    104.459999\n",
       "2021-11-08    105.360001\n",
       "Name: Close, Length: 754, dtype: float64"
      ]
     },
     "execution_count": 54,
     "metadata": {},
     "output_type": "execute_result"
    }
   ],
   "source": [
    "overstock_history = overstock.history(period = \"3y\")\n",
    "\n",
    "overstock_history['Close']"
   ]
  },
  {
   "cell_type": "code",
   "execution_count": 55,
   "id": "cd3582ca-cbea-4057-9bdd-cf0435a6a856",
   "metadata": {},
   "outputs": [],
   "source": [
    "start = datetime(2018, 11, 5)\n",
    "symbols_list = ['AMZN', 'WMT', 'EBAY', 'TGT', 'OSTK']\n"
   ]
  },
  {
   "cell_type": "code",
   "execution_count": 56,
   "id": "bec464bf-ac58-45f0-ac63-2c028ed42acb",
   "metadata": {},
   "outputs": [
    {
     "data": {
      "text/html": [
       "<div>\n",
       "<style scoped>\n",
       "    .dataframe tbody tr th:only-of-type {\n",
       "        vertical-align: middle;\n",
       "    }\n",
       "\n",
       "    .dataframe tbody tr th {\n",
       "        vertical-align: top;\n",
       "    }\n",
       "\n",
       "    .dataframe thead th {\n",
       "        text-align: right;\n",
       "    }\n",
       "</style>\n",
       "<table border=\"1\" class=\"dataframe\">\n",
       "  <thead>\n",
       "    <tr style=\"text-align: right;\">\n",
       "      <th></th>\n",
       "      <th>Overstock</th>\n",
       "      <th>Target</th>\n",
       "      <th>Ebay</th>\n",
       "      <th>Walmart</th>\n",
       "      <th>Amazon</th>\n",
       "    </tr>\n",
       "    <tr>\n",
       "      <th>Date</th>\n",
       "      <th></th>\n",
       "      <th></th>\n",
       "      <th></th>\n",
       "      <th></th>\n",
       "      <th></th>\n",
       "    </tr>\n",
       "  </thead>\n",
       "  <tbody>\n",
       "    <tr>\n",
       "      <th>2018-11-09</th>\n",
       "      <td>17.200001</td>\n",
       "      <td>81.073334</td>\n",
       "      <td>28.531385</td>\n",
       "      <td>100.030228</td>\n",
       "      <td>1712.430054</td>\n",
       "    </tr>\n",
       "    <tr>\n",
       "      <th>2018-11-12</th>\n",
       "      <td>17.760000</td>\n",
       "      <td>79.702530</td>\n",
       "      <td>27.886227</td>\n",
       "      <td>98.428772</td>\n",
       "      <td>1636.849976</td>\n",
       "    </tr>\n",
       "    <tr>\n",
       "      <th>2018-11-13</th>\n",
       "      <td>17.790001</td>\n",
       "      <td>78.630119</td>\n",
       "      <td>27.058113</td>\n",
       "      <td>97.547485</td>\n",
       "      <td>1631.170044</td>\n",
       "    </tr>\n",
       "    <tr>\n",
       "      <th>2018-11-14</th>\n",
       "      <td>16.950001</td>\n",
       "      <td>77.520409</td>\n",
       "      <td>26.855900</td>\n",
       "      <td>96.211342</td>\n",
       "      <td>1599.010010</td>\n",
       "    </tr>\n",
       "    <tr>\n",
       "      <th>2018-11-15</th>\n",
       "      <td>17.530001</td>\n",
       "      <td>75.310364</td>\n",
       "      <td>27.125519</td>\n",
       "      <td>94.325584</td>\n",
       "      <td>1619.439941</td>\n",
       "    </tr>\n",
       "    <tr>\n",
       "      <th>...</th>\n",
       "      <td>...</td>\n",
       "      <td>...</td>\n",
       "      <td>...</td>\n",
       "      <td>...</td>\n",
       "      <td>...</td>\n",
       "    </tr>\n",
       "    <tr>\n",
       "      <th>2021-11-02</th>\n",
       "      <td>101.360001</td>\n",
       "      <td>260.260010</td>\n",
       "      <td>74.900002</td>\n",
       "      <td>149.720001</td>\n",
       "      <td>3312.750000</td>\n",
       "    </tr>\n",
       "    <tr>\n",
       "      <th>2021-11-03</th>\n",
       "      <td>104.800003</td>\n",
       "      <td>260.410004</td>\n",
       "      <td>75.449997</td>\n",
       "      <td>150.179993</td>\n",
       "      <td>3384.000000</td>\n",
       "    </tr>\n",
       "    <tr>\n",
       "      <th>2021-11-04</th>\n",
       "      <td>104.889999</td>\n",
       "      <td>260.440002</td>\n",
       "      <td>76.279999</td>\n",
       "      <td>151.279999</td>\n",
       "      <td>3477.000000</td>\n",
       "    </tr>\n",
       "    <tr>\n",
       "      <th>2021-11-05</th>\n",
       "      <td>104.459999</td>\n",
       "      <td>254.270004</td>\n",
       "      <td>75.570000</td>\n",
       "      <td>150.229996</td>\n",
       "      <td>3518.989990</td>\n",
       "    </tr>\n",
       "    <tr>\n",
       "      <th>2021-11-08</th>\n",
       "      <td>105.360001</td>\n",
       "      <td>253.330002</td>\n",
       "      <td>73.760002</td>\n",
       "      <td>149.270004</td>\n",
       "      <td>3488.979980</td>\n",
       "    </tr>\n",
       "  </tbody>\n",
       "</table>\n",
       "<p>754 rows × 5 columns</p>\n",
       "</div>"
      ],
      "text/plain": [
       "             Overstock      Target       Ebay     Walmart       Amazon\n",
       "Date                                                                  \n",
       "2018-11-09   17.200001   81.073334  28.531385  100.030228  1712.430054\n",
       "2018-11-12   17.760000   79.702530  27.886227   98.428772  1636.849976\n",
       "2018-11-13   17.790001   78.630119  27.058113   97.547485  1631.170044\n",
       "2018-11-14   16.950001   77.520409  26.855900   96.211342  1599.010010\n",
       "2018-11-15   17.530001   75.310364  27.125519   94.325584  1619.439941\n",
       "...                ...         ...        ...         ...          ...\n",
       "2021-11-02  101.360001  260.260010  74.900002  149.720001  3312.750000\n",
       "2021-11-03  104.800003  260.410004  75.449997  150.179993  3384.000000\n",
       "2021-11-04  104.889999  260.440002  76.279999  151.279999  3477.000000\n",
       "2021-11-05  104.459999  254.270004  75.570000  150.229996  3518.989990\n",
       "2021-11-08  105.360001  253.330002  73.760002  149.270004  3488.979980\n",
       "\n",
       "[754 rows x 5 columns]"
      ]
     },
     "metadata": {},
     "output_type": "display_data"
    }
   ],
   "source": [
    "overstock_df = pd.DataFrame(data = overstock_history['Close'])\n",
    "target_df = pd.DataFrame(data = target_history['Close'])\n",
    "ebay_df = pd.DataFrame(data = ebay_history['Close'])\n",
    "walmart_df = pd.DataFrame(data = walmart_history['Close'])\n",
    "amazon_df = pd.DataFrame(data = amazon_history['Close'])\n",
    "\n",
    "\n",
    "dataframe = pd.concat([overstock_df, target_df, ebay_df, walmart_df, amazon_df], axis = 1)\n",
    "\n",
    "dataframe.columns = [ \"Overstock\", \"Target\", \"Ebay\", \"Walmart\", \"Amazon\"]\n",
    "display(dataframe)"
   ]
  },
  {
   "cell_type": "code",
   "execution_count": 57,
   "id": "fe6ebd89-7dcd-4872-8b19-ac35cf9278ba",
   "metadata": {},
   "outputs": [
    {
     "data": {
      "text/html": [
       "<div>\n",
       "<style scoped>\n",
       "    .dataframe tbody tr th:only-of-type {\n",
       "        vertical-align: middle;\n",
       "    }\n",
       "\n",
       "    .dataframe tbody tr th {\n",
       "        vertical-align: top;\n",
       "    }\n",
       "\n",
       "    .dataframe thead th {\n",
       "        text-align: right;\n",
       "    }\n",
       "</style>\n",
       "<table border=\"1\" class=\"dataframe\">\n",
       "  <thead>\n",
       "    <tr style=\"text-align: right;\">\n",
       "      <th></th>\n",
       "      <th>Overstock</th>\n",
       "      <th>Target</th>\n",
       "      <th>Ebay</th>\n",
       "      <th>Walmart</th>\n",
       "      <th>Amazon</th>\n",
       "    </tr>\n",
       "  </thead>\n",
       "  <tbody>\n",
       "    <tr>\n",
       "      <th>Overstock</th>\n",
       "      <td>1.000000</td>\n",
       "      <td>0.826515</td>\n",
       "      <td>0.882009</td>\n",
       "      <td>0.804810</td>\n",
       "      <td>0.920837</td>\n",
       "    </tr>\n",
       "    <tr>\n",
       "      <th>Target</th>\n",
       "      <td>0.826515</td>\n",
       "      <td>1.000000</td>\n",
       "      <td>0.935679</td>\n",
       "      <td>0.896072</td>\n",
       "      <td>0.887219</td>\n",
       "    </tr>\n",
       "    <tr>\n",
       "      <th>Ebay</th>\n",
       "      <td>0.882009</td>\n",
       "      <td>0.935679</td>\n",
       "      <td>1.000000</td>\n",
       "      <td>0.851316</td>\n",
       "      <td>0.922186</td>\n",
       "    </tr>\n",
       "    <tr>\n",
       "      <th>Walmart</th>\n",
       "      <td>0.804810</td>\n",
       "      <td>0.896072</td>\n",
       "      <td>0.851316</td>\n",
       "      <td>1.000000</td>\n",
       "      <td>0.921042</td>\n",
       "    </tr>\n",
       "    <tr>\n",
       "      <th>Amazon</th>\n",
       "      <td>0.920837</td>\n",
       "      <td>0.887219</td>\n",
       "      <td>0.922186</td>\n",
       "      <td>0.921042</td>\n",
       "      <td>1.000000</td>\n",
       "    </tr>\n",
       "  </tbody>\n",
       "</table>\n",
       "</div>"
      ],
      "text/plain": [
       "           Overstock    Target      Ebay   Walmart    Amazon\n",
       "Overstock   1.000000  0.826515  0.882009  0.804810  0.920837\n",
       "Target      0.826515  1.000000  0.935679  0.896072  0.887219\n",
       "Ebay        0.882009  0.935679  1.000000  0.851316  0.922186\n",
       "Walmart     0.804810  0.896072  0.851316  1.000000  0.921042\n",
       "Amazon      0.920837  0.887219  0.922186  0.921042  1.000000"
      ]
     },
     "execution_count": 57,
     "metadata": {},
     "output_type": "execute_result"
    }
   ],
   "source": [
    "corr_df = dataframe.corr(method='pearson')\n",
    " #reset symbol as index (rather than 0-X)\n",
    "corr_df.head().reset_index()\n",
    "corr_df.head(10)"
   ]
  },
  {
   "cell_type": "code",
   "execution_count": 58,
   "id": "346c4a92",
   "metadata": {},
   "outputs": [
    {
     "data": {
      "text/plain": [
       "<AxesSubplot:>"
      ]
     },
     "execution_count": 58,
     "metadata": {},
     "output_type": "execute_result"
    },
    {
     "data": {
      "image/png": "[encoded data removed]",
      "text/plain": [
       "<Figure size 432x288 with 2 Axes>"
      ]
     },
     "metadata": {
      "needs_background": "light"
     },
     "output_type": "display_data"
    }
   ],
   "source": [
    "# Create a heatmap from the correlation values\n",
    "sns.heatmap(corr_df)"
   ]
  },
  {
   "cell_type": "markdown",
   "id": "320cf162-0b0a-4724-9935-3d45d8fbc3d1",
   "metadata": {},
   "source": [
    "# Overstock Portfolio Variances"
   ]
  },
  {
   "cell_type": "code",
   "execution_count": 59,
   "id": "f25e9381-8ca5-4330-8b81-af6715c86ce1",
   "metadata": {},
   "outputs": [],
   "source": [
    "overstock_std = float(overstock_df['Close'].std())/100\n",
    "target_std = float(target_df['Close'].std())/100\n",
    "ebay_std = float(ebay_df['Close'].std())/100\n",
    "walmart_std = float(walmart_df['Close'].std())/100\n",
    "amazon_std = float(amazon_df['Close'].std())/100"
   ]
  },
  {
   "cell_type": "code",
   "execution_count": 60,
   "id": "20f305bd-609f-42b0-b4f4-1435ca123bff",
   "metadata": {},
   "outputs": [
    {
     "data": {
      "text/plain": [
       "0.32419739865788705"
      ]
     },
     "metadata": {},
     "output_type": "display_data"
    },
    {
     "data": {
      "text/plain": [
       "0.6040943125288759"
      ]
     },
     "metadata": {},
     "output_type": "display_data"
    },
    {
     "data": {
      "text/plain": [
       "0.1402612641194388"
      ]
     },
     "metadata": {},
     "output_type": "display_data"
    },
    {
     "data": {
      "text/plain": [
       "0.18663069791133766"
      ]
     },
     "metadata": {},
     "output_type": "display_data"
    },
    {
     "data": {
      "text/plain": [
       "7.222030855025548"
      ]
     },
     "metadata": {},
     "output_type": "display_data"
    }
   ],
   "source": [
    "display(overstock_std)\n",
    "display(target_std)\n",
    "display(ebay_std)\n",
    "display(walmart_std)\n",
    "display(amazon_std)"
   ]
  },
  {
   "cell_type": "code",
   "execution_count": 61,
   "id": "1a8de642-d67d-47ba-95d3-58b36d35fa59",
   "metadata": {},
   "outputs": [],
   "source": [
    "def variance(weight1, std_1, weight2, std_2, corr_ratio):\n",
    "    variance = (((weight1 ** 2) * (std_1 ** 2)) + ((weight2 ** 2) * (std_2 ** 2)) + ((weight1 ** 2) * (std_1 ** 2) * (weight2 ** 2) * (std_2 ** 2) * (corr_ratio)))\n",
    "    return variance\n",
    "                                                                                 "
   ]
  },
  {
   "cell_type": "code",
   "execution_count": 62,
   "id": "cac6b1a1-d96f-4ccf-b3f1-8b75144af3ef",
   "metadata": {},
   "outputs": [
    {
     "name": "stdout",
     "output_type": "stream",
     "text": [
      "Overstock and Target Portfolio Variance 11.95%\n",
      "Overstock and Ebay Portfolio Variance 3.13%\n",
      "Overstock and Walmart Portfolio Variance 3.52%\n",
      "Overstock and Amazon Portfolio Variance 1334.84%\n"
     ]
    }
   ],
   "source": [
    "ostk_to_target_variance = variance(.50,overstock_std,.50,target_std,0.825182)\n",
    "ostk_to_ebay_variance = variance(.50,overstock_std,.50,ebay_std,0.880374)\n",
    "ostk_to_walmart_variance = variance(.50,overstock_std,.50,walmart_std,0.803650)\n",
    "ostk_to_amazon_variance = variance(.50,overstock_std,.50,amazon_std,0.825182)\n",
    "\n",
    "ostk_to_target_percentage = \"{:.2%}\".format(ostk_to_target_variance)\n",
    "ostk_to_ebay_percentage = \"{:.2%}\".format(ostk_to_ebay_variance)\n",
    "ostk_to_walmart_percentage = \"{:.2%}\".format(ostk_to_walmart_variance)\n",
    "ostk_to_amazon_percentage = \"{:.2%}\".format(ostk_to_amazon_variance)\n",
    "\n",
    "print(\"Overstock and Target Portfolio Variance\",ostk_to_target_percentage)\n",
    "print(\"Overstock and Ebay Portfolio Variance\",ostk_to_ebay_percentage)\n",
    "print(\"Overstock and Walmart Portfolio Variance\",ostk_to_walmart_percentage)\n",
    "print(\"Overstock and Amazon Portfolio Variance\",ostk_to_amazon_percentage)"
   ]
  },
  {
   "cell_type": "code",
   "execution_count": 63,
   "id": "09f29f19-bf76-4a76-85f5-d7d09ce6d7d0",
   "metadata": {},
   "outputs": [
    {
     "name": "stdout",
     "output_type": "stream",
     "text": [
      "Target and Ebay Portfolio Variance 9.66%\n",
      "Target and Walmart Portfolio Variance 10.07%\n",
      "Target and Amazon Portfolio Variance 1418.63%\n"
     ]
    }
   ],
   "source": [
    "tgt_to_ebay_variance = variance(.50,target_std,.50,ebay_std,0.935200)\n",
    "tgt_to_walmart_variance = variance(.50,target_std,.50,walmart_std,0.895973)\n",
    "tgt_to_amazon_variance = variance(.50,target_std,.50,amazon_std,0.887384)\n",
    "\n",
    "tgt_to_ebay_percentage = \"{:.2%}\".format(tgt_to_ebay_variance)\n",
    "tgt_to_walmart_percentage = \"{:.2%}\".format(tgt_to_walmart_variance)\n",
    "tgt_to_amazon_percentage = \"{:.2%}\".format(tgt_to_amazon_variance)\n",
    "\n",
    "\n",
    "print(\"Target and Ebay Portfolio Variance\",tgt_to_ebay_percentage)\n",
    "print(\"Target and Walmart Portfolio Variance\",tgt_to_walmart_percentage)\n",
    "print(\"Target and Amazon Portfolio Variance\",tgt_to_amazon_percentage)"
   ]
  },
  {
   "cell_type": "code",
   "execution_count": 64,
   "id": "4aa27053-89c1-40c7-b830-487becfeff12",
   "metadata": {},
   "outputs": [
    {
     "name": "stdout",
     "output_type": "stream",
     "text": [
      "Ebay and Walmart Portfolio Variance 1.37%\n",
      "Ebay and Amazon Portfolio Variance 1310.35%\n"
     ]
    }
   ],
   "source": [
    "ebay_to_walmart_variance = variance(.50,ebay_std,.50,walmart_std,0.851683)\n",
    "ebay_to_amazon_variance = variance(.50,ebay_std,.50,amazon_std,0.922619)\n",
    "\n",
    "ebay_to_walmart_percentage = \"{:.2%}\".format(ebay_to_walmart_variance)\n",
    "ebay_to_amazon_percentage = \"{:.2%}\".format(ebay_to_amazon_variance)\n",
    "\n",
    "\n",
    "print(\"Ebay and Walmart Portfolio Variance\",ebay_to_walmart_percentage)\n",
    "print(\"Ebay and Amazon Portfolio Variance\",ebay_to_amazon_percentage)"
   ]
  },
  {
   "cell_type": "code",
   "execution_count": 65,
   "id": "803901fd-3e69-4591-bd89-6a4d7c70fddc",
   "metadata": {},
   "outputs": [
    {
     "name": "stdout",
     "output_type": "stream",
     "text": [
      "Walmart and Amazon Portfolio Variance 1315.27%\n"
     ]
    }
   ],
   "source": [
    "walmart_to_amazon_variance = variance(.50,walmart_std,.50,amazon_std,0.921194)\n",
    "\n",
    "walmart_to_amazon_percentage = \"{:.2%}\".format(walmart_to_amazon_variance)\n",
    "\n",
    "print(\"Walmart and Amazon Portfolio Variance\",walmart_to_amazon_percentage)"
   ]
  },
  {
   "cell_type": "markdown",
   "id": "5968343a",
   "metadata": {},
   "source": [
    "Monte Carlo Simulation"
   ]
  },
  {
   "cell_type": "code",
   "execution_count": 85,
   "id": "1d3ce8f3-84d0-40e7-9224-6cb7f4136f48",
   "metadata": {},
   "outputs": [
    {
     "name": "stdout",
     "output_type": "stream",
     "text": [
      "[*********************100%***********************]  1 of 1 completed\n"
     ]
    },
    {
     "data": {
      "text/html": [
       "<div>\n",
       "<style scoped>\n",
       "    .dataframe tbody tr th:only-of-type {\n",
       "        vertical-align: middle;\n",
       "    }\n",
       "\n",
       "    .dataframe tbody tr th {\n",
       "        vertical-align: top;\n",
       "    }\n",
       "\n",
       "    .dataframe thead th {\n",
       "        text-align: right;\n",
       "    }\n",
       "</style>\n",
       "<table border=\"1\" class=\"dataframe\">\n",
       "  <thead>\n",
       "    <tr style=\"text-align: right;\">\n",
       "      <th></th>\n",
       "      <th>Open</th>\n",
       "      <th>High</th>\n",
       "      <th>Low</th>\n",
       "      <th>Close</th>\n",
       "      <th>Adj Close</th>\n",
       "      <th>Volume</th>\n",
       "    </tr>\n",
       "    <tr>\n",
       "      <th>Date</th>\n",
       "      <th></th>\n",
       "      <th></th>\n",
       "      <th></th>\n",
       "      <th></th>\n",
       "      <th></th>\n",
       "      <th></th>\n",
       "    </tr>\n",
       "  </thead>\n",
       "  <tbody>\n",
       "    <tr>\n",
       "      <th>2018-11-05</th>\n",
       "      <td>1657.569946</td>\n",
       "      <td>1658.089966</td>\n",
       "      <td>1596.359985</td>\n",
       "      <td>1627.800049</td>\n",
       "      <td>1627.800049</td>\n",
       "      <td>5624700</td>\n",
       "    </tr>\n",
       "    <tr>\n",
       "      <th>2018-11-06</th>\n",
       "      <td>1618.349976</td>\n",
       "      <td>1665.000000</td>\n",
       "      <td>1614.550049</td>\n",
       "      <td>1642.810059</td>\n",
       "      <td>1642.810059</td>\n",
       "      <td>4257400</td>\n",
       "    </tr>\n",
       "    <tr>\n",
       "      <th>2018-11-07</th>\n",
       "      <td>1673.000000</td>\n",
       "      <td>1759.229980</td>\n",
       "      <td>1664.079956</td>\n",
       "      <td>1755.489990</td>\n",
       "      <td>1755.489990</td>\n",
       "      <td>8192200</td>\n",
       "    </tr>\n",
       "    <tr>\n",
       "      <th>2018-11-08</th>\n",
       "      <td>1755.000000</td>\n",
       "      <td>1784.000000</td>\n",
       "      <td>1725.109985</td>\n",
       "      <td>1754.910034</td>\n",
       "      <td>1754.910034</td>\n",
       "      <td>6534900</td>\n",
       "    </tr>\n",
       "    <tr>\n",
       "      <th>2018-11-09</th>\n",
       "      <td>1732.500000</td>\n",
       "      <td>1743.920044</td>\n",
       "      <td>1701.869995</td>\n",
       "      <td>1712.430054</td>\n",
       "      <td>1712.430054</td>\n",
       "      <td>5902200</td>\n",
       "    </tr>\n",
       "  </tbody>\n",
       "</table>\n",
       "</div>"
      ],
      "text/plain": [
       "                   Open         High          Low        Close    Adj Close  \\\n",
       "Date                                                                          \n",
       "2018-11-05  1657.569946  1658.089966  1596.359985  1627.800049  1627.800049   \n",
       "2018-11-06  1618.349976  1665.000000  1614.550049  1642.810059  1642.810059   \n",
       "2018-11-07  1673.000000  1759.229980  1664.079956  1755.489990  1755.489990   \n",
       "2018-11-08  1755.000000  1784.000000  1725.109985  1754.910034  1754.910034   \n",
       "2018-11-09  1732.500000  1743.920044  1701.869995  1712.430054  1712.430054   \n",
       "\n",
       "             Volume  \n",
       "Date                 \n",
       "2018-11-05  5624700  \n",
       "2018-11-06  4257400  \n",
       "2018-11-07  8192200  \n",
       "2018-11-08  6534900  \n",
       "2018-11-09  5902200  "
      ]
     },
     "execution_count": 85,
     "metadata": {},
     "output_type": "execute_result"
    }
   ],
   "source": [
    "# Gathering historical data for our list of 5-10 Eommerce stocks from 2018-2021 and putting in into a dataframe\n",
    "\n",
    "selected_stocks = yf.download(\"AMZN\", group_by='tickers', start=\"2018-11-05\", end=\"2021-11-04\")\n",
    "selected_stocks.head()"
   ]
  },
  {
   "cell_type": "code",
   "execution_count": 84,
   "metadata": {},
   "outputs": [
    {
     "data": {
      "text/html": [
       "<div>\n",
       "<style scoped>\n",
       "    .dataframe tbody tr th:only-of-type {\n",
       "        vertical-align: middle;\n",
       "    }\n",
       "\n",
       "    .dataframe tbody tr th {\n",
       "        vertical-align: top;\n",
       "    }\n",
       "\n",
       "    .dataframe thead th {\n",
       "        text-align: right;\n",
       "    }\n",
       "</style>\n",
       "<table border=\"1\" class=\"dataframe\">\n",
       "  <thead>\n",
       "    <tr style=\"text-align: right;\">\n",
       "      <th></th>\n",
       "      <th>index</th>\n",
       "      <th>Open</th>\n",
       "      <th>High</th>\n",
       "      <th>Low</th>\n",
       "      <th>Close</th>\n",
       "      <th>Volume</th>\n",
       "    </tr>\n",
       "  </thead>\n",
       "  <tbody>\n",
       "    <tr>\n",
       "      <th>0</th>\n",
       "      <td>2018-11-05</td>\n",
       "      <td>1657.569946</td>\n",
       "      <td>1658.089966</td>\n",
       "      <td>1596.359985</td>\n",
       "      <td>1627.800049</td>\n",
       "      <td>5624700</td>\n",
       "    </tr>\n",
       "    <tr>\n",
       "      <th>1</th>\n",
       "      <td>2018-11-06</td>\n",
       "      <td>1618.349976</td>\n",
       "      <td>1665.000000</td>\n",
       "      <td>1614.550049</td>\n",
       "      <td>1642.810059</td>\n",
       "      <td>4257400</td>\n",
       "    </tr>\n",
       "    <tr>\n",
       "      <th>2</th>\n",
       "      <td>2018-11-07</td>\n",
       "      <td>1673.000000</td>\n",
       "      <td>1759.229980</td>\n",
       "      <td>1664.079956</td>\n",
       "      <td>1755.489990</td>\n",
       "      <td>8192200</td>\n",
       "    </tr>\n",
       "    <tr>\n",
       "      <th>3</th>\n",
       "      <td>2018-11-08</td>\n",
       "      <td>1755.000000</td>\n",
       "      <td>1784.000000</td>\n",
       "      <td>1725.109985</td>\n",
       "      <td>1754.910034</td>\n",
       "      <td>6534900</td>\n",
       "    </tr>\n",
       "    <tr>\n",
       "      <th>4</th>\n",
       "      <td>2018-11-09</td>\n",
       "      <td>1732.500000</td>\n",
       "      <td>1743.920044</td>\n",
       "      <td>1701.869995</td>\n",
       "      <td>1712.430054</td>\n",
       "      <td>5902200</td>\n",
       "    </tr>\n",
       "    <tr>\n",
       "      <th>...</th>\n",
       "      <td>...</td>\n",
       "      <td>...</td>\n",
       "      <td>...</td>\n",
       "      <td>...</td>\n",
       "      <td>...</td>\n",
       "      <td>...</td>\n",
       "    </tr>\n",
       "    <tr>\n",
       "      <th>750</th>\n",
       "      <td>2021-10-28</td>\n",
       "      <td>3402.100098</td>\n",
       "      <td>3479.000000</td>\n",
       "      <td>3386.000000</td>\n",
       "      <td>3446.570068</td>\n",
       "      <td>5708700</td>\n",
       "    </tr>\n",
       "    <tr>\n",
       "      <th>751</th>\n",
       "      <td>2021-10-29</td>\n",
       "      <td>3300.020020</td>\n",
       "      <td>3374.820068</td>\n",
       "      <td>3273.320068</td>\n",
       "      <td>3372.429932</td>\n",
       "      <td>6469500</td>\n",
       "    </tr>\n",
       "    <tr>\n",
       "      <th>752</th>\n",
       "      <td>2021-11-01</td>\n",
       "      <td>3361.800049</td>\n",
       "      <td>3375.860107</td>\n",
       "      <td>3292.020020</td>\n",
       "      <td>3318.110107</td>\n",
       "      <td>3608900</td>\n",
       "    </tr>\n",
       "    <tr>\n",
       "      <th>753</th>\n",
       "      <td>2021-11-02</td>\n",
       "      <td>3315.010010</td>\n",
       "      <td>3331.120117</td>\n",
       "      <td>3283.550049</td>\n",
       "      <td>3312.750000</td>\n",
       "      <td>2627600</td>\n",
       "    </tr>\n",
       "    <tr>\n",
       "      <th>754</th>\n",
       "      <td>2021-11-03</td>\n",
       "      <td>3309.000000</td>\n",
       "      <td>3394.919922</td>\n",
       "      <td>3297.520020</td>\n",
       "      <td>3384.000000</td>\n",
       "      <td>3397200</td>\n",
       "    </tr>\n",
       "  </tbody>\n",
       "</table>\n",
       "<p>755 rows × 6 columns</p>\n",
       "</div>"
      ],
      "text/plain": [
       "          index         Open         High          Low        Close   Volume\n",
       "0    2018-11-05  1657.569946  1658.089966  1596.359985  1627.800049  5624700\n",
       "1    2018-11-06  1618.349976  1665.000000  1614.550049  1642.810059  4257400\n",
       "2    2018-11-07  1673.000000  1759.229980  1664.079956  1755.489990  8192200\n",
       "3    2018-11-08  1755.000000  1784.000000  1725.109985  1754.910034  6534900\n",
       "4    2018-11-09  1732.500000  1743.920044  1701.869995  1712.430054  5902200\n",
       "..          ...          ...          ...          ...          ...      ...\n",
       "750  2021-10-28  3402.100098  3479.000000  3386.000000  3446.570068  5708700\n",
       "751  2021-10-29  3300.020020  3374.820068  3273.320068  3372.429932  6469500\n",
       "752  2021-11-01  3361.800049  3375.860107  3292.020020  3318.110107  3608900\n",
       "753  2021-11-02  3315.010010  3331.120117  3283.550049  3312.750000  2627600\n",
       "754  2021-11-03  3309.000000  3394.919922  3297.520020  3384.000000  3397200\n",
       "\n",
       "[755 rows x 6 columns]"
      ]
     },
     "execution_count": 84,
     "metadata": {},
     "output_type": "execute_result"
    }
   ],
   "source": [
    "# ecom_stocks.reset_index()\n",
    "# selected_stocks.index = selected_stocks.index.date"
   ]
  },
  {
   "cell_type": "code",
   "execution_count": 86,
   "id": "e4c8e7fc",
   "metadata": {},
   "outputs": [
    {
     "data": {
      "text/html": [
       "<div>\n",
       "<style scoped>\n",
       "    .dataframe tbody tr th:only-of-type {\n",
       "        vertical-align: middle;\n",
       "    }\n",
       "\n",
       "    .dataframe tbody tr th {\n",
       "        vertical-align: top;\n",
       "    }\n",
       "\n",
       "    .dataframe thead th {\n",
       "        text-align: right;\n",
       "    }\n",
       "</style>\n",
       "<table border=\"1\" class=\"dataframe\">\n",
       "  <thead>\n",
       "    <tr style=\"text-align: right;\">\n",
       "      <th></th>\n",
       "      <th>Open</th>\n",
       "      <th>High</th>\n",
       "      <th>Low</th>\n",
       "      <th>Close</th>\n",
       "      <th>Volume</th>\n",
       "    </tr>\n",
       "    <tr>\n",
       "      <th>Date</th>\n",
       "      <th></th>\n",
       "      <th></th>\n",
       "      <th></th>\n",
       "      <th></th>\n",
       "      <th></th>\n",
       "    </tr>\n",
       "  </thead>\n",
       "  <tbody>\n",
       "    <tr>\n",
       "      <th>2018-11-05</th>\n",
       "      <td>1657.569946</td>\n",
       "      <td>1658.089966</td>\n",
       "      <td>1596.359985</td>\n",
       "      <td>1627.800049</td>\n",
       "      <td>5624700</td>\n",
       "    </tr>\n",
       "    <tr>\n",
       "      <th>2018-11-06</th>\n",
       "      <td>1618.349976</td>\n",
       "      <td>1665.000000</td>\n",
       "      <td>1614.550049</td>\n",
       "      <td>1642.810059</td>\n",
       "      <td>4257400</td>\n",
       "    </tr>\n",
       "    <tr>\n",
       "      <th>2018-11-07</th>\n",
       "      <td>1673.000000</td>\n",
       "      <td>1759.229980</td>\n",
       "      <td>1664.079956</td>\n",
       "      <td>1755.489990</td>\n",
       "      <td>8192200</td>\n",
       "    </tr>\n",
       "    <tr>\n",
       "      <th>2018-11-08</th>\n",
       "      <td>1755.000000</td>\n",
       "      <td>1784.000000</td>\n",
       "      <td>1725.109985</td>\n",
       "      <td>1754.910034</td>\n",
       "      <td>6534900</td>\n",
       "    </tr>\n",
       "    <tr>\n",
       "      <th>2018-11-09</th>\n",
       "      <td>1732.500000</td>\n",
       "      <td>1743.920044</td>\n",
       "      <td>1701.869995</td>\n",
       "      <td>1712.430054</td>\n",
       "      <td>5902200</td>\n",
       "    </tr>\n",
       "    <tr>\n",
       "      <th>...</th>\n",
       "      <td>...</td>\n",
       "      <td>...</td>\n",
       "      <td>...</td>\n",
       "      <td>...</td>\n",
       "      <td>...</td>\n",
       "    </tr>\n",
       "    <tr>\n",
       "      <th>2021-10-28</th>\n",
       "      <td>3402.100098</td>\n",
       "      <td>3479.000000</td>\n",
       "      <td>3386.000000</td>\n",
       "      <td>3446.570068</td>\n",
       "      <td>5708700</td>\n",
       "    </tr>\n",
       "    <tr>\n",
       "      <th>2021-10-29</th>\n",
       "      <td>3300.020020</td>\n",
       "      <td>3374.820068</td>\n",
       "      <td>3273.320068</td>\n",
       "      <td>3372.429932</td>\n",
       "      <td>6469500</td>\n",
       "    </tr>\n",
       "    <tr>\n",
       "      <th>2021-11-01</th>\n",
       "      <td>3361.800049</td>\n",
       "      <td>3375.860107</td>\n",
       "      <td>3292.020020</td>\n",
       "      <td>3318.110107</td>\n",
       "      <td>3608900</td>\n",
       "    </tr>\n",
       "    <tr>\n",
       "      <th>2021-11-02</th>\n",
       "      <td>3315.010010</td>\n",
       "      <td>3331.120117</td>\n",
       "      <td>3283.550049</td>\n",
       "      <td>3312.750000</td>\n",
       "      <td>2627600</td>\n",
       "    </tr>\n",
       "    <tr>\n",
       "      <th>2021-11-03</th>\n",
       "      <td>3309.000000</td>\n",
       "      <td>3394.919922</td>\n",
       "      <td>3297.520020</td>\n",
       "      <td>3384.000000</td>\n",
       "      <td>3397200</td>\n",
       "    </tr>\n",
       "  </tbody>\n",
       "</table>\n",
       "<p>755 rows × 5 columns</p>\n",
       "</div>"
      ],
      "text/plain": [
       "                   Open         High          Low        Close   Volume\n",
       "Date                                                                   \n",
       "2018-11-05  1657.569946  1658.089966  1596.359985  1627.800049  5624700\n",
       "2018-11-06  1618.349976  1665.000000  1614.550049  1642.810059  4257400\n",
       "2018-11-07  1673.000000  1759.229980  1664.079956  1755.489990  8192200\n",
       "2018-11-08  1755.000000  1784.000000  1725.109985  1754.910034  6534900\n",
       "2018-11-09  1732.500000  1743.920044  1701.869995  1712.430054  5902200\n",
       "...                 ...          ...          ...          ...      ...\n",
       "2021-10-28  3402.100098  3479.000000  3386.000000  3446.570068  5708700\n",
       "2021-10-29  3300.020020  3374.820068  3273.320068  3372.429932  6469500\n",
       "2021-11-01  3361.800049  3375.860107  3292.020020  3318.110107  3608900\n",
       "2021-11-02  3315.010010  3331.120117  3283.550049  3312.750000  2627600\n",
       "2021-11-03  3309.000000  3394.919922  3297.520020  3384.000000  3397200\n",
       "\n",
       "[755 rows x 5 columns]"
      ]
     },
     "execution_count": 86,
     "metadata": {},
     "output_type": "execute_result"
    }
   ],
   "source": [
    "# cols = [4, 10, 16, 22, 28]\n",
    "cols = [4]\n",
    "ecom_stocks = selected_stocks.drop(selected_stocks.columns[cols], axis=1)\n",
    "ecom_stocks"
   ]
  },
  {
   "cell_type": "code",
   "execution_count": 90,
   "id": "7c8dbf80",
   "metadata": {},
   "outputs": [
    {
     "data": {
      "text/html": [
       "<div>\n",
       "<style scoped>\n",
       "    .dataframe tbody tr th:only-of-type {\n",
       "        vertical-align: middle;\n",
       "    }\n",
       "\n",
       "    .dataframe tbody tr th {\n",
       "        vertical-align: top;\n",
       "    }\n",
       "\n",
       "    .dataframe thead th {\n",
       "        text-align: right;\n",
       "    }\n",
       "</style>\n",
       "<table border=\"1\" class=\"dataframe\">\n",
       "  <thead>\n",
       "    <tr style=\"text-align: right;\">\n",
       "      <th></th>\n",
       "      <th>open</th>\n",
       "      <th>high</th>\n",
       "      <th>low</th>\n",
       "      <th>close</th>\n",
       "      <th>volume</th>\n",
       "    </tr>\n",
       "    <tr>\n",
       "      <th>Date</th>\n",
       "      <th></th>\n",
       "      <th></th>\n",
       "      <th></th>\n",
       "      <th></th>\n",
       "      <th></th>\n",
       "    </tr>\n",
       "  </thead>\n",
       "  <tbody>\n",
       "    <tr>\n",
       "      <th>2018-11-05</th>\n",
       "      <td>1657.569946</td>\n",
       "      <td>1658.089966</td>\n",
       "      <td>1596.359985</td>\n",
       "      <td>1627.800049</td>\n",
       "      <td>5624700</td>\n",
       "    </tr>\n",
       "    <tr>\n",
       "      <th>2018-11-06</th>\n",
       "      <td>1618.349976</td>\n",
       "      <td>1665.000000</td>\n",
       "      <td>1614.550049</td>\n",
       "      <td>1642.810059</td>\n",
       "      <td>4257400</td>\n",
       "    </tr>\n",
       "    <tr>\n",
       "      <th>2018-11-07</th>\n",
       "      <td>1673.000000</td>\n",
       "      <td>1759.229980</td>\n",
       "      <td>1664.079956</td>\n",
       "      <td>1755.489990</td>\n",
       "      <td>8192200</td>\n",
       "    </tr>\n",
       "    <tr>\n",
       "      <th>2018-11-08</th>\n",
       "      <td>1755.000000</td>\n",
       "      <td>1784.000000</td>\n",
       "      <td>1725.109985</td>\n",
       "      <td>1754.910034</td>\n",
       "      <td>6534900</td>\n",
       "    </tr>\n",
       "    <tr>\n",
       "      <th>2018-11-09</th>\n",
       "      <td>1732.500000</td>\n",
       "      <td>1743.920044</td>\n",
       "      <td>1701.869995</td>\n",
       "      <td>1712.430054</td>\n",
       "      <td>5902200</td>\n",
       "    </tr>\n",
       "    <tr>\n",
       "      <th>...</th>\n",
       "      <td>...</td>\n",
       "      <td>...</td>\n",
       "      <td>...</td>\n",
       "      <td>...</td>\n",
       "      <td>...</td>\n",
       "    </tr>\n",
       "    <tr>\n",
       "      <th>2021-10-28</th>\n",
       "      <td>3402.100098</td>\n",
       "      <td>3479.000000</td>\n",
       "      <td>3386.000000</td>\n",
       "      <td>3446.570068</td>\n",
       "      <td>5708700</td>\n",
       "    </tr>\n",
       "    <tr>\n",
       "      <th>2021-10-29</th>\n",
       "      <td>3300.020020</td>\n",
       "      <td>3374.820068</td>\n",
       "      <td>3273.320068</td>\n",
       "      <td>3372.429932</td>\n",
       "      <td>6469500</td>\n",
       "    </tr>\n",
       "    <tr>\n",
       "      <th>2021-11-01</th>\n",
       "      <td>3361.800049</td>\n",
       "      <td>3375.860107</td>\n",
       "      <td>3292.020020</td>\n",
       "      <td>3318.110107</td>\n",
       "      <td>3608900</td>\n",
       "    </tr>\n",
       "    <tr>\n",
       "      <th>2021-11-02</th>\n",
       "      <td>3315.010010</td>\n",
       "      <td>3331.120117</td>\n",
       "      <td>3283.550049</td>\n",
       "      <td>3312.750000</td>\n",
       "      <td>2627600</td>\n",
       "    </tr>\n",
       "    <tr>\n",
       "      <th>2021-11-03</th>\n",
       "      <td>3309.000000</td>\n",
       "      <td>3394.919922</td>\n",
       "      <td>3297.520020</td>\n",
       "      <td>3384.000000</td>\n",
       "      <td>3397200</td>\n",
       "    </tr>\n",
       "  </tbody>\n",
       "</table>\n",
       "<p>755 rows × 5 columns</p>\n",
       "</div>"
      ],
      "text/plain": [
       "                   open         high          low        close   volume\n",
       "Date                                                                   \n",
       "2018-11-05  1657.569946  1658.089966  1596.359985  1627.800049  5624700\n",
       "2018-11-06  1618.349976  1665.000000  1614.550049  1642.810059  4257400\n",
       "2018-11-07  1673.000000  1759.229980  1664.079956  1755.489990  8192200\n",
       "2018-11-08  1755.000000  1784.000000  1725.109985  1754.910034  6534900\n",
       "2018-11-09  1732.500000  1743.920044  1701.869995  1712.430054  5902200\n",
       "...                 ...          ...          ...          ...      ...\n",
       "2021-10-28  3402.100098  3479.000000  3386.000000  3446.570068  5708700\n",
       "2021-10-29  3300.020020  3374.820068  3273.320068  3372.429932  6469500\n",
       "2021-11-01  3361.800049  3375.860107  3292.020020  3318.110107  3608900\n",
       "2021-11-02  3315.010010  3331.120117  3283.550049  3312.750000  2627600\n",
       "2021-11-03  3309.000000  3394.919922  3297.520020  3384.000000  3397200\n",
       "\n",
       "[755 rows x 5 columns]"
      ]
     },
     "execution_count": 90,
     "metadata": {},
     "output_type": "execute_result"
    }
   ],
   "source": [
    "# Formatting the column names into lower case\n",
    "ecom_stocks.rename(str.lower, axis='columns')"
   ]
  },
  {
   "cell_type": "code",
   "execution_count": null,
   "metadata": {},
   "outputs": [],
   "source": [
    "ecom_stocks.reset_index(level=1)\n"
   ]
  },
  {
   "cell_type": "code",
   "execution_count": null,
   "id": "6b2480cf-d609-4fca-beb3-e38ec5b69014",
   "metadata": {},
   "outputs": [],
   "source": [
    "one_year_simulation = MCSimulation(\n",
    "    portfolio_data=ecom_stocks,\n",
    "    weights=[0.25, 0.75],\n",
    "    num_simulation=500,\n",
    "    num_trading_days=252,\n",
    ")\n",
    "\n",
    "# Review the simulation input data\n",
    "ecom_stocks.portfolio_data.dropna()\n",
    "# ecom_stocks.calc_cumulative_return()"
   ]
  }
 ],
 "metadata": {
  "interpreter": {
   "hash": "7869c662c8a6f446188a32e32fc890b6a582dec6cee26594b9b99aec6f2cb252"
  },
  "kernelspec": {
   "display_name": "Python 3 (ipykernel)",
   "language": "python",
   "name": "python3"
  },
  "language_info": {
   "codemirror_mode": {
    "name": "ipython",
    "version": 3
   },
   "file_extension": ".py",
   "mimetype": "text/x-python",
   "name": "python",
   "nbconvert_exporter": "python",
   "pygments_lexer": "ipython3",
   "version": "3.9.7"
  }
 },
 "nbformat": 4,
 "nbformat_minor": 5
}
