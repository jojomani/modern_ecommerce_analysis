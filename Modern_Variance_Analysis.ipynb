{
 "cells": [
  {
   "cell_type": "code",
   "execution_count": 162,
   "id": "7712e092-1a7b-477a-89cb-d24b5540b355",
   "metadata": {},
   "outputs": [],
   "source": [
    "import os\n",
    "import requests\n",
    "import yfinance as yf # Used to grab the stock prices, with yahoo\n",
    "import numpy as np\n",
    "import pandas as pd\n",
    "from datetime import datetime\n",
    "import seaborn as sns\n",
    "from dotenv import load_dotenv\n",
    "import alpaca_trade_api as tradeapi\n",
    "from utils.MCForecastTools import MCSimulation\n",
    "import hvplot.pandas\n",
    "from bokeh.models.formatters import NumeralTickFormatter\n"
   ]
  },
  {
   "cell_type": "code",
   "execution_count": 3,
   "id": "eaea87af-44cb-446d-a658-8ad5a0b351a6",
   "metadata": {},
   "outputs": [
    {
     "name": "stdout",
     "output_type": "stream",
     "text": [
      "yfinance.Ticker object <WMT>\n"
     ]
    }
   ],
   "source": [
    "amazon = yf.Ticker(\"AMZN\")\n",
    "walmart = yf.Ticker(\"WMT\")\n",
    "ebay = yf.Ticker(\"EBAY\")\n",
    "target = yf.Ticker(\"TGT\")\n",
    "overstock = yf.Ticker(\"OSTK\")\n",
    "print(walmart)"
   ]
  },
  {
   "cell_type": "code",
   "execution_count": 4,
   "id": "42a3a755-fc4c-42e9-a42d-f50947b3715d",
   "metadata": {},
   "outputs": [
    {
     "name": "stdout",
     "output_type": "stream",
     "text": [
      "Current Amazon Price: 3515.25\n",
      "Current Amazon Investment Value: 215950.97027792264\n",
      "Current Walmart Price: 149.52\n",
      "Current Walmart Investment Value: 153323.86386883567\n",
      "Current Ebay Price: 74.1\n",
      "Current Ebay Investment Value: 259626.3748723153\n",
      "Current Target Price: 252.78\n",
      "Current Target Investment Value: 317600.26376979577\n",
      "Current Overstock Price: 105.67\n",
      "Current Overstock Investment Value: 533686.8956407523\n"
     ]
    }
   ],
   "source": [
    "total_investment = 500000\n",
    "\n",
    "#Amazon Data\n",
    "initial_amazon_price = 1627.800049\n",
    "initial_amazon_investment = 100000\n",
    "amount_of_amazon_stock = initial_amazon_investment/initial_amazon_price\n",
    "current_amazon_price = amazon.info['open']\n",
    "current_amazon_investment_value = current_amazon_price * amount_of_amazon_stock\n",
    "\n",
    "#Walmart Data\n",
    "initial_walmart_price = 97.519066\n",
    "initial_walmart_investment = 100000\n",
    "amount_of_walmart_stock = initial_walmart_investment/initial_walmart_price\n",
    "current_walmart_price = walmart.info['open']\n",
    "current_walmart_investment_value = current_walmart_price * amount_of_walmart_stock\n",
    "\n",
    "#Ebay Data\n",
    "initial_ebay_price = 28.541014\n",
    "initial_ebay_investment = 100000\n",
    "amount_of_ebay_stock = initial_ebay_investment/initial_ebay_price\n",
    "current_ebay_price = ebay.info['open']\n",
    "current_ebay_investment_value = current_ebay_price * amount_of_ebay_stock\n",
    "\n",
    "#Target Data\n",
    "initial_target_price = 79.590614\n",
    "initial_target_investment = 100000\n",
    "amount_of_target_stock = initial_target_investment/initial_target_price\n",
    "current_target_price = target.info['open']\n",
    "current_target_investment_value = current_target_price * amount_of_target_stock\n",
    "\n",
    "#Overstock Data\n",
    "initial_overstock_price = 19.799999\n",
    "initial_overstock_investment = 100000\n",
    "amount_of_overstock_stock = initial_overstock_investment/initial_overstock_price\n",
    "current_overstock_price = overstock.info['open']\n",
    "current_overstock_investment_value = current_overstock_price * amount_of_overstock_stock\n",
    "\n",
    "\n",
    "print(\"Current Amazon Price:\",current_amazon_price)\n",
    "print(\"Current Amazon Investment Value:\",current_amazon_investment_value)\n",
    "print(\"Current Walmart Price:\",current_walmart_price)\n",
    "print(\"Current Walmart Investment Value:\",current_walmart_investment_value)\n",
    "print(\"Current Ebay Price:\",current_ebay_price)\n",
    "print(\"Current Ebay Investment Value:\",current_ebay_investment_value)\n",
    "print(\"Current Target Price:\",current_target_price)\n",
    "print(\"Current Target Investment Value:\",current_target_investment_value)\n",
    "print(\"Current Overstock Price:\",current_overstock_price)\n",
    "print(\"Current Overstock Investment Value:\",current_overstock_investment_value)"
   ]
  },
  {
   "cell_type": "markdown",
   "id": "96e633ed-9db6-4223-9488-49f3945fb18b",
   "metadata": {},
   "source": [
    "# Amazon Expected Rate of Return Calculations"
   ]
  },
  {
   "cell_type": "code",
   "execution_count": 5,
   "id": "2688676c-7251-496e-ad8b-9003ae3ef9ab",
   "metadata": {},
   "outputs": [],
   "source": [
    "amazon_historical_year1_begin = amazon.history(start=\"2018-11-05\", end=\"2018-11-06\")\n",
    "amazon_historical_year1_end = amazon.history(start=\"2019-11-05\", end=\"2019-11-06\")\n",
    "initial_value_year1_amazon = amazon_historical_year1_begin['Close']['2018-11-05']\n",
    "current_value_year1_amazon= amazon_historical_year1_end['Close']['2019-11-05']"
   ]
  },
  {
   "cell_type": "code",
   "execution_count": 6,
   "id": "040f46b9-3a03-4015-8531-5b22c6a6e9d4",
   "metadata": {},
   "outputs": [
    {
     "data": {
      "text/plain": [
       "10.683739211985838"
      ]
     },
     "execution_count": 6,
     "metadata": {},
     "output_type": "execute_result"
    }
   ],
   "source": [
    "year1_ror_amazon = ((current_value_year1_amazon - initial_value_year1_amazon)/initial_value_year1_amazon)*100\n",
    "\n",
    "year1_ror_amazon"
   ]
  },
  {
   "cell_type": "code",
   "execution_count": 7,
   "id": "cfe1d346-3516-4458-a91b-9e9e254a3c9a",
   "metadata": {},
   "outputs": [],
   "source": [
    "amazon_historical_year2_begin = amazon.history(start=\"2019-11-05\", end=\"2019-11-06\")\n",
    "amazon_historical_year2_end = amazon.history(start=\"2020-11-05\", end=\"2020-11-06\")\n",
    "initial_value_year2_amazon = amazon_historical_year2_begin['Close']['2019-11-05']\n",
    "current_value_year2_amazon= amazon_historical_year2_end['Close']['2020-11-05']"
   ]
  },
  {
   "cell_type": "code",
   "execution_count": 8,
   "id": "9b55cf91-5644-4d09-97c4-7708a41dece1",
   "metadata": {},
   "outputs": [
    {
     "data": {
      "text/plain": [
       "84.38039817859662"
      ]
     },
     "execution_count": 8,
     "metadata": {},
     "output_type": "execute_result"
    }
   ],
   "source": [
    "year2_ror_amazon = ((current_value_year2_amazon - initial_value_year2_amazon)/initial_value_year2_amazon)*100\n",
    "\n",
    "year2_ror_amazon"
   ]
  },
  {
   "cell_type": "code",
   "execution_count": 9,
   "id": "4a9b14bb-4467-4922-8680-569495099658",
   "metadata": {},
   "outputs": [],
   "source": [
    "amazon_historical_year3_begin = amazon.history(start=\"2020-11-05\", end=\"2020-11-06\")\n",
    "amazon_historical_year3_end = amazon.history(start=\"2021-11-03\", end=\"2021-11-04\")\n",
    "initial_value_year3_amazon = amazon_historical_year3_begin['Close']['2020-11-05']\n",
    "current_value_year3_amazon= amazon_historical_year3_end['Close']['2021-11-03']"
   ]
  },
  {
   "cell_type": "code",
   "execution_count": 10,
   "id": "79dae985-f65c-44ca-af7c-41c581a16d03",
   "metadata": {},
   "outputs": [
    {
     "data": {
      "text/plain": [
       "1.8663455749548463"
      ]
     },
     "execution_count": 10,
     "metadata": {},
     "output_type": "execute_result"
    }
   ],
   "source": [
    "year3_ror_amazon = ((current_value_year3_amazon - initial_value_year3_amazon)/initial_value_year3_amazon)*100\n",
    "\n",
    "year3_ror_amazon"
   ]
  },
  {
   "cell_type": "code",
   "execution_count": 11,
   "id": "f78f69e8-1488-4808-b555-8d906d18a72f",
   "metadata": {},
   "outputs": [
    {
     "data": {
      "text/plain": [
       "32.310160988512436"
      ]
     },
     "execution_count": 11,
     "metadata": {},
     "output_type": "execute_result"
    }
   ],
   "source": [
    "expected_ror_amazon = (year1_ror_amazon + year2_ror_amazon + year3_ror_amazon)/3\n",
    "\n",
    "expected_ror_amazon"
   ]
  },
  {
   "cell_type": "markdown",
   "id": "2eb1b399-5078-4f45-9ee9-c77e95765549",
   "metadata": {},
   "source": [
    "# Walmart Expected Rate of Return Calculations"
   ]
  },
  {
   "cell_type": "code",
   "execution_count": 12,
   "id": "3bdce9c0-9fb2-4af6-a2ee-335875d27d13",
   "metadata": {},
   "outputs": [],
   "source": [
    "walmart_historical_year1_begin = walmart.history(start=\"2018-11-05\", end=\"2018-11-06\")\n",
    "walmart_historical_year1_end = walmart.history(start=\"2019-11-05\", end=\"2019-11-06\")\n",
    "initial_value_year1_wmt = walmart_historical_year1_begin['Close']['2018-11-05']\n",
    "current_value_year1_wmt= walmart_historical_year1_end['Close']['2019-11-05']"
   ]
  },
  {
   "cell_type": "code",
   "execution_count": 13,
   "id": "37342c8f-884e-4e18-8546-e996aaf48fbf",
   "metadata": {},
   "outputs": [
    {
     "data": {
      "text/plain": [
       "17.952102711794023"
      ]
     },
     "execution_count": 13,
     "metadata": {},
     "output_type": "execute_result"
    }
   ],
   "source": [
    "year1_ror_wmt = ((current_value_year1_wmt - initial_value_year1_wmt)/initial_value_year1_wmt)*100\n",
    "\n",
    "year1_ror_wmt"
   ]
  },
  {
   "cell_type": "code",
   "execution_count": 14,
   "id": "31b7166c-eddc-449e-868e-892b2b7a13ce",
   "metadata": {},
   "outputs": [],
   "source": [
    "walmart_historical_year2_begin = walmart.history(start=\"2019-11-05\", end=\"2019-11-06\")\n",
    "walmart_historical_year2_end = walmart.history(start=\"2020-11-05\", end=\"2020-11-06\")\n",
    "initial_value_year2_wmt = walmart_historical_year2_begin['Close']['2019-11-05']\n",
    "current_value_year2_wmt= walmart_historical_year2_end['Close']['2020-11-05']"
   ]
  },
  {
   "cell_type": "code",
   "execution_count": 15,
   "id": "537ee0bf-88b2-4220-965e-0a441c0447b1",
   "metadata": {},
   "outputs": [
    {
     "data": {
      "text/plain": [
       "22.821495133636702"
      ]
     },
     "execution_count": 15,
     "metadata": {},
     "output_type": "execute_result"
    }
   ],
   "source": [
    "year2_ror_wmt = ((current_value_year2_wmt - initial_value_year2_wmt)/initial_value_year2_wmt)*100\n",
    "\n",
    "year2_ror_wmt"
   ]
  },
  {
   "cell_type": "code",
   "execution_count": 16,
   "id": "1d998dec-3159-4deb-9f3e-6590d3cd2e94",
   "metadata": {},
   "outputs": [],
   "source": [
    "walmart_historical_year3_begin = walmart.history(start=\"2020-11-05\", end=\"2020-11-06\")\n",
    "walmart_historical_year3_end = walmart.history(start=\"2021-11-03\", end=\"2021-11-04\")\n",
    "initial_value_year3_wmt = walmart_historical_year3_begin['Close']['2020-11-05']\n",
    "current_value_year3_wmt= walmart_historical_year3_end['Close']['2021-11-03']"
   ]
  },
  {
   "cell_type": "code",
   "execution_count": 17,
   "id": "3c9f5f13-c8fd-477a-ad3e-3e224993ae39",
   "metadata": {},
   "outputs": [
    {
     "data": {
      "text/plain": [
       "6.302263743819454"
      ]
     },
     "execution_count": 17,
     "metadata": {},
     "output_type": "execute_result"
    }
   ],
   "source": [
    "year3_ror_wmt = ((current_value_year3_wmt - initial_value_year3_wmt)/initial_value_year3_wmt)*100\n",
    "\n",
    "year3_ror_wmt"
   ]
  },
  {
   "cell_type": "code",
   "execution_count": 18,
   "id": "500d9fc5-6670-4b8b-8852-8e7f1132b1bd",
   "metadata": {},
   "outputs": [
    {
     "data": {
      "text/plain": [
       "15.691953863083393"
      ]
     },
     "execution_count": 18,
     "metadata": {},
     "output_type": "execute_result"
    }
   ],
   "source": [
    "expected_ror_wmt = (year1_ror_wmt + year2_ror_wmt + year3_ror_wmt)/3\n",
    "\n",
    "expected_ror_wmt"
   ]
  },
  {
   "cell_type": "markdown",
   "id": "27b9bc72-f226-498f-aad5-4531f563495f",
   "metadata": {},
   "source": [
    "# Ebay Expected Rate of Return Calculations"
   ]
  },
  {
   "cell_type": "code",
   "execution_count": 19,
   "id": "a770009c-9726-48ed-8844-8cdc782d76a1",
   "metadata": {},
   "outputs": [],
   "source": [
    "ebay_historical_year1_begin = ebay.history(start=\"2018-11-05\", end=\"2018-11-06\")\n",
    "ebay_historical_year1_end = ebay.history(start=\"2019-11-05\", end=\"2019-11-06\")\n",
    "initial_value_year1_ebay = ebay_historical_year1_begin['Close']['2018-11-05']\n",
    "current_value_year1_ebay= ebay_historical_year1_end['Close']['2019-11-05']"
   ]
  },
  {
   "cell_type": "code",
   "execution_count": 20,
   "id": "52be4725-10c3-4ace-8fbd-785553d58045",
   "metadata": {},
   "outputs": [
    {
     "data": {
      "text/plain": [
       "21.036550219855194"
      ]
     },
     "execution_count": 20,
     "metadata": {},
     "output_type": "execute_result"
    }
   ],
   "source": [
    "year1_ror_ebay = ((current_value_year1_ebay - initial_value_year1_ebay)/initial_value_year1_ebay)*100\n",
    "\n",
    "year1_ror_ebay"
   ]
  },
  {
   "cell_type": "code",
   "execution_count": 21,
   "id": "bcffa492-7d46-4806-92c9-f0c0ebe94a53",
   "metadata": {},
   "outputs": [],
   "source": [
    "ebay_historical_year2_begin = ebay.history(start=\"2019-11-05\", end=\"2019-11-06\")\n",
    "ebay_historical_year2_end = ebay.history(start=\"2020-11-05\", end=\"2020-11-06\")\n",
    "initial_value_year2_ebay = ebay_historical_year2_begin['Close']['2019-11-05']\n",
    "current_value_year2_ebay= ebay_historical_year2_end['Close']['2020-11-05']"
   ]
  },
  {
   "cell_type": "code",
   "execution_count": 22,
   "id": "433c715a-82c7-47d2-b671-1c2e4bdacaa5",
   "metadata": {},
   "outputs": [
    {
     "data": {
      "text/plain": [
       "41.3755543143596"
      ]
     },
     "execution_count": 22,
     "metadata": {},
     "output_type": "execute_result"
    }
   ],
   "source": [
    "year2_ror_ebay = ((current_value_year2_ebay - initial_value_year2_ebay)/initial_value_year2_ebay)*100\n",
    "\n",
    "year2_ror_ebay"
   ]
  },
  {
   "cell_type": "code",
   "execution_count": 23,
   "id": "69a35e28-a20d-445a-a8a3-a97f29b032f1",
   "metadata": {},
   "outputs": [],
   "source": [
    "ebay_historical_year3_begin = ebay.history(start=\"2020-11-05\", end=\"2020-11-06\")\n",
    "ebay_historical_year3_end = ebay.history(start=\"2021-11-03\", end=\"2021-11-04\")\n",
    "initial_value_year3_ebay = ebay_historical_year3_begin['Close']['2020-11-05']\n",
    "current_value_year3_ebay= ebay_historical_year3_end['Close']['2021-11-03']"
   ]
  },
  {
   "cell_type": "code",
   "execution_count": 24,
   "id": "b691c51f-549d-4087-b7d7-983ff871677c",
   "metadata": {},
   "outputs": [
    {
     "data": {
      "text/plain": [
       "54.48945270214486"
      ]
     },
     "execution_count": 24,
     "metadata": {},
     "output_type": "execute_result"
    }
   ],
   "source": [
    "year3_ror_ebay = ((current_value_year3_ebay - initial_value_year3_ebay)/initial_value_year3_ebay)*100\n",
    "\n",
    "year3_ror_ebay"
   ]
  },
  {
   "cell_type": "code",
   "execution_count": 25,
   "id": "ad7227e5-3e62-4d0f-80da-7cde21e15fc9",
   "metadata": {},
   "outputs": [
    {
     "data": {
      "text/plain": [
       "38.967185745453214"
      ]
     },
     "execution_count": 25,
     "metadata": {},
     "output_type": "execute_result"
    }
   ],
   "source": [
    "expected_ror_ebay = (year1_ror_ebay + year2_ror_ebay + year3_ror_ebay)/3\n",
    "\n",
    "expected_ror_ebay"
   ]
  },
  {
   "cell_type": "markdown",
   "id": "e6f48691-db1a-420e-b0b0-82968ad73d4c",
   "metadata": {},
   "source": [
    "# Target Expected Rate of Return Calculations"
   ]
  },
  {
   "cell_type": "code",
   "execution_count": 26,
   "id": "63779241-f64c-4f00-907f-afb915bda035",
   "metadata": {},
   "outputs": [],
   "source": [
    "target_historical_year1_begin = target.history(start=\"2018-11-05\", end=\"2018-11-06\")\n",
    "target_historical_year1_end = target.history(start=\"2019-11-05\", end=\"2019-11-06\")\n",
    "initial_value_year1_target = target_historical_year1_begin['Close']['2018-11-05']\n",
    "current_value_year1_target= target_historical_year1_end['Close']['2019-11-05']"
   ]
  },
  {
   "cell_type": "code",
   "execution_count": 27,
   "id": "d5db9fe9-5aaa-48cf-a16b-d08d6d590913",
   "metadata": {},
   "outputs": [
    {
     "data": {
      "text/plain": [
       "33.37207592487113"
      ]
     },
     "execution_count": 27,
     "metadata": {},
     "output_type": "execute_result"
    }
   ],
   "source": [
    "year1_ror_target = ((current_value_year1_target - initial_value_year1_target)/initial_value_year1_target)*100\n",
    "\n",
    "year1_ror_target"
   ]
  },
  {
   "cell_type": "code",
   "execution_count": 28,
   "id": "72d3b737-1596-44dc-be5d-94fd6c9534c4",
   "metadata": {},
   "outputs": [],
   "source": [
    "target_historical_year2_begin = target.history(start=\"2019-11-05\", end=\"2019-11-06\")\n",
    "target_historical_year2_end = target.history(start=\"2020-11-05\", end=\"2020-11-06\")\n",
    "initial_value_year2_target = target_historical_year2_begin['Close']['2019-11-05']\n",
    "current_value_year2_target= target_historical_year2_end['Close']['2020-11-05']"
   ]
  },
  {
   "cell_type": "code",
   "execution_count": 29,
   "id": "d85ea248-9c0f-4269-a578-bcbbda7bbacf",
   "metadata": {},
   "outputs": [
    {
     "data": {
      "text/plain": [
       "47.307620628610564"
      ]
     },
     "execution_count": 29,
     "metadata": {},
     "output_type": "execute_result"
    }
   ],
   "source": [
    "year2_ror_target = ((current_value_year2_target - initial_value_year2_target)/initial_value_year2_target)*100\n",
    "\n",
    "year2_ror_target"
   ]
  },
  {
   "cell_type": "code",
   "execution_count": 30,
   "id": "9f4c42a8-aea9-4aa2-8443-0f1a898f14a1",
   "metadata": {},
   "outputs": [],
   "source": [
    "target_historical_year3_begin = target.history(start=\"2020-11-05\", end=\"2020-11-06\")\n",
    "target_historical_year3_end = target.history(start=\"2021-11-03\", end=\"2021-11-04\")\n",
    "initial_value_year3_target = target_historical_year3_begin['Close']['2020-11-05']\n",
    "current_value_year3_target= target_historical_year3_end['Close']['2021-11-03']"
   ]
  },
  {
   "cell_type": "code",
   "execution_count": 31,
   "id": "ddf3e242-609f-4953-8ce5-210c85824259",
   "metadata": {},
   "outputs": [
    {
     "data": {
      "text/plain": [
       "66.5350453183703"
      ]
     },
     "execution_count": 31,
     "metadata": {},
     "output_type": "execute_result"
    }
   ],
   "source": [
    "year3_ror_target = ((current_value_year3_target - initial_value_year3_target)/initial_value_year3_target)*100\n",
    "\n",
    "year3_ror_target"
   ]
  },
  {
   "cell_type": "code",
   "execution_count": 32,
   "id": "8bdcbba1-b17a-411e-b8f4-05c83851f69d",
   "metadata": {},
   "outputs": [
    {
     "data": {
      "text/plain": [
       "49.071580623950666"
      ]
     },
     "execution_count": 32,
     "metadata": {},
     "output_type": "execute_result"
    }
   ],
   "source": [
    "expected_ror_target = (year1_ror_target + year2_ror_target + year3_ror_target)/3\n",
    "\n",
    "expected_ror_target"
   ]
  },
  {
   "cell_type": "markdown",
   "id": "5b010ec3-a040-4865-b3c8-999f2caf9d54",
   "metadata": {
    "tags": []
   },
   "source": [
    "# Overstock Expected Rate of Return Calculations"
   ]
  },
  {
   "cell_type": "code",
   "execution_count": 33,
   "id": "3a5dc083-9abe-4925-b007-c549a1fcae57",
   "metadata": {
    "tags": []
   },
   "outputs": [],
   "source": [
    "overstock_historical_year1_begin = overstock.history(start=\"2018-11-05\", end=\"2018-11-06\")\n",
    "overstock_historical_year1_end = overstock.history(start=\"2019-11-05\", end=\"2019-11-06\")\n",
    "initial_value_year1_overstock = overstock_historical_year1_begin['Close']['2018-11-05']\n",
    "current_value_year1_overstock= overstock_historical_year1_end['Close']['2019-11-05']"
   ]
  },
  {
   "cell_type": "code",
   "execution_count": 34,
   "id": "46cc587a-9be2-4f93-8e15-245e16719a0a",
   "metadata": {},
   "outputs": [
    {
     "data": {
      "text/plain": [
       "-49.34343374015091"
      ]
     },
     "execution_count": 34,
     "metadata": {},
     "output_type": "execute_result"
    }
   ],
   "source": [
    "year1_ror_overstock = ((current_value_year1_overstock - initial_value_year1_overstock)/initial_value_year1_overstock)*100\n",
    "\n",
    "year1_ror_overstock"
   ]
  },
  {
   "cell_type": "code",
   "execution_count": 35,
   "id": "dc777a52-be54-417f-8265-7d8e11921eae",
   "metadata": {},
   "outputs": [],
   "source": [
    "overstock_historical_year2_begin = overstock.history(start=\"2019-11-05\", end=\"2019-11-06\")\n",
    "overstock_historical_year2_end = overstock.history(start=\"2020-11-05\", end=\"2020-11-06\")\n",
    "initial_value_year2_overstock = overstock_historical_year2_begin['Close']['2019-11-05']\n",
    "current_value_year2_overstock= overstock_historical_year2_end['Close']['2020-11-05']"
   ]
  },
  {
   "cell_type": "code",
   "execution_count": 36,
   "id": "93ebc15a-80b3-456d-bd06-ea43ba5d7d9e",
   "metadata": {},
   "outputs": [
    {
     "data": {
      "text/plain": [
       "583.3499774702757"
      ]
     },
     "execution_count": 36,
     "metadata": {},
     "output_type": "execute_result"
    }
   ],
   "source": [
    "year2_ror_overstock = ((current_value_year2_overstock - initial_value_year2_overstock)/initial_value_year2_overstock)*100\n",
    "\n",
    "year2_ror_overstock"
   ]
  },
  {
   "cell_type": "code",
   "execution_count": 37,
   "id": "31aa0ee6-0378-499e-96a2-6db8bf8f85ca",
   "metadata": {},
   "outputs": [],
   "source": [
    "overstock_historical_year3_begin = overstock.history(start=\"2020-11-05\", end=\"2020-11-06\")\n",
    "overstock_historical_year3_end = overstock.history(start=\"2021-11-03\", end=\"2021-11-04\")\n",
    "initial_value_year3_overstock = overstock_historical_year3_begin['Close']['2020-11-05']\n",
    "current_value_year3_overstock= overstock_historical_year3_end['Close']['2021-11-03']"
   ]
  },
  {
   "cell_type": "code",
   "execution_count": 38,
   "id": "18a7a414-a056-491f-9cc6-714717f25bdc",
   "metadata": {},
   "outputs": [
    {
     "data": {
      "text/plain": [
       "52.90341647488361"
      ]
     },
     "execution_count": 38,
     "metadata": {},
     "output_type": "execute_result"
    }
   ],
   "source": [
    "year3_ror_overstock = ((current_value_year3_overstock - initial_value_year3_overstock)/initial_value_year3_overstock)*100\n",
    "\n",
    "year3_ror_overstock"
   ]
  },
  {
   "cell_type": "code",
   "execution_count": 39,
   "id": "449ab18f-d510-4eb3-9728-b608382819e1",
   "metadata": {},
   "outputs": [
    {
     "data": {
      "text/plain": [
       "195.6366534016695"
      ]
     },
     "execution_count": 39,
     "metadata": {},
     "output_type": "execute_result"
    }
   ],
   "source": [
    "expected_ror_overstock = (year1_ror_overstock + year2_ror_overstock + year3_ror_overstock)/3\n",
    "\n",
    "expected_ror_overstock"
   ]
  },
  {
   "cell_type": "code",
   "execution_count": 40,
   "id": "ad515303-abf7-47d2-ad9a-697b0d1d9645",
   "metadata": {},
   "outputs": [
    {
     "data": {
      "text/plain": [
       "Date\n",
       "2018-11-12    1636.849976\n",
       "2018-11-13    1631.170044\n",
       "2018-11-14    1599.010010\n",
       "2018-11-15    1619.439941\n",
       "2018-11-16    1593.410034\n",
       "                 ...     \n",
       "2021-11-03    3384.000000\n",
       "2021-11-04    3477.000000\n",
       "2021-11-05    3518.989990\n",
       "2021-11-08    3488.979980\n",
       "2021-11-09    3576.229980\n",
       "Name: Close, Length: 754, dtype: float64"
      ]
     },
     "execution_count": 40,
     "metadata": {},
     "output_type": "execute_result"
    }
   ],
   "source": [
    "amazon_history = amazon.history(period = \"3y\")\n",
    "\n",
    "amazon_history['Close']"
   ]
  },
  {
   "cell_type": "code",
   "execution_count": 41,
   "id": "e0cd8b1c-9914-42cf-af14-05f13c9f3269",
   "metadata": {},
   "outputs": [
    {
     "data": {
      "text/plain": [
       "Date\n",
       "2018-11-12     98.428764\n",
       "2018-11-13     97.547493\n",
       "2018-11-14     96.211349\n",
       "2018-11-15     94.325577\n",
       "2018-11-16     92.572517\n",
       "                 ...    \n",
       "2021-11-03    150.179993\n",
       "2021-11-04    151.279999\n",
       "2021-11-05    150.229996\n",
       "2021-11-08    149.270004\n",
       "2021-11-09    149.789993\n",
       "Name: Close, Length: 754, dtype: float64"
      ]
     },
     "execution_count": 41,
     "metadata": {},
     "output_type": "execute_result"
    }
   ],
   "source": [
    "walmart_history = walmart.history(period = \"3y\")\n",
    "\n",
    "walmart_history['Close']"
   ]
  },
  {
   "cell_type": "code",
   "execution_count": 42,
   "id": "29baf597-2215-4c01-affb-5ff6be4c443e",
   "metadata": {},
   "outputs": [
    {
     "data": {
      "text/plain": [
       "Date\n",
       "2018-11-12    27.886225\n",
       "2018-11-13    27.058111\n",
       "2018-11-14    26.855896\n",
       "2018-11-15    27.125515\n",
       "2018-11-16    27.077374\n",
       "                ...    \n",
       "2021-11-03    75.449997\n",
       "2021-11-04    76.279999\n",
       "2021-11-05    75.570000\n",
       "2021-11-08    73.760002\n",
       "2021-11-09    73.959999\n",
       "Name: Close, Length: 754, dtype: float64"
      ]
     },
     "execution_count": 42,
     "metadata": {},
     "output_type": "execute_result"
    }
   ],
   "source": [
    "ebay_history = ebay.history(period = \"3y\")\n",
    "\n",
    "ebay_history['Close']"
   ]
  },
  {
   "cell_type": "code",
   "execution_count": 43,
   "id": "57f243b9-86df-4991-96f6-d1fc5181a809",
   "metadata": {},
   "outputs": [
    {
     "data": {
      "text/plain": [
       "Date\n",
       "2018-11-12     79.702515\n",
       "2018-11-13     78.630119\n",
       "2018-11-14     77.520424\n",
       "2018-11-15     75.310356\n",
       "2018-11-16     74.303223\n",
       "                 ...    \n",
       "2021-11-03    260.410004\n",
       "2021-11-04    260.440002\n",
       "2021-11-05    254.270004\n",
       "2021-11-08    253.330002\n",
       "2021-11-09    255.160004\n",
       "Name: Close, Length: 754, dtype: float64"
      ]
     },
     "execution_count": 43,
     "metadata": {},
     "output_type": "execute_result"
    }
   ],
   "source": [
    "target_history = target.history(period = \"3y\")\n",
    "\n",
    "target_history['Close']"
   ]
  },
  {
   "cell_type": "code",
   "execution_count": 44,
   "id": "f54412a4-b1bc-436c-8e2f-0ab975115712",
   "metadata": {},
   "outputs": [
    {
     "data": {
      "text/plain": [
       "Date\n",
       "2018-11-12     17.760000\n",
       "2018-11-13     17.790001\n",
       "2018-11-14     16.950001\n",
       "2018-11-15     17.530001\n",
       "2018-11-16     17.190001\n",
       "                 ...    \n",
       "2021-11-03    104.800003\n",
       "2021-11-04    104.889999\n",
       "2021-11-05    104.459999\n",
       "2021-11-08    105.360001\n",
       "2021-11-09    101.980003\n",
       "Name: Close, Length: 754, dtype: float64"
      ]
     },
     "execution_count": 44,
     "metadata": {},
     "output_type": "execute_result"
    }
   ],
   "source": [
    "overstock_history = overstock.history(period = \"3y\")\n",
    "\n",
    "overstock_history['Close']"
   ]
  },
  {
   "cell_type": "code",
   "execution_count": 45,
   "id": "cd3582ca-cbea-4057-9bdd-cf0435a6a856",
   "metadata": {},
   "outputs": [],
   "source": [
    "start = datetime(2018, 11, 5)\n",
    "symbols_list = ['AMZN', 'WMT', 'EBAY', 'TGT', 'OSTK']\n"
   ]
  },
  {
   "cell_type": "code",
   "execution_count": 46,
   "id": "bec464bf-ac58-45f0-ac63-2c028ed42acb",
   "metadata": {},
   "outputs": [
    {
     "data": {
      "text/html": [
       "<div>\n",
       "<style scoped>\n",
       "    .dataframe tbody tr th:only-of-type {\n",
       "        vertical-align: middle;\n",
       "    }\n",
       "\n",
       "    .dataframe tbody tr th {\n",
       "        vertical-align: top;\n",
       "    }\n",
       "\n",
       "    .dataframe thead th {\n",
       "        text-align: right;\n",
       "    }\n",
       "</style>\n",
       "<table border=\"1\" class=\"dataframe\">\n",
       "  <thead>\n",
       "    <tr style=\"text-align: right;\">\n",
       "      <th></th>\n",
       "      <th>Overstock</th>\n",
       "      <th>Target</th>\n",
       "      <th>Ebay</th>\n",
       "      <th>Walmart</th>\n",
       "      <th>Amazon</th>\n",
       "    </tr>\n",
       "    <tr>\n",
       "      <th>Date</th>\n",
       "      <th></th>\n",
       "      <th></th>\n",
       "      <th></th>\n",
       "      <th></th>\n",
       "      <th></th>\n",
       "    </tr>\n",
       "  </thead>\n",
       "  <tbody>\n",
       "    <tr>\n",
       "      <th>2018-11-12</th>\n",
       "      <td>17.760000</td>\n",
       "      <td>79.702515</td>\n",
       "      <td>27.886225</td>\n",
       "      <td>98.428764</td>\n",
       "      <td>1636.849976</td>\n",
       "    </tr>\n",
       "    <tr>\n",
       "      <th>2018-11-13</th>\n",
       "      <td>17.790001</td>\n",
       "      <td>78.630119</td>\n",
       "      <td>27.058111</td>\n",
       "      <td>97.547493</td>\n",
       "      <td>1631.170044</td>\n",
       "    </tr>\n",
       "    <tr>\n",
       "      <th>2018-11-14</th>\n",
       "      <td>16.950001</td>\n",
       "      <td>77.520424</td>\n",
       "      <td>26.855896</td>\n",
       "      <td>96.211349</td>\n",
       "      <td>1599.010010</td>\n",
       "    </tr>\n",
       "    <tr>\n",
       "      <th>2018-11-15</th>\n",
       "      <td>17.530001</td>\n",
       "      <td>75.310356</td>\n",
       "      <td>27.125515</td>\n",
       "      <td>94.325577</td>\n",
       "      <td>1619.439941</td>\n",
       "    </tr>\n",
       "    <tr>\n",
       "      <th>2018-11-16</th>\n",
       "      <td>17.190001</td>\n",
       "      <td>74.303223</td>\n",
       "      <td>27.077374</td>\n",
       "      <td>92.572517</td>\n",
       "      <td>1593.410034</td>\n",
       "    </tr>\n",
       "    <tr>\n",
       "      <th>...</th>\n",
       "      <td>...</td>\n",
       "      <td>...</td>\n",
       "      <td>...</td>\n",
       "      <td>...</td>\n",
       "      <td>...</td>\n",
       "    </tr>\n",
       "    <tr>\n",
       "      <th>2021-11-03</th>\n",
       "      <td>104.800003</td>\n",
       "      <td>260.410004</td>\n",
       "      <td>75.449997</td>\n",
       "      <td>150.179993</td>\n",
       "      <td>3384.000000</td>\n",
       "    </tr>\n",
       "    <tr>\n",
       "      <th>2021-11-04</th>\n",
       "      <td>104.889999</td>\n",
       "      <td>260.440002</td>\n",
       "      <td>76.279999</td>\n",
       "      <td>151.279999</td>\n",
       "      <td>3477.000000</td>\n",
       "    </tr>\n",
       "    <tr>\n",
       "      <th>2021-11-05</th>\n",
       "      <td>104.459999</td>\n",
       "      <td>254.270004</td>\n",
       "      <td>75.570000</td>\n",
       "      <td>150.229996</td>\n",
       "      <td>3518.989990</td>\n",
       "    </tr>\n",
       "    <tr>\n",
       "      <th>2021-11-08</th>\n",
       "      <td>105.360001</td>\n",
       "      <td>253.330002</td>\n",
       "      <td>73.760002</td>\n",
       "      <td>149.270004</td>\n",
       "      <td>3488.979980</td>\n",
       "    </tr>\n",
       "    <tr>\n",
       "      <th>2021-11-09</th>\n",
       "      <td>101.980003</td>\n",
       "      <td>255.160004</td>\n",
       "      <td>73.959999</td>\n",
       "      <td>149.789993</td>\n",
       "      <td>3576.229980</td>\n",
       "    </tr>\n",
       "  </tbody>\n",
       "</table>\n",
       "<p>754 rows × 5 columns</p>\n",
       "</div>"
      ],
      "text/plain": [
       "             Overstock      Target       Ebay     Walmart       Amazon\n",
       "Date                                                                  \n",
       "2018-11-12   17.760000   79.702515  27.886225   98.428764  1636.849976\n",
       "2018-11-13   17.790001   78.630119  27.058111   97.547493  1631.170044\n",
       "2018-11-14   16.950001   77.520424  26.855896   96.211349  1599.010010\n",
       "2018-11-15   17.530001   75.310356  27.125515   94.325577  1619.439941\n",
       "2018-11-16   17.190001   74.303223  27.077374   92.572517  1593.410034\n",
       "...                ...         ...        ...         ...          ...\n",
       "2021-11-03  104.800003  260.410004  75.449997  150.179993  3384.000000\n",
       "2021-11-04  104.889999  260.440002  76.279999  151.279999  3477.000000\n",
       "2021-11-05  104.459999  254.270004  75.570000  150.229996  3518.989990\n",
       "2021-11-08  105.360001  253.330002  73.760002  149.270004  3488.979980\n",
       "2021-11-09  101.980003  255.160004  73.959999  149.789993  3576.229980\n",
       "\n",
       "[754 rows x 5 columns]"
      ]
     },
     "metadata": {},
     "output_type": "display_data"
    },
    {
     "data": {
      "text/plain": [
       "<matplotlib.axes._subplots.AxesSubplot at 0x20073c9f708>"
      ]
     },
     "execution_count": 46,
     "metadata": {},
     "output_type": "execute_result"
    },
    {
     "data": {
      "image/png": "[encoded data removed]",
      "text/plain": [
       "<Figure size 2160x1440 with 1 Axes>"
      ]
     },
     "metadata": {
      "needs_background": "light"
     },
     "output_type": "display_data"
    }
   ],
   "source": [
    "overstock_df = pd.DataFrame(data = overstock_history['Close'])\n",
    "target_df = pd.DataFrame(data = target_history['Close'])\n",
    "ebay_df = pd.DataFrame(data = ebay_history['Close'])\n",
    "walmart_df = pd.DataFrame(data = walmart_history['Close'])\n",
    "amazon_df = pd.DataFrame(data = amazon_history['Close'])\n",
    "\n",
    "\n",
    "dataframe = pd.concat([overstock_df, target_df, ebay_df, walmart_df, amazon_df], axis = 1)\n",
    "\n",
    "dataframe.columns = [ \"Overstock\", \"Target\", \"Ebay\", \"Walmart\", \"Amazon\"]\n",
    "display(dataframe)\n",
    "dataframe.plot(figsize=(30,20), title=(\"Expected Rate of Return E-Commerce\"))"
   ]
  },
  {
   "cell_type": "code",
   "execution_count": 47,
   "id": "fe6ebd89-7dcd-4872-8b19-ac35cf9278ba",
   "metadata": {},
   "outputs": [
    {
     "data": {
      "text/html": [
       "<div>\n",
       "<style scoped>\n",
       "    .dataframe tbody tr th:only-of-type {\n",
       "        vertical-align: middle;\n",
       "    }\n",
       "\n",
       "    .dataframe tbody tr th {\n",
       "        vertical-align: top;\n",
       "    }\n",
       "\n",
       "    .dataframe thead th {\n",
       "        text-align: right;\n",
       "    }\n",
       "</style>\n",
       "<table border=\"1\" class=\"dataframe\">\n",
       "  <thead>\n",
       "    <tr style=\"text-align: right;\">\n",
       "      <th></th>\n",
       "      <th>Overstock</th>\n",
       "      <th>Target</th>\n",
       "      <th>Ebay</th>\n",
       "      <th>Walmart</th>\n",
       "      <th>Amazon</th>\n",
       "    </tr>\n",
       "  </thead>\n",
       "  <tbody>\n",
       "    <tr>\n",
       "      <th>Overstock</th>\n",
       "      <td>1.000000</td>\n",
       "      <td>0.827188</td>\n",
       "      <td>0.882598</td>\n",
       "      <td>0.805327</td>\n",
       "      <td>0.921020</td>\n",
       "    </tr>\n",
       "    <tr>\n",
       "      <th>Target</th>\n",
       "      <td>0.827188</td>\n",
       "      <td>1.000000</td>\n",
       "      <td>0.935963</td>\n",
       "      <td>0.896235</td>\n",
       "      <td>0.887373</td>\n",
       "    </tr>\n",
       "    <tr>\n",
       "      <th>Ebay</th>\n",
       "      <td>0.882598</td>\n",
       "      <td>0.935963</td>\n",
       "      <td>1.000000</td>\n",
       "      <td>0.851498</td>\n",
       "      <td>0.922229</td>\n",
       "    </tr>\n",
       "    <tr>\n",
       "      <th>Walmart</th>\n",
       "      <td>0.805327</td>\n",
       "      <td>0.896235</td>\n",
       "      <td>0.851498</td>\n",
       "      <td>1.000000</td>\n",
       "      <td>0.921137</td>\n",
       "    </tr>\n",
       "    <tr>\n",
       "      <th>Amazon</th>\n",
       "      <td>0.921020</td>\n",
       "      <td>0.887373</td>\n",
       "      <td>0.922229</td>\n",
       "      <td>0.921137</td>\n",
       "      <td>1.000000</td>\n",
       "    </tr>\n",
       "  </tbody>\n",
       "</table>\n",
       "</div>"
      ],
      "text/plain": [
       "           Overstock    Target      Ebay   Walmart    Amazon\n",
       "Overstock   1.000000  0.827188  0.882598  0.805327  0.921020\n",
       "Target      0.827188  1.000000  0.935963  0.896235  0.887373\n",
       "Ebay        0.882598  0.935963  1.000000  0.851498  0.922229\n",
       "Walmart     0.805327  0.896235  0.851498  1.000000  0.921137\n",
       "Amazon      0.921020  0.887373  0.922229  0.921137  1.000000"
      ]
     },
     "execution_count": 47,
     "metadata": {},
     "output_type": "execute_result"
    }
   ],
   "source": [
    "corr_df = dataframe.corr(method='pearson')\n",
    " #reset symbol as index (rather than 0-X)\n",
    "corr_df.head().reset_index()\n",
    "corr_df.head(10)"
   ]
  },
  {
   "cell_type": "code",
   "execution_count": 48,
   "id": "346c4a92",
   "metadata": {},
   "outputs": [
    {
     "data": {
      "text/plain": [
       "<matplotlib.axes._subplots.AxesSubplot at 0x20073b72ac8>"
      ]
     },
     "execution_count": 48,
     "metadata": {},
     "output_type": "execute_result"
    },
    {
     "data": {
      "image/png": "[encoded data removed]",
      "text/plain": [
       "<Figure size 432x288 with 2 Axes>"
      ]
     },
     "metadata": {
      "needs_background": "light"
     },
     "output_type": "display_data"
    }
   ],
   "source": [
    "# Create a heatmap from the correlation values\n",
    "sns.heatmap(corr_df)"
   ]
  },
  {
   "cell_type": "markdown",
   "id": "320cf162-0b0a-4724-9935-3d45d8fbc3d1",
   "metadata": {},
   "source": [
    "# Overstock Portfolio Variances"
   ]
  },
  {
   "cell_type": "code",
   "execution_count": 49,
   "id": "f25e9381-8ca5-4330-8b81-af6715c86ce1",
   "metadata": {},
   "outputs": [],
   "source": [
    "overstock_std = float(overstock_df['Close'].std())/100\n",
    "target_std = float(target_df['Close'].std())/100\n",
    "ebay_std = float(ebay_df['Close'].std())/100\n",
    "walmart_std = float(walmart_df['Close'].std())/100\n",
    "amazon_std = float(amazon_df['Close'].std())/100"
   ]
  },
  {
   "cell_type": "code",
   "execution_count": 50,
   "id": "20f305bd-609f-42b0-b4f4-1435ca123bff",
   "metadata": {},
   "outputs": [
    {
     "data": {
      "text/plain": [
       "0.3248195960683731"
      ]
     },
     "metadata": {},
     "output_type": "display_data"
    },
    {
     "data": {
      "text/plain": [
       "0.6051912413140953"
      ]
     },
     "metadata": {},
     "output_type": "display_data"
    },
    {
     "data": {
      "text/plain": [
       "0.1404380223202387"
      ]
     },
     "metadata": {},
     "output_type": "display_data"
    },
    {
     "data": {
      "text/plain": [
       "0.1867419801462856"
      ]
     },
     "metadata": {},
     "output_type": "display_data"
    },
    {
     "data": {
      "text/plain": [
       "7.226393299242334"
      ]
     },
     "metadata": {},
     "output_type": "display_data"
    }
   ],
   "source": [
    "display(overstock_std)\n",
    "display(target_std)\n",
    "display(ebay_std)\n",
    "display(walmart_std)\n",
    "display(amazon_std)"
   ]
  },
  {
   "cell_type": "code",
   "execution_count": 51,
   "id": "1a8de642-d67d-47ba-95d3-58b36d35fa59",
   "metadata": {},
   "outputs": [],
   "source": [
    "def variance(weight1, std_1, weight2, std_2, corr_ratio):\n",
    "    variance = (((weight1 ** 2) * (std_1 ** 2)) + ((weight2 ** 2) * (std_2 ** 2)) + ((weight1 ** 2) * (std_1 ** 2) * (weight2 ** 2) * (std_2 ** 2) * (corr_ratio)))\n",
    "    return variance\n",
    "                                                                                 "
   ]
  },
  {
   "cell_type": "code",
   "execution_count": 52,
   "id": "cac6b1a1-d96f-4ccf-b3f1-8b75144af3ef",
   "metadata": {},
   "outputs": [
    {
     "name": "stdout",
     "output_type": "stream",
     "text": [
      "Overstock and Target Portfolio Variance 11.99%\n",
      "Overstock and Ebay Portfolio Variance 3.14%\n",
      "Overstock and Walmart Portfolio Variance 3.53%\n",
      "Overstock and Amazon Portfolio Variance 1336.57%\n"
     ]
    }
   ],
   "source": [
    "ostk_to_target_variance = variance(.50,overstock_std,.50,target_std,0.825182)\n",
    "ostk_to_ebay_variance = variance(.50,overstock_std,.50,ebay_std,0.880374)\n",
    "ostk_to_walmart_variance = variance(.50,overstock_std,.50,walmart_std,0.803650)\n",
    "ostk_to_amazon_variance = variance(.50,overstock_std,.50,amazon_std,0.825182)\n",
    "\n",
    "ostk_to_target_percentage = \"{:.2%}\".format(ostk_to_target_variance)\n",
    "ostk_to_ebay_percentage = \"{:.2%}\".format(ostk_to_ebay_variance)\n",
    "ostk_to_walmart_percentage = \"{:.2%}\".format(ostk_to_walmart_variance)\n",
    "ostk_to_amazon_percentage = \"{:.2%}\".format(ostk_to_amazon_variance)\n",
    "\n",
    "print(\"Overstock and Target Portfolio Variance\",ostk_to_target_percentage)\n",
    "print(\"Overstock and Ebay Portfolio Variance\",ostk_to_ebay_percentage)\n",
    "print(\"Overstock and Walmart Portfolio Variance\",ostk_to_walmart_percentage)\n",
    "print(\"Overstock and Amazon Portfolio Variance\",ostk_to_amazon_percentage)"
   ]
  },
  {
   "cell_type": "code",
   "execution_count": 53,
   "id": "09f29f19-bf76-4a76-85f5-d7d09ce6d7d0",
   "metadata": {},
   "outputs": [
    {
     "name": "stdout",
     "output_type": "stream",
     "text": [
      "Target and Ebay Portfolio Variance 9.69%\n",
      "Target and Walmart Portfolio Variance 10.10%\n",
      "Target and Amazon Portfolio Variance 1420.75%\n"
     ]
    }
   ],
   "source": [
    "tgt_to_ebay_variance = variance(.50,target_std,.50,ebay_std,0.935200)\n",
    "tgt_to_walmart_variance = variance(.50,target_std,.50,walmart_std,0.895973)\n",
    "tgt_to_amazon_variance = variance(.50,target_std,.50,amazon_std,0.887384)\n",
    "\n",
    "tgt_to_ebay_percentage = \"{:.2%}\".format(tgt_to_ebay_variance)\n",
    "tgt_to_walmart_percentage = \"{:.2%}\".format(tgt_to_walmart_variance)\n",
    "tgt_to_amazon_percentage = \"{:.2%}\".format(tgt_to_amazon_variance)\n",
    "\n",
    "\n",
    "print(\"Target and Ebay Portfolio Variance\",tgt_to_ebay_percentage)\n",
    "print(\"Target and Walmart Portfolio Variance\",tgt_to_walmart_percentage)\n",
    "print(\"Target and Amazon Portfolio Variance\",tgt_to_amazon_percentage)"
   ]
  },
  {
   "cell_type": "code",
   "execution_count": 54,
   "id": "4aa27053-89c1-40c7-b830-487becfeff12",
   "metadata": {},
   "outputs": [
    {
     "name": "stdout",
     "output_type": "stream",
     "text": [
      "Ebay and Walmart Portfolio Variance 1.37%\n",
      "Ebay and Amazon Portfolio Variance 1311.95%\n"
     ]
    }
   ],
   "source": [
    "ebay_to_walmart_variance = variance(.50,ebay_std,.50,walmart_std,0.851683)\n",
    "ebay_to_amazon_variance = variance(.50,ebay_std,.50,amazon_std,0.922619)\n",
    "\n",
    "ebay_to_walmart_percentage = \"{:.2%}\".format(ebay_to_walmart_variance)\n",
    "ebay_to_amazon_percentage = \"{:.2%}\".format(ebay_to_amazon_variance)\n",
    "\n",
    "\n",
    "print(\"Ebay and Walmart Portfolio Variance\",ebay_to_walmart_percentage)\n",
    "print(\"Ebay and Amazon Portfolio Variance\",ebay_to_amazon_percentage)"
   ]
  },
  {
   "cell_type": "code",
   "execution_count": 55,
   "id": "803901fd-3e69-4591-bd89-6a4d7c70fddc",
   "metadata": {},
   "outputs": [
    {
     "name": "stdout",
     "output_type": "stream",
     "text": [
      "Walmart and Amazon Portfolio Variance 1316.88%\n"
     ]
    }
   ],
   "source": [
    "walmart_to_amazon_variance = variance(.50,walmart_std,.50,amazon_std,0.921194)\n",
    "\n",
    "walmart_to_amazon_percentage = \"{:.2%}\".format(walmart_to_amazon_variance)\n",
    "\n",
    "print(\"Walmart and Amazon Portfolio Variance\",walmart_to_amazon_percentage)"
   ]
  },
  {
   "cell_type": "code",
   "execution_count": 86,
   "id": "19bd7685-1c93-432d-aee3-f9d684af8b22",
   "metadata": {},
   "outputs": [
    {
     "data": {
      "text/html": [
       "<div>\n",
       "<style scoped>\n",
       "    .dataframe tbody tr th:only-of-type {\n",
       "        vertical-align: middle;\n",
       "    }\n",
       "\n",
       "    .dataframe tbody tr th {\n",
       "        vertical-align: top;\n",
       "    }\n",
       "\n",
       "    .dataframe thead th {\n",
       "        text-align: right;\n",
       "    }\n",
       "</style>\n",
       "<table border=\"1\" class=\"dataframe\">\n",
       "  <thead>\n",
       "    <tr style=\"text-align: right;\">\n",
       "      <th></th>\n",
       "      <th>0</th>\n",
       "    </tr>\n",
       "  </thead>\n",
       "  <tbody>\n",
       "    <tr>\n",
       "      <th>Target</th>\n",
       "      <td>0.119934</td>\n",
       "    </tr>\n",
       "    <tr>\n",
       "      <th>Ebay</th>\n",
       "      <td>0.031422</td>\n",
       "    </tr>\n",
       "    <tr>\n",
       "      <th>Walmart</th>\n",
       "      <td>0.035280</td>\n",
       "    </tr>\n",
       "  </tbody>\n",
       "</table>\n",
       "</div>"
      ],
      "text/plain": [
       "                0\n",
       "Target   0.119934\n",
       "Ebay     0.031422\n",
       "Walmart  0.035280"
      ]
     },
     "execution_count": 86,
     "metadata": {},
     "output_type": "execute_result"
    }
   ],
   "source": [
    "overstock_vs = [ostk_to_target_variance, ostk_to_ebay_variance, ostk_to_walmart_variance]\n",
    "ebay_vs = [tgt_to_ebay_variance, ostk_to_ebay_variance, ebay_to_walmart_variance]\n",
    "target_vs = [tgt_to_ebay_variance, tgt_to_walmart_variance,  ostk_to_target_variance]\n",
    "walmart_vs =[ostk_to_walmart_variance, ebay_to_walmart_variance, tgt_to_walmart_variance]\n",
    "amazon_vs = [ostk_to_amazon_variance, ebay_to_amazon_variance,tgt_to_amazon_variance, walmart_to_amazon_variance]\n",
    "\n",
    "overstock_vs_dataframe = pd.DataFrame(overstock_vs)\n",
    "ebay_vs_dataframe = pd.DataFrame(ebay_vs)\n",
    "target_vs_dataframe = pd.DataFrame(target_vs)\n",
    "walmart_vs_dataframe = pd.DataFrame(walmart_vs)\n",
    "amazon_vs_dataframe = pd.DataFrame(amazon_vs)\n",
    "\n",
    "overstock_vs_dataframe = overstock_vs_dataframe.set_axis(['Target', 'Ebay', 'Walmart',], axis='index')\n",
    "ebay_vs_dataframe = ebay_vs_dataframe.set_axis(['Target', 'Overstock', 'Walmart',], axis='index')\n",
    "target_vs_dataframe = target_vs_dataframe.set_axis(['Ebay', 'Walmart', 'Overstock'], axis='index')\n",
    "walmart_vs_dataframe = walmart_vs_dataframe.set_axis(['Overstock', 'Ebay', 'Target',], axis='index')\n",
    "amazon_vs_dataframe = amazon_vs_dataframe.set_axis(['Overstock', 'Ebay', 'Target','Walmart'], axis='index')\n",
    "\n",
    "overstock_vs_dataframe "
   ]
  },
  {
   "cell_type": "code",
   "execution_count": 170,
   "id": "f785a2aa-9777-4d73-8637-edcbaec8e828",
   "metadata": {},
   "outputs": [],
   "source": [
    "overstock_vs_plot = overstock_vs_dataframe.hvplot.bar(\n",
    "    xlabel=\"Ecommerce Stocks\",\n",
    "    ylabel=\"Variance\", \n",
    "    rot=45,\n",
    "    label=\"Overstock Vs.\",\n",
    "    color = \"#C9412E\",\n",
    "    yformatter = \"%.3f\"\n",
    ")"
   ]
  },
  {
   "cell_type": "code",
   "execution_count": 171,
   "id": "88c5d768-ff7d-4f34-9075-96f484b47fcf",
   "metadata": {},
   "outputs": [],
   "source": [
    "ebay_vs_plot = ebay_vs_dataframe.hvplot.bar(\n",
    "    xlabel=\"Ecommerce Stocks\",\n",
    "    ylabel=\"Variance\", \n",
    "    rot=45,\n",
    "    label=\"Ebay Vs.\",\n",
    "    color = \"#DED02C\",\n",
    "    yformatter = \"%.3f\"\n",
    ")"
   ]
  },
  {
   "cell_type": "code",
   "execution_count": 172,
   "id": "e0fab2b3-ab9f-424b-a38b-103d86ae5541",
   "metadata": {},
   "outputs": [],
   "source": [
    "target_vs_plot = target_vs_dataframe.hvplot.bar(\n",
    "    xlabel=\"Ecommerce Stocks\",\n",
    "    ylabel=\"Variance\", \n",
    "    rot=45,\n",
    "    label=\"Target Vs.\",\n",
    "    color = \"#3CCF3E\",\n",
    "    yformatter = \"%.3f\"\n",
    ")"
   ]
  },
  {
   "cell_type": "code",
   "execution_count": 173,
   "id": "a2177b3c-5ea4-409f-8f4d-32f1bf49fa17",
   "metadata": {},
   "outputs": [],
   "source": [
    "walmart_vs_plot = walmart_vs_dataframe.hvplot.bar(\n",
    "    xlabel=\"Ecommerce Stocks\",\n",
    "    ylabel=\"Variance\", \n",
    "    rot=45,\n",
    "    label=\"Walmart Vs.\",\n",
    "    color = \"#1961E6\",\n",
    "    yformatter = \"%.3f\"\n",
    ")"
   ]
  },
  {
   "cell_type": "code",
   "execution_count": 174,
   "id": "af8446eb-f170-4430-8dc3-3c0a3cdf0da3",
   "metadata": {},
   "outputs": [],
   "source": [
    "amazon_vs_plot = amazon_vs_dataframe.hvplot.bar(\n",
    "    xlabel=\"Ecommerce Stocks\",\n",
    "    ylabel=\"Variance\", \n",
    "    rot=45,\n",
    "    label=\"Amazon Vs.\",\n",
    "    color = \"#923DD5\",\n",
    "    yformatter = \"%.3f\"\n",
    ")"
   ]
  },
  {
   "cell_type": "code",
   "execution_count": 175,
   "id": "3b6a6d55-3205-4e01-ad7f-3f0e185f5c42",
   "metadata": {},
   "outputs": [
    {
     "data": {
      "application/vnd.holoviews_exec.v0+json": "",
      "text/html": [
       "<div id='17044'>\n",
       "\n",
       "\n",
       "\n",
       "\n",
       "\n",
       "  <div class=\"bk-root\" id=\"834cb518-1167-49af-a0f5-0fda3d92fa6b\" data-root-id=\"17044\"></div>\n",
       "</div>\n",
       "<script type=\"application/javascript\">(function(root) {\n",
       "  function embed_document(root) {\n",
       "    var docs_json = {\"6a91e938-476f-4b21-97a3-7321ddb4099e\":{\"defs\":[{\"extends\":null,\"module\":null,\"name\":\"ReactiveHTML1\",\"overrides\":[],\"properties\":[]},{\"extends\":null,\"module\":null,\"name\":\"FlexBox1\",\"overrides\":[],\"properties\":[{\"default\":\"flex-start\",\"kind\":null,\"name\":\"align_content\"},{\"default\":\"flex-start\",\"kind\":null,\"name\":\"align_items\"},{\"default\":\"row\",\"kind\":null,\"name\":\"flex_direction\"},{\"default\":\"wrap\",\"kind\":null,\"name\":\"flex_wrap\"},{\"default\":\"flex-start\",\"kind\":null,\"name\":\"justify_content\"}]},{\"extends\":null,\"module\":null,\"name\":\"TemplateActions1\",\"overrides\":[],\"properties\":[{\"default\":0,\"kind\":null,\"name\":\"open_modal\"},{\"default\":0,\"kind\":null,\"name\":\"close_modal\"}]},{\"extends\":null,\"module\":null,\"name\":\"MaterialTemplateActions1\",\"overrides\":[],\"properties\":[{\"default\":0,\"kind\":null,\"name\":\"open_modal\"},{\"default\":0,\"kind\":null,\"name\":\"close_modal\"}]}],\"roots\":{\"references\":[{\"attributes\":{\"tools\":[{\"id\":\"17048\"},{\"id\":\"17065\"},{\"id\":\"17066\"},{\"id\":\"17067\"},{\"id\":\"17068\"},{\"id\":\"17069\"}]},\"id\":\"17071\",\"type\":\"Toolbar\"},{\"attributes\":{},\"id\":\"17114\",\"type\":\"SaveTool\"},{\"attributes\":{\"axis\":{\"id\":\"17058\"},\"coordinates\":null,\"grid_line_color\":null,\"group\":null,\"ticker\":null},\"id\":\"17060\",\"type\":\"Grid\"},{\"attributes\":{\"bottom_units\":\"screen\",\"coordinates\":null,\"fill_alpha\":0.5,\"fill_color\":\"lightgrey\",\"group\":null,\"left_units\":\"screen\",\"level\":\"overlay\",\"line_alpha\":1.0,\"line_color\":\"black\",\"line_dash\":[4,4],\"line_width\":2,\"right_units\":\"screen\",\"syncable\":false,\"top_units\":\"screen\"},\"id\":\"17119\",\"type\":\"BoxAnnotation\"},{\"attributes\":{},\"id\":\"17054\",\"type\":\"CategoricalScale\"},{\"attributes\":{},\"id\":\"17067\",\"type\":\"WheelZoomTool\"},{\"attributes\":{\"fill_alpha\":{\"value\":0.1},\"fill_color\":{\"value\":\"#3CCF3E\"},\"hatch_alpha\":{\"value\":0.1},\"hatch_color\":{\"value\":\"#3CCF3E\"},\"line_alpha\":{\"value\":0.1},\"top\":{\"field\":\"A_0\"},\"width\":{\"value\":0.8},\"x\":{\"field\":\"index\"}},\"id\":\"17180\",\"type\":\"VBar\"},{\"attributes\":{},\"id\":\"17079\",\"type\":\"Selection\"},{\"attributes\":{},\"id\":\"17160\",\"type\":\"BasicTicker\"},{\"attributes\":{},\"id\":\"17065\",\"type\":\"SaveTool\"},{\"attributes\":{},\"id\":\"17115\",\"type\":\"PanTool\"},{\"attributes\":{\"axis_label\":\"Variance\",\"coordinates\":null,\"formatter\":{\"id\":\"17185\"},\"group\":null,\"major_label_policy\":{\"id\":\"17191\"},\"ticker\":{\"id\":\"17160\"}},\"id\":\"17159\",\"type\":\"LinearAxis\"},{\"attributes\":{},\"id\":\"17066\",\"type\":\"PanTool\"},{\"attributes\":{\"axis_label\":\"Ecommerce Stocks\",\"coordinates\":null,\"formatter\":{\"id\":\"17187\"},\"group\":null,\"major_label_orientation\":0.7853981633974483,\"major_label_policy\":{\"id\":\"17188\"},\"ticker\":{\"id\":\"17157\"}},\"id\":\"17156\",\"type\":\"CategoricalAxis\"},{\"attributes\":{\"data\":{\"A_0\":{\"__ndarray__\":\"Sfdp5f6zvj8RDKlskBagP6k5Q6s0EKI/\",\"dtype\":\"float64\",\"order\":\"little\",\"shape\":[3]},\"index\":[\"Target\",\"Ebay\",\"Walmart\"]},\"selected\":{\"id\":\"17079\"},\"selection_policy\":{\"id\":\"17249\"}},\"id\":\"17078\",\"type\":\"ColumnDataSource\"},{\"attributes\":{},\"id\":\"17269\",\"type\":\"UnionRenderers\"},{\"attributes\":{},\"id\":\"17152\",\"type\":\"CategoricalScale\"},{\"attributes\":{\"coordinates\":null,\"data_source\":{\"id\":\"17127\"},\"glyph\":{\"id\":\"17130\"},\"group\":null,\"hover_glyph\":null,\"muted_glyph\":{\"id\":\"17132\"},\"nonselection_glyph\":{\"id\":\"17131\"},\"selection_glyph\":{\"id\":\"17135\"},\"view\":{\"id\":\"17134\"}},\"id\":\"17133\",\"type\":\"GlyphRenderer\"},{\"attributes\":{\"source\":{\"id\":\"17127\"}},\"id\":\"17134\",\"type\":\"CDSView\"},{\"attributes\":{\"overlay\":{\"id\":\"17070\"}},\"id\":\"17068\",\"type\":\"BoxZoomTool\"},{\"attributes\":{\"coordinates\":null,\"data_source\":{\"id\":\"17176\"},\"glyph\":{\"id\":\"17179\"},\"group\":null,\"hover_glyph\":null,\"muted_glyph\":{\"id\":\"17181\"},\"nonselection_glyph\":{\"id\":\"17180\"},\"selection_glyph\":{\"id\":\"17184\"},\"view\":{\"id\":\"17183\"}},\"id\":\"17182\",\"type\":\"GlyphRenderer\"},{\"attributes\":{\"format\":\"%.3f\"},\"id\":\"17136\",\"type\":\"PrintfTickFormatter\"},{\"attributes\":{\"coordinates\":null,\"group\":null,\"text\":\"Ebay Vs.\",\"text_color\":\"black\",\"text_font_size\":\"12pt\"},\"id\":\"17099\",\"type\":\"Title\"},{\"attributes\":{},\"id\":\"17116\",\"type\":\"WheelZoomTool\"},{\"attributes\":{},\"id\":\"17093\",\"type\":\"AllLabels\"},{\"attributes\":{\"data\":{\"A_0\":{\"__ndarray__\":\"FEVLG47PuD8RDKlskBagP+r91acfB4w/\",\"dtype\":\"float64\",\"order\":\"little\",\"shape\":[3]},\"index\":[\"Target\",\"Overstock\",\"Walmart\"]},\"selected\":{\"id\":\"17128\"},\"selection_policy\":{\"id\":\"17259\"}},\"id\":\"17127\",\"type\":\"ColumnDataSource\"},{\"attributes\":{\"callback\":null,\"renderers\":[{\"id\":\"17084\"}],\"tags\":[\"hv_created\"],\"tooltips\":[[\"index\",\"@{index}\"],[\"0\",\"@{A_0}\"]]},\"id\":\"17048\",\"type\":\"HoverTool\"},{\"attributes\":{},\"id\":\"17105\",\"type\":\"LinearScale\"},{\"attributes\":{\"fill_alpha\":{\"value\":0.2},\"fill_color\":{\"value\":\"#C9412E\"},\"hatch_alpha\":{\"value\":0.2},\"hatch_color\":{\"value\":\"#C9412E\"},\"line_alpha\":{\"value\":0.2},\"top\":{\"field\":\"A_0\"},\"width\":{\"value\":0.8},\"x\":{\"field\":\"index\"}},\"id\":\"17083\",\"type\":\"VBar\"},{\"attributes\":{\"bottom\":{\"value\":0},\"fill_alpha\":{\"value\":1.0},\"fill_color\":{\"value\":\"#DED02C\"},\"hatch_alpha\":{\"value\":1.0},\"hatch_color\":{\"value\":\"#DED02C\"},\"hatch_scale\":{\"value\":12.0},\"hatch_weight\":{\"value\":1.0},\"line_alpha\":{\"value\":1.0},\"line_cap\":{\"value\":\"butt\"},\"line_color\":{\"value\":\"black\"},\"line_dash\":{\"value\":[]},\"line_dash_offset\":{\"value\":0},\"line_join\":{\"value\":\"bevel\"},\"line_width\":{\"value\":1},\"top\":{\"field\":\"A_0\"},\"width\":{\"value\":0.8},\"x\":{\"field\":\"index\"}},\"id\":\"17135\",\"type\":\"VBar\"},{\"attributes\":{\"tools\":[{\"id\":\"17097\"},{\"id\":\"17114\"},{\"id\":\"17115\"},{\"id\":\"17116\"},{\"id\":\"17117\"},{\"id\":\"17118\"}]},\"id\":\"17120\",\"type\":\"Toolbar\"},{\"attributes\":{},\"id\":\"17062\",\"type\":\"BasicTicker\"},{\"attributes\":{},\"id\":\"17118\",\"type\":\"ResetTool\"},{\"attributes\":{\"below\":[{\"id\":\"17156\"}],\"center\":[{\"id\":\"17158\"},{\"id\":\"17162\"}],\"height\":300,\"left\":[{\"id\":\"17159\"}],\"margin\":null,\"min_border_bottom\":10,\"min_border_left\":10,\"min_border_right\":10,\"min_border_top\":10,\"renderers\":[{\"id\":\"17182\"}],\"sizing_mode\":\"fixed\",\"title\":{\"id\":\"17148\"},\"toolbar\":{\"id\":\"17169\"},\"toolbar_location\":null,\"width\":700,\"x_range\":{\"id\":\"17046\"},\"x_scale\":{\"id\":\"17152\"},\"y_range\":{\"id\":\"17047\"},\"y_scale\":{\"id\":\"17154\"}},\"id\":\"17147\",\"subtype\":\"Figure\",\"type\":\"Plot\"},{\"attributes\":{\"end\":0.13055887163089908,\"reset_end\":0.13055887163089908,\"reset_start\":0.0,\"tags\":[[[\"0\",\"0\",null]]]},\"id\":\"17047\",\"type\":\"Range1d\"},{\"attributes\":{\"axis_label\":\"Ecommerce Stocks\",\"coordinates\":null,\"formatter\":{\"id\":\"17089\"},\"group\":null,\"major_label_orientation\":0.7853981633974483,\"major_label_policy\":{\"id\":\"17090\"},\"ticker\":{\"id\":\"17059\"}},\"id\":\"17058\",\"type\":\"CategoricalAxis\"},{\"attributes\":{\"source\":{\"id\":\"17176\"}},\"id\":\"17183\",\"type\":\"CDSView\"},{\"attributes\":{\"bottom_units\":\"screen\",\"coordinates\":null,\"fill_alpha\":0.5,\"fill_color\":\"lightgrey\",\"group\":null,\"left_units\":\"screen\",\"level\":\"overlay\",\"line_alpha\":1.0,\"line_color\":\"black\",\"line_dash\":[4,4],\"line_width\":2,\"right_units\":\"screen\",\"syncable\":false,\"top_units\":\"screen\"},\"id\":\"17070\",\"type\":\"BoxAnnotation\"},{\"attributes\":{\"margin\":[5,5,5,5],\"name\":\"HSpacer15942\",\"sizing_mode\":\"stretch_width\"},\"id\":\"17045\",\"type\":\"Spacer\"},{\"attributes\":{},\"id\":\"17154\",\"type\":\"LinearScale\"},{\"attributes\":{\"source\":{\"id\":\"17078\"}},\"id\":\"17085\",\"type\":\"CDSView\"},{\"attributes\":{},\"id\":\"17069\",\"type\":\"ResetTool\"},{\"attributes\":{\"axis_label\":\"Variance\",\"coordinates\":null,\"formatter\":{\"id\":\"17087\"},\"group\":null,\"major_label_policy\":{\"id\":\"17093\"},\"ticker\":{\"id\":\"17062\"}},\"id\":\"17061\",\"type\":\"LinearAxis\"},{\"attributes\":{\"below\":[{\"id\":\"17107\"}],\"center\":[{\"id\":\"17109\"},{\"id\":\"17113\"}],\"height\":300,\"left\":[{\"id\":\"17110\"}],\"margin\":null,\"min_border_bottom\":10,\"min_border_left\":10,\"min_border_right\":10,\"min_border_top\":10,\"renderers\":[{\"id\":\"17133\"}],\"sizing_mode\":\"fixed\",\"title\":{\"id\":\"17099\"},\"toolbar\":{\"id\":\"17120\"},\"toolbar_location\":null,\"width\":700,\"x_range\":{\"id\":\"17046\"},\"x_scale\":{\"id\":\"17103\"},\"y_range\":{\"id\":\"17047\"},\"y_scale\":{\"id\":\"17105\"}},\"id\":\"17098\",\"subtype\":\"Figure\",\"type\":\"Plot\"},{\"attributes\":{\"children\":[{\"id\":\"17045\"},{\"id\":\"17286\"},{\"id\":\"17611\"}],\"margin\":[0,0,0,0],\"name\":\"Row15938\",\"tags\":[\"embedded\"]},\"id\":\"17044\",\"type\":\"Row\"},{\"attributes\":{},\"id\":\"17259\",\"type\":\"UnionRenderers\"},{\"attributes\":{\"below\":[{\"id\":\"17058\"}],\"center\":[{\"id\":\"17060\"},{\"id\":\"17064\"}],\"height\":300,\"left\":[{\"id\":\"17061\"}],\"margin\":null,\"min_border_bottom\":10,\"min_border_left\":10,\"min_border_right\":10,\"min_border_top\":10,\"renderers\":[{\"id\":\"17084\"}],\"sizing_mode\":\"fixed\",\"title\":{\"id\":\"17050\"},\"toolbar\":{\"id\":\"17071\"},\"toolbar_location\":null,\"width\":700,\"x_range\":{\"id\":\"17046\"},\"x_scale\":{\"id\":\"17054\"},\"y_range\":{\"id\":\"17047\"},\"y_scale\":{\"id\":\"17056\"}},\"id\":\"17049\",\"subtype\":\"Figure\",\"type\":\"Plot\"},{\"attributes\":{\"axis\":{\"id\":\"17061\"},\"coordinates\":null,\"dimension\":1,\"grid_line_color\":null,\"group\":null,\"ticker\":null},\"id\":\"17064\",\"type\":\"Grid\"},{\"attributes\":{\"overlay\":{\"id\":\"17119\"}},\"id\":\"17117\",\"type\":\"BoxZoomTool\"},{\"attributes\":{},\"id\":\"17059\",\"type\":\"CategoricalTicker\"},{\"attributes\":{\"axis\":{\"id\":\"17156\"},\"coordinates\":null,\"grid_line_color\":null,\"group\":null,\"ticker\":null},\"id\":\"17158\",\"type\":\"Grid\"},{\"attributes\":{\"bottom\":{\"value\":0},\"fill_alpha\":{\"value\":1.0},\"fill_color\":{\"value\":\"#C9412E\"},\"hatch_alpha\":{\"value\":1.0},\"hatch_color\":{\"value\":\"#C9412E\"},\"hatch_scale\":{\"value\":12.0},\"hatch_weight\":{\"value\":1.0},\"line_alpha\":{\"value\":1.0},\"line_cap\":{\"value\":\"butt\"},\"line_color\":{\"value\":\"black\"},\"line_dash\":{\"value\":[]},\"line_dash_offset\":{\"value\":0},\"line_join\":{\"value\":\"bevel\"},\"line_width\":{\"value\":1},\"top\":{\"field\":\"A_0\"},\"width\":{\"value\":0.8},\"x\":{\"field\":\"index\"}},\"id\":\"17086\",\"type\":\"VBar\"},{\"attributes\":{},\"id\":\"17090\",\"type\":\"AllLabels\"},{\"attributes\":{\"fill_alpha\":{\"value\":0.2},\"fill_color\":{\"value\":\"#3CCF3E\"},\"hatch_alpha\":{\"value\":0.2},\"hatch_color\":{\"value\":\"#3CCF3E\"},\"line_alpha\":{\"value\":0.2},\"top\":{\"field\":\"A_0\"},\"width\":{\"value\":0.8},\"x\":{\"field\":\"index\"}},\"id\":\"17181\",\"type\":\"VBar\"},{\"attributes\":{\"coordinates\":null,\"group\":null,\"text\":\"Overstock Vs.\",\"text_color\":\"black\",\"text_font_size\":\"12pt\"},\"id\":\"17050\",\"type\":\"Title\"},{\"attributes\":{},\"id\":\"17056\",\"type\":\"LinearScale\"},{\"attributes\":{},\"id\":\"17142\",\"type\":\"AllLabels\"},{\"attributes\":{},\"id\":\"17157\",\"type\":\"CategoricalTicker\"},{\"attributes\":{\"coordinates\":null,\"group\":null,\"text\":\"Target Vs.\",\"text_color\":\"black\",\"text_font_size\":\"12pt\"},\"id\":\"17148\",\"type\":\"Title\"},{\"attributes\":{},\"id\":\"17187\",\"type\":\"CategoricalTickFormatter\"},{\"attributes\":{\"tools\":[{\"id\":\"17146\"},{\"id\":\"17163\"},{\"id\":\"17164\"},{\"id\":\"17165\"},{\"id\":\"17166\"},{\"id\":\"17167\"}]},\"id\":\"17169\",\"type\":\"Toolbar\"},{\"attributes\":{\"coordinates\":null,\"data_source\":{\"id\":\"17078\"},\"glyph\":{\"id\":\"17081\"},\"group\":null,\"hover_glyph\":null,\"muted_glyph\":{\"id\":\"17083\"},\"nonselection_glyph\":{\"id\":\"17082\"},\"selection_glyph\":{\"id\":\"17086\"},\"view\":{\"id\":\"17085\"}},\"id\":\"17084\",\"type\":\"GlyphRenderer\"},{\"attributes\":{\"format\":\"%.3f\"},\"id\":\"17087\",\"type\":\"PrintfTickFormatter\"},{\"attributes\":{},\"id\":\"17103\",\"type\":\"CategoricalScale\"},{\"attributes\":{\"data\":{\"A_0\":{\"__ndarray__\":\"qTlDqzQQoj/q/dWnHweMPxdkbYT42rk/\",\"dtype\":\"float64\",\"order\":\"little\",\"shape\":[3]},\"index\":[\"Overstock\",\"Ebay\",\"Target\"]},\"selected\":{\"id\":\"17226\"},\"selection_policy\":{\"id\":\"17279\"}},\"id\":\"17225\",\"type\":\"ColumnDataSource\"},{\"attributes\":{},\"id\":\"17214\",\"type\":\"WheelZoomTool\"},{\"attributes\":{},\"id\":\"17216\",\"type\":\"ResetTool\"},{\"attributes\":{},\"id\":\"17191\",\"type\":\"AllLabels\"},{\"attributes\":{\"overlay\":{\"id\":\"17217\"}},\"id\":\"17215\",\"type\":\"BoxZoomTool\"},{\"attributes\":{\"source\":{\"id\":\"17225\"}},\"id\":\"17232\",\"type\":\"CDSView\"},{\"attributes\":{},\"id\":\"17167\",\"type\":\"ResetTool\"},{\"attributes\":{},\"id\":\"17165\",\"type\":\"WheelZoomTool\"},{\"attributes\":{},\"id\":\"17188\",\"type\":\"AllLabels\"},{\"attributes\":{\"overlay\":{\"id\":\"17168\"}},\"id\":\"17166\",\"type\":\"BoxZoomTool\"},{\"attributes\":{\"tools\":[{\"id\":\"17195\"},{\"id\":\"17212\"},{\"id\":\"17213\"},{\"id\":\"17214\"},{\"id\":\"17215\"},{\"id\":\"17216\"}]},\"id\":\"17218\",\"type\":\"Toolbar\"},{\"attributes\":{\"axis\":{\"id\":\"17107\"},\"coordinates\":null,\"grid_line_color\":null,\"group\":null,\"ticker\":null},\"id\":\"17109\",\"type\":\"Grid\"},{\"attributes\":{},\"id\":\"17240\",\"type\":\"AllLabels\"},{\"attributes\":{\"below\":[{\"id\":\"17205\"}],\"center\":[{\"id\":\"17207\"},{\"id\":\"17211\"}],\"height\":300,\"left\":[{\"id\":\"17208\"}],\"margin\":null,\"min_border_bottom\":10,\"min_border_left\":10,\"min_border_right\":10,\"min_border_top\":10,\"renderers\":[{\"id\":\"17231\"}],\"sizing_mode\":\"fixed\",\"title\":{\"id\":\"17197\"},\"toolbar\":{\"id\":\"17218\"},\"toolbar_location\":null,\"width\":700,\"x_range\":{\"id\":\"17046\"},\"x_scale\":{\"id\":\"17201\"},\"y_range\":{\"id\":\"17047\"},\"y_scale\":{\"id\":\"17203\"}},\"id\":\"17196\",\"subtype\":\"Figure\",\"type\":\"Plot\"},{\"attributes\":{\"axis_label\":\"Variance\",\"coordinates\":null,\"formatter\":{\"id\":\"17234\"},\"group\":null,\"major_label_policy\":{\"id\":\"17240\"},\"ticker\":{\"id\":\"17209\"}},\"id\":\"17208\",\"type\":\"LinearAxis\"},{\"attributes\":{\"bottom_units\":\"screen\",\"coordinates\":null,\"fill_alpha\":0.5,\"fill_color\":\"lightgrey\",\"group\":null,\"left_units\":\"screen\",\"level\":\"overlay\",\"line_alpha\":1.0,\"line_color\":\"black\",\"line_dash\":[4,4],\"line_width\":2,\"right_units\":\"screen\",\"syncable\":false,\"top_units\":\"screen\"},\"id\":\"17217\",\"type\":\"BoxAnnotation\"},{\"attributes\":{\"data\":{\"A_0\":{\"__ndarray__\":\"FEVLG47PuD8XZG2E+Nq5P0n3aeX+s74/\",\"dtype\":\"float64\",\"order\":\"little\",\"shape\":[3]},\"index\":[\"Ebay\",\"Walmart\",\"Overstock\"]},\"selected\":{\"id\":\"17177\"},\"selection_policy\":{\"id\":\"17269\"}},\"id\":\"17176\",\"type\":\"ColumnDataSource\"},{\"attributes\":{},\"id\":\"17206\",\"type\":\"CategoricalTicker\"},{\"attributes\":{\"children\":[[{\"id\":\"17049\"},0,0],[{\"id\":\"17098\"},0,1],[{\"id\":\"17147\"},0,2],[{\"id\":\"17196\"},0,3]]},\"id\":\"17283\",\"type\":\"GridBox\"},{\"attributes\":{\"axis\":{\"id\":\"17110\"},\"coordinates\":null,\"dimension\":1,\"grid_line_color\":null,\"group\":null,\"ticker\":null},\"id\":\"17113\",\"type\":\"Grid\"},{\"attributes\":{\"bottom\":{\"value\":0},\"fill_alpha\":{\"value\":1.0},\"fill_color\":{\"value\":\"#1961E6\"},\"hatch_alpha\":{\"value\":1.0},\"hatch_color\":{\"value\":\"#1961E6\"},\"hatch_scale\":{\"value\":12.0},\"hatch_weight\":{\"value\":1.0},\"line_alpha\":{\"value\":1.0},\"line_cap\":{\"value\":\"butt\"},\"line_color\":{\"value\":\"black\"},\"line_dash\":{\"value\":[]},\"line_dash_offset\":{\"value\":0},\"line_join\":{\"value\":\"bevel\"},\"line_width\":{\"value\":1},\"top\":{\"field\":\"A_0\"},\"width\":{\"value\":0.8},\"x\":{\"field\":\"index\"}},\"id\":\"17233\",\"type\":\"VBar\"},{\"attributes\":{\"fill_alpha\":{\"value\":0.2},\"fill_color\":{\"value\":\"#1961E6\"},\"hatch_alpha\":{\"value\":0.2},\"hatch_color\":{\"value\":\"#1961E6\"},\"line_alpha\":{\"value\":0.2},\"top\":{\"field\":\"A_0\"},\"width\":{\"value\":0.8},\"x\":{\"field\":\"index\"}},\"id\":\"17230\",\"type\":\"VBar\"},{\"attributes\":{},\"id\":\"17209\",\"type\":\"BasicTicker\"},{\"attributes\":{\"callback\":null,\"renderers\":[{\"id\":\"17182\"}],\"tags\":[\"hv_created\"],\"tooltips\":[[\"index\",\"@{index}\"],[\"0\",\"@{A_0}\"]]},\"id\":\"17146\",\"type\":\"HoverTool\"},{\"attributes\":{\"axis_label\":\"Variance\",\"coordinates\":null,\"formatter\":{\"id\":\"17136\"},\"group\":null,\"major_label_policy\":{\"id\":\"17142\"},\"ticker\":{\"id\":\"17111\"}},\"id\":\"17110\",\"type\":\"LinearAxis\"},{\"attributes\":{\"axis\":{\"id\":\"17208\"},\"coordinates\":null,\"dimension\":1,\"grid_line_color\":null,\"group\":null,\"ticker\":null},\"id\":\"17211\",\"type\":\"Grid\"},{\"attributes\":{\"fill_color\":{\"value\":\"#3CCF3E\"},\"hatch_color\":{\"value\":\"#3CCF3E\"},\"top\":{\"field\":\"A_0\"},\"width\":{\"value\":0.8},\"x\":{\"field\":\"index\"}},\"id\":\"17179\",\"type\":\"VBar\"},{\"attributes\":{\"toolbars\":[{\"id\":\"17071\"},{\"id\":\"17120\"},{\"id\":\"17169\"},{\"id\":\"17218\"}],\"tools\":[{\"id\":\"17048\"},{\"id\":\"17065\"},{\"id\":\"17066\"},{\"id\":\"17067\"},{\"id\":\"17068\"},{\"id\":\"17069\"},{\"id\":\"17097\"},{\"id\":\"17114\"},{\"id\":\"17115\"},{\"id\":\"17116\"},{\"id\":\"17117\"},{\"id\":\"17118\"},{\"id\":\"17146\"},{\"id\":\"17163\"},{\"id\":\"17164\"},{\"id\":\"17165\"},{\"id\":\"17166\"},{\"id\":\"17167\"},{\"id\":\"17195\"},{\"id\":\"17212\"},{\"id\":\"17213\"},{\"id\":\"17214\"},{\"id\":\"17215\"},{\"id\":\"17216\"}]},\"id\":\"17284\",\"type\":\"ProxyToolbar\"},{\"attributes\":{},\"id\":\"17237\",\"type\":\"AllLabels\"},{\"attributes\":{\"axis\":{\"id\":\"17159\"},\"coordinates\":null,\"dimension\":1,\"grid_line_color\":null,\"group\":null,\"ticker\":null},\"id\":\"17162\",\"type\":\"Grid\"},{\"attributes\":{\"toolbar\":{\"id\":\"17284\"},\"toolbar_location\":\"above\"},\"id\":\"17285\",\"type\":\"ToolbarBox\"},{\"attributes\":{\"format\":\"%.3f\"},\"id\":\"17185\",\"type\":\"PrintfTickFormatter\"},{\"attributes\":{\"fill_color\":{\"value\":\"#C9412E\"},\"hatch_color\":{\"value\":\"#C9412E\"},\"top\":{\"field\":\"A_0\"},\"width\":{\"value\":0.8},\"x\":{\"field\":\"index\"}},\"id\":\"17081\",\"type\":\"VBar\"},{\"attributes\":{\"margin\":[5,5,5,5],\"name\":\"HSpacer15943\",\"sizing_mode\":\"stretch_width\"},\"id\":\"17611\",\"type\":\"Spacer\"},{\"attributes\":{\"children\":[{\"id\":\"17285\"},{\"id\":\"17283\"}]},\"id\":\"17286\",\"type\":\"Column\"},{\"attributes\":{\"callback\":null,\"renderers\":[{\"id\":\"17133\"}],\"tags\":[\"hv_created\"],\"tooltips\":[[\"index\",\"@{index}\"],[\"0\",\"@{A_0}\"]]},\"id\":\"17097\",\"type\":\"HoverTool\"},{\"attributes\":{},\"id\":\"17108\",\"type\":\"CategoricalTicker\"},{\"attributes\":{},\"id\":\"17164\",\"type\":\"PanTool\"},{\"attributes\":{},\"id\":\"17203\",\"type\":\"LinearScale\"},{\"attributes\":{},\"id\":\"17236\",\"type\":\"CategoricalTickFormatter\"},{\"attributes\":{},\"id\":\"17089\",\"type\":\"CategoricalTickFormatter\"},{\"attributes\":{\"fill_alpha\":{\"value\":0.1},\"fill_color\":{\"value\":\"#DED02C\"},\"hatch_alpha\":{\"value\":0.1},\"hatch_color\":{\"value\":\"#DED02C\"},\"line_alpha\":{\"value\":0.1},\"top\":{\"field\":\"A_0\"},\"width\":{\"value\":0.8},\"x\":{\"field\":\"index\"}},\"id\":\"17131\",\"type\":\"VBar\"},{\"attributes\":{\"fill_alpha\":{\"value\":0.1},\"fill_color\":{\"value\":\"#1961E6\"},\"hatch_alpha\":{\"value\":0.1},\"hatch_color\":{\"value\":\"#1961E6\"},\"line_alpha\":{\"value\":0.1},\"top\":{\"field\":\"A_0\"},\"width\":{\"value\":0.8},\"x\":{\"field\":\"index\"}},\"id\":\"17229\",\"type\":\"VBar\"},{\"attributes\":{},\"id\":\"17279\",\"type\":\"UnionRenderers\"},{\"attributes\":{},\"id\":\"17212\",\"type\":\"SaveTool\"},{\"attributes\":{\"axis_label\":\"Ecommerce Stocks\",\"coordinates\":null,\"formatter\":{\"id\":\"17236\"},\"group\":null,\"major_label_orientation\":0.7853981633974483,\"major_label_policy\":{\"id\":\"17237\"},\"ticker\":{\"id\":\"17206\"}},\"id\":\"17205\",\"type\":\"CategoricalAxis\"},{\"attributes\":{},\"id\":\"17139\",\"type\":\"AllLabels\"},{\"attributes\":{},\"id\":\"17213\",\"type\":\"PanTool\"},{\"attributes\":{\"coordinates\":null,\"data_source\":{\"id\":\"17225\"},\"glyph\":{\"id\":\"17228\"},\"group\":null,\"hover_glyph\":null,\"muted_glyph\":{\"id\":\"17230\"},\"nonselection_glyph\":{\"id\":\"17229\"},\"selection_glyph\":{\"id\":\"17233\"},\"view\":{\"id\":\"17232\"}},\"id\":\"17231\",\"type\":\"GlyphRenderer\"},{\"attributes\":{},\"id\":\"17163\",\"type\":\"SaveTool\"},{\"attributes\":{\"coordinates\":null,\"group\":null,\"text\":\"Walmart Vs.\",\"text_color\":\"black\",\"text_font_size\":\"12pt\"},\"id\":\"17197\",\"type\":\"Title\"},{\"attributes\":{\"factors\":[\"Target\",\"Ebay\",\"Walmart\",\"Overstock\"],\"tags\":[[[\"index\",\"index\",null]]]},\"id\":\"17046\",\"type\":\"FactorRange\"},{\"attributes\":{},\"id\":\"17138\",\"type\":\"CategoricalTickFormatter\"},{\"attributes\":{\"axis\":{\"id\":\"17205\"},\"coordinates\":null,\"grid_line_color\":null,\"group\":null,\"ticker\":null},\"id\":\"17207\",\"type\":\"Grid\"},{\"attributes\":{},\"id\":\"17201\",\"type\":\"CategoricalScale\"},{\"attributes\":{},\"id\":\"17249\",\"type\":\"UnionRenderers\"},{\"attributes\":{\"bottom\":{\"value\":0},\"fill_alpha\":{\"value\":1.0},\"fill_color\":{\"value\":\"#3CCF3E\"},\"hatch_alpha\":{\"value\":1.0},\"hatch_color\":{\"value\":\"#3CCF3E\"},\"hatch_scale\":{\"value\":12.0},\"hatch_weight\":{\"value\":1.0},\"line_alpha\":{\"value\":1.0},\"line_cap\":{\"value\":\"butt\"},\"line_color\":{\"value\":\"black\"},\"line_dash\":{\"value\":[]},\"line_dash_offset\":{\"value\":0},\"line_join\":{\"value\":\"bevel\"},\"line_width\":{\"value\":1},\"top\":{\"field\":\"A_0\"},\"width\":{\"value\":0.8},\"x\":{\"field\":\"index\"}},\"id\":\"17184\",\"type\":\"VBar\"},{\"attributes\":{\"fill_alpha\":{\"value\":0.2},\"fill_color\":{\"value\":\"#DED02C\"},\"hatch_alpha\":{\"value\":0.2},\"hatch_color\":{\"value\":\"#DED02C\"},\"line_alpha\":{\"value\":0.2},\"top\":{\"field\":\"A_0\"},\"width\":{\"value\":0.8},\"x\":{\"field\":\"index\"}},\"id\":\"17132\",\"type\":\"VBar\"},{\"attributes\":{\"fill_color\":{\"value\":\"#1961E6\"},\"hatch_color\":{\"value\":\"#1961E6\"},\"top\":{\"field\":\"A_0\"},\"width\":{\"value\":0.8},\"x\":{\"field\":\"index\"}},\"id\":\"17228\",\"type\":\"VBar\"},{\"attributes\":{\"fill_color\":{\"value\":\"#DED02C\"},\"hatch_color\":{\"value\":\"#DED02C\"},\"top\":{\"field\":\"A_0\"},\"width\":{\"value\":0.8},\"x\":{\"field\":\"index\"}},\"id\":\"17130\",\"type\":\"VBar\"},{\"attributes\":{\"format\":\"%.3f\"},\"id\":\"17234\",\"type\":\"PrintfTickFormatter\"},{\"attributes\":{\"callback\":null,\"renderers\":[{\"id\":\"17231\"}],\"tags\":[\"hv_created\"],\"tooltips\":[[\"index\",\"@{index}\"],[\"0\",\"@{A_0}\"]]},\"id\":\"17195\",\"type\":\"HoverTool\"},{\"attributes\":{},\"id\":\"17226\",\"type\":\"Selection\"},{\"attributes\":{},\"id\":\"17177\",\"type\":\"Selection\"},{\"attributes\":{\"bottom_units\":\"screen\",\"coordinates\":null,\"fill_alpha\":0.5,\"fill_color\":\"lightgrey\",\"group\":null,\"left_units\":\"screen\",\"level\":\"overlay\",\"line_alpha\":1.0,\"line_color\":\"black\",\"line_dash\":[4,4],\"line_width\":2,\"right_units\":\"screen\",\"syncable\":false,\"top_units\":\"screen\"},\"id\":\"17168\",\"type\":\"BoxAnnotation\"},{\"attributes\":{\"axis_label\":\"Ecommerce Stocks\",\"coordinates\":null,\"formatter\":{\"id\":\"17138\"},\"group\":null,\"major_label_orientation\":0.7853981633974483,\"major_label_policy\":{\"id\":\"17139\"},\"ticker\":{\"id\":\"17108\"}},\"id\":\"17107\",\"type\":\"CategoricalAxis\"},{\"attributes\":{},\"id\":\"17111\",\"type\":\"BasicTicker\"},{\"attributes\":{},\"id\":\"17128\",\"type\":\"Selection\"},{\"attributes\":{\"fill_alpha\":{\"value\":0.1},\"fill_color\":{\"value\":\"#C9412E\"},\"hatch_alpha\":{\"value\":0.1},\"hatch_color\":{\"value\":\"#C9412E\"},\"line_alpha\":{\"value\":0.1},\"top\":{\"field\":\"A_0\"},\"width\":{\"value\":0.8},\"x\":{\"field\":\"index\"}},\"id\":\"17082\",\"type\":\"VBar\"}],\"root_ids\":[\"17044\"]},\"title\":\"Bokeh Application\",\"version\":\"2.4.1\"}};\n",
       "    var render_items = [{\"docid\":\"6a91e938-476f-4b21-97a3-7321ddb4099e\",\"root_ids\":[\"17044\"],\"roots\":{\"17044\":\"834cb518-1167-49af-a0f5-0fda3d92fa6b\"}}];\n",
       "    root.Bokeh.embed.embed_items_notebook(docs_json, render_items);\n",
       "  }\n",
       "  if (root.Bokeh !== undefined && root.Bokeh.Panel !== undefined) {\n",
       "    embed_document(root);\n",
       "  } else {\n",
       "    var attempts = 0;\n",
       "    var timer = setInterval(function(root) {\n",
       "      if (root.Bokeh !== undefined && root.Bokeh.Panel !== undefined) {\n",
       "        clearInterval(timer);\n",
       "        embed_document(root);\n",
       "      } else if (document.readyState == \"complete\") {\n",
       "        attempts++;\n",
       "        if (attempts > 200) {\n",
       "          clearInterval(timer);\n",
       "          console.log(\"Bokeh: ERROR: Unable to run BokehJS code because BokehJS library is missing\");\n",
       "        }\n",
       "      }\n",
       "    }, 25, root)\n",
       "  }\n",
       "})(window);</script>"
      ],
      "text/plain": [
       ":Layout\n",
       "   .Bars.Overstock_Vs_full_stop :Bars   [index]   (0)\n",
       "   .Bars.Ebay_Vs_full_stop      :Bars   [index]   (0)\n",
       "   .Bars.Target_Vs_full_stop    :Bars   [index]   (0)\n",
       "   .Bars.Walmart_Vs_full_stop   :Bars   [index]   (0)"
      ]
     },
     "execution_count": 175,
     "metadata": {
      "application/vnd.holoviews_exec.v0+json": {
       "id": "17044"
      }
     },
     "output_type": "execute_result"
    }
   ],
   "source": [
    "overstock_vs_plot + ebay_vs_plot + target_vs_plot + walmart_vs_plot "
   ]
  },
  {
   "cell_type": "code",
   "execution_count": 176,
   "id": "29fdf71c-abd6-4ee4-9217-ab70604d907b",
   "metadata": {},
   "outputs": [
    {
     "data": {
      "application/vnd.holoviews_exec.v0+json": "",
      "text/html": [
       "<div id='17793'>\n",
       "\n",
       "\n",
       "\n",
       "\n",
       "\n",
       "  <div class=\"bk-root\" id=\"590f0f0a-db9c-4a37-b72a-b78d3f8e0935\" data-root-id=\"17793\"></div>\n",
       "</div>\n",
       "<script type=\"application/javascript\">(function(root) {\n",
       "  function embed_document(root) {\n",
       "    var docs_json = {\"93e6c2b8-6763-4f99-a042-3d408e3b9258\":{\"defs\":[{\"extends\":null,\"module\":null,\"name\":\"ReactiveHTML1\",\"overrides\":[],\"properties\":[]},{\"extends\":null,\"module\":null,\"name\":\"FlexBox1\",\"overrides\":[],\"properties\":[{\"default\":\"flex-start\",\"kind\":null,\"name\":\"align_content\"},{\"default\":\"flex-start\",\"kind\":null,\"name\":\"align_items\"},{\"default\":\"row\",\"kind\":null,\"name\":\"flex_direction\"},{\"default\":\"wrap\",\"kind\":null,\"name\":\"flex_wrap\"},{\"default\":\"flex-start\",\"kind\":null,\"name\":\"justify_content\"}]},{\"extends\":null,\"module\":null,\"name\":\"TemplateActions1\",\"overrides\":[],\"properties\":[{\"default\":0,\"kind\":null,\"name\":\"open_modal\"},{\"default\":0,\"kind\":null,\"name\":\"close_modal\"}]},{\"extends\":null,\"module\":null,\"name\":\"MaterialTemplateActions1\",\"overrides\":[],\"properties\":[{\"default\":0,\"kind\":null,\"name\":\"open_modal\"},{\"default\":0,\"kind\":null,\"name\":\"close_modal\"}]}],\"roots\":{\"references\":[{\"attributes\":{},\"id\":\"17811\",\"type\":\"BasicTicker\"},{\"attributes\":{\"data\":{\"A_0\":{\"__ndarray__\":\"z0j9FkC7KkCGE62KMD0qQIECfDtAaixAls/cJWdWKkA=\",\"dtype\":\"float64\",\"order\":\"little\",\"shape\":[4]},\"index\":[\"Overstock\",\"Ebay\",\"Target\",\"Walmart\"]},\"selected\":{\"id\":\"17828\"},\"selection_policy\":{\"id\":\"17851\"}},\"id\":\"17827\",\"type\":\"ColumnDataSource\"},{\"attributes\":{\"fill_alpha\":{\"value\":0.1},\"fill_color\":{\"value\":\"#923DD5\"},\"hatch_alpha\":{\"value\":0.1},\"hatch_color\":{\"value\":\"#923DD5\"},\"line_alpha\":{\"value\":0.1},\"top\":{\"field\":\"A_0\"},\"width\":{\"value\":0.8},\"x\":{\"field\":\"index\"}},\"id\":\"17831\",\"type\":\"VBar\"},{\"attributes\":{\"overlay\":{\"id\":\"17819\"}},\"id\":\"17817\",\"type\":\"BoxZoomTool\"},{\"attributes\":{\"margin\":[5,5,5,5],\"name\":\"HSpacer16379\",\"sizing_mode\":\"stretch_width\"},\"id\":\"17863\",\"type\":\"Spacer\"},{\"attributes\":{},\"id\":\"17816\",\"type\":\"WheelZoomTool\"},{\"attributes\":{\"end\":14.316322337545353,\"reset_end\":14.316322337545353,\"reset_start\":0.0,\"tags\":[[[\"0\",\"0\",null]]]},\"id\":\"17796\",\"type\":\"Range1d\"},{\"attributes\":{\"axis\":{\"id\":\"17810\"},\"coordinates\":null,\"dimension\":1,\"grid_line_color\":null,\"group\":null,\"ticker\":null},\"id\":\"17813\",\"type\":\"Grid\"},{\"attributes\":{\"tools\":[{\"id\":\"17797\"},{\"id\":\"17814\"},{\"id\":\"17815\"},{\"id\":\"17816\"},{\"id\":\"17817\"},{\"id\":\"17818\"}]},\"id\":\"17820\",\"type\":\"Toolbar\"},{\"attributes\":{\"fill_alpha\":{\"value\":0.2},\"fill_color\":{\"value\":\"#923DD5\"},\"hatch_alpha\":{\"value\":0.2},\"hatch_color\":{\"value\":\"#923DD5\"},\"line_alpha\":{\"value\":0.2},\"top\":{\"field\":\"A_0\"},\"width\":{\"value\":0.8},\"x\":{\"field\":\"index\"}},\"id\":\"17832\",\"type\":\"VBar\"},{\"attributes\":{},\"id\":\"17842\",\"type\":\"AllLabels\"},{\"attributes\":{},\"id\":\"17805\",\"type\":\"LinearScale\"},{\"attributes\":{},\"id\":\"17815\",\"type\":\"PanTool\"},{\"attributes\":{\"coordinates\":null,\"data_source\":{\"id\":\"17827\"},\"glyph\":{\"id\":\"17830\"},\"group\":null,\"hover_glyph\":null,\"muted_glyph\":{\"id\":\"17832\"},\"nonselection_glyph\":{\"id\":\"17831\"},\"selection_glyph\":{\"id\":\"17835\"},\"view\":{\"id\":\"17834\"}},\"id\":\"17833\",\"type\":\"GlyphRenderer\"},{\"attributes\":{\"source\":{\"id\":\"17827\"}},\"id\":\"17834\",\"type\":\"CDSView\"},{\"attributes\":{\"bottom\":{\"value\":0},\"fill_alpha\":{\"value\":1.0},\"fill_color\":{\"value\":\"#923DD5\"},\"hatch_alpha\":{\"value\":1.0},\"hatch_color\":{\"value\":\"#923DD5\"},\"hatch_scale\":{\"value\":12.0},\"hatch_weight\":{\"value\":1.0},\"line_alpha\":{\"value\":1.0},\"line_cap\":{\"value\":\"butt\"},\"line_color\":{\"value\":\"black\"},\"line_dash\":{\"value\":[]},\"line_dash_offset\":{\"value\":0},\"line_join\":{\"value\":\"bevel\"},\"line_width\":{\"value\":1},\"top\":{\"field\":\"A_0\"},\"width\":{\"value\":0.8},\"x\":{\"field\":\"index\"}},\"id\":\"17835\",\"type\":\"VBar\"},{\"attributes\":{\"callback\":null,\"renderers\":[{\"id\":\"17833\"}],\"tags\":[\"hv_created\"],\"tooltips\":[[\"index\",\"@{index}\"],[\"0\",\"@{A_0}\"]]},\"id\":\"17797\",\"type\":\"HoverTool\"},{\"attributes\":{},\"id\":\"17808\",\"type\":\"CategoricalTicker\"},{\"attributes\":{},\"id\":\"17838\",\"type\":\"CategoricalTickFormatter\"},{\"attributes\":{\"axis\":{\"id\":\"17807\"},\"coordinates\":null,\"grid_line_color\":null,\"group\":null,\"ticker\":null},\"id\":\"17809\",\"type\":\"Grid\"},{\"attributes\":{},\"id\":\"17818\",\"type\":\"ResetTool\"},{\"attributes\":{\"format\":\"%.3f\"},\"id\":\"17836\",\"type\":\"PrintfTickFormatter\"},{\"attributes\":{\"bottom_units\":\"screen\",\"coordinates\":null,\"fill_alpha\":0.5,\"fill_color\":\"lightgrey\",\"group\":null,\"left_units\":\"screen\",\"level\":\"overlay\",\"line_alpha\":1.0,\"line_color\":\"black\",\"line_dash\":[4,4],\"line_width\":2,\"right_units\":\"screen\",\"syncable\":false,\"top_units\":\"screen\"},\"id\":\"17819\",\"type\":\"BoxAnnotation\"},{\"attributes\":{\"children\":[{\"id\":\"17794\"},{\"id\":\"17798\"},{\"id\":\"17863\"}],\"margin\":[0,0,0,0],\"name\":\"Row16374\",\"tags\":[\"embedded\"]},\"id\":\"17793\",\"type\":\"Row\"},{\"attributes\":{},\"id\":\"17851\",\"type\":\"UnionRenderers\"},{\"attributes\":{\"margin\":[5,5,5,5],\"name\":\"HSpacer16378\",\"sizing_mode\":\"stretch_width\"},\"id\":\"17794\",\"type\":\"Spacer\"},{\"attributes\":{\"fill_color\":{\"value\":\"#923DD5\"},\"hatch_color\":{\"value\":\"#923DD5\"},\"top\":{\"field\":\"A_0\"},\"width\":{\"value\":0.8},\"x\":{\"field\":\"index\"}},\"id\":\"17830\",\"type\":\"VBar\"},{\"attributes\":{},\"id\":\"17828\",\"type\":\"Selection\"},{\"attributes\":{\"below\":[{\"id\":\"17807\"}],\"center\":[{\"id\":\"17809\"},{\"id\":\"17813\"}],\"height\":300,\"left\":[{\"id\":\"17810\"}],\"margin\":[5,5,5,5],\"min_border_bottom\":10,\"min_border_left\":10,\"min_border_right\":10,\"min_border_top\":10,\"renderers\":[{\"id\":\"17833\"}],\"sizing_mode\":\"fixed\",\"title\":{\"id\":\"17799\"},\"toolbar\":{\"id\":\"17820\"},\"width\":700,\"x_range\":{\"id\":\"17795\"},\"x_scale\":{\"id\":\"17803\"},\"y_range\":{\"id\":\"17796\"},\"y_scale\":{\"id\":\"17805\"}},\"id\":\"17798\",\"subtype\":\"Figure\",\"type\":\"Plot\"},{\"attributes\":{\"coordinates\":null,\"group\":null,\"text\":\"Amazon Vs.\",\"text_color\":\"black\",\"text_font_size\":\"12pt\"},\"id\":\"17799\",\"type\":\"Title\"},{\"attributes\":{},\"id\":\"17803\",\"type\":\"CategoricalScale\"},{\"attributes\":{\"axis_label\":\"Variance\",\"coordinates\":null,\"formatter\":{\"id\":\"17836\"},\"group\":null,\"major_label_policy\":{\"id\":\"17842\"},\"ticker\":{\"id\":\"17811\"}},\"id\":\"17810\",\"type\":\"LinearAxis\"},{\"attributes\":{\"axis_label\":\"Ecommerce Stocks\",\"coordinates\":null,\"formatter\":{\"id\":\"17838\"},\"group\":null,\"major_label_orientation\":0.7853981633974483,\"major_label_policy\":{\"id\":\"17839\"},\"ticker\":{\"id\":\"17808\"}},\"id\":\"17807\",\"type\":\"CategoricalAxis\"},{\"attributes\":{},\"id\":\"17839\",\"type\":\"AllLabels\"},{\"attributes\":{},\"id\":\"17814\",\"type\":\"SaveTool\"},{\"attributes\":{\"factors\":[\"Overstock\",\"Ebay\",\"Target\",\"Walmart\"],\"tags\":[[[\"index\",\"index\",null]]]},\"id\":\"17795\",\"type\":\"FactorRange\"}],\"root_ids\":[\"17793\"]},\"title\":\"Bokeh Application\",\"version\":\"2.4.1\"}};\n",
       "    var render_items = [{\"docid\":\"93e6c2b8-6763-4f99-a042-3d408e3b9258\",\"root_ids\":[\"17793\"],\"roots\":{\"17793\":\"590f0f0a-db9c-4a37-b72a-b78d3f8e0935\"}}];\n",
       "    root.Bokeh.embed.embed_items_notebook(docs_json, render_items);\n",
       "  }\n",
       "  if (root.Bokeh !== undefined && root.Bokeh.Panel !== undefined) {\n",
       "    embed_document(root);\n",
       "  } else {\n",
       "    var attempts = 0;\n",
       "    var timer = setInterval(function(root) {\n",
       "      if (root.Bokeh !== undefined && root.Bokeh.Panel !== undefined) {\n",
       "        clearInterval(timer);\n",
       "        embed_document(root);\n",
       "      } else if (document.readyState == \"complete\") {\n",
       "        attempts++;\n",
       "        if (attempts > 200) {\n",
       "          clearInterval(timer);\n",
       "          console.log(\"Bokeh: ERROR: Unable to run BokehJS code because BokehJS library is missing\");\n",
       "        }\n",
       "      }\n",
       "    }, 25, root)\n",
       "  }\n",
       "})(window);</script>"
      ],
      "text/plain": [
       ":Bars   [index]   (0)"
      ]
     },
     "execution_count": 176,
     "metadata": {
      "application/vnd.holoviews_exec.v0+json": {
       "id": "17793"
      }
     },
     "output_type": "execute_result"
    }
   ],
   "source": [
    "amazon_vs_plot"
   ]
  },
  {
   "cell_type": "markdown",
   "id": "5968343a",
   "metadata": {},
   "source": [
    "Monte Carlo Simulation"
   ]
  },
  {
   "cell_type": "code",
   "execution_count": 57,
   "id": "30689223",
   "metadata": {},
   "outputs": [
    {
     "data": {
      "text/plain": [
       "True"
      ]
     },
     "execution_count": 57,
     "metadata": {},
     "output_type": "execute_result"
    }
   ],
   "source": [
    "# Load the environment variables from the .env file\n",
    "#by calling the load_dotenv function\n",
    "load_dotenv(\"/Users/johannmaiga/Downloads/MyFiles/FinTech Class/.api_keys\")"
   ]
  },
  {
   "cell_type": "code",
   "execution_count": null,
   "id": "d1cf269e",
   "metadata": {},
   "outputs": [],
   "source": [
    "# Set the variables for the Alpaca API and secret keys\n",
    "alpaca_api_key = os.getenv(\"ALPACA_API_KEY\")\n",
    "alpaca_secret_key = os.getenv(\"ALPACA_SECRET_KEY\")\n",
    "\n",
    "# Create the Alpaca tradeapi.REST object\n",
    "alpaca = tradeapi.REST(\n",
    "    alpaca_api_key,\n",
    "    alpaca_secret_key,\n",
    "    api_version=\"v2\")"
   ]
  },
  {
   "cell_type": "code",
   "execution_count": null,
   "id": "ccc49bdd",
   "metadata": {},
   "outputs": [],
   "source": [
    "# Set the tickers for both the bond and stock portion of the portfolio\n",
    "tickers = [\"SPY\"]\n",
    "\n",
    "# Set timeframe to 1D \n",
    "timeframe = \"1D\"\n",
    "\n",
    "# Format current date as ISO format\n",
    "start = pd.Timestamp(\"2018-11-05\", tz=\"America/New_York\").isoformat()\n",
    "end = pd.Timestamp(\"2020-11-04\", tz=\"America/New_York\").isoformat()\n",
    "\n",
    "# Set number of rows to 1000 to retrieve the maximum amount of rows\n",
    "limit_rows = 1000"
   ]
  },
  {
   "cell_type": "code",
   "execution_count": null,
   "id": "bb411a11",
   "metadata": {},
   "outputs": [],
   "source": [
    "ecom_stocks = alpaca.get_barset(\n",
    "    tickers,\n",
    "    timeframe,\n",
    "    start = start,\n",
    "    end = end,\n",
    "    limit = limit_rows\n",
    ").df\n",
    "\n",
    "\n",
    "# Display both the first and last five rows of the DataFrame\n",
    "ecom_stocks.index = ecom_stocks.index.date\n",
    "ecom_stocks.head()"
   ]
  },
  {
   "cell_type": "code",
   "execution_count": null,
   "id": "c7ad6cf4",
   "metadata": {},
   "outputs": [],
   "source": [
    "one_year_simulation = MCSimulation(\n",
    "    portfolio_data=ecom_stocks,\n",
    "    num_simulation=500,\n",
    "    num_trading_days=252,\n",
    ")\n",
    "\n",
    "# Review the simulation input data\n",
    "one_year_simulation.portfolio_data.dropna()"
   ]
  },
  {
   "cell_type": "code",
   "execution_count": null,
   "id": "d637ab53",
   "metadata": {},
   "outputs": [],
   "source": [
    "# Run the Monte Carlo simulation to forecast 1 year cumulative returns\n",
    "one_year_simulation.calc_cumulative_return()"
   ]
  },
  {
   "cell_type": "code",
   "execution_count": null,
   "id": "2365065b",
   "metadata": {},
   "outputs": [],
   "source": [
    "# Plot simulation outcomes\n",
    "one_year_simulation.plot_simulation()"
   ]
  },
  {
   "cell_type": "markdown",
   "id": "9d9e7718",
   "metadata": {},
   "source": []
  },
  {
   "cell_type": "code",
   "execution_count": null,
   "id": "1d3ce8f3-84d0-40e7-9224-6cb7f4136f48",
   "metadata": {},
   "outputs": [],
   "source": [
    "# Gathering historical data for our list of 5-10 Eommerce stocks from 2018-2021 and putting in into a dataframe\n",
    "\n",
    "# selected_stocks = yf.download(\"AMZN\", group_by='tickers', start=\"2018-11-05\", end=\"2021-11-04\")\n",
    "# selected_stocks.head()"
   ]
  },
  {
   "cell_type": "code",
   "execution_count": null,
   "id": "a4c45a24",
   "metadata": {},
   "outputs": [],
   "source": [
    "# ecom_stocks.reset_index()\n",
    "# selected_stocks.index = selected_stocks.index.date"
   ]
  },
  {
   "cell_type": "code",
   "execution_count": null,
   "id": "e4c8e7fc",
   "metadata": {},
   "outputs": [],
   "source": [
    "# cols = [4, 10, 16, 22, 28]\n",
    "\n",
    "# cols = [4]\n",
    "# ecom_stocks = selected_stocks.drop(selected_stocks.columns[cols], axis=1)\n",
    "# ecom_stocks"
   ]
  },
  {
   "cell_type": "code",
   "execution_count": null,
   "id": "7c8dbf80",
   "metadata": {},
   "outputs": [],
   "source": [
    "# Formatting the column names into lower case\n",
    "# ecom_stocks.rename(str.lower, axis='columns')"
   ]
  },
  {
   "cell_type": "code",
   "execution_count": null,
   "id": "5bb4d198",
   "metadata": {},
   "outputs": [],
   "source": [
    "# ecom_stocks.reset_index(level=1)\n"
   ]
  },
  {
   "cell_type": "code",
   "execution_count": null,
   "id": "6b2480cf-d609-4fca-beb3-e38ec5b69014",
   "metadata": {},
   "outputs": [],
   "source": [
    "# one_year_simulation = MCSimulation(\n",
    "#     portfolio_data=ecom_stocks,\n",
    "#     weights=[0.25, 0.75],\n",
    "#     num_simulation=500,\n",
    "#     num_trading_days=252,\n",
    "# )\n",
    "\n",
    "# # Review the simulation input data\n",
    "# ecom_stocks.portfolio_data.dropna()\n",
    "# # ecom_stocks.calc_cumulative_return()"
   ]
  }
 ],
 "metadata": {
  "interpreter": {
   "hash": "7869c662c8a6f446188a32e32fc890b6a582dec6cee26594b9b99aec6f2cb252"
  },
  "kernelspec": {
   "display_name": "Python 3",
   "language": "python",
   "name": "python3"
  },
  "language_info": {
   "codemirror_mode": {
    "name": "ipython",
    "version": 3
   },
   "file_extension": ".py",
   "mimetype": "text/x-python",
   "name": "python",
   "nbconvert_exporter": "python",
   "pygments_lexer": "ipython3",
   "version": "3.7.6"
  }
 },
 "nbformat": 4,
 "nbformat_minor": 5
}
