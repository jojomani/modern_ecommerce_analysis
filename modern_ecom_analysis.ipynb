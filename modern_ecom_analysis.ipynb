{
 "cells": [
  {
   "cell_type": "markdown",
   "metadata": {
    "tags": []
   },
   "source": [
    "# Modern Ecommerce Stock/Portfolio Analysis"
   ]
  },
  {
   "cell_type": "markdown",
   "metadata": {},
   "source": [
    "***"
   ]
  },
  {
   "cell_type": "markdown",
   "metadata": {},
   "source": [
    "## Part 1 - Intial Libraries and Data\n",
    "\n",
    "### 1.1 - Import Libraries"
   ]
  },
  {
   "cell_type": "code",
   "execution_count": 57,
   "metadata": {},
   "outputs": [],
   "source": [
    "# Importing Libraries\n",
    "import os\n",
    "import requests\n",
    "import yfinance as yf # Used to grab the stock prices with yahoo\n",
    "import numpy as np\n",
    "import pandas as pd\n",
    "from datetime import datetime\n",
    "import seaborn as sns # Used for Heatmap Visualization\n",
    "from dotenv import load_dotenv\n",
    "import alpaca_trade_api as tradeapi # Used with the Monte Carlo simulation library\n",
    "from utils.MCForecastTools import MCSimulation\n",
    "import hvplot.pandas # Used for visualization\n",
    "from bokeh.models.formatters import NumeralTickFormatter # Used for yformatter in plot"
   ]
  },
  {
   "cell_type": "markdown",
   "metadata": {},
   "source": [
    "### 1.2 - Initial Data"
   ]
  },
  {
   "cell_type": "code",
   "execution_count": 2,
   "metadata": {},
   "outputs": [],
   "source": [
    "# List of Stocks Tickers\n",
    "amazon = yf.Ticker(\"AMZN\")\n",
    "walmart = yf.Ticker(\"WMT\")\n",
    "ebay = yf.Ticker(\"EBAY\")\n",
    "target = yf.Ticker(\"TGT\")\n",
    "overstock = yf.Ticker(\"OSTK\")"
   ]
  },
  {
   "cell_type": "code",
   "execution_count": 3,
   "metadata": {},
   "outputs": [
    {
     "name": "stdout",
     "output_type": "stream",
     "text": [
      "Current Amazon Price: 3513\n",
      "Current Amazon Investment Value: 215812.75340950978\n",
      "Current Walmart Price: 148.77\n",
      "Current Walmart Investment Value: 152553.32239540608\n",
      "Current Ebay Price: 74.03\n",
      "Current Ebay Investment Value: 259390.32936229857\n",
      "Current Target Price: 254.27\n",
      "Current Target Investment Value: 319474.80839301425\n",
      "Current Overstock Price: 97.66\n",
      "Current Overstock Investment Value: 493232.3232323232\n"
     ]
    }
   ],
   "source": [
    "total_investment = 500000\n",
    "\n",
    "#Amazon Data\n",
    "initial_amazon_price = 1627.80\n",
    "initial_amazon_investment = 100000\n",
    "amount_of_amazon_stock = initial_amazon_investment/initial_amazon_price\n",
    "current_amazon_price = amazon.info['open']\n",
    "current_amazon_investment_value = current_amazon_price * amount_of_amazon_stock\n",
    "\n",
    "#Walmart Data\n",
    "initial_walmart_price = 97.52\n",
    "initial_walmart_investment = 100000\n",
    "amount_of_walmart_stock = initial_walmart_investment/initial_walmart_price\n",
    "current_walmart_price = walmart.info['open']\n",
    "current_walmart_investment_value = current_walmart_price * amount_of_walmart_stock\n",
    "\n",
    "#Ebay Data\n",
    "initial_ebay_price = 28.54\n",
    "initial_ebay_investment = 100000\n",
    "amount_of_ebay_stock = initial_ebay_investment/initial_ebay_price\n",
    "current_ebay_price = ebay.info['open']\n",
    "current_ebay_investment_value = current_ebay_price * amount_of_ebay_stock\n",
    "\n",
    "#Target Data\n",
    "initial_target_price = 79.59\n",
    "initial_target_investment = 100000\n",
    "amount_of_target_stock = initial_target_investment/initial_target_price\n",
    "current_target_price = target.info['open']\n",
    "current_target_investment_value = current_target_price * amount_of_target_stock\n",
    "\n",
    "#Overstock Data\n",
    "initial_overstock_price = 19.80\n",
    "initial_overstock_investment = 100000\n",
    "amount_of_overstock_stock = initial_overstock_investment/initial_overstock_price\n",
    "current_overstock_price = overstock.info['open']\n",
    "current_overstock_investment_value = current_overstock_price * amount_of_overstock_stock\n",
    "\n",
    "\n",
    "print(\"Current Amazon Price:\",current_amazon_price)\n",
    "print(\"Current Amazon Investment Value:\",current_amazon_investment_value)\n",
    "print(\"Current Walmart Price:\",current_walmart_price)\n",
    "print(\"Current Walmart Investment Value:\",current_walmart_investment_value)\n",
    "print(\"Current Ebay Price:\",current_ebay_price)\n",
    "print(\"Current Ebay Investment Value:\",current_ebay_investment_value)\n",
    "print(\"Current Target Price:\",current_target_price)\n",
    "print(\"Current Target Investment Value:\",current_target_investment_value)\n",
    "print(\"Current Overstock Price:\",current_overstock_price)\n",
    "print(\"Current Overstock Investment Value:\",current_overstock_investment_value)"
   ]
  },
  {
   "cell_type": "markdown",
   "metadata": {},
   "source": [
    "***"
   ]
  },
  {
   "cell_type": "markdown",
   "metadata": {},
   "source": [
    "## Part 2 - Rate of Return Calculations\n",
    "\n",
    "### 2.1 - Amazon Expected Rate of Return Calculations"
   ]
  },
  {
   "cell_type": "markdown",
   "metadata": {},
   "source": [
    "#### Year 1"
   ]
  },
  {
   "cell_type": "code",
   "execution_count": 4,
   "metadata": {},
   "outputs": [
    {
     "data": {
      "text/plain": [
       "10.683739211985838"
      ]
     },
     "execution_count": 4,
     "metadata": {},
     "output_type": "execute_result"
    }
   ],
   "source": [
    "# Amazon Return calculations\n",
    "amazon_historical_year1_begin = amazon.history(start=\"2018-11-05\", end=\"2018-11-06\")\n",
    "amazon_historical_year1_end = amazon.history(start=\"2019-11-05\", end=\"2019-11-06\")\n",
    "initial_value_year1_amazon = amazon_historical_year1_begin['Close']['2018-11-05']\n",
    "current_value_year1_amazon= amazon_historical_year1_end['Close']['2019-11-05']\n",
    "\n",
    "year1_ror_amazon = ((current_value_year1_amazon - initial_value_year1_amazon)/initial_value_year1_amazon)*100\n",
    "year1_ror_amazon"
   ]
  },
  {
   "cell_type": "markdown",
   "metadata": {},
   "source": [
    "#### Year 2"
   ]
  },
  {
   "cell_type": "code",
   "execution_count": 5,
   "metadata": {},
   "outputs": [
    {
     "data": {
      "text/plain": [
       "84.38039817859662"
      ]
     },
     "execution_count": 5,
     "metadata": {},
     "output_type": "execute_result"
    }
   ],
   "source": [
    "amazon_historical_year2_begin = amazon.history(start=\"2019-11-05\", end=\"2019-11-06\")\n",
    "amazon_historical_year2_end = amazon.history(start=\"2020-11-05\", end=\"2020-11-06\")\n",
    "initial_value_year2_amazon = amazon_historical_year2_begin['Close']['2019-11-05']\n",
    "current_value_year2_amazon= amazon_historical_year2_end['Close']['2020-11-05']\n",
    "\n",
    "year2_ror_amazon = ((current_value_year2_amazon - initial_value_year2_amazon)/initial_value_year2_amazon)*100\n",
    "year2_ror_amazon"
   ]
  },
  {
   "cell_type": "markdown",
   "metadata": {},
   "source": [
    "#### Year 3"
   ]
  },
  {
   "cell_type": "code",
   "execution_count": 6,
   "metadata": {},
   "outputs": [
    {
     "data": {
      "text/plain": [
       "5.929861235231035"
      ]
     },
     "execution_count": 6,
     "metadata": {},
     "output_type": "execute_result"
    }
   ],
   "source": [
    "amazon_historical_year3_begin = amazon.history(start=\"2020-11-05\", end=\"2020-11-06\")\n",
    "amazon_historical_year3_end = amazon.history(start=\"2021-11-05\", end=\"2021-11-06\")\n",
    "initial_value_year3_amazon = amazon_historical_year3_begin['Close']['2020-11-05']\n",
    "current_value_year3_amazon= amazon_historical_year3_end['Close']['2021-11-05']\n",
    "\n",
    "year3_ror_amazon = ((current_value_year3_amazon - initial_value_year3_amazon)/initial_value_year3_amazon)*100\n",
    "year3_ror_amazon\n"
   ]
  },
  {
   "cell_type": "markdown",
   "metadata": {},
   "source": [
    "#### Expected Rate of Return based on 3 year period"
   ]
  },
  {
   "cell_type": "code",
   "execution_count": 7,
   "metadata": {},
   "outputs": [
    {
     "data": {
      "text/plain": [
       "33.664666208604494"
      ]
     },
     "execution_count": 7,
     "metadata": {},
     "output_type": "execute_result"
    }
   ],
   "source": [
    "# Expected rate of return\n",
    "expected_ror_amazon = (year1_ror_amazon + year2_ror_amazon + year3_ror_amazon)/3\n",
    "expected_ror_amazon"
   ]
  },
  {
   "cell_type": "markdown",
   "metadata": {},
   "source": [
    "### 2.2 - Walmart Expected Rate of Return Calculations\n",
    "\n",
    "#### Year 1"
   ]
  },
  {
   "cell_type": "code",
   "execution_count": 8,
   "metadata": {},
   "outputs": [
    {
     "data": {
      "text/plain": [
       "17.952104116275233"
      ]
     },
     "execution_count": 8,
     "metadata": {},
     "output_type": "execute_result"
    }
   ],
   "source": [
    "# Walmart Return calculations\n",
    "walmart_historical_year1_begin = walmart.history(start=\"2018-11-05\", end=\"2018-11-06\")\n",
    "walmart_historical_year1_end = walmart.history(start=\"2019-11-05\", end=\"2019-11-06\")\n",
    "initial_value_year1_wmt = walmart_historical_year1_begin['Close']['2018-11-05']\n",
    "current_value_year1_wmt= walmart_historical_year1_end['Close']['2019-11-05']\n",
    "\n",
    "year1_ror_wmt = ((current_value_year1_wmt - initial_value_year1_wmt)/initial_value_year1_wmt)*100\n",
    "year1_ror_wmt"
   ]
  },
  {
   "cell_type": "markdown",
   "metadata": {},
   "source": [
    "#### Year 2"
   ]
  },
  {
   "cell_type": "code",
   "execution_count": 9,
   "metadata": {},
   "outputs": [
    {
     "data": {
      "text/plain": [
       "22.82151654564294"
      ]
     },
     "execution_count": 9,
     "metadata": {},
     "output_type": "execute_result"
    }
   ],
   "source": [
    "walmart_historical_year2_begin = walmart.history(start=\"2019-11-05\", end=\"2019-11-06\")\n",
    "walmart_historical_year2_end = walmart.history(start=\"2020-11-05\", end=\"2020-11-06\")\n",
    "initial_value_year2_wmt = walmart_historical_year2_begin['Close']['2019-11-05']\n",
    "current_value_year2_wmt= walmart_historical_year2_end['Close']['2020-11-05']\n",
    "\n",
    "year2_ror_wmt = ((current_value_year2_wmt - initial_value_year2_wmt)/initial_value_year2_wmt)*100\n",
    "year2_ror_wmt"
   ]
  },
  {
   "cell_type": "markdown",
   "metadata": {},
   "source": [
    "#### Year 3"
   ]
  },
  {
   "cell_type": "code",
   "execution_count": 10,
   "metadata": {},
   "outputs": [
    {
     "data": {
      "text/plain": [
       "6.3376575236515675"
      ]
     },
     "execution_count": 10,
     "metadata": {},
     "output_type": "execute_result"
    }
   ],
   "source": [
    "walmart_historical_year3_begin = walmart.history(start=\"2020-11-05\", end=\"2020-11-06\")\n",
    "walmart_historical_year3_end = walmart.history(start=\"2021-11-05\", end=\"2021-11-06\")\n",
    "initial_value_year3_wmt = walmart_historical_year3_begin['Close']['2020-11-05']\n",
    "current_value_year3_wmt= walmart_historical_year3_end['Close']['2021-11-05']\n",
    "\n",
    "year3_ror_wmt = ((current_value_year3_wmt - initial_value_year3_wmt)/initial_value_year3_wmt)*100\n",
    "year3_ror_wmt"
   ]
  },
  {
   "cell_type": "markdown",
   "metadata": {},
   "source": [
    "#### Expected Rate of Return based on 3 year period"
   ]
  },
  {
   "cell_type": "code",
   "execution_count": 11,
   "metadata": {},
   "outputs": [
    {
     "data": {
      "text/plain": [
       "15.703759395189913"
      ]
     },
     "execution_count": 11,
     "metadata": {},
     "output_type": "execute_result"
    }
   ],
   "source": [
    "# Expected rate of return \n",
    "expected_ror_wmt = (year1_ror_wmt + year2_ror_wmt + year3_ror_wmt)/3\n",
    "expected_ror_wmt"
   ]
  },
  {
   "cell_type": "markdown",
   "metadata": {
    "tags": []
   },
   "source": [
    "### 2.3 - Ebay Expected Rate of Return Calculations\n",
    "\n",
    "#### Year 1"
   ]
  },
  {
   "cell_type": "code",
   "execution_count": 12,
   "metadata": {},
   "outputs": [
    {
     "data": {
      "text/plain": [
       "21.036553031530747"
      ]
     },
     "execution_count": 12,
     "metadata": {},
     "output_type": "execute_result"
    }
   ],
   "source": [
    "# Ebay Return calculations\n",
    "ebay_historical_year1_begin = ebay.history(start=\"2018-11-05\", end=\"2018-11-06\")\n",
    "ebay_historical_year1_end = ebay.history(start=\"2019-11-05\", end=\"2019-11-06\")\n",
    "initial_value_year1_ebay = ebay_historical_year1_begin['Close']['2018-11-05']\n",
    "current_value_year1_ebay= ebay_historical_year1_end['Close']['2019-11-05']\n",
    "\n",
    "year1_ror_ebay = ((current_value_year1_ebay - initial_value_year1_ebay)/initial_value_year1_ebay)*100\n",
    "year1_ror_ebay"
   ]
  },
  {
   "cell_type": "markdown",
   "metadata": {},
   "source": [
    "#### Year 2"
   ]
  },
  {
   "cell_type": "code",
   "execution_count": 13,
   "metadata": {},
   "outputs": [
    {
     "data": {
      "text/plain": [
       "41.3755543143596"
      ]
     },
     "execution_count": 13,
     "metadata": {},
     "output_type": "execute_result"
    }
   ],
   "source": [
    "ebay_historical_year2_begin = ebay.history(start=\"2019-11-05\", end=\"2019-11-06\")\n",
    "ebay_historical_year2_end = ebay.history(start=\"2020-11-05\", end=\"2020-11-06\")\n",
    "initial_value_year2_ebay = ebay_historical_year2_begin['Close']['2019-11-05']\n",
    "current_value_year2_ebay= ebay_historical_year2_end['Close']['2020-11-05']\n",
    "\n",
    "year2_ror_ebay = ((current_value_year2_ebay - initial_value_year2_ebay)/initial_value_year2_ebay)*100\n",
    "year2_ror_ebay"
   ]
  },
  {
   "cell_type": "markdown",
   "metadata": {},
   "source": [
    "#### Year 3"
   ]
  },
  {
   "cell_type": "code",
   "execution_count": 14,
   "metadata": {},
   "outputs": [
    {
     "data": {
      "text/plain": [
       "54.73517929318137"
      ]
     },
     "execution_count": 14,
     "metadata": {},
     "output_type": "execute_result"
    }
   ],
   "source": [
    "ebay_historical_year3_begin = ebay.history(start=\"2020-11-05\", end=\"2020-11-06\")\n",
    "ebay_historical_year3_end = ebay.history(start=\"2021-11-05\", end=\"2021-11-06\")\n",
    "initial_value_year3_ebay = ebay_historical_year3_begin['Close']['2020-11-05']\n",
    "current_value_year3_ebay= ebay_historical_year3_end['Close']['2021-11-05']\n",
    "\n",
    "year3_ror_ebay = ((current_value_year3_ebay - initial_value_year3_ebay)/initial_value_year3_ebay)*100\n",
    "year3_ror_ebay"
   ]
  },
  {
   "cell_type": "markdown",
   "metadata": {},
   "source": [
    "#### Expected Rate of Return based on 3 year period"
   ]
  },
  {
   "cell_type": "code",
   "execution_count": 15,
   "metadata": {},
   "outputs": [
    {
     "data": {
      "text/plain": [
       "39.04909554635724"
      ]
     },
     "execution_count": 15,
     "metadata": {},
     "output_type": "execute_result"
    }
   ],
   "source": [
    "# Expected rate of return\n",
    "expected_ror_ebay = (year1_ror_ebay + year2_ror_ebay + year3_ror_ebay)/3\n",
    "expected_ror_ebay"
   ]
  },
  {
   "cell_type": "markdown",
   "metadata": {},
   "source": [
    "### 2.4 - Target Expected Rate of Return Calculations"
   ]
  },
  {
   "cell_type": "markdown",
   "metadata": {
    "tags": []
   },
   "source": [
    "#### Year 1"
   ]
  },
  {
   "cell_type": "code",
   "execution_count": 16,
   "metadata": {},
   "outputs": [
    {
     "data": {
      "text/plain": [
       "47.30763121599079"
      ]
     },
     "execution_count": 16,
     "metadata": {},
     "output_type": "execute_result"
    }
   ],
   "source": [
    "target_historical_year2_begin = target.history(start=\"2019-11-05\", end=\"2019-11-06\")\n",
    "target_historical_year2_end = target.history(start=\"2020-11-05\", end=\"2020-11-06\")\n",
    "initial_value_year2_target = target_historical_year2_begin['Close']['2019-11-05']\n",
    "current_value_year2_target= target_historical_year2_end['Close']['2020-11-05']\n",
    "\n",
    "year2_ror_target = ((current_value_year2_target - initial_value_year2_target)/initial_value_year2_target)*100\n",
    "year2_ror_target"
   ]
  },
  {
   "cell_type": "markdown",
   "metadata": {
    "tags": []
   },
   "source": [
    "#### Year 2"
   ]
  },
  {
   "cell_type": "code",
   "execution_count": 17,
   "metadata": {},
   "outputs": [
    {
     "data": {
      "text/plain": [
       "33.37209190862818"
      ]
     },
     "execution_count": 17,
     "metadata": {},
     "output_type": "execute_result"
    }
   ],
   "source": [
    "# Target Return calculations\n",
    "target_historical_year1_begin = target.history(start=\"2018-11-05\", end=\"2018-11-06\")\n",
    "target_historical_year1_end = target.history(start=\"2019-11-05\", end=\"2019-11-06\")\n",
    "initial_value_year1_target = target_historical_year1_begin['Close']['2018-11-05']\n",
    "current_value_year1_target= target_historical_year1_end['Close']['2019-11-05']\n",
    "\n",
    "year1_ror_target = ((current_value_year1_target - initial_value_year1_target)/initial_value_year1_target)*100\n",
    "year1_ror_target"
   ]
  },
  {
   "cell_type": "markdown",
   "metadata": {},
   "source": [
    "#### Year 3"
   ]
  },
  {
   "cell_type": "code",
   "execution_count": 18,
   "metadata": {},
   "outputs": [
    {
     "data": {
      "text/plain": [
       "62.60844855852912"
      ]
     },
     "execution_count": 18,
     "metadata": {},
     "output_type": "execute_result"
    }
   ],
   "source": [
    "target_historical_year3_begin = target.history(start=\"2020-11-05\", end=\"2020-11-06\")\n",
    "target_historical_year3_end = target.history(start=\"2021-11-05\", end=\"2021-11-06\")\n",
    "initial_value_year3_target = target_historical_year3_begin['Close']['2020-11-05']\n",
    "current_value_year3_target= target_historical_year3_end['Close']['2021-11-05']\n",
    "\n",
    "year3_ror_target = ((current_value_year3_target - initial_value_year3_target)/initial_value_year3_target)*100\n",
    "year3_ror_target"
   ]
  },
  {
   "cell_type": "markdown",
   "metadata": {},
   "source": [
    "#### Expected Rate of Return based on 3 year period"
   ]
  },
  {
   "cell_type": "code",
   "execution_count": 19,
   "metadata": {},
   "outputs": [
    {
     "data": {
      "text/plain": [
       "47.762723894382695"
      ]
     },
     "execution_count": 19,
     "metadata": {},
     "output_type": "execute_result"
    }
   ],
   "source": [
    "# Expected rate of return\n",
    "expected_ror_target = (year1_ror_target + year2_ror_target + year3_ror_target)/3\n",
    "expected_ror_target"
   ]
  },
  {
   "cell_type": "markdown",
   "metadata": {},
   "source": [
    "### 2.5 - Overstock Expected Rate of Return Calculations\n",
    "\n",
    "#### Year 1"
   ]
  },
  {
   "cell_type": "code",
   "execution_count": 20,
   "metadata": {},
   "outputs": [
    {
     "data": {
      "text/plain": [
       "-49.34343374015091"
      ]
     },
     "execution_count": 20,
     "metadata": {},
     "output_type": "execute_result"
    }
   ],
   "source": [
    "# Overstock Return calculations\n",
    "overstock_historical_year1_begin = overstock.history(start=\"2018-11-05\", end=\"2018-11-06\")\n",
    "overstock_historical_year1_end = overstock.history(start=\"2019-11-05\", end=\"2019-11-06\")\n",
    "initial_value_year1_overstock = overstock_historical_year1_begin['Close']['2018-11-05']\n",
    "current_value_year1_overstock= overstock_historical_year1_end['Close']['2019-11-05']\n",
    "\n",
    "year1_ror_overstock = ((current_value_year1_overstock - initial_value_year1_overstock)/initial_value_year1_overstock)*100\n",
    "year1_ror_overstock"
   ]
  },
  {
   "cell_type": "markdown",
   "metadata": {},
   "source": [
    "#### Year 2"
   ]
  },
  {
   "cell_type": "code",
   "execution_count": 21,
   "metadata": {},
   "outputs": [
    {
     "data": {
      "text/plain": [
       "583.3499774702757"
      ]
     },
     "execution_count": 21,
     "metadata": {},
     "output_type": "execute_result"
    }
   ],
   "source": [
    "overstock_historical_year2_begin = overstock.history(start=\"2019-11-05\", end=\"2019-11-06\")\n",
    "overstock_historical_year2_end = overstock.history(start=\"2020-11-05\", end=\"2020-11-06\")\n",
    "initial_value_year2_overstock = overstock_historical_year2_begin['Close']['2019-11-05']\n",
    "current_value_year2_overstock= overstock_historical_year2_end['Close']['2020-11-05']\n",
    "\n",
    "year2_ror_overstock = ((current_value_year2_overstock - initial_value_year2_overstock)/initial_value_year2_overstock)*100\n",
    "year2_ror_overstock\n"
   ]
  },
  {
   "cell_type": "markdown",
   "metadata": {},
   "source": [
    "#### Year 3"
   ]
  },
  {
   "cell_type": "code",
   "execution_count": 22,
   "metadata": {},
   "outputs": [
    {
     "data": {
      "text/plain": [
       "52.40734999874773"
      ]
     },
     "execution_count": 22,
     "metadata": {},
     "output_type": "execute_result"
    }
   ],
   "source": [
    "overstock_historical_year3_begin = overstock.history(start=\"2020-11-05\", end=\"2020-11-06\")\n",
    "overstock_historical_year3_end = overstock.history(start=\"2021-11-05\", end=\"2021-11-06\")\n",
    "initial_value_year3_overstock = overstock_historical_year3_begin['Close']['2020-11-05']\n",
    "current_value_year3_overstock= overstock_historical_year3_end['Close']['2021-11-05']\n",
    "\n",
    "year3_ror_overstock = ((current_value_year3_overstock - initial_value_year3_overstock)/initial_value_year3_overstock)*100\n",
    "year3_ror_overstock"
   ]
  },
  {
   "cell_type": "markdown",
   "metadata": {},
   "source": [
    "#### Expected Rate of Return based on 3 year period"
   ]
  },
  {
   "cell_type": "code",
   "execution_count": 23,
   "metadata": {},
   "outputs": [
    {
     "data": {
      "text/plain": [
       "195.47129790962416"
      ]
     },
     "execution_count": 23,
     "metadata": {},
     "output_type": "execute_result"
    }
   ],
   "source": [
    "# Expected rate of return\n",
    "expected_ror_overstock = (year1_ror_overstock + year2_ror_overstock + year3_ror_overstock)/3\n",
    "expected_ror_overstock"
   ]
  },
  {
   "cell_type": "markdown",
   "metadata": {},
   "source": [
    "***"
   ]
  },
  {
   "cell_type": "markdown",
   "metadata": {},
   "source": [
    "## Part 3 - Investment Values, Expected Rate of Return and Correlation Visualizatiions\n",
    "\n",
    "### 3.1 - Investment Value Visualization"
   ]
  },
  {
   "cell_type": "code",
   "execution_count": 24,
   "metadata": {},
   "outputs": [
    {
     "data": {
      "text/html": [
       "<div>\n",
       "<style scoped>\n",
       "    .dataframe tbody tr th:only-of-type {\n",
       "        vertical-align: middle;\n",
       "    }\n",
       "\n",
       "    .dataframe tbody tr th {\n",
       "        vertical-align: top;\n",
       "    }\n",
       "\n",
       "    .dataframe thead th {\n",
       "        text-align: right;\n",
       "    }\n",
       "</style>\n",
       "<table border=\"1\" class=\"dataframe\">\n",
       "  <thead>\n",
       "    <tr style=\"text-align: right;\">\n",
       "      <th></th>\n",
       "      <th>Current Amazon Investment Value</th>\n",
       "      <th>Current Walmart Investment Value</th>\n",
       "      <th>Current Ebay Investment Value</th>\n",
       "      <th>Current Target Investment Value</th>\n",
       "      <th>Current Overstock Investment Value</th>\n",
       "    </tr>\n",
       "  </thead>\n",
       "  <tbody>\n",
       "    <tr>\n",
       "      <th>0</th>\n",
       "      <td>215812.75341</td>\n",
       "      <td>152553.322395</td>\n",
       "      <td>259390.329362</td>\n",
       "      <td>319474.808393</td>\n",
       "      <td>493232.323232</td>\n",
       "    </tr>\n",
       "  </tbody>\n",
       "</table>\n",
       "</div>"
      ],
      "text/plain": [
       "   Current Amazon Investment Value  Current Walmart Investment Value  \\\n",
       "0                     215812.75341                     152553.322395   \n",
       "\n",
       "   Current Ebay Investment Value  Current Target Investment Value  \\\n",
       "0                  259390.329362                    319474.808393   \n",
       "\n",
       "   Current Overstock Investment Value  \n",
       "0                       493232.323232  "
      ]
     },
     "execution_count": 24,
     "metadata": {},
     "output_type": "execute_result"
    }
   ],
   "source": [
    "# Investment stocks series and creating data frame\n",
    "investment_list = pd.Series(\n",
    "    {\n",
    "        \"Current Amazon Investment Value\": current_amazon_investment_value,\n",
    "        \"Current Walmart Investment Value\": current_walmart_investment_value,\n",
    "        \"Current Ebay Investment Value\": current_ebay_investment_value,\n",
    "        \"Current Target Investment Value\": current_target_investment_value,\n",
    "        \"Current Overstock Investment Value\": current_overstock_investment_value\n",
    "    }\n",
    ")\n",
    "\n",
    "investment_values_df = pd.DataFrame(data=investment_list)\n",
    "investment_values_df.T"
   ]
  },
  {
   "cell_type": "code",
   "execution_count": 25,
   "metadata": {},
   "outputs": [
    {
     "data": {
      "image/png": "[encoded data removed]",
      "text/plain": [
       "<Figure size 1080x792 with 1 Axes>"
      ]
     },
     "metadata": {},
     "output_type": "display_data"
    }
   ],
   "source": [
    "# Investment values Pie Chart\n",
    "plot = investment_values_df.plot.pie(subplots=True, figsize=(15, 11))"
   ]
  },
  {
   "cell_type": "markdown",
   "metadata": {},
   "source": [
    "### 3.2 - Closing Prices Visualization"
   ]
  },
  {
   "cell_type": "code",
   "execution_count": 26,
   "metadata": {},
   "outputs": [],
   "source": [
    "# Stocks 3Y History Data\n",
    "amazon_history = amazon.history(period = \"3y\")\n",
    "walmart_history = walmart.history(period = \"3y\")\n",
    "ebay_history = ebay.history(period = \"3y\")\n",
    "target_history = target.history(period = \"3y\")\n",
    "overstock_history = overstock.history(period = \"3y\")"
   ]
  },
  {
   "cell_type": "code",
   "execution_count": 27,
   "metadata": {},
   "outputs": [],
   "source": [
    "# Start time and sotcks list\n",
    "start = datetime(2018, 11, 5)\n",
    "symbols_list = ['AMZN', 'WMT', 'EBAY', 'TGT', 'OSTK']"
   ]
  },
  {
   "cell_type": "code",
   "execution_count": 28,
   "metadata": {},
   "outputs": [
    {
     "data": {
      "text/html": [
       "<div>\n",
       "<style scoped>\n",
       "    .dataframe tbody tr th:only-of-type {\n",
       "        vertical-align: middle;\n",
       "    }\n",
       "\n",
       "    .dataframe tbody tr th {\n",
       "        vertical-align: top;\n",
       "    }\n",
       "\n",
       "    .dataframe thead th {\n",
       "        text-align: right;\n",
       "    }\n",
       "</style>\n",
       "<table border=\"1\" class=\"dataframe\">\n",
       "  <thead>\n",
       "    <tr style=\"text-align: right;\">\n",
       "      <th></th>\n",
       "      <th>Overstock</th>\n",
       "      <th>Target</th>\n",
       "      <th>Ebay</th>\n",
       "      <th>Walmart</th>\n",
       "      <th>Amazon</th>\n",
       "    </tr>\n",
       "    <tr>\n",
       "      <th>Date</th>\n",
       "      <th></th>\n",
       "      <th></th>\n",
       "      <th></th>\n",
       "      <th></th>\n",
       "      <th></th>\n",
       "    </tr>\n",
       "  </thead>\n",
       "  <tbody>\n",
       "    <tr>\n",
       "      <th>2018-11-12</th>\n",
       "      <td>17.760000</td>\n",
       "      <td>79.702522</td>\n",
       "      <td>27.886225</td>\n",
       "      <td>98.428772</td>\n",
       "      <td>1636.849976</td>\n",
       "    </tr>\n",
       "    <tr>\n",
       "      <th>2018-11-13</th>\n",
       "      <td>17.790001</td>\n",
       "      <td>78.630112</td>\n",
       "      <td>27.058115</td>\n",
       "      <td>97.547478</td>\n",
       "      <td>1631.170044</td>\n",
       "    </tr>\n",
       "    <tr>\n",
       "      <th>2018-11-14</th>\n",
       "      <td>16.950001</td>\n",
       "      <td>77.520416</td>\n",
       "      <td>26.855898</td>\n",
       "      <td>96.211334</td>\n",
       "      <td>1599.010010</td>\n",
       "    </tr>\n",
       "    <tr>\n",
       "      <th>2018-11-15</th>\n",
       "      <td>17.530001</td>\n",
       "      <td>75.310356</td>\n",
       "      <td>27.125519</td>\n",
       "      <td>94.325592</td>\n",
       "      <td>1619.439941</td>\n",
       "    </tr>\n",
       "    <tr>\n",
       "      <th>2018-11-16</th>\n",
       "      <td>17.190001</td>\n",
       "      <td>74.303238</td>\n",
       "      <td>27.077374</td>\n",
       "      <td>92.572510</td>\n",
       "      <td>1593.410034</td>\n",
       "    </tr>\n",
       "    <tr>\n",
       "      <th>...</th>\n",
       "      <td>...</td>\n",
       "      <td>...</td>\n",
       "      <td>...</td>\n",
       "      <td>...</td>\n",
       "      <td>...</td>\n",
       "    </tr>\n",
       "    <tr>\n",
       "      <th>2021-11-05</th>\n",
       "      <td>104.459999</td>\n",
       "      <td>254.270004</td>\n",
       "      <td>75.570000</td>\n",
       "      <td>150.229996</td>\n",
       "      <td>3518.989990</td>\n",
       "    </tr>\n",
       "    <tr>\n",
       "      <th>2021-11-08</th>\n",
       "      <td>105.360001</td>\n",
       "      <td>253.330002</td>\n",
       "      <td>73.760002</td>\n",
       "      <td>149.270004</td>\n",
       "      <td>3488.979980</td>\n",
       "    </tr>\n",
       "    <tr>\n",
       "      <th>2021-11-09</th>\n",
       "      <td>101.980003</td>\n",
       "      <td>255.160004</td>\n",
       "      <td>73.959999</td>\n",
       "      <td>149.789993</td>\n",
       "      <td>3576.229980</td>\n",
       "    </tr>\n",
       "    <tr>\n",
       "      <th>2021-11-10</th>\n",
       "      <td>96.230003</td>\n",
       "      <td>254.050003</td>\n",
       "      <td>73.230003</td>\n",
       "      <td>148.440002</td>\n",
       "      <td>3482.050049</td>\n",
       "    </tr>\n",
       "    <tr>\n",
       "      <th>2021-11-11</th>\n",
       "      <td>98.470001</td>\n",
       "      <td>256.010010</td>\n",
       "      <td>73.300003</td>\n",
       "      <td>148.500000</td>\n",
       "      <td>3472.500000</td>\n",
       "    </tr>\n",
       "  </tbody>\n",
       "</table>\n",
       "<p>756 rows × 5 columns</p>\n",
       "</div>"
      ],
      "text/plain": [
       "             Overstock      Target       Ebay     Walmart       Amazon\n",
       "Date                                                                  \n",
       "2018-11-12   17.760000   79.702522  27.886225   98.428772  1636.849976\n",
       "2018-11-13   17.790001   78.630112  27.058115   97.547478  1631.170044\n",
       "2018-11-14   16.950001   77.520416  26.855898   96.211334  1599.010010\n",
       "2018-11-15   17.530001   75.310356  27.125519   94.325592  1619.439941\n",
       "2018-11-16   17.190001   74.303238  27.077374   92.572510  1593.410034\n",
       "...                ...         ...        ...         ...          ...\n",
       "2021-11-05  104.459999  254.270004  75.570000  150.229996  3518.989990\n",
       "2021-11-08  105.360001  253.330002  73.760002  149.270004  3488.979980\n",
       "2021-11-09  101.980003  255.160004  73.959999  149.789993  3576.229980\n",
       "2021-11-10   96.230003  254.050003  73.230003  148.440002  3482.050049\n",
       "2021-11-11   98.470001  256.010010  73.300003  148.500000  3472.500000\n",
       "\n",
       "[756 rows x 5 columns]"
      ]
     },
     "metadata": {},
     "output_type": "display_data"
    },
    {
     "data": {
      "text/plain": [
       "<AxesSubplot:title={'center':'Closing Prices - E-Commerce'}, xlabel='Date'>"
      ]
     },
     "execution_count": 28,
     "metadata": {},
     "output_type": "execute_result"
    },
    {
     "data": {
      "image/png": "[encoded data removed]",
      "text/plain": [
       "<Figure size 1584x1152 with 1 Axes>"
      ]
     },
     "metadata": {
      "needs_background": "light"
     },
     "output_type": "display_data"
    }
   ],
   "source": [
    "# Data frames and Plot\n",
    "overstock_df = pd.DataFrame(data = overstock_history['Close'])\n",
    "target_df = pd.DataFrame(data = target_history['Close'])\n",
    "ebay_df = pd.DataFrame(data = ebay_history['Close'])\n",
    "walmart_df = pd.DataFrame(data = walmart_history['Close'])\n",
    "amazon_df = pd.DataFrame(data = amazon_history['Close'])\n",
    "\n",
    "dataframe = pd.concat([overstock_df, target_df, ebay_df, walmart_df, amazon_df], axis = 1)\n",
    "\n",
    "dataframe.columns = [ \"Overstock\", \"Target\", \"Ebay\", \"Walmart\", \"Amazon\"]\n",
    "display(dataframe)\n",
    "dataframe.plot(figsize=(22,16), title=(\"Closing Prices - E-Commerce\"))"
   ]
  },
  {
   "cell_type": "markdown",
   "metadata": {},
   "source": [
    "### 3.3 - Correlation Calulations and Visualization"
   ]
  },
  {
   "cell_type": "code",
   "execution_count": 29,
   "metadata": {},
   "outputs": [
    {
     "data": {
      "text/html": [
       "<div>\n",
       "<style scoped>\n",
       "    .dataframe tbody tr th:only-of-type {\n",
       "        vertical-align: middle;\n",
       "    }\n",
       "\n",
       "    .dataframe tbody tr th {\n",
       "        vertical-align: top;\n",
       "    }\n",
       "\n",
       "    .dataframe thead th {\n",
       "        text-align: right;\n",
       "    }\n",
       "</style>\n",
       "<table border=\"1\" class=\"dataframe\">\n",
       "  <thead>\n",
       "    <tr style=\"text-align: right;\">\n",
       "      <th></th>\n",
       "      <th>Overstock</th>\n",
       "      <th>Target</th>\n",
       "      <th>Ebay</th>\n",
       "      <th>Walmart</th>\n",
       "      <th>Amazon</th>\n",
       "    </tr>\n",
       "  </thead>\n",
       "  <tbody>\n",
       "    <tr>\n",
       "      <th>Overstock</th>\n",
       "      <td>1.000000</td>\n",
       "      <td>0.828630</td>\n",
       "      <td>0.883554</td>\n",
       "      <td>0.806494</td>\n",
       "      <td>0.921312</td>\n",
       "    </tr>\n",
       "    <tr>\n",
       "      <th>Target</th>\n",
       "      <td>0.828630</td>\n",
       "      <td>1.000000</td>\n",
       "      <td>0.936556</td>\n",
       "      <td>0.896709</td>\n",
       "      <td>0.887731</td>\n",
       "    </tr>\n",
       "    <tr>\n",
       "      <th>Ebay</th>\n",
       "      <td>0.883554</td>\n",
       "      <td>0.936556</td>\n",
       "      <td>1.000000</td>\n",
       "      <td>0.852328</td>\n",
       "      <td>0.922393</td>\n",
       "    </tr>\n",
       "    <tr>\n",
       "      <th>Walmart</th>\n",
       "      <td>0.806494</td>\n",
       "      <td>0.896709</td>\n",
       "      <td>0.852328</td>\n",
       "      <td>1.000000</td>\n",
       "      <td>0.921519</td>\n",
       "    </tr>\n",
       "    <tr>\n",
       "      <th>Amazon</th>\n",
       "      <td>0.921312</td>\n",
       "      <td>0.887731</td>\n",
       "      <td>0.922393</td>\n",
       "      <td>0.921519</td>\n",
       "      <td>1.000000</td>\n",
       "    </tr>\n",
       "  </tbody>\n",
       "</table>\n",
       "</div>"
      ],
      "text/plain": [
       "           Overstock    Target      Ebay   Walmart    Amazon\n",
       "Overstock   1.000000  0.828630  0.883554  0.806494  0.921312\n",
       "Target      0.828630  1.000000  0.936556  0.896709  0.887731\n",
       "Ebay        0.883554  0.936556  1.000000  0.852328  0.922393\n",
       "Walmart     0.806494  0.896709  0.852328  1.000000  0.921519\n",
       "Amazon      0.921312  0.887731  0.922393  0.921519  1.000000"
      ]
     },
     "execution_count": 29,
     "metadata": {},
     "output_type": "execute_result"
    }
   ],
   "source": [
    "# Correlation of all stocks\n",
    "corr_df = dataframe.corr(method='pearson') \n",
    "\n",
    "# Reset symbol as index (rather than 0-X)\n",
    "corr_df.head().reset_index()\n",
    "corr_df.head()"
   ]
  },
  {
   "cell_type": "code",
   "execution_count": 30,
   "metadata": {},
   "outputs": [
    {
     "data": {
      "text/plain": [
       "<AxesSubplot:>"
      ]
     },
     "execution_count": 30,
     "metadata": {},
     "output_type": "execute_result"
    },
    {
     "data": {
      "image/png": "[encoded data removed]",
      "text/plain": [
       "<Figure size 432x288 with 2 Axes>"
      ]
     },
     "metadata": {
      "needs_background": "light"
     },
     "output_type": "display_data"
    }
   ],
   "source": [
    "# Heatmap from the correlation values\n",
    "sns.heatmap(corr_df)"
   ]
  },
  {
   "cell_type": "markdown",
   "metadata": {},
   "source": [
    "***"
   ]
  },
  {
   "cell_type": "markdown",
   "metadata": {},
   "source": [
    "## Part 4 - Portfolio Mean-Variance Calulations and Graph comparisons\n",
    "\n",
    "### 4.1 - Mean-Variance Caluculations"
   ]
  },
  {
   "cell_type": "markdown",
   "metadata": {},
   "source": [
    "#### Standard Deviation Calculation"
   ]
  },
  {
   "cell_type": "code",
   "execution_count": 31,
   "metadata": {},
   "outputs": [
    {
     "data": {
      "text/plain": [
       "0.32564771273515963"
      ]
     },
     "metadata": {},
     "output_type": "display_data"
    },
    {
     "data": {
      "text/plain": [
       "0.6072974117887174"
      ]
     },
     "metadata": {},
     "output_type": "display_data"
    },
    {
     "data": {
      "text/plain": [
       "0.14089210151933998"
      ]
     },
     "metadata": {},
     "output_type": "display_data"
    },
    {
     "data": {
      "text/plain": [
       "0.18699765714905767"
      ]
     },
     "metadata": {},
     "output_type": "display_data"
    },
    {
     "data": {
      "text/plain": [
       "7.233631883711597"
      ]
     },
     "metadata": {},
     "output_type": "display_data"
    }
   ],
   "source": [
    "# Variance calculations\n",
    "overstock_std = float(overstock_df['Close'].std())/100\n",
    "target_std = float(target_df['Close'].std())/100\n",
    "ebay_std = float(ebay_df['Close'].std())/100\n",
    "walmart_std = float(walmart_df['Close'].std())/100\n",
    "amazon_std = float(amazon_df['Close'].std())/100\n",
    "\n",
    "display(overstock_std)\n",
    "display(target_std)\n",
    "display(ebay_std)\n",
    "display(walmart_std)\n",
    "display(amazon_std)"
   ]
  },
  {
   "cell_type": "markdown",
   "metadata": {},
   "source": [
    "#### Variance Function"
   ]
  },
  {
   "cell_type": "code",
   "execution_count": 32,
   "metadata": {},
   "outputs": [],
   "source": [
    "# Variance function\n",
    "def variance(weight1, std_1, weight2, std_2, corr_ratio):\n",
    "    variance = (((weight1 ** 2) * (std_1 ** 2)) + ((weight2 ** 2) * (std_2 ** 2)) + ((weight1 ** 2) * (std_1 ** 2) * (weight2 ** 2) * (std_2 ** 2) * (corr_ratio)))\n",
    "    return variance"
   ]
  },
  {
   "cell_type": "markdown",
   "metadata": {},
   "source": [
    "#### Overstock VS."
   ]
  },
  {
   "cell_type": "code",
   "execution_count": 33,
   "metadata": {},
   "outputs": [],
   "source": [
    "# \n",
    "\n",
    "ostk_to_target_variance = variance(.50,overstock_std,.50,target_std,0.825182)\n",
    "ostk_to_ebay_variance = variance(.50,overstock_std,.50,ebay_std,0.880374)\n",
    "ostk_to_walmart_variance = variance(.50,overstock_std,.50,walmart_std,0.803650)\n",
    "ostk_to_amazon_variance = variance(.50,overstock_std,.50,amazon_std,0.825182)\n",
    "\n",
    "ostk_to_target_percentage = \"{:.2%}\".format(ostk_to_target_variance)\n",
    "ostk_to_ebay_percentage = \"{:.2%}\".format(ostk_to_ebay_variance)\n",
    "ostk_to_walmart_percentage = \"{:.2%}\".format(ostk_to_walmart_variance)\n",
    "ostk_to_amazon_percentage = \"{:.2%}\".format(ostk_to_amazon_variance)"
   ]
  },
  {
   "cell_type": "markdown",
   "metadata": {},
   "source": [
    "#### Target VS."
   ]
  },
  {
   "cell_type": "code",
   "execution_count": 34,
   "metadata": {},
   "outputs": [],
   "source": [
    "#\n",
    "\n",
    "tgt_to_ebay_variance = variance(.50,target_std,.50,ebay_std,0.935200)\n",
    "tgt_to_walmart_variance = variance(.50,target_std,.50,walmart_std,0.895973)\n",
    "tgt_to_amazon_variance = variance(.50,target_std,.50,amazon_std,0.887384)\n",
    "\n",
    "tgt_to_ebay_percentage = \"{:.2%}\".format(tgt_to_ebay_variance)\n",
    "tgt_to_walmart_percentage = \"{:.2%}\".format(tgt_to_walmart_variance)\n",
    "tgt_to_amazon_percentage = \"{:.2%}\".format(tgt_to_amazon_variance)"
   ]
  },
  {
   "cell_type": "markdown",
   "metadata": {},
   "source": [
    "#### Ebay VS."
   ]
  },
  {
   "cell_type": "code",
   "execution_count": 35,
   "metadata": {},
   "outputs": [],
   "source": [
    "#\n",
    "\n",
    "ebay_to_walmart_variance = variance(.50,ebay_std,.50,walmart_std,0.851683)\n",
    "ebay_to_amazon_variance = variance(.50,ebay_std,.50,amazon_std,0.922619)\n",
    "\n",
    "ebay_to_walmart_percentage = \"{:.2%}\".format(ebay_to_walmart_variance)\n",
    "ebay_to_amazon_percentage = \"{:.2%}\".format(ebay_to_amazon_variance)\n"
   ]
  },
  {
   "cell_type": "markdown",
   "metadata": {},
   "source": [
    "#### Walmart VS."
   ]
  },
  {
   "cell_type": "code",
   "execution_count": 36,
   "metadata": {},
   "outputs": [],
   "source": [
    "#\n",
    "\n",
    "walmart_to_amazon_variance = variance(.50,walmart_std,.50,amazon_std,0.921194)\n",
    "\n",
    "walmart_to_amazon_percentage = \"{:.2%}\".format(walmart_to_amazon_variance)"
   ]
  },
  {
   "cell_type": "markdown",
   "metadata": {},
   "source": [
    "### 4.2 - Graph Comparisons"
   ]
  },
  {
   "cell_type": "markdown",
   "metadata": {},
   "source": [
    "#### Dataframe Creation"
   ]
  },
  {
   "cell_type": "code",
   "execution_count": 37,
   "metadata": {},
   "outputs": [],
   "source": [
    "#\n",
    "\n",
    "overstock_vs = [ostk_to_target_variance, ostk_to_ebay_variance, ostk_to_walmart_variance]\n",
    "ebay_vs = [tgt_to_ebay_variance, ostk_to_ebay_variance, ebay_to_walmart_variance]\n",
    "target_vs = [tgt_to_ebay_variance, tgt_to_walmart_variance,  ostk_to_target_variance]\n",
    "walmart_vs =[ostk_to_walmart_variance, ebay_to_walmart_variance, tgt_to_walmart_variance]\n",
    "amazon_vs = [ostk_to_amazon_variance, ebay_to_amazon_variance,tgt_to_amazon_variance, walmart_to_amazon_variance]\n",
    "\n",
    "overstock_vs_dataframe = pd.DataFrame(overstock_vs)\n",
    "ebay_vs_dataframe = pd.DataFrame(ebay_vs)\n",
    "target_vs_dataframe = pd.DataFrame(target_vs)\n",
    "walmart_vs_dataframe = pd.DataFrame(walmart_vs)\n",
    "amazon_vs_dataframe = pd.DataFrame(amazon_vs)\n",
    "\n",
    "overstock_vs_dataframe = overstock_vs_dataframe.set_axis(['Target', 'Ebay', 'Walmart',], axis='index')\n",
    "ebay_vs_dataframe = ebay_vs_dataframe.set_axis(['Target', 'Overstock', 'Walmart',], axis='index')\n",
    "target_vs_dataframe = target_vs_dataframe.set_axis(['Ebay', 'Walmart', 'Overstock'], axis='index')\n",
    "walmart_vs_dataframe = walmart_vs_dataframe.set_axis(['Overstock', 'Ebay', 'Target',], axis='index')\n",
    "amazon_vs_dataframe = amazon_vs_dataframe.set_axis(['Overstock', 'Ebay', 'Target','Walmart'], axis='index')"
   ]
  },
  {
   "cell_type": "markdown",
   "metadata": {},
   "source": [
    "#### Plot Creation"
   ]
  },
  {
   "cell_type": "code",
   "execution_count": 38,
   "metadata": {},
   "outputs": [],
   "source": [
    "#\n",
    "\n",
    "overstock_vs_plot = overstock_vs_dataframe.hvplot.bar(\n",
    "    xlabel=\"Ecommerce Stocks\",\n",
    "    ylabel=\"Variance\", \n",
    "    rot=45,\n",
    "    label=\"Overstock Vs.\",\n",
    "    color = \"#C9412E\",\n",
    "    yformatter = \"%.3f\"\n",
    ")\n",
    "\n",
    "ebay_vs_plot = ebay_vs_dataframe.hvplot.bar(\n",
    "    xlabel=\"Ecommerce Stocks\",\n",
    "    ylabel=\"Variance\", \n",
    "    rot=45,\n",
    "    label=\"Ebay Vs.\",\n",
    "    color = \"#DED02C\",\n",
    "    yformatter = \"%.3f\"\n",
    ")\n",
    "\n",
    "target_vs_plot = target_vs_dataframe.hvplot.bar(\n",
    "    xlabel=\"Ecommerce Stocks\",\n",
    "    ylabel=\"Variance\", \n",
    "    rot=45,\n",
    "    label=\"Target Vs.\",\n",
    "    color = \"#3CCF3E\",\n",
    "    yformatter = \"%.3f\"\n",
    ")\n",
    "\n",
    "walmart_vs_plot = walmart_vs_dataframe.hvplot.bar(\n",
    "    xlabel=\"Ecommerce Stocks\",\n",
    "    ylabel=\"Variance\", \n",
    "    rot=45,\n",
    "    label=\"Walmart Vs.\",\n",
    "    color = \"#1961E6\",\n",
    "    yformatter = \"%.3f\"\n",
    ")\n",
    "\n",
    "amazon_vs_plot = amazon_vs_dataframe.hvplot.bar(\n",
    "    xlabel=\"Ecommerce Stocks\",\n",
    "    ylabel=\"Variance\", \n",
    "    rot=45,\n",
    "    label=\"Amazon Vs.\",\n",
    "    color = \"#923DD5\",\n",
    "    yformatter = \"%.3f\"\n",
    ")"
   ]
  },
  {
   "cell_type": "markdown",
   "metadata": {},
   "source": [
    "#### Display Graphs"
   ]
  },
  {
   "cell_type": "code",
   "execution_count": 39,
   "metadata": {},
   "outputs": [
    {
     "data": {},
     "metadata": {},
     "output_type": "display_data"
    },
    {
     "data": {
      "application/vnd.holoviews_exec.v0+json": "",
      "text/html": [
       "<div id='1002'>\n",
       "\n",
       "\n",
       "\n",
       "\n",
       "\n",
       "  <div class=\"bk-root\" id=\"ec4c0da6-8adb-42c3-8e03-caa581495880\" data-root-id=\"1002\"></div>\n",
       "</div>\n",
       "<script type=\"application/javascript\">(function(root) {\n",
       "  function embed_document(root) {\n",
       "    var docs_json = {\"59581229-2875-4ee8-85d4-0ec671b24eef\":{\"defs\":[{\"extends\":null,\"module\":null,\"name\":\"ReactiveHTML1\",\"overrides\":[],\"properties\":[]},{\"extends\":null,\"module\":null,\"name\":\"FlexBox1\",\"overrides\":[],\"properties\":[{\"default\":\"flex-start\",\"kind\":null,\"name\":\"align_content\"},{\"default\":\"flex-start\",\"kind\":null,\"name\":\"align_items\"},{\"default\":\"row\",\"kind\":null,\"name\":\"flex_direction\"},{\"default\":\"wrap\",\"kind\":null,\"name\":\"flex_wrap\"},{\"default\":\"flex-start\",\"kind\":null,\"name\":\"justify_content\"}]},{\"extends\":null,\"module\":null,\"name\":\"TemplateActions1\",\"overrides\":[],\"properties\":[{\"default\":0,\"kind\":null,\"name\":\"open_modal\"},{\"default\":0,\"kind\":null,\"name\":\"close_modal\"}]},{\"extends\":null,\"module\":null,\"name\":\"MaterialTemplateActions1\",\"overrides\":[],\"properties\":[{\"default\":0,\"kind\":null,\"name\":\"open_modal\"},{\"default\":0,\"kind\":null,\"name\":\"close_modal\"}]}],\"roots\":{\"references\":[{\"attributes\":{\"bottom\":{\"value\":0},\"fill_alpha\":{\"value\":1.0},\"fill_color\":{\"value\":\"#DED02C\"},\"hatch_alpha\":{\"value\":1.0},\"hatch_color\":{\"value\":\"#DED02C\"},\"hatch_scale\":{\"value\":12.0},\"hatch_weight\":{\"value\":1.0},\"line_alpha\":{\"value\":1.0},\"line_cap\":{\"value\":\"butt\"},\"line_color\":{\"value\":\"black\"},\"line_dash\":{\"value\":[]},\"line_dash_offset\":{\"value\":0},\"line_join\":{\"value\":\"bevel\"},\"line_width\":{\"value\":1},\"top\":{\"field\":\"A_0\"},\"width\":{\"value\":0.8},\"x\":{\"field\":\"index\"}},\"id\":\"1093\",\"type\":\"VBar\"},{\"attributes\":{\"bottom\":{\"value\":0},\"fill_alpha\":{\"value\":1.0},\"fill_color\":{\"value\":\"#C9412E\"},\"hatch_alpha\":{\"value\":1.0},\"hatch_color\":{\"value\":\"#C9412E\"},\"hatch_scale\":{\"value\":12.0},\"hatch_weight\":{\"value\":1.0},\"line_alpha\":{\"value\":1.0},\"line_cap\":{\"value\":\"butt\"},\"line_color\":{\"value\":\"black\"},\"line_dash\":{\"value\":[]},\"line_dash_offset\":{\"value\":0},\"line_join\":{\"value\":\"bevel\"},\"line_width\":{\"value\":1},\"top\":{\"field\":\"A_0\"},\"width\":{\"value\":0.8},\"x\":{\"field\":\"index\"}},\"id\":\"1044\",\"type\":\"VBar\"},{\"attributes\":{},\"id\":\"1086\",\"type\":\"Selection\"},{\"attributes\":{},\"id\":\"1037\",\"type\":\"Selection\"},{\"attributes\":{\"callback\":null,\"renderers\":[{\"id\":\"1189\"}],\"tags\":[\"hv_created\"],\"tooltips\":[[\"index\",\"@{index}\"],[\"0\",\"@{A_0}\"]]},\"id\":\"1153\",\"type\":\"HoverTool\"},{\"attributes\":{\"fill_alpha\":{\"value\":0.1},\"fill_color\":{\"value\":\"#C9412E\"},\"hatch_alpha\":{\"value\":0.1},\"hatch_color\":{\"value\":\"#C9412E\"},\"line_alpha\":{\"value\":0.1},\"top\":{\"field\":\"A_0\"},\"width\":{\"value\":0.8},\"x\":{\"field\":\"index\"}},\"id\":\"1040\",\"type\":\"VBar\"},{\"attributes\":{\"margin\":[5,5,5,5],\"name\":\"HSpacer01925\",\"sizing_mode\":\"stretch_width\"},\"id\":\"1569\",\"type\":\"Spacer\"},{\"attributes\":{},\"id\":\"1048\",\"type\":\"AllLabels\"},{\"attributes\":{\"fill_color\":{\"value\":\"#C9412E\"},\"hatch_color\":{\"value\":\"#C9412E\"},\"top\":{\"field\":\"A_0\"},\"width\":{\"value\":0.8},\"x\":{\"field\":\"index\"}},\"id\":\"1039\",\"type\":\"VBar\"},{\"attributes\":{},\"id\":\"1149\",\"type\":\"AllLabels\"},{\"attributes\":{\"fill_alpha\":{\"value\":0.2},\"fill_color\":{\"value\":\"#C9412E\"},\"hatch_alpha\":{\"value\":0.2},\"hatch_color\":{\"value\":\"#C9412E\"},\"line_alpha\":{\"value\":0.2},\"top\":{\"field\":\"A_0\"},\"width\":{\"value\":0.8},\"x\":{\"field\":\"index\"}},\"id\":\"1041\",\"type\":\"VBar\"},{\"attributes\":{\"fill_alpha\":{\"value\":0.1},\"fill_color\":{\"value\":\"#DED02C\"},\"hatch_alpha\":{\"value\":0.1},\"hatch_color\":{\"value\":\"#DED02C\"},\"line_alpha\":{\"value\":0.1},\"top\":{\"field\":\"A_0\"},\"width\":{\"value\":0.8},\"x\":{\"field\":\"index\"}},\"id\":\"1089\",\"type\":\"VBar\"},{\"attributes\":{},\"id\":\"1097\",\"type\":\"AllLabels\"},{\"attributes\":{\"coordinates\":null,\"data_source\":{\"id\":\"1036\"},\"glyph\":{\"id\":\"1039\"},\"group\":null,\"hover_glyph\":null,\"muted_glyph\":{\"id\":\"1041\"},\"nonselection_glyph\":{\"id\":\"1040\"},\"selection_glyph\":{\"id\":\"1044\"},\"view\":{\"id\":\"1043\"}},\"id\":\"1042\",\"type\":\"GlyphRenderer\"},{\"attributes\":{\"fill_color\":{\"value\":\"#DED02C\"},\"hatch_color\":{\"value\":\"#DED02C\"},\"top\":{\"field\":\"A_0\"},\"width\":{\"value\":0.8},\"x\":{\"field\":\"index\"}},\"id\":\"1088\",\"type\":\"VBar\"},{\"attributes\":{},\"id\":\"1164\",\"type\":\"CategoricalTicker\"},{\"attributes\":{},\"id\":\"1024\",\"type\":\"PanTool\"},{\"attributes\":{\"fill_alpha\":{\"value\":0.2},\"fill_color\":{\"value\":\"#DED02C\"},\"hatch_alpha\":{\"value\":0.2},\"hatch_color\":{\"value\":\"#DED02C\"},\"line_alpha\":{\"value\":0.2},\"top\":{\"field\":\"A_0\"},\"width\":{\"value\":0.8},\"x\":{\"field\":\"index\"}},\"id\":\"1090\",\"type\":\"VBar\"},{\"attributes\":{\"fill_color\":{\"value\":\"#1961E6\"},\"hatch_color\":{\"value\":\"#1961E6\"},\"top\":{\"field\":\"A_0\"},\"width\":{\"value\":0.8},\"x\":{\"field\":\"index\"}},\"id\":\"1186\",\"type\":\"VBar\"},{\"attributes\":{\"source\":{\"id\":\"1036\"}},\"id\":\"1043\",\"type\":\"CDSView\"},{\"attributes\":{},\"id\":\"1161\",\"type\":\"LinearScale\"},{\"attributes\":{\"coordinates\":null,\"group\":null,\"text\":\"Walmart Vs.\",\"text_color\":\"black\",\"text_font_size\":\"12pt\"},\"id\":\"1155\",\"type\":\"Title\"},{\"attributes\":{\"data\":{\"A_0\":{\"__ndarray__\":\"VLwhiNz7uD+bIyQd1Qa6P61kGkU+6L4/\",\"dtype\":\"float64\",\"order\":\"little\",\"shape\":[3]},\"index\":[\"Ebay\",\"Walmart\",\"Overstock\"]},\"selected\":{\"id\":\"1135\"},\"selection_policy\":{\"id\":\"1227\"}},\"id\":\"1134\",\"type\":\"ColumnDataSource\"},{\"attributes\":{\"coordinates\":null,\"data_source\":{\"id\":\"1085\"},\"glyph\":{\"id\":\"1088\"},\"group\":null,\"hover_glyph\":null,\"muted_glyph\":{\"id\":\"1090\"},\"nonselection_glyph\":{\"id\":\"1089\"},\"selection_glyph\":{\"id\":\"1093\"},\"view\":{\"id\":\"1092\"}},\"id\":\"1091\",\"type\":\"GlyphRenderer\"},{\"attributes\":{\"axis\":{\"id\":\"1163\"},\"coordinates\":null,\"grid_line_color\":null,\"group\":null,\"ticker\":null},\"id\":\"1165\",\"type\":\"Grid\"},{\"attributes\":{},\"id\":\"1171\",\"type\":\"PanTool\"},{\"attributes\":{\"below\":[{\"id\":\"1163\"}],\"center\":[{\"id\":\"1165\"},{\"id\":\"1169\"}],\"height\":300,\"left\":[{\"id\":\"1166\"}],\"margin\":null,\"min_border_bottom\":10,\"min_border_left\":10,\"min_border_right\":10,\"min_border_top\":10,\"renderers\":[{\"id\":\"1189\"}],\"sizing_mode\":\"fixed\",\"title\":{\"id\":\"1155\"},\"toolbar\":{\"id\":\"1176\"},\"toolbar_location\":null,\"width\":700,\"x_range\":{\"id\":\"1004\"},\"x_scale\":{\"id\":\"1159\"},\"y_range\":{\"id\":\"1005\"},\"y_scale\":{\"id\":\"1161\"}},\"id\":\"1154\",\"subtype\":\"Figure\",\"type\":\"Plot\"},{\"attributes\":{\"source\":{\"id\":\"1085\"}},\"id\":\"1092\",\"type\":\"CDSView\"},{\"attributes\":{\"coordinates\":null,\"group\":null,\"text\":\"Overstock Vs.\",\"text_color\":\"black\",\"text_font_size\":\"12pt\"},\"id\":\"1008\",\"type\":\"Title\"},{\"attributes\":{\"axis_label\":\"Ecommerce Stocks\",\"coordinates\":null,\"formatter\":{\"id\":\"1194\"},\"group\":null,\"major_label_orientation\":0.7853981633974483,\"major_label_policy\":{\"id\":\"1195\"},\"ticker\":{\"id\":\"1164\"}},\"id\":\"1163\",\"type\":\"CategoricalAxis\"},{\"attributes\":{},\"id\":\"1096\",\"type\":\"CategoricalTickFormatter\"},{\"attributes\":{\"axis\":{\"id\":\"1166\"},\"coordinates\":null,\"dimension\":1,\"grid_line_color\":null,\"group\":null,\"ticker\":null},\"id\":\"1169\",\"type\":\"Grid\"},{\"attributes\":{},\"id\":\"1237\",\"type\":\"UnionRenderers\"},{\"attributes\":{},\"id\":\"1159\",\"type\":\"CategoricalScale\"},{\"attributes\":{\"axis_label\":\"Variance\",\"coordinates\":null,\"formatter\":{\"id\":\"1192\"},\"group\":null,\"major_label_policy\":{\"id\":\"1198\"},\"ticker\":{\"id\":\"1167\"}},\"id\":\"1166\",\"type\":\"LinearAxis\"},{\"attributes\":{},\"id\":\"1167\",\"type\":\"BasicTicker\"},{\"attributes\":{},\"id\":\"1172\",\"type\":\"WheelZoomTool\"},{\"attributes\":{},\"id\":\"1017\",\"type\":\"CategoricalTicker\"},{\"attributes\":{\"callback\":null,\"renderers\":[{\"id\":\"1042\"}],\"tags\":[\"hv_created\"],\"tooltips\":[[\"index\",\"@{index}\"],[\"0\",\"@{A_0}\"]]},\"id\":\"1006\",\"type\":\"HoverTool\"},{\"attributes\":{},\"id\":\"1170\",\"type\":\"SaveTool\"},{\"attributes\":{},\"id\":\"1014\",\"type\":\"LinearScale\"},{\"attributes\":{\"overlay\":{\"id\":\"1175\"}},\"id\":\"1173\",\"type\":\"BoxZoomTool\"},{\"attributes\":{},\"id\":\"1227\",\"type\":\"UnionRenderers\"},{\"attributes\":{},\"id\":\"1174\",\"type\":\"ResetTool\"},{\"attributes\":{\"axis\":{\"id\":\"1016\"},\"coordinates\":null,\"grid_line_color\":null,\"group\":null,\"ticker\":null},\"id\":\"1018\",\"type\":\"Grid\"},{\"attributes\":{},\"id\":\"1110\",\"type\":\"CategoricalScale\"},{\"attributes\":{\"axis\":{\"id\":\"1019\"},\"coordinates\":null,\"dimension\":1,\"grid_line_color\":null,\"group\":null,\"ticker\":null},\"id\":\"1022\",\"type\":\"Grid\"},{\"attributes\":{},\"id\":\"1051\",\"type\":\"AllLabels\"},{\"attributes\":{\"bottom_units\":\"screen\",\"coordinates\":null,\"fill_alpha\":0.5,\"fill_color\":\"lightgrey\",\"group\":null,\"left_units\":\"screen\",\"level\":\"overlay\",\"line_alpha\":1.0,\"line_color\":\"black\",\"line_dash\":[4,4],\"line_width\":2,\"right_units\":\"screen\",\"syncable\":false,\"top_units\":\"screen\"},\"id\":\"1175\",\"type\":\"BoxAnnotation\"},{\"attributes\":{\"format\":\"%.3f\"},\"id\":\"1045\",\"type\":\"PrintfTickFormatter\"},{\"attributes\":{\"end\":0.13143021309460265,\"reset_end\":0.13143021309460265,\"reset_start\":0.0,\"tags\":[[[\"0\",\"0\",null]]]},\"id\":\"1005\",\"type\":\"Range1d\"},{\"attributes\":{\"format\":\"%.3f\"},\"id\":\"1094\",\"type\":\"PrintfTickFormatter\"},{\"attributes\":{\"below\":[{\"id\":\"1016\"}],\"center\":[{\"id\":\"1018\"},{\"id\":\"1022\"}],\"height\":300,\"left\":[{\"id\":\"1019\"}],\"margin\":null,\"min_border_bottom\":10,\"min_border_left\":10,\"min_border_right\":10,\"min_border_top\":10,\"renderers\":[{\"id\":\"1042\"}],\"sizing_mode\":\"fixed\",\"title\":{\"id\":\"1008\"},\"toolbar\":{\"id\":\"1029\"},\"toolbar_location\":null,\"width\":700,\"x_range\":{\"id\":\"1004\"},\"x_scale\":{\"id\":\"1012\"},\"y_range\":{\"id\":\"1005\"},\"y_scale\":{\"id\":\"1014\"}},\"id\":\"1007\",\"subtype\":\"Figure\",\"type\":\"Plot\"},{\"attributes\":{},\"id\":\"1012\",\"type\":\"CategoricalScale\"},{\"attributes\":{\"data\":{\"A_0\":{\"__ndarray__\":\"rWQaRT7ovj8KjGNLkyygP5MNA6AtJaI/\",\"dtype\":\"float64\",\"order\":\"little\",\"shape\":[3]},\"index\":[\"Target\",\"Ebay\",\"Walmart\"]},\"selected\":{\"id\":\"1037\"},\"selection_policy\":{\"id\":\"1207\"}},\"id\":\"1036\",\"type\":\"ColumnDataSource\"},{\"attributes\":{\"axis_label\":\"Variance\",\"coordinates\":null,\"formatter\":{\"id\":\"1045\"},\"group\":null,\"major_label_policy\":{\"id\":\"1051\"},\"ticker\":{\"id\":\"1020\"}},\"id\":\"1019\",\"type\":\"LinearAxis\"},{\"attributes\":{},\"id\":\"1066\",\"type\":\"CategoricalTicker\"},{\"attributes\":{\"tools\":[{\"id\":\"1153\"},{\"id\":\"1170\"},{\"id\":\"1171\"},{\"id\":\"1172\"},{\"id\":\"1173\"},{\"id\":\"1174\"}]},\"id\":\"1176\",\"type\":\"Toolbar\"},{\"attributes\":{\"axis_label\":\"Ecommerce Stocks\",\"coordinates\":null,\"formatter\":{\"id\":\"1047\"},\"group\":null,\"major_label_orientation\":0.7853981633974483,\"major_label_policy\":{\"id\":\"1048\"},\"ticker\":{\"id\":\"1017\"}},\"id\":\"1016\",\"type\":\"CategoricalAxis\"},{\"attributes\":{},\"id\":\"1020\",\"type\":\"BasicTicker\"},{\"attributes\":{},\"id\":\"1100\",\"type\":\"AllLabels\"},{\"attributes\":{},\"id\":\"1025\",\"type\":\"WheelZoomTool\"},{\"attributes\":{\"callback\":null,\"renderers\":[{\"id\":\"1091\"}],\"tags\":[\"hv_created\"],\"tooltips\":[[\"index\",\"@{index}\"],[\"0\",\"@{A_0}\"]]},\"id\":\"1055\",\"type\":\"HoverTool\"},{\"attributes\":{},\"id\":\"1023\",\"type\":\"SaveTool\"},{\"attributes\":{\"coordinates\":null,\"group\":null,\"text\":\"Ebay Vs.\",\"text_color\":\"black\",\"text_font_size\":\"12pt\"},\"id\":\"1057\",\"type\":\"Title\"},{\"attributes\":{},\"id\":\"1184\",\"type\":\"Selection\"},{\"attributes\":{\"overlay\":{\"id\":\"1028\"}},\"id\":\"1026\",\"type\":\"BoxZoomTool\"},{\"attributes\":{},\"id\":\"1063\",\"type\":\"LinearScale\"},{\"attributes\":{},\"id\":\"1027\",\"type\":\"ResetTool\"},{\"attributes\":{\"toolbar\":{\"id\":\"1242\"},\"toolbar_location\":\"above\"},\"id\":\"1243\",\"type\":\"ToolbarBox\"},{\"attributes\":{\"axis\":{\"id\":\"1065\"},\"coordinates\":null,\"grid_line_color\":null,\"group\":null,\"ticker\":null},\"id\":\"1067\",\"type\":\"Grid\"},{\"attributes\":{},\"id\":\"1073\",\"type\":\"PanTool\"},{\"attributes\":{\"coordinates\":null,\"data_source\":{\"id\":\"1183\"},\"glyph\":{\"id\":\"1186\"},\"group\":null,\"hover_glyph\":null,\"muted_glyph\":{\"id\":\"1188\"},\"nonselection_glyph\":{\"id\":\"1187\"},\"selection_glyph\":{\"id\":\"1191\"},\"view\":{\"id\":\"1190\"}},\"id\":\"1189\",\"type\":\"GlyphRenderer\"},{\"attributes\":{\"bottom_units\":\"screen\",\"coordinates\":null,\"fill_alpha\":0.5,\"fill_color\":\"lightgrey\",\"group\":null,\"left_units\":\"screen\",\"level\":\"overlay\",\"line_alpha\":1.0,\"line_color\":\"black\",\"line_dash\":[4,4],\"line_width\":2,\"right_units\":\"screen\",\"syncable\":false,\"top_units\":\"screen\"},\"id\":\"1028\",\"type\":\"BoxAnnotation\"},{\"attributes\":{\"below\":[{\"id\":\"1065\"}],\"center\":[{\"id\":\"1067\"},{\"id\":\"1071\"}],\"height\":300,\"left\":[{\"id\":\"1068\"}],\"margin\":null,\"min_border_bottom\":10,\"min_border_left\":10,\"min_border_right\":10,\"min_border_top\":10,\"renderers\":[{\"id\":\"1091\"}],\"sizing_mode\":\"fixed\",\"title\":{\"id\":\"1057\"},\"toolbar\":{\"id\":\"1078\"},\"toolbar_location\":null,\"width\":700,\"x_range\":{\"id\":\"1004\"},\"x_scale\":{\"id\":\"1061\"},\"y_range\":{\"id\":\"1005\"},\"y_scale\":{\"id\":\"1063\"}},\"id\":\"1056\",\"subtype\":\"Figure\",\"type\":\"Plot\"},{\"attributes\":{\"fill_alpha\":{\"value\":0.2},\"fill_color\":{\"value\":\"#1961E6\"},\"hatch_alpha\":{\"value\":0.2},\"hatch_color\":{\"value\":\"#1961E6\"},\"line_alpha\":{\"value\":0.2},\"top\":{\"field\":\"A_0\"},\"width\":{\"value\":0.8},\"x\":{\"field\":\"index\"}},\"id\":\"1188\",\"type\":\"VBar\"},{\"attributes\":{\"tools\":[{\"id\":\"1006\"},{\"id\":\"1023\"},{\"id\":\"1024\"},{\"id\":\"1025\"},{\"id\":\"1026\"},{\"id\":\"1027\"}]},\"id\":\"1029\",\"type\":\"Toolbar\"},{\"attributes\":{\"fill_alpha\":{\"value\":0.1},\"fill_color\":{\"value\":\"#1961E6\"},\"hatch_alpha\":{\"value\":0.1},\"hatch_color\":{\"value\":\"#1961E6\"},\"line_alpha\":{\"value\":0.1},\"top\":{\"field\":\"A_0\"},\"width\":{\"value\":0.8},\"x\":{\"field\":\"index\"}},\"id\":\"1187\",\"type\":\"VBar\"},{\"attributes\":{\"data\":{\"A_0\":{\"__ndarray__\":\"VLwhiNz7uD8KjGNLkyygP90oQ9WRJIw/\",\"dtype\":\"float64\",\"order\":\"little\",\"shape\":[3]},\"index\":[\"Target\",\"Overstock\",\"Walmart\"]},\"selected\":{\"id\":\"1086\"},\"selection_policy\":{\"id\":\"1217\"}},\"id\":\"1085\",\"type\":\"ColumnDataSource\"},{\"attributes\":{\"axis_label\":\"Ecommerce Stocks\",\"coordinates\":null,\"formatter\":{\"id\":\"1096\"},\"group\":null,\"major_label_orientation\":0.7853981633974483,\"major_label_policy\":{\"id\":\"1097\"},\"ticker\":{\"id\":\"1066\"}},\"id\":\"1065\",\"type\":\"CategoricalAxis\"},{\"attributes\":{},\"id\":\"1047\",\"type\":\"CategoricalTickFormatter\"},{\"attributes\":{\"axis\":{\"id\":\"1068\"},\"coordinates\":null,\"dimension\":1,\"grid_line_color\":null,\"group\":null,\"ticker\":null},\"id\":\"1071\",\"type\":\"Grid\"},{\"attributes\":{\"margin\":[5,5,5,5],\"name\":\"HSpacer01924\",\"sizing_mode\":\"stretch_width\"},\"id\":\"1003\",\"type\":\"Spacer\"},{\"attributes\":{\"data\":{\"A_0\":{\"__ndarray__\":\"kw0DoC0loj/dKEPVkSSMP5sjJB3VBro/\",\"dtype\":\"float64\",\"order\":\"little\",\"shape\":[3]},\"index\":[\"Overstock\",\"Ebay\",\"Target\"]},\"selected\":{\"id\":\"1184\"},\"selection_policy\":{\"id\":\"1237\"}},\"id\":\"1183\",\"type\":\"ColumnDataSource\"},{\"attributes\":{\"below\":[{\"id\":\"1114\"}],\"center\":[{\"id\":\"1116\"},{\"id\":\"1120\"}],\"height\":300,\"left\":[{\"id\":\"1117\"}],\"margin\":null,\"min_border_bottom\":10,\"min_border_left\":10,\"min_border_right\":10,\"min_border_top\":10,\"renderers\":[{\"id\":\"1140\"}],\"sizing_mode\":\"fixed\",\"title\":{\"id\":\"1106\"},\"toolbar\":{\"id\":\"1127\"},\"toolbar_location\":null,\"width\":700,\"x_range\":{\"id\":\"1004\"},\"x_scale\":{\"id\":\"1110\"},\"y_range\":{\"id\":\"1005\"},\"y_scale\":{\"id\":\"1112\"}},\"id\":\"1105\",\"subtype\":\"Figure\",\"type\":\"Plot\"},{\"attributes\":{},\"id\":\"1061\",\"type\":\"CategoricalScale\"},{\"attributes\":{\"axis_label\":\"Variance\",\"coordinates\":null,\"formatter\":{\"id\":\"1094\"},\"group\":null,\"major_label_policy\":{\"id\":\"1100\"},\"ticker\":{\"id\":\"1069\"}},\"id\":\"1068\",\"type\":\"LinearAxis\"},{\"attributes\":{},\"id\":\"1069\",\"type\":\"BasicTicker\"},{\"attributes\":{},\"id\":\"1074\",\"type\":\"WheelZoomTool\"},{\"attributes\":{\"callback\":null,\"renderers\":[{\"id\":\"1140\"}],\"tags\":[\"hv_created\"],\"tooltips\":[[\"index\",\"@{index}\"],[\"0\",\"@{A_0}\"]]},\"id\":\"1104\",\"type\":\"HoverTool\"},{\"attributes\":{\"tools\":[{\"id\":\"1055\"},{\"id\":\"1072\"},{\"id\":\"1073\"},{\"id\":\"1074\"},{\"id\":\"1075\"},{\"id\":\"1076\"}]},\"id\":\"1078\",\"type\":\"Toolbar\"},{\"attributes\":{\"factors\":[\"Target\",\"Ebay\",\"Walmart\",\"Overstock\"],\"tags\":[[[\"index\",\"index\",null]]]},\"id\":\"1004\",\"type\":\"FactorRange\"},{\"attributes\":{},\"id\":\"1072\",\"type\":\"SaveTool\"},{\"attributes\":{\"overlay\":{\"id\":\"1077\"}},\"id\":\"1075\",\"type\":\"BoxZoomTool\"},{\"attributes\":{},\"id\":\"1076\",\"type\":\"ResetTool\"},{\"attributes\":{\"bottom_units\":\"screen\",\"coordinates\":null,\"fill_alpha\":0.5,\"fill_color\":\"lightgrey\",\"group\":null,\"left_units\":\"screen\",\"level\":\"overlay\",\"line_alpha\":1.0,\"line_color\":\"black\",\"line_dash\":[4,4],\"line_width\":2,\"right_units\":\"screen\",\"syncable\":false,\"top_units\":\"screen\"},\"id\":\"1077\",\"type\":\"BoxAnnotation\"},{\"attributes\":{\"children\":[{\"id\":\"1243\"},{\"id\":\"1241\"}]},\"id\":\"1244\",\"type\":\"Column\"},{\"attributes\":{},\"id\":\"1112\",\"type\":\"LinearScale\"},{\"attributes\":{\"coordinates\":null,\"group\":null,\"text\":\"Target Vs.\",\"text_color\":\"black\",\"text_font_size\":\"12pt\"},\"id\":\"1106\",\"type\":\"Title\"},{\"attributes\":{},\"id\":\"1115\",\"type\":\"CategoricalTicker\"},{\"attributes\":{\"bottom\":{\"value\":0},\"fill_alpha\":{\"value\":1.0},\"fill_color\":{\"value\":\"#1961E6\"},\"hatch_alpha\":{\"value\":1.0},\"hatch_color\":{\"value\":\"#1961E6\"},\"hatch_scale\":{\"value\":12.0},\"hatch_weight\":{\"value\":1.0},\"line_alpha\":{\"value\":1.0},\"line_cap\":{\"value\":\"butt\"},\"line_color\":{\"value\":\"black\"},\"line_dash\":{\"value\":[]},\"line_dash_offset\":{\"value\":0},\"line_join\":{\"value\":\"bevel\"},\"line_width\":{\"value\":1},\"top\":{\"field\":\"A_0\"},\"width\":{\"value\":0.8},\"x\":{\"field\":\"index\"}},\"id\":\"1191\",\"type\":\"VBar\"},{\"attributes\":{\"axis\":{\"id\":\"1114\"},\"coordinates\":null,\"grid_line_color\":null,\"group\":null,\"ticker\":null},\"id\":\"1116\",\"type\":\"Grid\"},{\"attributes\":{},\"id\":\"1122\",\"type\":\"PanTool\"},{\"attributes\":{\"axis_label\":\"Ecommerce Stocks\",\"coordinates\":null,\"formatter\":{\"id\":\"1145\"},\"group\":null,\"major_label_orientation\":0.7853981633974483,\"major_label_policy\":{\"id\":\"1146\"},\"ticker\":{\"id\":\"1115\"}},\"id\":\"1114\",\"type\":\"CategoricalAxis\"},{\"attributes\":{},\"id\":\"1194\",\"type\":\"CategoricalTickFormatter\"},{\"attributes\":{\"axis\":{\"id\":\"1117\"},\"coordinates\":null,\"dimension\":1,\"grid_line_color\":null,\"group\":null,\"ticker\":null},\"id\":\"1120\",\"type\":\"Grid\"},{\"attributes\":{\"format\":\"%.3f\"},\"id\":\"1192\",\"type\":\"PrintfTickFormatter\"},{\"attributes\":{\"fill_color\":{\"value\":\"#3CCF3E\"},\"hatch_color\":{\"value\":\"#3CCF3E\"},\"top\":{\"field\":\"A_0\"},\"width\":{\"value\":0.8},\"x\":{\"field\":\"index\"}},\"id\":\"1137\",\"type\":\"VBar\"},{\"attributes\":{\"axis_label\":\"Variance\",\"coordinates\":null,\"formatter\":{\"id\":\"1143\"},\"group\":null,\"major_label_policy\":{\"id\":\"1149\"},\"ticker\":{\"id\":\"1118\"}},\"id\":\"1117\",\"type\":\"LinearAxis\"},{\"attributes\":{},\"id\":\"1118\",\"type\":\"BasicTicker\"},{\"attributes\":{},\"id\":\"1123\",\"type\":\"WheelZoomTool\"},{\"attributes\":{},\"id\":\"1121\",\"type\":\"SaveTool\"},{\"attributes\":{\"overlay\":{\"id\":\"1126\"}},\"id\":\"1124\",\"type\":\"BoxZoomTool\"},{\"attributes\":{},\"id\":\"1125\",\"type\":\"ResetTool\"},{\"attributes\":{\"bottom_units\":\"screen\",\"coordinates\":null,\"fill_alpha\":0.5,\"fill_color\":\"lightgrey\",\"group\":null,\"left_units\":\"screen\",\"level\":\"overlay\",\"line_alpha\":1.0,\"line_color\":\"black\",\"line_dash\":[4,4],\"line_width\":2,\"right_units\":\"screen\",\"syncable\":false,\"top_units\":\"screen\"},\"id\":\"1126\",\"type\":\"BoxAnnotation\"},{\"attributes\":{\"toolbars\":[{\"id\":\"1029\"},{\"id\":\"1078\"},{\"id\":\"1127\"},{\"id\":\"1176\"}],\"tools\":[{\"id\":\"1006\"},{\"id\":\"1023\"},{\"id\":\"1024\"},{\"id\":\"1025\"},{\"id\":\"1026\"},{\"id\":\"1027\"},{\"id\":\"1055\"},{\"id\":\"1072\"},{\"id\":\"1073\"},{\"id\":\"1074\"},{\"id\":\"1075\"},{\"id\":\"1076\"},{\"id\":\"1104\"},{\"id\":\"1121\"},{\"id\":\"1122\"},{\"id\":\"1123\"},{\"id\":\"1124\"},{\"id\":\"1125\"},{\"id\":\"1153\"},{\"id\":\"1170\"},{\"id\":\"1171\"},{\"id\":\"1172\"},{\"id\":\"1173\"},{\"id\":\"1174\"}]},\"id\":\"1242\",\"type\":\"ProxyToolbar\"},{\"attributes\":{},\"id\":\"1135\",\"type\":\"Selection\"},{\"attributes\":{\"children\":[{\"id\":\"1003\"},{\"id\":\"1244\"},{\"id\":\"1569\"}],\"margin\":[0,0,0,0],\"name\":\"Row01920\",\"tags\":[\"embedded\"]},\"id\":\"1002\",\"type\":\"Row\"},{\"attributes\":{},\"id\":\"1195\",\"type\":\"AllLabels\"},{\"attributes\":{\"format\":\"%.3f\"},\"id\":\"1143\",\"type\":\"PrintfTickFormatter\"},{\"attributes\":{},\"id\":\"1198\",\"type\":\"AllLabels\"},{\"attributes\":{\"children\":[[{\"id\":\"1007\"},0,0],[{\"id\":\"1056\"},0,1],[{\"id\":\"1105\"},0,2],[{\"id\":\"1154\"},0,3]]},\"id\":\"1241\",\"type\":\"GridBox\"},{\"attributes\":{},\"id\":\"1217\",\"type\":\"UnionRenderers\"},{\"attributes\":{\"source\":{\"id\":\"1183\"}},\"id\":\"1190\",\"type\":\"CDSView\"},{\"attributes\":{},\"id\":\"1145\",\"type\":\"CategoricalTickFormatter\"},{\"attributes\":{\"tools\":[{\"id\":\"1104\"},{\"id\":\"1121\"},{\"id\":\"1122\"},{\"id\":\"1123\"},{\"id\":\"1124\"},{\"id\":\"1125\"}]},\"id\":\"1127\",\"type\":\"Toolbar\"},{\"attributes\":{},\"id\":\"1207\",\"type\":\"UnionRenderers\"},{\"attributes\":{},\"id\":\"1146\",\"type\":\"AllLabels\"},{\"attributes\":{\"bottom\":{\"value\":0},\"fill_alpha\":{\"value\":1.0},\"fill_color\":{\"value\":\"#3CCF3E\"},\"hatch_alpha\":{\"value\":1.0},\"hatch_color\":{\"value\":\"#3CCF3E\"},\"hatch_scale\":{\"value\":12.0},\"hatch_weight\":{\"value\":1.0},\"line_alpha\":{\"value\":1.0},\"line_cap\":{\"value\":\"butt\"},\"line_color\":{\"value\":\"black\"},\"line_dash\":{\"value\":[]},\"line_dash_offset\":{\"value\":0},\"line_join\":{\"value\":\"bevel\"},\"line_width\":{\"value\":1},\"top\":{\"field\":\"A_0\"},\"width\":{\"value\":0.8},\"x\":{\"field\":\"index\"}},\"id\":\"1142\",\"type\":\"VBar\"},{\"attributes\":{\"source\":{\"id\":\"1134\"}},\"id\":\"1141\",\"type\":\"CDSView\"},{\"attributes\":{\"coordinates\":null,\"data_source\":{\"id\":\"1134\"},\"glyph\":{\"id\":\"1137\"},\"group\":null,\"hover_glyph\":null,\"muted_glyph\":{\"id\":\"1139\"},\"nonselection_glyph\":{\"id\":\"1138\"},\"selection_glyph\":{\"id\":\"1142\"},\"view\":{\"id\":\"1141\"}},\"id\":\"1140\",\"type\":\"GlyphRenderer\"},{\"attributes\":{\"fill_alpha\":{\"value\":0.2},\"fill_color\":{\"value\":\"#3CCF3E\"},\"hatch_alpha\":{\"value\":0.2},\"hatch_color\":{\"value\":\"#3CCF3E\"},\"line_alpha\":{\"value\":0.2},\"top\":{\"field\":\"A_0\"},\"width\":{\"value\":0.8},\"x\":{\"field\":\"index\"}},\"id\":\"1139\",\"type\":\"VBar\"},{\"attributes\":{\"fill_alpha\":{\"value\":0.1},\"fill_color\":{\"value\":\"#3CCF3E\"},\"hatch_alpha\":{\"value\":0.1},\"hatch_color\":{\"value\":\"#3CCF3E\"},\"line_alpha\":{\"value\":0.1},\"top\":{\"field\":\"A_0\"},\"width\":{\"value\":0.8},\"x\":{\"field\":\"index\"}},\"id\":\"1138\",\"type\":\"VBar\"}],\"root_ids\":[\"1002\"]},\"title\":\"Bokeh Application\",\"version\":\"2.4.1\"}};\n",
       "    var render_items = [{\"docid\":\"59581229-2875-4ee8-85d4-0ec671b24eef\",\"root_ids\":[\"1002\"],\"roots\":{\"1002\":\"ec4c0da6-8adb-42c3-8e03-caa581495880\"}}];\n",
       "    root.Bokeh.embed.embed_items_notebook(docs_json, render_items);\n",
       "  }\n",
       "  if (root.Bokeh !== undefined && root.Bokeh.Panel !== undefined) {\n",
       "    embed_document(root);\n",
       "  } else {\n",
       "    var attempts = 0;\n",
       "    var timer = setInterval(function(root) {\n",
       "      if (root.Bokeh !== undefined && root.Bokeh.Panel !== undefined) {\n",
       "        clearInterval(timer);\n",
       "        embed_document(root);\n",
       "      } else if (document.readyState == \"complete\") {\n",
       "        attempts++;\n",
       "        if (attempts > 200) {\n",
       "          clearInterval(timer);\n",
       "          console.log(\"Bokeh: ERROR: Unable to run BokehJS code because BokehJS library is missing\");\n",
       "        }\n",
       "      }\n",
       "    }, 25, root)\n",
       "  }\n",
       "})(window);</script>"
      ],
      "text/plain": [
       ":Layout\n",
       "   .Bars.Overstock_Vs_full_stop :Bars   [index]   (0)\n",
       "   .Bars.Ebay_Vs_full_stop      :Bars   [index]   (0)\n",
       "   .Bars.Target_Vs_full_stop    :Bars   [index]   (0)\n",
       "   .Bars.Walmart_Vs_full_stop   :Bars   [index]   (0)"
      ]
     },
     "execution_count": 39,
     "metadata": {
      "application/vnd.holoviews_exec.v0+json": {
       "id": "1002"
      }
     },
     "output_type": "execute_result"
    }
   ],
   "source": [
    "overstock_vs_plot + ebay_vs_plot + target_vs_plot + walmart_vs_plot "
   ]
  },
  {
   "cell_type": "code",
   "execution_count": 40,
   "metadata": {},
   "outputs": [
    {
     "data": {},
     "metadata": {},
     "output_type": "display_data"
    },
    {
     "data": {
      "application/vnd.holoviews_exec.v0+json": "",
      "text/html": [
       "<div id='1751'>\n",
       "\n",
       "\n",
       "\n",
       "\n",
       "\n",
       "  <div class=\"bk-root\" id=\"30c3ddbc-f709-40af-91ea-9449badcc95c\" data-root-id=\"1751\"></div>\n",
       "</div>\n",
       "<script type=\"application/javascript\">(function(root) {\n",
       "  function embed_document(root) {\n",
       "    var docs_json = {\"82c49747-1801-4f7f-ab18-1aaea1eeff38\":{\"defs\":[{\"extends\":null,\"module\":null,\"name\":\"ReactiveHTML1\",\"overrides\":[],\"properties\":[]},{\"extends\":null,\"module\":null,\"name\":\"FlexBox1\",\"overrides\":[],\"properties\":[{\"default\":\"flex-start\",\"kind\":null,\"name\":\"align_content\"},{\"default\":\"flex-start\",\"kind\":null,\"name\":\"align_items\"},{\"default\":\"row\",\"kind\":null,\"name\":\"flex_direction\"},{\"default\":\"wrap\",\"kind\":null,\"name\":\"flex_wrap\"},{\"default\":\"flex-start\",\"kind\":null,\"name\":\"justify_content\"}]},{\"extends\":null,\"module\":null,\"name\":\"TemplateActions1\",\"overrides\":[],\"properties\":[{\"default\":0,\"kind\":null,\"name\":\"open_modal\"},{\"default\":0,\"kind\":null,\"name\":\"close_modal\"}]},{\"extends\":null,\"module\":null,\"name\":\"MaterialTemplateActions1\",\"overrides\":[],\"properties\":[{\"default\":0,\"kind\":null,\"name\":\"open_modal\"},{\"default\":0,\"kind\":null,\"name\":\"close_modal\"}]}],\"roots\":{\"references\":[{\"attributes\":{},\"id\":\"1761\",\"type\":\"CategoricalScale\"},{\"attributes\":{},\"id\":\"1766\",\"type\":\"CategoricalTicker\"},{\"attributes\":{},\"id\":\"1786\",\"type\":\"Selection\"},{\"attributes\":{},\"id\":\"1763\",\"type\":\"LinearScale\"},{\"attributes\":{\"coordinates\":null,\"group\":null,\"text\":\"Amazon Vs.\",\"text_color\":\"black\",\"text_font_size\":\"12pt\"},\"id\":\"1757\",\"type\":\"Title\"},{\"attributes\":{\"below\":[{\"id\":\"1765\"}],\"center\":[{\"id\":\"1767\"},{\"id\":\"1771\"}],\"height\":300,\"left\":[{\"id\":\"1768\"}],\"margin\":[5,5,5,5],\"min_border_bottom\":10,\"min_border_left\":10,\"min_border_right\":10,\"min_border_top\":10,\"renderers\":[{\"id\":\"1791\"}],\"sizing_mode\":\"fixed\",\"title\":{\"id\":\"1757\"},\"toolbar\":{\"id\":\"1778\"},\"width\":700,\"x_range\":{\"id\":\"1753\"},\"x_scale\":{\"id\":\"1761\"},\"y_range\":{\"id\":\"1754\"},\"y_scale\":{\"id\":\"1763\"}},\"id\":\"1756\",\"subtype\":\"Figure\",\"type\":\"Plot\"},{\"attributes\":{\"bottom_units\":\"screen\",\"coordinates\":null,\"fill_alpha\":0.5,\"fill_color\":\"lightgrey\",\"group\":null,\"left_units\":\"screen\",\"level\":\"overlay\",\"line_alpha\":1.0,\"line_color\":\"black\",\"line_dash\":[4,4],\"line_width\":2,\"right_units\":\"screen\",\"syncable\":false,\"top_units\":\"screen\"},\"id\":\"1777\",\"type\":\"BoxAnnotation\"},{\"attributes\":{\"callback\":null,\"renderers\":[{\"id\":\"1791\"}],\"tags\":[\"hv_created\"],\"tooltips\":[[\"index\",\"@{index}\"],[\"0\",\"@{A_0}\"]]},\"id\":\"1755\",\"type\":\"HoverTool\"},{\"attributes\":{\"fill_color\":{\"value\":\"#923DD5\"},\"hatch_color\":{\"value\":\"#923DD5\"},\"top\":{\"field\":\"A_0\"},\"width\":{\"value\":0.8},\"x\":{\"field\":\"index\"}},\"id\":\"1788\",\"type\":\"VBar\"},{\"attributes\":{\"end\":14.353629366569901,\"reset_end\":14.353629366569901,\"reset_start\":0.0,\"tags\":[[[\"0\",\"0\",null]]]},\"id\":\"1754\",\"type\":\"Range1d\"},{\"attributes\":{\"axis\":{\"id\":\"1765\"},\"coordinates\":null,\"grid_line_color\":null,\"group\":null,\"ticker\":null},\"id\":\"1767\",\"type\":\"Grid\"},{\"attributes\":{},\"id\":\"1773\",\"type\":\"PanTool\"},{\"attributes\":{\"axis_label\":\"Ecommerce Stocks\",\"coordinates\":null,\"formatter\":{\"id\":\"1796\"},\"group\":null,\"major_label_orientation\":0.7853981633974483,\"major_label_policy\":{\"id\":\"1797\"},\"ticker\":{\"id\":\"1766\"}},\"id\":\"1765\",\"type\":\"CategoricalAxis\"},{\"attributes\":{\"tools\":[{\"id\":\"1755\"},{\"id\":\"1772\"},{\"id\":\"1773\"},{\"id\":\"1774\"},{\"id\":\"1775\"},{\"id\":\"1776\"}]},\"id\":\"1778\",\"type\":\"Toolbar\"},{\"attributes\":{\"axis\":{\"id\":\"1768\"},\"coordinates\":null,\"dimension\":1,\"grid_line_color\":null,\"group\":null,\"ticker\":null},\"id\":\"1771\",\"type\":\"Grid\"},{\"attributes\":{},\"id\":\"1809\",\"type\":\"UnionRenderers\"},{\"attributes\":{\"bottom\":{\"value\":0},\"fill_alpha\":{\"value\":1.0},\"fill_color\":{\"value\":\"#923DD5\"},\"hatch_alpha\":{\"value\":1.0},\"hatch_color\":{\"value\":\"#923DD5\"},\"hatch_scale\":{\"value\":12.0},\"hatch_weight\":{\"value\":1.0},\"line_alpha\":{\"value\":1.0},\"line_cap\":{\"value\":\"butt\"},\"line_color\":{\"value\":\"black\"},\"line_dash\":{\"value\":[]},\"line_dash_offset\":{\"value\":0},\"line_join\":{\"value\":\"bevel\"},\"line_width\":{\"value\":1},\"top\":{\"field\":\"A_0\"},\"width\":{\"value\":0.8},\"x\":{\"field\":\"index\"}},\"id\":\"1793\",\"type\":\"VBar\"},{\"attributes\":{},\"id\":\"1797\",\"type\":\"AllLabels\"},{\"attributes\":{\"axis_label\":\"Variance\",\"coordinates\":null,\"formatter\":{\"id\":\"1794\"},\"group\":null,\"major_label_policy\":{\"id\":\"1800\"},\"ticker\":{\"id\":\"1769\"}},\"id\":\"1768\",\"type\":\"LinearAxis\"},{\"attributes\":{\"fill_alpha\":{\"value\":0.1},\"fill_color\":{\"value\":\"#923DD5\"},\"hatch_alpha\":{\"value\":0.1},\"hatch_color\":{\"value\":\"#923DD5\"},\"line_alpha\":{\"value\":0.1},\"top\":{\"field\":\"A_0\"},\"width\":{\"value\":0.8},\"x\":{\"field\":\"index\"}},\"id\":\"1789\",\"type\":\"VBar\"},{\"attributes\":{},\"id\":\"1769\",\"type\":\"BasicTicker\"},{\"attributes\":{\"fill_alpha\":{\"value\":0.2},\"fill_color\":{\"value\":\"#923DD5\"},\"hatch_alpha\":{\"value\":0.2},\"hatch_color\":{\"value\":\"#923DD5\"},\"line_alpha\":{\"value\":0.2},\"top\":{\"field\":\"A_0\"},\"width\":{\"value\":0.8},\"x\":{\"field\":\"index\"}},\"id\":\"1790\",\"type\":\"VBar\"},{\"attributes\":{},\"id\":\"1774\",\"type\":\"WheelZoomTool\"},{\"attributes\":{},\"id\":\"1772\",\"type\":\"SaveTool\"},{\"attributes\":{},\"id\":\"1800\",\"type\":\"AllLabels\"},{\"attributes\":{\"coordinates\":null,\"data_source\":{\"id\":\"1785\"},\"glyph\":{\"id\":\"1788\"},\"group\":null,\"hover_glyph\":null,\"muted_glyph\":{\"id\":\"1790\"},\"nonselection_glyph\":{\"id\":\"1789\"},\"selection_glyph\":{\"id\":\"1793\"},\"view\":{\"id\":\"1792\"}},\"id\":\"1791\",\"type\":\"GlyphRenderer\"},{\"attributes\":{\"overlay\":{\"id\":\"1777\"}},\"id\":\"1775\",\"type\":\"BoxZoomTool\"},{\"attributes\":{},\"id\":\"1776\",\"type\":\"ResetTool\"},{\"attributes\":{\"source\":{\"id\":\"1785\"}},\"id\":\"1792\",\"type\":\"CDSView\"},{\"attributes\":{},\"id\":\"1796\",\"type\":\"CategoricalTickFormatter\"},{\"attributes\":{\"children\":[{\"id\":\"1752\"},{\"id\":\"1756\"},{\"id\":\"1821\"}],\"margin\":[0,0,0,0],\"name\":\"Row02356\",\"tags\":[\"embedded\"]},\"id\":\"1751\",\"type\":\"Row\"},{\"attributes\":{\"margin\":[5,5,5,5],\"name\":\"HSpacer02361\",\"sizing_mode\":\"stretch_width\"},\"id\":\"1821\",\"type\":\"Spacer\"},{\"attributes\":{\"margin\":[5,5,5,5],\"name\":\"HSpacer02360\",\"sizing_mode\":\"stretch_width\"},\"id\":\"1752\",\"type\":\"Spacer\"},{\"attributes\":{\"format\":\"%.3f\"},\"id\":\"1794\",\"type\":\"PrintfTickFormatter\"},{\"attributes\":{\"data\":{\"A_0\":{\"__ndarray__\":\"M/OwwcDJKkDOWpWu3EoqQDIq/svbfCxAdyUaYxFkKkA=\",\"dtype\":\"float64\",\"order\":\"little\",\"shape\":[4]},\"index\":[\"Overstock\",\"Ebay\",\"Target\",\"Walmart\"]},\"selected\":{\"id\":\"1786\"},\"selection_policy\":{\"id\":\"1809\"}},\"id\":\"1785\",\"type\":\"ColumnDataSource\"},{\"attributes\":{\"factors\":[\"Overstock\",\"Ebay\",\"Target\",\"Walmart\"],\"tags\":[[[\"index\",\"index\",null]]]},\"id\":\"1753\",\"type\":\"FactorRange\"}],\"root_ids\":[\"1751\"]},\"title\":\"Bokeh Application\",\"version\":\"2.4.1\"}};\n",
       "    var render_items = [{\"docid\":\"82c49747-1801-4f7f-ab18-1aaea1eeff38\",\"root_ids\":[\"1751\"],\"roots\":{\"1751\":\"30c3ddbc-f709-40af-91ea-9449badcc95c\"}}];\n",
       "    root.Bokeh.embed.embed_items_notebook(docs_json, render_items);\n",
       "  }\n",
       "  if (root.Bokeh !== undefined && root.Bokeh.Panel !== undefined) {\n",
       "    embed_document(root);\n",
       "  } else {\n",
       "    var attempts = 0;\n",
       "    var timer = setInterval(function(root) {\n",
       "      if (root.Bokeh !== undefined && root.Bokeh.Panel !== undefined) {\n",
       "        clearInterval(timer);\n",
       "        embed_document(root);\n",
       "      } else if (document.readyState == \"complete\") {\n",
       "        attempts++;\n",
       "        if (attempts > 200) {\n",
       "          clearInterval(timer);\n",
       "          console.log(\"Bokeh: ERROR: Unable to run BokehJS code because BokehJS library is missing\");\n",
       "        }\n",
       "      }\n",
       "    }, 25, root)\n",
       "  }\n",
       "})(window);</script>"
      ],
      "text/plain": [
       ":Bars   [index]   (0)"
      ]
     },
     "execution_count": 40,
     "metadata": {
      "application/vnd.holoviews_exec.v0+json": {
       "id": "1751"
      }
     },
     "output_type": "execute_result"
    }
   ],
   "source": [
    "amazon_vs_plot"
   ]
  },
  {
   "cell_type": "markdown",
   "metadata": {},
   "source": [
    "***"
   ]
  },
  {
   "cell_type": "markdown",
   "metadata": {},
   "source": [
    "## Part 5 - Monte Carlo Simulation of the Portfolio"
   ]
  },
  {
   "cell_type": "markdown",
   "metadata": {},
   "source": [
    "### 5.1 - Alpaca Data Collection"
   ]
  },
  {
   "cell_type": "code",
   "execution_count": 41,
   "metadata": {},
   "outputs": [
    {
     "data": {
      "text/plain": [
       "True"
      ]
     },
     "execution_count": 41,
     "metadata": {},
     "output_type": "execute_result"
    }
   ],
   "source": [
    "# Load the environment variables from the .env file\n",
    "\n",
    "load_dotenv(\"/Users/johannmaiga/Downloads/MyFiles/FinTech Class/.api_keys\")"
   ]
  },
  {
   "cell_type": "code",
   "execution_count": 42,
   "metadata": {},
   "outputs": [],
   "source": [
    "# Set the variables for the Alpaca API and secret keys\n",
    "alpaca_api_key = os.getenv(\"ALPACA_API_KEY\")\n",
    "alpaca_secret_key = os.getenv(\"ALPACA_SECRET_KEY\")\n",
    "\n",
    "# Create the Alpaca tradeapi.REST object\n",
    "alpaca = tradeapi.REST(\n",
    "    alpaca_api_key,\n",
    "    alpaca_secret_key,\n",
    "    api_version=\"v2\")"
   ]
  },
  {
   "cell_type": "code",
   "execution_count": 43,
   "metadata": {},
   "outputs": [],
   "source": [
    "# Set the tickers for both the bond and stock portion of the portfolio\n",
    "tickers = [\"AMZN\", \"WMT\", \"EBAY\", \"TGT\", \"OSTK\"]\n",
    "\n",
    "# Set timeframe to 1D \n",
    "timeframe = \"1D\"\n",
    "\n",
    "# Format current date as ISO format\n",
    "start = pd.Timestamp(\"2018-11-05\", tz=\"America/New_York\").isoformat()\n",
    "end = pd.Timestamp(\"2021-11-04\", tz=\"America/New_York\").isoformat()\n",
    "\n",
    "# Set number of rows to 1000 to retrieve the maximum amount of rows\n",
    "limit_rows = 1000"
   ]
  },
  {
   "cell_type": "code",
   "execution_count": 44,
   "metadata": {},
   "outputs": [
    {
     "data": {
      "text/html": [
       "<div>\n",
       "<style scoped>\n",
       "    .dataframe tbody tr th:only-of-type {\n",
       "        vertical-align: middle;\n",
       "    }\n",
       "\n",
       "    .dataframe tbody tr th {\n",
       "        vertical-align: top;\n",
       "    }\n",
       "\n",
       "    .dataframe thead tr th {\n",
       "        text-align: left;\n",
       "    }\n",
       "</style>\n",
       "<table border=\"1\" class=\"dataframe\">\n",
       "  <thead>\n",
       "    <tr>\n",
       "      <th></th>\n",
       "      <th colspan=\"5\" halign=\"left\">AMZN</th>\n",
       "      <th colspan=\"5\" halign=\"left\">EBAY</th>\n",
       "      <th>...</th>\n",
       "      <th colspan=\"5\" halign=\"left\">TGT</th>\n",
       "      <th colspan=\"5\" halign=\"left\">WMT</th>\n",
       "    </tr>\n",
       "    <tr>\n",
       "      <th></th>\n",
       "      <th>open</th>\n",
       "      <th>high</th>\n",
       "      <th>low</th>\n",
       "      <th>close</th>\n",
       "      <th>volume</th>\n",
       "      <th>open</th>\n",
       "      <th>high</th>\n",
       "      <th>low</th>\n",
       "      <th>close</th>\n",
       "      <th>volume</th>\n",
       "      <th>...</th>\n",
       "      <th>open</th>\n",
       "      <th>high</th>\n",
       "      <th>low</th>\n",
       "      <th>close</th>\n",
       "      <th>volume</th>\n",
       "      <th>open</th>\n",
       "      <th>high</th>\n",
       "      <th>low</th>\n",
       "      <th>close</th>\n",
       "      <th>volume</th>\n",
       "    </tr>\n",
       "  </thead>\n",
       "  <tbody>\n",
       "    <tr>\n",
       "      <th>2018-11-05</th>\n",
       "      <td>1657.57</td>\n",
       "      <td>1658.0900</td>\n",
       "      <td>1596.360</td>\n",
       "      <td>1627.45</td>\n",
       "      <td>5231856</td>\n",
       "      <td>29.91</td>\n",
       "      <td>30.060</td>\n",
       "      <td>29.33</td>\n",
       "      <td>29.630</td>\n",
       "      <td>7945882</td>\n",
       "      <td>...</td>\n",
       "      <td>84.56</td>\n",
       "      <td>85.520</td>\n",
       "      <td>84.1086</td>\n",
       "      <td>85.33</td>\n",
       "      <td>3065961.0</td>\n",
       "      <td>101.19</td>\n",
       "      <td>103.1692</td>\n",
       "      <td>100.6324</td>\n",
       "      <td>102.89</td>\n",
       "      <td>5272222.0</td>\n",
       "    </tr>\n",
       "    <tr>\n",
       "      <th>2018-11-06</th>\n",
       "      <td>1618.35</td>\n",
       "      <td>1665.0000</td>\n",
       "      <td>1614.550</td>\n",
       "      <td>1642.86</td>\n",
       "      <td>4000487</td>\n",
       "      <td>29.59</td>\n",
       "      <td>30.260</td>\n",
       "      <td>29.46</td>\n",
       "      <td>29.950</td>\n",
       "      <td>11913131</td>\n",
       "      <td>...</td>\n",
       "      <td>85.44</td>\n",
       "      <td>85.670</td>\n",
       "      <td>84.9300</td>\n",
       "      <td>85.56</td>\n",
       "      <td>3218972.0</td>\n",
       "      <td>102.54</td>\n",
       "      <td>103.4400</td>\n",
       "      <td>102.0500</td>\n",
       "      <td>103.32</td>\n",
       "      <td>4385000.0</td>\n",
       "    </tr>\n",
       "    <tr>\n",
       "      <th>2018-11-07</th>\n",
       "      <td>1673.00</td>\n",
       "      <td>1759.2300</td>\n",
       "      <td>1664.075</td>\n",
       "      <td>1757.36</td>\n",
       "      <td>7606948</td>\n",
       "      <td>30.09</td>\n",
       "      <td>30.180</td>\n",
       "      <td>29.59</td>\n",
       "      <td>29.850</td>\n",
       "      <td>17014253</td>\n",
       "      <td>...</td>\n",
       "      <td>87.51</td>\n",
       "      <td>87.660</td>\n",
       "      <td>85.7600</td>\n",
       "      <td>86.72</td>\n",
       "      <td>6164998.0</td>\n",
       "      <td>103.66</td>\n",
       "      <td>104.4700</td>\n",
       "      <td>103.0500</td>\n",
       "      <td>104.34</td>\n",
       "      <td>5589694.0</td>\n",
       "    </tr>\n",
       "    <tr>\n",
       "      <th>2018-11-08</th>\n",
       "      <td>1752.89</td>\n",
       "      <td>1784.0000</td>\n",
       "      <td>1725.110</td>\n",
       "      <td>1754.95</td>\n",
       "      <td>3299391</td>\n",
       "      <td>29.74</td>\n",
       "      <td>29.967</td>\n",
       "      <td>29.52</td>\n",
       "      <td>29.845</td>\n",
       "      <td>8355718</td>\n",
       "      <td>...</td>\n",
       "      <td>87.00</td>\n",
       "      <td>87.855</td>\n",
       "      <td>86.7901</td>\n",
       "      <td>87.60</td>\n",
       "      <td>3516326.0</td>\n",
       "      <td>104.33</td>\n",
       "      <td>105.2600</td>\n",
       "      <td>104.0300</td>\n",
       "      <td>104.89</td>\n",
       "      <td>4099279.0</td>\n",
       "    </tr>\n",
       "    <tr>\n",
       "      <th>2018-11-09</th>\n",
       "      <td>1735.12</td>\n",
       "      <td>1743.9207</td>\n",
       "      <td>1701.870</td>\n",
       "      <td>1712.03</td>\n",
       "      <td>2962981</td>\n",
       "      <td>29.62</td>\n",
       "      <td>29.950</td>\n",
       "      <td>29.58</td>\n",
       "      <td>29.630</td>\n",
       "      <td>7301539</td>\n",
       "      <td>...</td>\n",
       "      <td>87.44</td>\n",
       "      <td>87.930</td>\n",
       "      <td>86.6700</td>\n",
       "      <td>86.96</td>\n",
       "      <td>2715011.0</td>\n",
       "      <td>105.00</td>\n",
       "      <td>105.9000</td>\n",
       "      <td>104.8100</td>\n",
       "      <td>105.55</td>\n",
       "      <td>5650275.0</td>\n",
       "    </tr>\n",
       "  </tbody>\n",
       "</table>\n",
       "<p>5 rows × 25 columns</p>\n",
       "</div>"
      ],
      "text/plain": [
       "               AMZN                                          EBAY          \\\n",
       "               open       high       low    close   volume   open    high   \n",
       "2018-11-05  1657.57  1658.0900  1596.360  1627.45  5231856  29.91  30.060   \n",
       "2018-11-06  1618.35  1665.0000  1614.550  1642.86  4000487  29.59  30.260   \n",
       "2018-11-07  1673.00  1759.2300  1664.075  1757.36  7606948  30.09  30.180   \n",
       "2018-11-08  1752.89  1784.0000  1725.110  1754.95  3299391  29.74  29.967   \n",
       "2018-11-09  1735.12  1743.9207  1701.870  1712.03  2962981  29.62  29.950   \n",
       "\n",
       "                                     ...    TGT                          \\\n",
       "              low   close    volume  ...   open    high      low  close   \n",
       "2018-11-05  29.33  29.630   7945882  ...  84.56  85.520  84.1086  85.33   \n",
       "2018-11-06  29.46  29.950  11913131  ...  85.44  85.670  84.9300  85.56   \n",
       "2018-11-07  29.59  29.850  17014253  ...  87.51  87.660  85.7600  86.72   \n",
       "2018-11-08  29.52  29.845   8355718  ...  87.00  87.855  86.7901  87.60   \n",
       "2018-11-09  29.58  29.630   7301539  ...  87.44  87.930  86.6700  86.96   \n",
       "\n",
       "                          WMT                                         \n",
       "               volume    open      high       low   close     volume  \n",
       "2018-11-05  3065961.0  101.19  103.1692  100.6324  102.89  5272222.0  \n",
       "2018-11-06  3218972.0  102.54  103.4400  102.0500  103.32  4385000.0  \n",
       "2018-11-07  6164998.0  103.66  104.4700  103.0500  104.34  5589694.0  \n",
       "2018-11-08  3516326.0  104.33  105.2600  104.0300  104.89  4099279.0  \n",
       "2018-11-09  2715011.0  105.00  105.9000  104.8100  105.55  5650275.0  \n",
       "\n",
       "[5 rows x 25 columns]"
      ]
     },
     "execution_count": 44,
     "metadata": {},
     "output_type": "execute_result"
    }
   ],
   "source": [
    "# Creating a data frame from the gathered data\n",
    "ecom_stocks = alpaca.get_barset(\n",
    "    tickers,\n",
    "    timeframe,\n",
    "    start = start,\n",
    "    end = end,\n",
    "    limit = limit_rows\n",
    ").df\n",
    "\n",
    "\n",
    "# Display both the first and last five rows of the DataFrame\n",
    "ecom_stocks.index = ecom_stocks.index.date\n",
    "ecom_stocks.head()"
   ]
  },
  {
   "cell_type": "markdown",
   "metadata": {},
   "source": [
    "### 5.2 - Monte Carlo Simulation Run"
   ]
  },
  {
   "cell_type": "code",
   "execution_count": 45,
   "metadata": {},
   "outputs": [
    {
     "data": {
      "text/html": [
       "<div>\n",
       "<style scoped>\n",
       "    .dataframe tbody tr th:only-of-type {\n",
       "        vertical-align: middle;\n",
       "    }\n",
       "\n",
       "    .dataframe tbody tr th {\n",
       "        vertical-align: top;\n",
       "    }\n",
       "\n",
       "    .dataframe thead tr th {\n",
       "        text-align: left;\n",
       "    }\n",
       "</style>\n",
       "<table border=\"1\" class=\"dataframe\">\n",
       "  <thead>\n",
       "    <tr>\n",
       "      <th></th>\n",
       "      <th colspan=\"6\" halign=\"left\">AMZN</th>\n",
       "      <th colspan=\"4\" halign=\"left\">EBAY</th>\n",
       "      <th>...</th>\n",
       "      <th colspan=\"4\" halign=\"left\">TGT</th>\n",
       "      <th colspan=\"6\" halign=\"left\">WMT</th>\n",
       "    </tr>\n",
       "    <tr>\n",
       "      <th></th>\n",
       "      <th>open</th>\n",
       "      <th>high</th>\n",
       "      <th>low</th>\n",
       "      <th>close</th>\n",
       "      <th>volume</th>\n",
       "      <th>daily_return</th>\n",
       "      <th>open</th>\n",
       "      <th>high</th>\n",
       "      <th>low</th>\n",
       "      <th>close</th>\n",
       "      <th>...</th>\n",
       "      <th>low</th>\n",
       "      <th>close</th>\n",
       "      <th>volume</th>\n",
       "      <th>daily_return</th>\n",
       "      <th>open</th>\n",
       "      <th>high</th>\n",
       "      <th>low</th>\n",
       "      <th>close</th>\n",
       "      <th>volume</th>\n",
       "      <th>daily_return</th>\n",
       "    </tr>\n",
       "  </thead>\n",
       "  <tbody>\n",
       "    <tr>\n",
       "      <th>2018-11-06</th>\n",
       "      <td>1618.35</td>\n",
       "      <td>1665.0000</td>\n",
       "      <td>1614.550</td>\n",
       "      <td>1642.86</td>\n",
       "      <td>4000487</td>\n",
       "      <td>0.009469</td>\n",
       "      <td>29.59</td>\n",
       "      <td>30.260</td>\n",
       "      <td>29.460</td>\n",
       "      <td>29.950</td>\n",
       "      <td>...</td>\n",
       "      <td>84.9300</td>\n",
       "      <td>85.56</td>\n",
       "      <td>3218972.0</td>\n",
       "      <td>0.002695</td>\n",
       "      <td>102.54</td>\n",
       "      <td>103.440</td>\n",
       "      <td>102.0500</td>\n",
       "      <td>103.32</td>\n",
       "      <td>4385000.0</td>\n",
       "      <td>0.004179</td>\n",
       "    </tr>\n",
       "    <tr>\n",
       "      <th>2018-11-07</th>\n",
       "      <td>1673.00</td>\n",
       "      <td>1759.2300</td>\n",
       "      <td>1664.075</td>\n",
       "      <td>1757.36</td>\n",
       "      <td>7606948</td>\n",
       "      <td>0.069696</td>\n",
       "      <td>30.09</td>\n",
       "      <td>30.180</td>\n",
       "      <td>29.590</td>\n",
       "      <td>29.850</td>\n",
       "      <td>...</td>\n",
       "      <td>85.7600</td>\n",
       "      <td>86.72</td>\n",
       "      <td>6164998.0</td>\n",
       "      <td>0.013558</td>\n",
       "      <td>103.66</td>\n",
       "      <td>104.470</td>\n",
       "      <td>103.0500</td>\n",
       "      <td>104.34</td>\n",
       "      <td>5589694.0</td>\n",
       "      <td>0.009872</td>\n",
       "    </tr>\n",
       "    <tr>\n",
       "      <th>2018-11-08</th>\n",
       "      <td>1752.89</td>\n",
       "      <td>1784.0000</td>\n",
       "      <td>1725.110</td>\n",
       "      <td>1754.95</td>\n",
       "      <td>3299391</td>\n",
       "      <td>-0.001371</td>\n",
       "      <td>29.74</td>\n",
       "      <td>29.967</td>\n",
       "      <td>29.520</td>\n",
       "      <td>29.845</td>\n",
       "      <td>...</td>\n",
       "      <td>86.7901</td>\n",
       "      <td>87.60</td>\n",
       "      <td>3516326.0</td>\n",
       "      <td>0.010148</td>\n",
       "      <td>104.33</td>\n",
       "      <td>105.260</td>\n",
       "      <td>104.0300</td>\n",
       "      <td>104.89</td>\n",
       "      <td>4099279.0</td>\n",
       "      <td>0.005271</td>\n",
       "    </tr>\n",
       "    <tr>\n",
       "      <th>2018-11-09</th>\n",
       "      <td>1735.12</td>\n",
       "      <td>1743.9207</td>\n",
       "      <td>1701.870</td>\n",
       "      <td>1712.03</td>\n",
       "      <td>2962981</td>\n",
       "      <td>-0.024457</td>\n",
       "      <td>29.62</td>\n",
       "      <td>29.950</td>\n",
       "      <td>29.580</td>\n",
       "      <td>29.630</td>\n",
       "      <td>...</td>\n",
       "      <td>86.6700</td>\n",
       "      <td>86.96</td>\n",
       "      <td>2715011.0</td>\n",
       "      <td>-0.007306</td>\n",
       "      <td>105.00</td>\n",
       "      <td>105.900</td>\n",
       "      <td>104.8100</td>\n",
       "      <td>105.55</td>\n",
       "      <td>5650275.0</td>\n",
       "      <td>0.006292</td>\n",
       "    </tr>\n",
       "    <tr>\n",
       "      <th>2018-11-12</th>\n",
       "      <td>1699.67</td>\n",
       "      <td>1708.5500</td>\n",
       "      <td>1630.010</td>\n",
       "      <td>1636.79</td>\n",
       "      <td>3229882</td>\n",
       "      <td>-0.043948</td>\n",
       "      <td>29.60</td>\n",
       "      <td>29.700</td>\n",
       "      <td>28.910</td>\n",
       "      <td>28.960</td>\n",
       "      <td>...</td>\n",
       "      <td>85.2400</td>\n",
       "      <td>85.46</td>\n",
       "      <td>3437712.0</td>\n",
       "      <td>-0.017249</td>\n",
       "      <td>105.50</td>\n",
       "      <td>106.210</td>\n",
       "      <td>103.6500</td>\n",
       "      <td>103.88</td>\n",
       "      <td>6950839.0</td>\n",
       "      <td>-0.015822</td>\n",
       "    </tr>\n",
       "    <tr>\n",
       "      <th>...</th>\n",
       "      <td>...</td>\n",
       "      <td>...</td>\n",
       "      <td>...</td>\n",
       "      <td>...</td>\n",
       "      <td>...</td>\n",
       "      <td>...</td>\n",
       "      <td>...</td>\n",
       "      <td>...</td>\n",
       "      <td>...</td>\n",
       "      <td>...</td>\n",
       "      <td>...</td>\n",
       "      <td>...</td>\n",
       "      <td>...</td>\n",
       "      <td>...</td>\n",
       "      <td>...</td>\n",
       "      <td>...</td>\n",
       "      <td>...</td>\n",
       "      <td>...</td>\n",
       "      <td>...</td>\n",
       "      <td>...</td>\n",
       "      <td>...</td>\n",
       "    </tr>\n",
       "    <tr>\n",
       "      <th>2021-10-29</th>\n",
       "      <td>3300.03</td>\n",
       "      <td>3374.8200</td>\n",
       "      <td>3273.320</td>\n",
       "      <td>3372.43</td>\n",
       "      <td>5462617</td>\n",
       "      <td>-0.020923</td>\n",
       "      <td>72.11</td>\n",
       "      <td>76.980</td>\n",
       "      <td>72.065</td>\n",
       "      <td>76.730</td>\n",
       "      <td>...</td>\n",
       "      <td>256.5100</td>\n",
       "      <td>259.61</td>\n",
       "      <td>1603229.0</td>\n",
       "      <td>0.005578</td>\n",
       "      <td>147.94</td>\n",
       "      <td>150.099</td>\n",
       "      <td>147.5606</td>\n",
       "      <td>149.42</td>\n",
       "      <td>5577766.0</td>\n",
       "      <td>0.006670</td>\n",
       "    </tr>\n",
       "    <tr>\n",
       "      <th>2021-11-01</th>\n",
       "      <td>3366.04</td>\n",
       "      <td>3375.8600</td>\n",
       "      <td>3292.020</td>\n",
       "      <td>3317.99</td>\n",
       "      <td>3317329</td>\n",
       "      <td>-0.016143</td>\n",
       "      <td>76.65</td>\n",
       "      <td>77.610</td>\n",
       "      <td>75.550</td>\n",
       "      <td>76.300</td>\n",
       "      <td>...</td>\n",
       "      <td>257.4900</td>\n",
       "      <td>257.87</td>\n",
       "      <td>1526936.0</td>\n",
       "      <td>-0.006702</td>\n",
       "      <td>150.05</td>\n",
       "      <td>150.750</td>\n",
       "      <td>149.3500</td>\n",
       "      <td>149.80</td>\n",
       "      <td>3469224.0</td>\n",
       "      <td>0.002543</td>\n",
       "    </tr>\n",
       "    <tr>\n",
       "      <th>2021-11-02</th>\n",
       "      <td>3317.50</td>\n",
       "      <td>3331.1150</td>\n",
       "      <td>3283.550</td>\n",
       "      <td>3313.17</td>\n",
       "      <td>2364950</td>\n",
       "      <td>-0.001453</td>\n",
       "      <td>76.24</td>\n",
       "      <td>76.380</td>\n",
       "      <td>74.470</td>\n",
       "      <td>74.900</td>\n",
       "      <td>...</td>\n",
       "      <td>258.5401</td>\n",
       "      <td>260.29</td>\n",
       "      <td>1729084.0</td>\n",
       "      <td>0.009385</td>\n",
       "      <td>149.96</td>\n",
       "      <td>150.175</td>\n",
       "      <td>149.2800</td>\n",
       "      <td>149.72</td>\n",
       "      <td>3690780.0</td>\n",
       "      <td>-0.000534</td>\n",
       "    </tr>\n",
       "    <tr>\n",
       "      <th>2021-11-03</th>\n",
       "      <td>3310.46</td>\n",
       "      <td>3394.9200</td>\n",
       "      <td>3297.520</td>\n",
       "      <td>3384.00</td>\n",
       "      <td>3051730</td>\n",
       "      <td>0.021378</td>\n",
       "      <td>74.69</td>\n",
       "      <td>76.130</td>\n",
       "      <td>73.860</td>\n",
       "      <td>75.440</td>\n",
       "      <td>...</td>\n",
       "      <td>256.7200</td>\n",
       "      <td>260.47</td>\n",
       "      <td>1969187.0</td>\n",
       "      <td>0.000692</td>\n",
       "      <td>149.60</td>\n",
       "      <td>150.290</td>\n",
       "      <td>149.0300</td>\n",
       "      <td>150.19</td>\n",
       "      <td>3603828.0</td>\n",
       "      <td>0.003139</td>\n",
       "    </tr>\n",
       "    <tr>\n",
       "      <th>2021-11-04</th>\n",
       "      <td>3371.29</td>\n",
       "      <td>3498.6250</td>\n",
       "      <td>3365.000</td>\n",
       "      <td>3477.04</td>\n",
       "      <td>5077538</td>\n",
       "      <td>0.027494</td>\n",
       "      <td>75.56</td>\n",
       "      <td>77.000</td>\n",
       "      <td>74.950</td>\n",
       "      <td>76.280</td>\n",
       "      <td>...</td>\n",
       "      <td>259.4187</td>\n",
       "      <td>260.43</td>\n",
       "      <td>2152794.0</td>\n",
       "      <td>-0.000154</td>\n",
       "      <td>150.18</td>\n",
       "      <td>151.848</td>\n",
       "      <td>149.8300</td>\n",
       "      <td>151.28</td>\n",
       "      <td>4142644.0</td>\n",
       "      <td>0.007257</td>\n",
       "    </tr>\n",
       "  </tbody>\n",
       "</table>\n",
       "<p>753 rows × 30 columns</p>\n",
       "</div>"
      ],
      "text/plain": [
       "               AMZN                                                      \\\n",
       "               open       high       low    close   volume daily_return   \n",
       "2018-11-06  1618.35  1665.0000  1614.550  1642.86  4000487     0.009469   \n",
       "2018-11-07  1673.00  1759.2300  1664.075  1757.36  7606948     0.069696   \n",
       "2018-11-08  1752.89  1784.0000  1725.110  1754.95  3299391    -0.001371   \n",
       "2018-11-09  1735.12  1743.9207  1701.870  1712.03  2962981    -0.024457   \n",
       "2018-11-12  1699.67  1708.5500  1630.010  1636.79  3229882    -0.043948   \n",
       "...             ...        ...       ...      ...      ...          ...   \n",
       "2021-10-29  3300.03  3374.8200  3273.320  3372.43  5462617    -0.020923   \n",
       "2021-11-01  3366.04  3375.8600  3292.020  3317.99  3317329    -0.016143   \n",
       "2021-11-02  3317.50  3331.1150  3283.550  3313.17  2364950    -0.001453   \n",
       "2021-11-03  3310.46  3394.9200  3297.520  3384.00  3051730     0.021378   \n",
       "2021-11-04  3371.29  3498.6250  3365.000  3477.04  5077538     0.027494   \n",
       "\n",
       "             EBAY                          ...       TGT                     \\\n",
       "             open    high     low   close  ...       low   close     volume   \n",
       "2018-11-06  29.59  30.260  29.460  29.950  ...   84.9300   85.56  3218972.0   \n",
       "2018-11-07  30.09  30.180  29.590  29.850  ...   85.7600   86.72  6164998.0   \n",
       "2018-11-08  29.74  29.967  29.520  29.845  ...   86.7901   87.60  3516326.0   \n",
       "2018-11-09  29.62  29.950  29.580  29.630  ...   86.6700   86.96  2715011.0   \n",
       "2018-11-12  29.60  29.700  28.910  28.960  ...   85.2400   85.46  3437712.0   \n",
       "...           ...     ...     ...     ...  ...       ...     ...        ...   \n",
       "2021-10-29  72.11  76.980  72.065  76.730  ...  256.5100  259.61  1603229.0   \n",
       "2021-11-01  76.65  77.610  75.550  76.300  ...  257.4900  257.87  1526936.0   \n",
       "2021-11-02  76.24  76.380  74.470  74.900  ...  258.5401  260.29  1729084.0   \n",
       "2021-11-03  74.69  76.130  73.860  75.440  ...  256.7200  260.47  1969187.0   \n",
       "2021-11-04  75.56  77.000  74.950  76.280  ...  259.4187  260.43  2152794.0   \n",
       "\n",
       "                            WMT                                        \\\n",
       "           daily_return    open     high       low   close     volume   \n",
       "2018-11-06     0.002695  102.54  103.440  102.0500  103.32  4385000.0   \n",
       "2018-11-07     0.013558  103.66  104.470  103.0500  104.34  5589694.0   \n",
       "2018-11-08     0.010148  104.33  105.260  104.0300  104.89  4099279.0   \n",
       "2018-11-09    -0.007306  105.00  105.900  104.8100  105.55  5650275.0   \n",
       "2018-11-12    -0.017249  105.50  106.210  103.6500  103.88  6950839.0   \n",
       "...                 ...     ...      ...       ...     ...        ...   \n",
       "2021-10-29     0.005578  147.94  150.099  147.5606  149.42  5577766.0   \n",
       "2021-11-01    -0.006702  150.05  150.750  149.3500  149.80  3469224.0   \n",
       "2021-11-02     0.009385  149.96  150.175  149.2800  149.72  3690780.0   \n",
       "2021-11-03     0.000692  149.60  150.290  149.0300  150.19  3603828.0   \n",
       "2021-11-04    -0.000154  150.18  151.848  149.8300  151.28  4142644.0   \n",
       "\n",
       "                         \n",
       "           daily_return  \n",
       "2018-11-06     0.004179  \n",
       "2018-11-07     0.009872  \n",
       "2018-11-08     0.005271  \n",
       "2018-11-09     0.006292  \n",
       "2018-11-12    -0.015822  \n",
       "...                 ...  \n",
       "2021-10-29     0.006670  \n",
       "2021-11-01     0.002543  \n",
       "2021-11-02    -0.000534  \n",
       "2021-11-03     0.003139  \n",
       "2021-11-04     0.007257  \n",
       "\n",
       "[753 rows x 30 columns]"
      ]
     },
     "execution_count": 45,
     "metadata": {},
     "output_type": "execute_result"
    }
   ],
   "source": [
    "# Configuring the MC simulation\n",
    "one_year_simulation = MCSimulation(\n",
    "    portfolio_data=ecom_stocks,\n",
    "    num_simulation=500,\n",
    "    num_trading_days=252,\n",
    ")\n",
    "\n",
    "# Review the simulation input data\n",
    "one_year_simulation.portfolio_data.dropna()"
   ]
  },
  {
   "cell_type": "code",
   "execution_count": 46,
   "metadata": {},
   "outputs": [
    {
     "name": "stdout",
     "output_type": "stream",
     "text": [
      "Running Monte Carlo simulation number 0.\n",
      "Running Monte Carlo simulation number 10.\n",
      "Running Monte Carlo simulation number 20.\n",
      "Running Monte Carlo simulation number 30.\n",
      "Running Monte Carlo simulation number 40.\n",
      "Running Monte Carlo simulation number 50.\n",
      "Running Monte Carlo simulation number 60.\n",
      "Running Monte Carlo simulation number 70.\n",
      "Running Monte Carlo simulation number 80.\n",
      "Running Monte Carlo simulation number 90.\n",
      "Running Monte Carlo simulation number 100.\n"
     ]
    },
    {
     "name": "stderr",
     "output_type": "stream",
     "text": [
      "/Users/johannmaiga/Downloads/MyFiles/FinTech Class/Repos/modern_ecommerce_analysis/utils/MCForecastTools.py:127: PerformanceWarning: DataFrame is highly fragmented.  This is usually the result of calling `frame.insert` many times, which has poor performance.  Consider joining all columns at once using pd.concat(axis=1) instead.  To get a de-fragmented frame, use `newframe = frame.copy()`\n",
      "  portfolio_cumulative_returns[n] = (1 + sim_df.fillna(0)).cumprod()\n"
     ]
    },
    {
     "name": "stdout",
     "output_type": "stream",
     "text": [
      "Running Monte Carlo simulation number 110.\n",
      "Running Monte Carlo simulation number 120.\n",
      "Running Monte Carlo simulation number 130.\n",
      "Running Monte Carlo simulation number 140.\n",
      "Running Monte Carlo simulation number 150.\n",
      "Running Monte Carlo simulation number 160.\n",
      "Running Monte Carlo simulation number 170.\n",
      "Running Monte Carlo simulation number 180.\n",
      "Running Monte Carlo simulation number 190.\n",
      "Running Monte Carlo simulation number 200.\n",
      "Running Monte Carlo simulation number 210.\n",
      "Running Monte Carlo simulation number 220.\n",
      "Running Monte Carlo simulation number 230.\n",
      "Running Monte Carlo simulation number 240.\n",
      "Running Monte Carlo simulation number 250.\n",
      "Running Monte Carlo simulation number 260.\n",
      "Running Monte Carlo simulation number 270.\n",
      "Running Monte Carlo simulation number 280.\n",
      "Running Monte Carlo simulation number 290.\n",
      "Running Monte Carlo simulation number 300.\n",
      "Running Monte Carlo simulation number 310.\n",
      "Running Monte Carlo simulation number 320.\n",
      "Running Monte Carlo simulation number 330.\n",
      "Running Monte Carlo simulation number 340.\n",
      "Running Monte Carlo simulation number 350.\n",
      "Running Monte Carlo simulation number 360.\n",
      "Running Monte Carlo simulation number 370.\n",
      "Running Monte Carlo simulation number 380.\n",
      "Running Monte Carlo simulation number 390.\n",
      "Running Monte Carlo simulation number 400.\n",
      "Running Monte Carlo simulation number 410.\n",
      "Running Monte Carlo simulation number 420.\n",
      "Running Monte Carlo simulation number 430.\n",
      "Running Monte Carlo simulation number 440.\n",
      "Running Monte Carlo simulation number 450.\n",
      "Running Monte Carlo simulation number 460.\n",
      "Running Monte Carlo simulation number 470.\n",
      "Running Monte Carlo simulation number 480.\n",
      "Running Monte Carlo simulation number 490.\n"
     ]
    },
    {
     "data": {
      "text/html": [
       "<div>\n",
       "<style scoped>\n",
       "    .dataframe tbody tr th:only-of-type {\n",
       "        vertical-align: middle;\n",
       "    }\n",
       "\n",
       "    .dataframe tbody tr th {\n",
       "        vertical-align: top;\n",
       "    }\n",
       "\n",
       "    .dataframe thead th {\n",
       "        text-align: right;\n",
       "    }\n",
       "</style>\n",
       "<table border=\"1\" class=\"dataframe\">\n",
       "  <thead>\n",
       "    <tr style=\"text-align: right;\">\n",
       "      <th></th>\n",
       "      <th>0</th>\n",
       "      <th>1</th>\n",
       "      <th>2</th>\n",
       "      <th>3</th>\n",
       "      <th>4</th>\n",
       "      <th>5</th>\n",
       "      <th>6</th>\n",
       "      <th>7</th>\n",
       "      <th>8</th>\n",
       "      <th>9</th>\n",
       "      <th>...</th>\n",
       "      <th>490</th>\n",
       "      <th>491</th>\n",
       "      <th>492</th>\n",
       "      <th>493</th>\n",
       "      <th>494</th>\n",
       "      <th>495</th>\n",
       "      <th>496</th>\n",
       "      <th>497</th>\n",
       "      <th>498</th>\n",
       "      <th>499</th>\n",
       "    </tr>\n",
       "  </thead>\n",
       "  <tbody>\n",
       "    <tr>\n",
       "      <th>0</th>\n",
       "      <td>1.000000</td>\n",
       "      <td>1.000000</td>\n",
       "      <td>1.000000</td>\n",
       "      <td>1.000000</td>\n",
       "      <td>1.000000</td>\n",
       "      <td>1.000000</td>\n",
       "      <td>1.000000</td>\n",
       "      <td>1.000000</td>\n",
       "      <td>1.000000</td>\n",
       "      <td>1.000000</td>\n",
       "      <td>...</td>\n",
       "      <td>1.000000</td>\n",
       "      <td>1.000000</td>\n",
       "      <td>1.000000</td>\n",
       "      <td>1.000000</td>\n",
       "      <td>1.000000</td>\n",
       "      <td>1.000000</td>\n",
       "      <td>1.000000</td>\n",
       "      <td>1.000000</td>\n",
       "      <td>1.000000</td>\n",
       "      <td>1.000000</td>\n",
       "    </tr>\n",
       "    <tr>\n",
       "      <th>1</th>\n",
       "      <td>1.004285</td>\n",
       "      <td>0.999765</td>\n",
       "      <td>0.998749</td>\n",
       "      <td>1.008271</td>\n",
       "      <td>0.986970</td>\n",
       "      <td>0.986170</td>\n",
       "      <td>0.997079</td>\n",
       "      <td>0.981725</td>\n",
       "      <td>1.003385</td>\n",
       "      <td>1.003879</td>\n",
       "      <td>...</td>\n",
       "      <td>0.998617</td>\n",
       "      <td>0.992128</td>\n",
       "      <td>0.995734</td>\n",
       "      <td>0.995700</td>\n",
       "      <td>0.997962</td>\n",
       "      <td>1.021373</td>\n",
       "      <td>0.991590</td>\n",
       "      <td>1.026482</td>\n",
       "      <td>1.045942</td>\n",
       "      <td>0.993029</td>\n",
       "    </tr>\n",
       "    <tr>\n",
       "      <th>2</th>\n",
       "      <td>0.989136</td>\n",
       "      <td>1.008015</td>\n",
       "      <td>0.987147</td>\n",
       "      <td>1.027155</td>\n",
       "      <td>0.950314</td>\n",
       "      <td>1.007071</td>\n",
       "      <td>0.998043</td>\n",
       "      <td>0.947283</td>\n",
       "      <td>0.974793</td>\n",
       "      <td>1.014652</td>\n",
       "      <td>...</td>\n",
       "      <td>0.985214</td>\n",
       "      <td>1.002358</td>\n",
       "      <td>0.962987</td>\n",
       "      <td>1.004496</td>\n",
       "      <td>1.014900</td>\n",
       "      <td>1.035614</td>\n",
       "      <td>0.976960</td>\n",
       "      <td>1.014198</td>\n",
       "      <td>1.028921</td>\n",
       "      <td>0.992184</td>\n",
       "    </tr>\n",
       "    <tr>\n",
       "      <th>3</th>\n",
       "      <td>1.022566</td>\n",
       "      <td>1.033392</td>\n",
       "      <td>0.980920</td>\n",
       "      <td>1.060068</td>\n",
       "      <td>0.962418</td>\n",
       "      <td>0.975665</td>\n",
       "      <td>1.018830</td>\n",
       "      <td>0.952259</td>\n",
       "      <td>0.993825</td>\n",
       "      <td>1.022677</td>\n",
       "      <td>...</td>\n",
       "      <td>0.983818</td>\n",
       "      <td>1.011584</td>\n",
       "      <td>0.987322</td>\n",
       "      <td>0.992335</td>\n",
       "      <td>1.027695</td>\n",
       "      <td>1.051801</td>\n",
       "      <td>1.001462</td>\n",
       "      <td>0.993023</td>\n",
       "      <td>1.015578</td>\n",
       "      <td>0.979971</td>\n",
       "    </tr>\n",
       "    <tr>\n",
       "      <th>4</th>\n",
       "      <td>0.999999</td>\n",
       "      <td>1.013025</td>\n",
       "      <td>0.962542</td>\n",
       "      <td>1.061357</td>\n",
       "      <td>0.964290</td>\n",
       "      <td>0.939824</td>\n",
       "      <td>1.016176</td>\n",
       "      <td>0.949045</td>\n",
       "      <td>0.979038</td>\n",
       "      <td>1.012194</td>\n",
       "      <td>...</td>\n",
       "      <td>1.014183</td>\n",
       "      <td>1.014724</td>\n",
       "      <td>0.998377</td>\n",
       "      <td>0.985123</td>\n",
       "      <td>1.021666</td>\n",
       "      <td>1.062187</td>\n",
       "      <td>1.004567</td>\n",
       "      <td>1.002197</td>\n",
       "      <td>1.028086</td>\n",
       "      <td>0.960395</td>\n",
       "    </tr>\n",
       "    <tr>\n",
       "      <th>...</th>\n",
       "      <td>...</td>\n",
       "      <td>...</td>\n",
       "      <td>...</td>\n",
       "      <td>...</td>\n",
       "      <td>...</td>\n",
       "      <td>...</td>\n",
       "      <td>...</td>\n",
       "      <td>...</td>\n",
       "      <td>...</td>\n",
       "      <td>...</td>\n",
       "      <td>...</td>\n",
       "      <td>...</td>\n",
       "      <td>...</td>\n",
       "      <td>...</td>\n",
       "      <td>...</td>\n",
       "      <td>...</td>\n",
       "      <td>...</td>\n",
       "      <td>...</td>\n",
       "      <td>...</td>\n",
       "      <td>...</td>\n",
       "      <td>...</td>\n",
       "    </tr>\n",
       "    <tr>\n",
       "      <th>248</th>\n",
       "      <td>1.230954</td>\n",
       "      <td>1.433447</td>\n",
       "      <td>1.860268</td>\n",
       "      <td>1.960293</td>\n",
       "      <td>1.430605</td>\n",
       "      <td>1.512215</td>\n",
       "      <td>1.128551</td>\n",
       "      <td>1.513406</td>\n",
       "      <td>1.381196</td>\n",
       "      <td>1.200519</td>\n",
       "      <td>...</td>\n",
       "      <td>1.825092</td>\n",
       "      <td>1.210989</td>\n",
       "      <td>1.562565</td>\n",
       "      <td>1.640416</td>\n",
       "      <td>1.733744</td>\n",
       "      <td>1.758053</td>\n",
       "      <td>0.971278</td>\n",
       "      <td>1.952919</td>\n",
       "      <td>1.630145</td>\n",
       "      <td>1.697373</td>\n",
       "    </tr>\n",
       "    <tr>\n",
       "      <th>249</th>\n",
       "      <td>1.212754</td>\n",
       "      <td>1.421755</td>\n",
       "      <td>1.817814</td>\n",
       "      <td>1.978505</td>\n",
       "      <td>1.432433</td>\n",
       "      <td>1.502187</td>\n",
       "      <td>1.164653</td>\n",
       "      <td>1.513024</td>\n",
       "      <td>1.400820</td>\n",
       "      <td>1.230891</td>\n",
       "      <td>...</td>\n",
       "      <td>1.859429</td>\n",
       "      <td>1.219383</td>\n",
       "      <td>1.559091</td>\n",
       "      <td>1.648796</td>\n",
       "      <td>1.730324</td>\n",
       "      <td>1.768075</td>\n",
       "      <td>0.976153</td>\n",
       "      <td>1.924465</td>\n",
       "      <td>1.625607</td>\n",
       "      <td>1.710555</td>\n",
       "    </tr>\n",
       "    <tr>\n",
       "      <th>250</th>\n",
       "      <td>1.188841</td>\n",
       "      <td>1.478818</td>\n",
       "      <td>1.851812</td>\n",
       "      <td>2.012707</td>\n",
       "      <td>1.414943</td>\n",
       "      <td>1.508152</td>\n",
       "      <td>1.183012</td>\n",
       "      <td>1.554235</td>\n",
       "      <td>1.422892</td>\n",
       "      <td>1.235200</td>\n",
       "      <td>...</td>\n",
       "      <td>1.883828</td>\n",
       "      <td>1.224648</td>\n",
       "      <td>1.540597</td>\n",
       "      <td>1.644406</td>\n",
       "      <td>1.765320</td>\n",
       "      <td>1.761377</td>\n",
       "      <td>0.975214</td>\n",
       "      <td>1.950723</td>\n",
       "      <td>1.653055</td>\n",
       "      <td>1.740731</td>\n",
       "    </tr>\n",
       "    <tr>\n",
       "      <th>251</th>\n",
       "      <td>1.221596</td>\n",
       "      <td>1.495730</td>\n",
       "      <td>1.879893</td>\n",
       "      <td>2.002386</td>\n",
       "      <td>1.406562</td>\n",
       "      <td>1.508145</td>\n",
       "      <td>1.206221</td>\n",
       "      <td>1.599569</td>\n",
       "      <td>1.396828</td>\n",
       "      <td>1.214935</td>\n",
       "      <td>...</td>\n",
       "      <td>1.868304</td>\n",
       "      <td>1.240662</td>\n",
       "      <td>1.517517</td>\n",
       "      <td>1.647305</td>\n",
       "      <td>1.745117</td>\n",
       "      <td>1.726525</td>\n",
       "      <td>0.990017</td>\n",
       "      <td>1.983925</td>\n",
       "      <td>1.621060</td>\n",
       "      <td>1.750646</td>\n",
       "    </tr>\n",
       "    <tr>\n",
       "      <th>252</th>\n",
       "      <td>1.218404</td>\n",
       "      <td>1.505737</td>\n",
       "      <td>1.930262</td>\n",
       "      <td>1.984473</td>\n",
       "      <td>1.378987</td>\n",
       "      <td>1.454305</td>\n",
       "      <td>1.229328</td>\n",
       "      <td>1.646493</td>\n",
       "      <td>1.433794</td>\n",
       "      <td>1.200589</td>\n",
       "      <td>...</td>\n",
       "      <td>1.915437</td>\n",
       "      <td>1.260300</td>\n",
       "      <td>1.492688</td>\n",
       "      <td>1.677853</td>\n",
       "      <td>1.779311</td>\n",
       "      <td>1.745622</td>\n",
       "      <td>1.026533</td>\n",
       "      <td>2.071081</td>\n",
       "      <td>1.660548</td>\n",
       "      <td>1.771094</td>\n",
       "    </tr>\n",
       "  </tbody>\n",
       "</table>\n",
       "<p>253 rows × 500 columns</p>\n",
       "</div>"
      ],
      "text/plain": [
       "          0         1         2         3         4         5         6    \\\n",
       "0    1.000000  1.000000  1.000000  1.000000  1.000000  1.000000  1.000000   \n",
       "1    1.004285  0.999765  0.998749  1.008271  0.986970  0.986170  0.997079   \n",
       "2    0.989136  1.008015  0.987147  1.027155  0.950314  1.007071  0.998043   \n",
       "3    1.022566  1.033392  0.980920  1.060068  0.962418  0.975665  1.018830   \n",
       "4    0.999999  1.013025  0.962542  1.061357  0.964290  0.939824  1.016176   \n",
       "..        ...       ...       ...       ...       ...       ...       ...   \n",
       "248  1.230954  1.433447  1.860268  1.960293  1.430605  1.512215  1.128551   \n",
       "249  1.212754  1.421755  1.817814  1.978505  1.432433  1.502187  1.164653   \n",
       "250  1.188841  1.478818  1.851812  2.012707  1.414943  1.508152  1.183012   \n",
       "251  1.221596  1.495730  1.879893  2.002386  1.406562  1.508145  1.206221   \n",
       "252  1.218404  1.505737  1.930262  1.984473  1.378987  1.454305  1.229328   \n",
       "\n",
       "          7         8         9    ...       490       491       492  \\\n",
       "0    1.000000  1.000000  1.000000  ...  1.000000  1.000000  1.000000   \n",
       "1    0.981725  1.003385  1.003879  ...  0.998617  0.992128  0.995734   \n",
       "2    0.947283  0.974793  1.014652  ...  0.985214  1.002358  0.962987   \n",
       "3    0.952259  0.993825  1.022677  ...  0.983818  1.011584  0.987322   \n",
       "4    0.949045  0.979038  1.012194  ...  1.014183  1.014724  0.998377   \n",
       "..        ...       ...       ...  ...       ...       ...       ...   \n",
       "248  1.513406  1.381196  1.200519  ...  1.825092  1.210989  1.562565   \n",
       "249  1.513024  1.400820  1.230891  ...  1.859429  1.219383  1.559091   \n",
       "250  1.554235  1.422892  1.235200  ...  1.883828  1.224648  1.540597   \n",
       "251  1.599569  1.396828  1.214935  ...  1.868304  1.240662  1.517517   \n",
       "252  1.646493  1.433794  1.200589  ...  1.915437  1.260300  1.492688   \n",
       "\n",
       "          493       494       495       496       497       498       499  \n",
       "0    1.000000  1.000000  1.000000  1.000000  1.000000  1.000000  1.000000  \n",
       "1    0.995700  0.997962  1.021373  0.991590  1.026482  1.045942  0.993029  \n",
       "2    1.004496  1.014900  1.035614  0.976960  1.014198  1.028921  0.992184  \n",
       "3    0.992335  1.027695  1.051801  1.001462  0.993023  1.015578  0.979971  \n",
       "4    0.985123  1.021666  1.062187  1.004567  1.002197  1.028086  0.960395  \n",
       "..        ...       ...       ...       ...       ...       ...       ...  \n",
       "248  1.640416  1.733744  1.758053  0.971278  1.952919  1.630145  1.697373  \n",
       "249  1.648796  1.730324  1.768075  0.976153  1.924465  1.625607  1.710555  \n",
       "250  1.644406  1.765320  1.761377  0.975214  1.950723  1.653055  1.740731  \n",
       "251  1.647305  1.745117  1.726525  0.990017  1.983925  1.621060  1.750646  \n",
       "252  1.677853  1.779311  1.745622  1.026533  2.071081  1.660548  1.771094  \n",
       "\n",
       "[253 rows x 500 columns]"
      ]
     },
     "execution_count": 46,
     "metadata": {},
     "output_type": "execute_result"
    }
   ],
   "source": [
    "# Run the Monte Carlo simulation to forecast 1 year cumulative returns\n",
    "one_year_simulation.calc_cumulative_return()"
   ]
  },
  {
   "cell_type": "code",
   "execution_count": 47,
   "metadata": {},
   "outputs": [
    {
     "data": {
      "text/plain": [
       "<AxesSubplot:title={'center':'500 Simulations of Cumulative Portfolio Return Trajectories Over the Next 252 Trading Days.'}>"
      ]
     },
     "execution_count": 47,
     "metadata": {},
     "output_type": "execute_result"
    },
    {
     "data": {
      "image/png": "[encoded data removed]",
      "text/plain": [
       "<Figure size 432x288 with 1 Axes>"
      ]
     },
     "metadata": {
      "needs_background": "light"
     },
     "output_type": "display_data"
    }
   ],
   "source": [
    "# Plot simulation outcomes\n",
    "one_year_simulation.plot_simulation()"
   ]
  },
  {
   "cell_type": "markdown",
   "metadata": {},
   "source": [
    "### 5.3 - Plot the Simulated Daily Returns Trajectory for `Ecom Portfolio` over the Next Year (252 Trading Days)"
   ]
  },
  {
   "cell_type": "code",
   "execution_count": 48,
   "metadata": {},
   "outputs": [
    {
     "data": {
      "text/html": [
       "<div>\n",
       "<style scoped>\n",
       "    .dataframe tbody tr th:only-of-type {\n",
       "        vertical-align: middle;\n",
       "    }\n",
       "\n",
       "    .dataframe tbody tr th {\n",
       "        vertical-align: top;\n",
       "    }\n",
       "\n",
       "    .dataframe thead th {\n",
       "        text-align: right;\n",
       "    }\n",
       "</style>\n",
       "<table border=\"1\" class=\"dataframe\">\n",
       "  <thead>\n",
       "    <tr style=\"text-align: right;\">\n",
       "      <th></th>\n",
       "      <th>mean</th>\n",
       "      <th>median</th>\n",
       "      <th>min</th>\n",
       "      <th>max</th>\n",
       "    </tr>\n",
       "  </thead>\n",
       "  <tbody>\n",
       "    <tr>\n",
       "      <th>0</th>\n",
       "      <td>1.000000</td>\n",
       "      <td>1.000000</td>\n",
       "      <td>1.000000</td>\n",
       "      <td>1.000000</td>\n",
       "    </tr>\n",
       "    <tr>\n",
       "      <th>1</th>\n",
       "      <td>1.001818</td>\n",
       "      <td>1.001275</td>\n",
       "      <td>0.958763</td>\n",
       "      <td>1.055286</td>\n",
       "    </tr>\n",
       "    <tr>\n",
       "      <th>2</th>\n",
       "      <td>1.004373</td>\n",
       "      <td>1.005799</td>\n",
       "      <td>0.936306</td>\n",
       "      <td>1.079764</td>\n",
       "    </tr>\n",
       "    <tr>\n",
       "      <th>3</th>\n",
       "      <td>1.007184</td>\n",
       "      <td>1.005936</td>\n",
       "      <td>0.907049</td>\n",
       "      <td>1.096986</td>\n",
       "    </tr>\n",
       "    <tr>\n",
       "      <th>4</th>\n",
       "      <td>1.008322</td>\n",
       "      <td>1.007854</td>\n",
       "      <td>0.918956</td>\n",
       "      <td>1.093044</td>\n",
       "    </tr>\n",
       "  </tbody>\n",
       "</table>\n",
       "</div>"
      ],
      "text/plain": [
       "       mean    median       min       max\n",
       "0  1.000000  1.000000  1.000000  1.000000\n",
       "1  1.001818  1.001275  0.958763  1.055286\n",
       "2  1.004373  1.005799  0.936306  1.079764\n",
       "3  1.007184  1.005936  0.907049  1.096986\n",
       "4  1.008322  1.007854  0.918956  1.093044"
      ]
     },
     "execution_count": 48,
     "metadata": {},
     "output_type": "execute_result"
    }
   ],
   "source": [
    "# Compute summary statistics from the simulated daily returns\n",
    "simulated_returns_data = {\n",
    "    \"mean\": list(one_year_simulation.simulated_return.mean(axis=1)),\n",
    "    \"median\": list(one_year_simulation.simulated_return.median(axis=1)),\n",
    "    \"min\": list(one_year_simulation.simulated_return.min(axis=1)),\n",
    "    \"max\": list(one_year_simulation.simulated_return.max(axis=1))\n",
    "}\n",
    "\n",
    "# Create a DataFrame with the summary statistics\n",
    "df_simulated_returns = pd.DataFrame(simulated_returns_data)\n",
    "\n",
    "# Display sample data\n",
    "df_simulated_returns.head()"
   ]
  },
  {
   "cell_type": "code",
   "execution_count": 49,
   "metadata": {},
   "outputs": [
    {
     "data": {
      "text/plain": [
       "<AxesSubplot:title={'center':'Simulated Daily Returns Behavior of the Ecom Portfolio Over the Next Year'}>"
      ]
     },
     "execution_count": 49,
     "metadata": {},
     "output_type": "execute_result"
    },
    {
     "data": {
      "image/png": "[encoded data removed]",
      "text/plain": [
       "<Figure size 1080x864 with 1 Axes>"
      ]
     },
     "metadata": {
      "needs_background": "light"
     },
     "output_type": "display_data"
    }
   ],
   "source": [
    "# Use the `plot` function to visually analyze the trajectory of the Ecom Portfolio daily returns on a 252 trading day simulation\n",
    "df_simulated_returns.plot(figsize=(15,12), title=\"Simulated Daily Returns Behavior of the Ecom Portfolio Over the Next Year\")"
   ]
  },
  {
   "cell_type": "markdown",
   "metadata": {},
   "source": [
    "### 5.4 - Calculate the Simulated Profits/Losses of $500,000 Investment in `Ecom Portfolio` Over the Next `252` Trading Days"
   ]
  },
  {
   "cell_type": "code",
   "execution_count": 50,
   "metadata": {},
   "outputs": [
    {
     "data": {
      "text/html": [
       "<div>\n",
       "<style scoped>\n",
       "    .dataframe tbody tr th:only-of-type {\n",
       "        vertical-align: middle;\n",
       "    }\n",
       "\n",
       "    .dataframe tbody tr th {\n",
       "        vertical-align: top;\n",
       "    }\n",
       "\n",
       "    .dataframe thead th {\n",
       "        text-align: right;\n",
       "    }\n",
       "</style>\n",
       "<table border=\"1\" class=\"dataframe\">\n",
       "  <thead>\n",
       "    <tr style=\"text-align: right;\">\n",
       "      <th></th>\n",
       "      <th>mean</th>\n",
       "      <th>median</th>\n",
       "      <th>min</th>\n",
       "      <th>max</th>\n",
       "    </tr>\n",
       "  </thead>\n",
       "  <tbody>\n",
       "    <tr>\n",
       "      <th>0</th>\n",
       "      <td>500000.000000</td>\n",
       "      <td>500000.000000</td>\n",
       "      <td>500000.000000</td>\n",
       "      <td>500000.000000</td>\n",
       "    </tr>\n",
       "    <tr>\n",
       "      <th>1</th>\n",
       "      <td>500909.022982</td>\n",
       "      <td>500637.507163</td>\n",
       "      <td>479381.710257</td>\n",
       "      <td>527643.246477</td>\n",
       "    </tr>\n",
       "    <tr>\n",
       "      <th>2</th>\n",
       "      <td>502186.746674</td>\n",
       "      <td>502899.560672</td>\n",
       "      <td>468153.033159</td>\n",
       "      <td>539881.782000</td>\n",
       "    </tr>\n",
       "    <tr>\n",
       "      <th>3</th>\n",
       "      <td>503591.859456</td>\n",
       "      <td>502968.028068</td>\n",
       "      <td>453524.734576</td>\n",
       "      <td>548493.175618</td>\n",
       "    </tr>\n",
       "    <tr>\n",
       "      <th>4</th>\n",
       "      <td>504160.768865</td>\n",
       "      <td>503926.803500</td>\n",
       "      <td>459478.074359</td>\n",
       "      <td>546521.813152</td>\n",
       "    </tr>\n",
       "  </tbody>\n",
       "</table>\n",
       "</div>"
      ],
      "text/plain": [
       "            mean         median            min            max\n",
       "0  500000.000000  500000.000000  500000.000000  500000.000000\n",
       "1  500909.022982  500637.507163  479381.710257  527643.246477\n",
       "2  502186.746674  502899.560672  468153.033159  539881.782000\n",
       "3  503591.859456  502968.028068  453524.734576  548493.175618\n",
       "4  504160.768865  503926.803500  459478.074359  546521.813152"
      ]
     },
     "execution_count": 50,
     "metadata": {},
     "output_type": "execute_result"
    }
   ],
   "source": [
    "# Set initial investment\n",
    "initial_investment = 500000\n",
    "\n",
    "# Multiply an initial investment by the daily returns of simulative stock prices to return the progression of daily returns in terms of money\n",
    "cumulative_pnl = initial_investment * df_simulated_returns\n",
    "\n",
    "# Display sample data\n",
    "cumulative_pnl.head()"
   ]
  },
  {
   "cell_type": "code",
   "execution_count": 63,
   "metadata": {},
   "outputs": [
    {
     "data": {},
     "metadata": {},
     "output_type": "display_data"
    },
    {
     "data": {
      "application/vnd.holoviews_exec.v0+json": "",
      "text/html": [
       "<div id='3956'>\n",
       "\n",
       "\n",
       "\n",
       "\n",
       "\n",
       "  <div class=\"bk-root\" id=\"39f54a98-0cd4-4a90-b7ef-b932743edabe\" data-root-id=\"3956\"></div>\n",
       "</div>\n",
       "<script type=\"application/javascript\">(function(root) {\n",
       "  function embed_document(root) {\n",
       "    var docs_json = {\"700d065b-d564-40c2-a5f4-347a64a80769\":{\"defs\":[{\"extends\":null,\"module\":null,\"name\":\"ReactiveHTML1\",\"overrides\":[],\"properties\":[]},{\"extends\":null,\"module\":null,\"name\":\"FlexBox1\",\"overrides\":[],\"properties\":[{\"default\":\"flex-start\",\"kind\":null,\"name\":\"align_content\"},{\"default\":\"flex-start\",\"kind\":null,\"name\":\"align_items\"},{\"default\":\"row\",\"kind\":null,\"name\":\"flex_direction\"},{\"default\":\"wrap\",\"kind\":null,\"name\":\"flex_wrap\"},{\"default\":\"flex-start\",\"kind\":null,\"name\":\"justify_content\"}]},{\"extends\":null,\"module\":null,\"name\":\"TemplateActions1\",\"overrides\":[],\"properties\":[{\"default\":0,\"kind\":null,\"name\":\"open_modal\"},{\"default\":0,\"kind\":null,\"name\":\"close_modal\"}]},{\"extends\":null,\"module\":null,\"name\":\"MaterialTemplateActions1\",\"overrides\":[],\"properties\":[{\"default\":0,\"kind\":null,\"name\":\"open_modal\"},{\"default\":0,\"kind\":null,\"name\":\"close_modal\"}]}],\"roots\":{\"references\":[{\"attributes\":{},\"id\":\"3997\",\"type\":\"AllLabels\"},{\"attributes\":{\"bottom_units\":\"screen\",\"coordinates\":null,\"fill_alpha\":0.5,\"fill_color\":\"lightgrey\",\"group\":null,\"left_units\":\"screen\",\"level\":\"overlay\",\"line_alpha\":1.0,\"line_color\":\"black\",\"line_dash\":[4,4],\"line_width\":2,\"right_units\":\"screen\",\"syncable\":false,\"top_units\":\"screen\"},\"id\":\"3986\",\"type\":\"BoxAnnotation\"},{\"attributes\":{\"line_color\":\"#fc4f30\",\"line_width\":2,\"x\":{\"field\":\"index\"},\"y\":{\"field\":\"value\"}},\"id\":\"4043\",\"type\":\"Line\"},{\"attributes\":{\"line_color\":\"#e5ae38\",\"line_width\":2,\"x\":{\"field\":\"index\"},\"y\":{\"field\":\"value\"}},\"id\":\"4047\",\"type\":\"Line\"},{\"attributes\":{\"children\":[{\"id\":\"3957\"},{\"id\":\"3964\"},{\"id\":\"4227\"}],\"margin\":[0,0,0,0],\"name\":\"Row07130\",\"tags\":[\"embedded\"]},\"id\":\"3956\",\"type\":\"Row\"},{\"attributes\":{\"tools\":[{\"id\":\"3960\"},{\"id\":\"3981\"},{\"id\":\"3982\"},{\"id\":\"3983\"},{\"id\":\"3984\"},{\"id\":\"3985\"}]},\"id\":\"3987\",\"type\":\"Toolbar\"},{\"attributes\":{\"format\":\"%.2f\"},\"id\":\"3994\",\"type\":\"PrintfTickFormatter\"},{\"attributes\":{\"coordinates\":null,\"data_source\":{\"id\":\"4044\"},\"glyph\":{\"id\":\"4047\"},\"group\":null,\"hover_glyph\":null,\"muted_glyph\":{\"id\":\"4049\"},\"nonselection_glyph\":{\"id\":\"4048\"},\"selection_glyph\":{\"id\":\"4066\"},\"view\":{\"id\":\"4051\"}},\"id\":\"4050\",\"type\":\"GlyphRenderer\"},{\"attributes\":{\"line_alpha\":0.1,\"line_color\":\"#e5ae38\",\"line_width\":2,\"x\":{\"field\":\"index\"},\"y\":{\"field\":\"value\"}},\"id\":\"4048\",\"type\":\"Line\"},{\"attributes\":{\"margin\":[5,5,5,5],\"name\":\"HSpacer07134\",\"sizing_mode\":\"stretch_width\"},\"id\":\"3957\",\"type\":\"Spacer\"},{\"attributes\":{},\"id\":\"3996\",\"type\":\"BasicTickFormatter\"},{\"attributes\":{\"data\":{\"Variable\":[\"mean\",\"mean\",\"mean\",\"mean\",\"mean\",\"mean\",\"mean\",\"mean\",\"mean\",\"mean\",\"mean\",\"mean\",\"mean\",\"mean\",\"mean\",\"mean\",\"mean\",\"mean\",\"mean\",\"mean\",\"mean\",\"mean\",\"mean\",\"mean\",\"mean\",\"mean\",\"mean\",\"mean\",\"mean\",\"mean\",\"mean\",\"mean\",\"mean\",\"mean\",\"mean\",\"mean\",\"mean\",\"mean\",\"mean\",\"mean\",\"mean\",\"mean\",\"mean\",\"mean\",\"mean\",\"mean\",\"mean\",\"mean\",\"mean\",\"mean\",\"mean\",\"mean\",\"mean\",\"mean\",\"mean\",\"mean\",\"mean\",\"mean\",\"mean\",\"mean\",\"mean\",\"mean\",\"mean\",\"mean\",\"mean\",\"mean\",\"mean\",\"mean\",\"mean\",\"mean\",\"mean\",\"mean\",\"mean\",\"mean\",\"mean\",\"mean\",\"mean\",\"mean\",\"mean\",\"mean\",\"mean\",\"mean\",\"mean\",\"mean\",\"mean\",\"mean\",\"mean\",\"mean\",\"mean\",\"mean\",\"mean\",\"mean\",\"mean\",\"mean\",\"mean\",\"mean\",\"mean\",\"mean\",\"mean\",\"mean\",\"mean\",\"mean\",\"mean\",\"mean\",\"mean\",\"mean\",\"mean\",\"mean\",\"mean\",\"mean\",\"mean\",\"mean\",\"mean\",\"mean\",\"mean\",\"mean\",\"mean\",\"mean\",\"mean\",\"mean\",\"mean\",\"mean\",\"mean\",\"mean\",\"mean\",\"mean\",\"mean\",\"mean\",\"mean\",\"mean\",\"mean\",\"mean\",\"mean\",\"mean\",\"mean\",\"mean\",\"mean\",\"mean\",\"mean\",\"mean\",\"mean\",\"mean\",\"mean\",\"mean\",\"mean\",\"mean\",\"mean\",\"mean\",\"mean\",\"mean\",\"mean\",\"mean\",\"mean\",\"mean\",\"mean\",\"mean\",\"mean\",\"mean\",\"mean\",\"mean\",\"mean\",\"mean\",\"mean\",\"mean\",\"mean\",\"mean\",\"mean\",\"mean\",\"mean\",\"mean\",\"mean\",\"mean\",\"mean\",\"mean\",\"mean\",\"mean\",\"mean\",\"mean\",\"mean\",\"mean\",\"mean\",\"mean\",\"mean\",\"mean\",\"mean\",\"mean\",\"mean\",\"mean\",\"mean\",\"mean\",\"mean\",\"mean\",\"mean\",\"mean\",\"mean\",\"mean\",\"mean\",\"mean\",\"mean\",\"mean\",\"mean\",\"mean\",\"mean\",\"mean\",\"mean\",\"mean\",\"mean\",\"mean\",\"mean\",\"mean\",\"mean\",\"mean\",\"mean\",\"mean\",\"mean\",\"mean\",\"mean\",\"mean\",\"mean\",\"mean\",\"mean\",\"mean\",\"mean\",\"mean\",\"mean\",\"mean\",\"mean\",\"mean\",\"mean\",\"mean\",\"mean\",\"mean\",\"mean\",\"mean\",\"mean\",\"mean\",\"mean\",\"mean\",\"mean\",\"mean\",\"mean\",\"mean\",\"mean\",\"mean\",\"mean\",\"mean\",\"mean\",\"mean\",\"mean\",\"mean\",\"mean\",\"mean\",\"mean\"],\"index\":[0,1,2,3,4,5,6,7,8,9,10,11,12,13,14,15,16,17,18,19,20,21,22,23,24,25,26,27,28,29,30,31,32,33,34,35,36,37,38,39,40,41,42,43,44,45,46,47,48,49,50,51,52,53,54,55,56,57,58,59,60,61,62,63,64,65,66,67,68,69,70,71,72,73,74,75,76,77,78,79,80,81,82,83,84,85,86,87,88,89,90,91,92,93,94,95,96,97,98,99,100,101,102,103,104,105,106,107,108,109,110,111,112,113,114,115,116,117,118,119,120,121,122,123,124,125,126,127,128,129,130,131,132,133,134,135,136,137,138,139,140,141,142,143,144,145,146,147,148,149,150,151,152,153,154,155,156,157,158,159,160,161,162,163,164,165,166,167,168,169,170,171,172,173,174,175,176,177,178,179,180,181,182,183,184,185,186,187,188,189,190,191,192,193,194,195,196,197,198,199,200,201,202,203,204,205,206,207,208,209,210,211,212,213,214,215,216,217,218,219,220,221,222,223,224,225,226,227,228,229,230,231,232,233,234,235,236,237,238,239,240,241,242,243,244,245,246,247,248,249,250,251,252],\"value\":{\"__ndarray__\":\"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\",\"dtype\":\"float64\",\"order\":\"little\",\"shape\":[253]}},\"selected\":{\"id\":\"4004\"},\"selection_policy\":{\"id\":\"4017\"}},\"id\":\"4003\",\"type\":\"ColumnDataSource\"},{\"attributes\":{\"line_color\":\"#6d904f\",\"line_width\":2,\"x\":{\"field\":\"index\"},\"y\":{\"field\":\"value\"}},\"id\":\"4091\",\"type\":\"Line\"},{\"attributes\":{},\"id\":\"4045\",\"type\":\"Selection\"},{\"attributes\":{\"line_color\":\"#e5ae38\",\"line_width\":2,\"x\":{\"field\":\"index\"},\"y\":{\"field\":\"value\"}},\"id\":\"4066\",\"type\":\"Line\"},{\"attributes\":{\"end\":1924997.2593932769,\"reset_end\":1924997.2593932769,\"reset_start\":206107.16816329802,\"start\":206107.16816329802,\"tags\":[[[\"value\",\"value\",null]]]},\"id\":\"3959\",\"type\":\"Range1d\"},{\"attributes\":{\"line_alpha\":0.2,\"line_color\":\"#e5ae38\",\"line_width\":2,\"x\":{\"field\":\"index\"},\"y\":{\"field\":\"value\"}},\"id\":\"4049\",\"type\":\"Line\"},{\"attributes\":{},\"id\":\"4062\",\"type\":\"UnionRenderers\"},{\"attributes\":{\"source\":{\"id\":\"4003\"}},\"id\":\"4010\",\"type\":\"CDSView\"},{\"attributes\":{\"line_alpha\":0.1,\"line_color\":\"#30a2da\",\"line_width\":2,\"x\":{\"field\":\"index\"},\"y\":{\"field\":\"value\"}},\"id\":\"4007\",\"type\":\"Line\"},{\"attributes\":{},\"id\":\"4000\",\"type\":\"AllLabels\"},{\"attributes\":{},\"id\":\"3969\",\"type\":\"LinearScale\"},{\"attributes\":{\"line_color\":\"#fc4f30\",\"line_width\":2,\"x\":{\"field\":\"index\"},\"y\":{\"field\":\"value\"}},\"id\":\"4026\",\"type\":\"Line\"},{\"attributes\":{\"end\":252.0,\"reset_end\":252.0,\"reset_start\":0.0,\"tags\":[[[\"index\",\"index\",null]]]},\"id\":\"3958\",\"type\":\"Range1d\"},{\"attributes\":{\"margin\":[5,5,5,5],\"name\":\"HSpacer07135\",\"sizing_mode\":\"stretch_width\"},\"id\":\"4227\",\"type\":\"Spacer\"},{\"attributes\":{\"data\":{\"Variable\":[\"max\",\"max\",\"max\",\"max\",\"max\",\"max\",\"max\",\"max\",\"max\",\"max\",\"max\",\"max\",\"max\",\"max\",\"max\",\"max\",\"max\",\"max\",\"max\",\"max\",\"max\",\"max\",\"max\",\"max\",\"max\",\"max\",\"max\",\"max\",\"max\",\"max\",\"max\",\"max\",\"max\",\"max\",\"max\",\"max\",\"max\",\"max\",\"max\",\"max\",\"max\",\"max\",\"max\",\"max\",\"max\",\"max\",\"max\",\"max\",\"max\",\"max\",\"max\",\"max\",\"max\",\"max\",\"max\",\"max\",\"max\",\"max\",\"max\",\"max\",\"max\",\"max\",\"max\",\"max\",\"max\",\"max\",\"max\",\"max\",\"max\",\"max\",\"max\",\"max\",\"max\",\"max\",\"max\",\"max\",\"max\",\"max\",\"max\",\"max\",\"max\",\"max\",\"max\",\"max\",\"max\",\"max\",\"max\",\"max\",\"max\",\"max\",\"max\",\"max\",\"max\",\"max\",\"max\",\"max\",\"max\",\"max\",\"max\",\"max\",\"max\",\"max\",\"max\",\"max\",\"max\",\"max\",\"max\",\"max\",\"max\",\"max\",\"max\",\"max\",\"max\",\"max\",\"max\",\"max\",\"max\",\"max\",\"max\",\"max\",\"max\",\"max\",\"max\",\"max\",\"max\",\"max\",\"max\",\"max\",\"max\",\"max\",\"max\",\"max\",\"max\",\"max\",\"max\",\"max\",\"max\",\"max\",\"max\",\"max\",\"max\",\"max\",\"max\",\"max\",\"max\",\"max\",\"max\",\"max\",\"max\",\"max\",\"max\",\"max\",\"max\",\"max\",\"max\",\"max\",\"max\",\"max\",\"max\",\"max\",\"max\",\"max\",\"max\",\"max\",\"max\",\"max\",\"max\",\"max\",\"max\",\"max\",\"max\",\"max\",\"max\",\"max\",\"max\",\"max\",\"max\",\"max\",\"max\",\"max\",\"max\",\"max\",\"max\",\"max\",\"max\",\"max\",\"max\",\"max\",\"max\",\"max\",\"max\",\"max\",\"max\",\"max\",\"max\",\"max\",\"max\",\"max\",\"max\",\"max\",\"max\",\"max\",\"max\",\"max\",\"max\",\"max\",\"max\",\"max\",\"max\",\"max\",\"max\",\"max\",\"max\",\"max\",\"max\",\"max\",\"max\",\"max\",\"max\",\"max\",\"max\",\"max\",\"max\",\"max\",\"max\",\"max\",\"max\",\"max\",\"max\",\"max\",\"max\",\"max\",\"max\",\"max\",\"max\",\"max\",\"max\",\"max\",\"max\",\"max\",\"max\",\"max\",\"max\",\"max\",\"max\",\"max\",\"max\",\"max\",\"max\",\"max\",\"max\",\"max\",\"max\"],\"index\":[0,1,2,3,4,5,6,7,8,9,10,11,12,13,14,15,16,17,18,19,20,21,22,23,24,25,26,27,28,29,30,31,32,33,34,35,36,37,38,39,40,41,42,43,44,45,46,47,48,49,50,51,52,53,54,55,56,57,58,59,60,61,62,63,64,65,66,67,68,69,70,71,72,73,74,75,76,77,78,79,80,81,82,83,84,85,86,87,88,89,90,91,92,93,94,95,96,97,98,99,100,101,102,103,104,105,106,107,108,109,110,111,112,113,114,115,116,117,118,119,120,121,122,123,124,125,126,127,128,129,130,131,132,133,134,135,136,137,138,139,140,141,142,143,144,145,146,147,148,149,150,151,152,153,154,155,156,157,158,159,160,161,162,163,164,165,166,167,168,169,170,171,172,173,174,175,176,177,178,179,180,181,182,183,184,185,186,187,188,189,190,191,192,193,194,195,196,197,198,199,200,201,202,203,204,205,206,207,208,209,210,211,212,213,214,215,216,217,218,219,220,221,222,223,224,225,226,227,228,229,230,231,232,233,234,235,236,237,238,239,240,241,242,243,244,245,246,247,248,249,250,251,252],\"value\":{\"__ndarray__\":\"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\",\"dtype\":\"float64\",\"order\":\"little\",\"shape\":[253]}},\"selected\":{\"id\":\"4068\"},\"selection_policy\":{\"id\":\"4087\"}},\"id\":\"4067\",\"type\":\"ColumnDataSource\"},{\"attributes\":{},\"id\":\"4004\",\"type\":\"Selection\"},{\"attributes\":{\"line_color\":\"#30a2da\",\"line_width\":2,\"x\":{\"field\":\"index\"},\"y\":{\"field\":\"value\"}},\"id\":\"4022\",\"type\":\"Line\"},{\"attributes\":{\"callback\":null,\"renderers\":[{\"id\":\"4009\"},{\"id\":\"4029\"},{\"id\":\"4050\"},{\"id\":\"4073\"}],\"tags\":[\"hv_created\"],\"tooltips\":[[\"Variable\",\"@{Variable}\"],[\"index\",\"@{index}\"],[\"value\",\"@{value}\"]]},\"id\":\"3960\",\"type\":\"HoverTool\"},{\"attributes\":{\"data\":{\"Variable\":[\"median\",\"median\",\"median\",\"median\",\"median\",\"median\",\"median\",\"median\",\"median\",\"median\",\"median\",\"median\",\"median\",\"median\",\"median\",\"median\",\"median\",\"median\",\"median\",\"median\",\"median\",\"median\",\"median\",\"median\",\"median\",\"median\",\"median\",\"median\",\"median\",\"median\",\"median\",\"median\",\"median\",\"median\",\"median\",\"median\",\"median\",\"median\",\"median\",\"median\",\"median\",\"median\",\"median\",\"median\",\"median\",\"median\",\"median\",\"median\",\"median\",\"median\",\"median\",\"median\",\"median\",\"median\",\"median\",\"median\",\"median\",\"median\",\"median\",\"median\",\"median\",\"median\",\"median\",\"median\",\"median\",\"median\",\"median\",\"median\",\"median\",\"median\",\"median\",\"median\",\"median\",\"median\",\"median\",\"median\",\"median\",\"median\",\"median\",\"median\",\"median\",\"median\",\"median\",\"median\",\"median\",\"median\",\"median\",\"median\",\"median\",\"median\",\"median\",\"median\",\"median\",\"median\",\"median\",\"median\",\"median\",\"median\",\"median\",\"median\",\"median\",\"median\",\"median\",\"median\",\"median\",\"median\",\"median\",\"median\",\"median\",\"median\",\"median\",\"median\",\"median\",\"median\",\"median\",\"median\",\"median\",\"median\",\"median\",\"median\",\"median\",\"median\",\"median\",\"median\",\"median\",\"median\",\"median\",\"median\",\"median\",\"median\",\"median\",\"median\",\"median\",\"median\",\"median\",\"median\",\"median\",\"median\",\"median\",\"median\",\"median\",\"median\",\"median\",\"median\",\"median\",\"median\",\"median\",\"median\",\"median\",\"median\",\"median\",\"median\",\"median\",\"median\",\"median\",\"median\",\"median\",\"median\",\"median\",\"median\",\"median\",\"median\",\"median\",\"median\",\"median\",\"median\",\"median\",\"median\",\"median\",\"median\",\"median\",\"median\",\"median\",\"median\",\"median\",\"median\",\"median\",\"median\",\"median\",\"median\",\"median\",\"median\",\"median\",\"median\",\"median\",\"median\",\"median\",\"median\",\"median\",\"median\",\"median\",\"median\",\"median\",\"median\",\"median\",\"median\",\"median\",\"median\",\"median\",\"median\",\"median\",\"median\",\"median\",\"median\",\"median\",\"median\",\"median\",\"median\",\"median\",\"median\",\"median\",\"median\",\"median\",\"median\",\"median\",\"median\",\"median\",\"median\",\"median\",\"median\",\"median\",\"median\",\"median\",\"median\",\"median\",\"median\",\"median\",\"median\",\"median\",\"median\",\"median\",\"median\",\"median\",\"median\",\"median\",\"median\",\"median\",\"median\",\"median\",\"median\",\"median\",\"median\",\"median\",\"median\",\"median\",\"median\",\"median\",\"median\",\"median\",\"median\",\"median\",\"median\",\"median\"],\"index\":[0,1,2,3,4,5,6,7,8,9,10,11,12,13,14,15,16,17,18,19,20,21,22,23,24,25,26,27,28,29,30,31,32,33,34,35,36,37,38,39,40,41,42,43,44,45,46,47,48,49,50,51,52,53,54,55,56,57,58,59,60,61,62,63,64,65,66,67,68,69,70,71,72,73,74,75,76,77,78,79,80,81,82,83,84,85,86,87,88,89,90,91,92,93,94,95,96,97,98,99,100,101,102,103,104,105,106,107,108,109,110,111,112,113,114,115,116,117,118,119,120,121,122,123,124,125,126,127,128,129,130,131,132,133,134,135,136,137,138,139,140,141,142,143,144,145,146,147,148,149,150,151,152,153,154,155,156,157,158,159,160,161,162,163,164,165,166,167,168,169,170,171,172,173,174,175,176,177,178,179,180,181,182,183,184,185,186,187,188,189,190,191,192,193,194,195,196,197,198,199,200,201,202,203,204,205,206,207,208,209,210,211,212,213,214,215,216,217,218,219,220,221,222,223,224,225,226,227,228,229,230,231,232,233,234,235,236,237,238,239,240,241,242,243,244,245,246,247,248,249,250,251,252],\"value\":{\"__ndarray__\":\"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\",\"dtype\":\"float64\",\"order\":\"little\",\"shape\":[253]}},\"selected\":{\"id\":\"4024\"},\"selection_policy\":{\"id\":\"4039\"}},\"id\":\"4023\",\"type\":\"ColumnDataSource\"},{\"attributes\":{\"below\":[{\"id\":\"3973\"}],\"center\":[{\"id\":\"3976\"},{\"id\":\"3980\"}],\"height\":300,\"left\":[{\"id\":\"3977\"}],\"margin\":[5,5,5,5],\"min_border_bottom\":10,\"min_border_left\":10,\"min_border_right\":10,\"min_border_top\":10,\"renderers\":[{\"id\":\"4009\"},{\"id\":\"4029\"},{\"id\":\"4050\"},{\"id\":\"4073\"}],\"right\":[{\"id\":\"4020\"}],\"sizing_mode\":\"fixed\",\"title\":{\"id\":\"3965\"},\"toolbar\":{\"id\":\"3987\"},\"width\":700,\"x_range\":{\"id\":\"3958\"},\"x_scale\":{\"id\":\"3969\"},\"y_range\":{\"id\":\"3959\"},\"y_scale\":{\"id\":\"3971\"}},\"id\":\"3964\",\"subtype\":\"Figure\",\"type\":\"Plot\"},{\"attributes\":{\"data\":{\"Variable\":[\"min\",\"min\",\"min\",\"min\",\"min\",\"min\",\"min\",\"min\",\"min\",\"min\",\"min\",\"min\",\"min\",\"min\",\"min\",\"min\",\"min\",\"min\",\"min\",\"min\",\"min\",\"min\",\"min\",\"min\",\"min\",\"min\",\"min\",\"min\",\"min\",\"min\",\"min\",\"min\",\"min\",\"min\",\"min\",\"min\",\"min\",\"min\",\"min\",\"min\",\"min\",\"min\",\"min\",\"min\",\"min\",\"min\",\"min\",\"min\",\"min\",\"min\",\"min\",\"min\",\"min\",\"min\",\"min\",\"min\",\"min\",\"min\",\"min\",\"min\",\"min\",\"min\",\"min\",\"min\",\"min\",\"min\",\"min\",\"min\",\"min\",\"min\",\"min\",\"min\",\"min\",\"min\",\"min\",\"min\",\"min\",\"min\",\"min\",\"min\",\"min\",\"min\",\"min\",\"min\",\"min\",\"min\",\"min\",\"min\",\"min\",\"min\",\"min\",\"min\",\"min\",\"min\",\"min\",\"min\",\"min\",\"min\",\"min\",\"min\",\"min\",\"min\",\"min\",\"min\",\"min\",\"min\",\"min\",\"min\",\"min\",\"min\",\"min\",\"min\",\"min\",\"min\",\"min\",\"min\",\"min\",\"min\",\"min\",\"min\",\"min\",\"min\",\"min\",\"min\",\"min\",\"min\",\"min\",\"min\",\"min\",\"min\",\"min\",\"min\",\"min\",\"min\",\"min\",\"min\",\"min\",\"min\",\"min\",\"min\",\"min\",\"min\",\"min\",\"min\",\"min\",\"min\",\"min\",\"min\",\"min\",\"min\",\"min\",\"min\",\"min\",\"min\",\"min\",\"min\",\"min\",\"min\",\"min\",\"min\",\"min\",\"min\",\"min\",\"min\",\"min\",\"min\",\"min\",\"min\",\"min\",\"min\",\"min\",\"min\",\"min\",\"min\",\"min\",\"min\",\"min\",\"min\",\"min\",\"min\",\"min\",\"min\",\"min\",\"min\",\"min\",\"min\",\"min\",\"min\",\"min\",\"min\",\"min\",\"min\",\"min\",\"min\",\"min\",\"min\",\"min\",\"min\",\"min\",\"min\",\"min\",\"min\",\"min\",\"min\",\"min\",\"min\",\"min\",\"min\",\"min\",\"min\",\"min\",\"min\",\"min\",\"min\",\"min\",\"min\",\"min\",\"min\",\"min\",\"min\",\"min\",\"min\",\"min\",\"min\",\"min\",\"min\",\"min\",\"min\",\"min\",\"min\",\"min\",\"min\",\"min\",\"min\",\"min\",\"min\",\"min\",\"min\",\"min\",\"min\",\"min\",\"min\",\"min\",\"min\",\"min\",\"min\",\"min\",\"min\",\"min\",\"min\",\"min\",\"min\",\"min\"],\"index\":[0,1,2,3,4,5,6,7,8,9,10,11,12,13,14,15,16,17,18,19,20,21,22,23,24,25,26,27,28,29,30,31,32,33,34,35,36,37,38,39,40,41,42,43,44,45,46,47,48,49,50,51,52,53,54,55,56,57,58,59,60,61,62,63,64,65,66,67,68,69,70,71,72,73,74,75,76,77,78,79,80,81,82,83,84,85,86,87,88,89,90,91,92,93,94,95,96,97,98,99,100,101,102,103,104,105,106,107,108,109,110,111,112,113,114,115,116,117,118,119,120,121,122,123,124,125,126,127,128,129,130,131,132,133,134,135,136,137,138,139,140,141,142,143,144,145,146,147,148,149,150,151,152,153,154,155,156,157,158,159,160,161,162,163,164,165,166,167,168,169,170,171,172,173,174,175,176,177,178,179,180,181,182,183,184,185,186,187,188,189,190,191,192,193,194,195,196,197,198,199,200,201,202,203,204,205,206,207,208,209,210,211,212,213,214,215,216,217,218,219,220,221,222,223,224,225,226,227,228,229,230,231,232,233,234,235,236,237,238,239,240,241,242,243,244,245,246,247,248,249,250,251,252],\"value\":{\"__ndarray__\":\"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\",\"dtype\":\"float64\",\"order\":\"little\",\"shape\":[253]}},\"selected\":{\"id\":\"4045\"},\"selection_policy\":{\"id\":\"4062\"}},\"id\":\"4044\",\"type\":\"ColumnDataSource\"},{\"attributes\":{\"coordinates\":null,\"group\":null,\"text\":\"Simulated Prof investmentit/Losses of Ecom Portfolio Over the Next Year\",\"text_color\":\"black\",\"text_font_size\":\"12pt\"},\"id\":\"3965\",\"type\":\"Title\"},{\"attributes\":{\"source\":{\"id\":\"4044\"}},\"id\":\"4051\",\"type\":\"CDSView\"},{\"attributes\":{\"line_alpha\":0.1,\"line_color\":\"#fc4f30\",\"line_width\":2,\"x\":{\"field\":\"index\"},\"y\":{\"field\":\"value\"}},\"id\":\"4027\",\"type\":\"Line\"},{\"attributes\":{\"source\":{\"id\":\"4023\"}},\"id\":\"4030\",\"type\":\"CDSView\"},{\"attributes\":{\"axis\":{\"id\":\"3973\"},\"coordinates\":null,\"grid_line_color\":null,\"group\":null,\"ticker\":null},\"id\":\"3976\",\"type\":\"Grid\"},{\"attributes\":{\"coordinates\":null,\"data_source\":{\"id\":\"4023\"},\"glyph\":{\"id\":\"4026\"},\"group\":null,\"hover_glyph\":null,\"muted_glyph\":{\"id\":\"4028\"},\"nonselection_glyph\":{\"id\":\"4027\"},\"selection_glyph\":{\"id\":\"4043\"},\"view\":{\"id\":\"4030\"}},\"id\":\"4029\",\"type\":\"GlyphRenderer\"},{\"attributes\":{},\"id\":\"4024\",\"type\":\"Selection\"},{\"attributes\":{\"label\":{\"value\":\"min\"},\"renderers\":[{\"id\":\"4050\"}]},\"id\":\"4065\",\"type\":\"LegendItem\"},{\"attributes\":{},\"id\":\"3974\",\"type\":\"BasicTicker\"},{\"attributes\":{},\"id\":\"3971\",\"type\":\"LinearScale\"},{\"attributes\":{\"axis_label\":\"\",\"coordinates\":null,\"formatter\":{\"id\":\"3996\"},\"group\":null,\"major_label_policy\":{\"id\":\"3997\"},\"ticker\":{\"id\":\"3974\"}},\"id\":\"3973\",\"type\":\"LinearAxis\"},{\"attributes\":{\"line_alpha\":0.2,\"line_color\":\"#fc4f30\",\"line_width\":2,\"x\":{\"field\":\"index\"},\"y\":{\"field\":\"value\"}},\"id\":\"4028\",\"type\":\"Line\"},{\"attributes\":{\"line_color\":\"#6d904f\",\"line_width\":2,\"x\":{\"field\":\"index\"},\"y\":{\"field\":\"value\"}},\"id\":\"4070\",\"type\":\"Line\"},{\"attributes\":{},\"id\":\"3983\",\"type\":\"WheelZoomTool\"},{\"attributes\":{\"source\":{\"id\":\"4067\"}},\"id\":\"4074\",\"type\":\"CDSView\"},{\"attributes\":{},\"id\":\"3982\",\"type\":\"PanTool\"},{\"attributes\":{\"label\":{\"value\":\"median\"},\"renderers\":[{\"id\":\"4029\"}]},\"id\":\"4042\",\"type\":\"LegendItem\"},{\"attributes\":{\"axis_label\":\"\",\"coordinates\":null,\"formatter\":{\"id\":\"3994\"},\"group\":null,\"major_label_policy\":{\"id\":\"4000\"},\"ticker\":{\"id\":\"3978\"}},\"id\":\"3977\",\"type\":\"LinearAxis\"},{\"attributes\":{\"axis\":{\"id\":\"3977\"},\"coordinates\":null,\"dimension\":1,\"grid_line_color\":null,\"group\":null,\"ticker\":null},\"id\":\"3980\",\"type\":\"Grid\"},{\"attributes\":{\"line_alpha\":0.1,\"line_color\":\"#6d904f\",\"line_width\":2,\"x\":{\"field\":\"index\"},\"y\":{\"field\":\"value\"}},\"id\":\"4071\",\"type\":\"Line\"},{\"attributes\":{},\"id\":\"3978\",\"type\":\"BasicTicker\"},{\"attributes\":{},\"id\":\"4039\",\"type\":\"UnionRenderers\"},{\"attributes\":{},\"id\":\"3981\",\"type\":\"SaveTool\"},{\"attributes\":{\"coordinates\":null,\"data_source\":{\"id\":\"4067\"},\"glyph\":{\"id\":\"4070\"},\"group\":null,\"hover_glyph\":null,\"muted_glyph\":{\"id\":\"4072\"},\"nonselection_glyph\":{\"id\":\"4071\"},\"selection_glyph\":{\"id\":\"4091\"},\"view\":{\"id\":\"4074\"}},\"id\":\"4073\",\"type\":\"GlyphRenderer\"},{\"attributes\":{\"overlay\":{\"id\":\"3986\"}},\"id\":\"3984\",\"type\":\"BoxZoomTool\"},{\"attributes\":{},\"id\":\"4068\",\"type\":\"Selection\"},{\"attributes\":{},\"id\":\"3985\",\"type\":\"ResetTool\"},{\"attributes\":{\"click_policy\":\"mute\",\"coordinates\":null,\"group\":null,\"items\":[{\"id\":\"4021\"},{\"id\":\"4042\"},{\"id\":\"4065\"},{\"id\":\"4090\"}],\"location\":[0,0],\"title\":\"Variable\"},\"id\":\"4020\",\"type\":\"Legend\"},{\"attributes\":{\"line_alpha\":0.2,\"line_color\":\"#6d904f\",\"line_width\":2,\"x\":{\"field\":\"index\"},\"y\":{\"field\":\"value\"}},\"id\":\"4072\",\"type\":\"Line\"},{\"attributes\":{},\"id\":\"4017\",\"type\":\"UnionRenderers\"},{\"attributes\":{\"label\":{\"value\":\"mean\"},\"renderers\":[{\"id\":\"4009\"}]},\"id\":\"4021\",\"type\":\"LegendItem\"},{\"attributes\":{\"line_alpha\":0.2,\"line_color\":\"#30a2da\",\"line_width\":2,\"x\":{\"field\":\"index\"},\"y\":{\"field\":\"value\"}},\"id\":\"4008\",\"type\":\"Line\"},{\"attributes\":{\"label\":{\"value\":\"max\"},\"renderers\":[{\"id\":\"4073\"}]},\"id\":\"4090\",\"type\":\"LegendItem\"},{\"attributes\":{\"line_color\":\"#30a2da\",\"line_width\":2,\"x\":{\"field\":\"index\"},\"y\":{\"field\":\"value\"}},\"id\":\"4006\",\"type\":\"Line\"},{\"attributes\":{},\"id\":\"4087\",\"type\":\"UnionRenderers\"},{\"attributes\":{\"coordinates\":null,\"data_source\":{\"id\":\"4003\"},\"glyph\":{\"id\":\"4006\"},\"group\":null,\"hover_glyph\":null,\"muted_glyph\":{\"id\":\"4008\"},\"nonselection_glyph\":{\"id\":\"4007\"},\"selection_glyph\":{\"id\":\"4022\"},\"view\":{\"id\":\"4010\"}},\"id\":\"4009\",\"type\":\"GlyphRenderer\"}],\"root_ids\":[\"3956\"]},\"title\":\"Bokeh Application\",\"version\":\"2.4.1\"}};\n",
       "    var render_items = [{\"docid\":\"700d065b-d564-40c2-a5f4-347a64a80769\",\"root_ids\":[\"3956\"],\"roots\":{\"3956\":\"39f54a98-0cd4-4a90-b7ef-b932743edabe\"}}];\n",
       "    root.Bokeh.embed.embed_items_notebook(docs_json, render_items);\n",
       "  }\n",
       "  if (root.Bokeh !== undefined && root.Bokeh.Panel !== undefined) {\n",
       "    embed_document(root);\n",
       "  } else {\n",
       "    var attempts = 0;\n",
       "    var timer = setInterval(function(root) {\n",
       "      if (root.Bokeh !== undefined && root.Bokeh.Panel !== undefined) {\n",
       "        clearInterval(timer);\n",
       "        embed_document(root);\n",
       "      } else if (document.readyState == \"complete\") {\n",
       "        attempts++;\n",
       "        if (attempts > 200) {\n",
       "          clearInterval(timer);\n",
       "          console.log(\"Bokeh: ERROR: Unable to run BokehJS code because BokehJS library is missing\");\n",
       "        }\n",
       "      }\n",
       "    }, 25, root)\n",
       "  }\n",
       "})(window);</script>"
      ],
      "text/plain": [
       ":NdOverlay   [Variable]\n",
       "   :Curve   [index]   (value)"
      ]
     },
     "execution_count": 63,
     "metadata": {
      "application/vnd.holoviews_exec.v0+json": {
       "id": "3956"
      }
     },
     "output_type": "execute_result"
    }
   ],
   "source": [
    "# Use the 'plot' function to create a chart of the simulated profits/losses\n",
    "cumulative_pnl.hvplot(\n",
    "    figsize=(200,160), \n",
    "    title=\"Simulated Prof investmentit/Losses of Ecom Portfolio Over the Next Year\",\n",
    "    yformatter = \"%.2f\")"
   ]
  },
  {
   "cell_type": "code",
   "execution_count": 52,
   "metadata": {},
   "outputs": [
    {
     "name": "stdout",
     "output_type": "stream",
     "text": [
      "count           500.000000\n",
      "mean              1.633456\n",
      "std               0.430581\n",
      "min               0.792141\n",
      "25%               1.322058\n",
      "50%               1.571106\n",
      "75%               1.875721\n",
      "max               3.563513\n",
      "95% CI Lower      0.977330\n",
      "95% CI Upper      2.637859\n",
      "Name: 252, dtype: float64\n"
     ]
    }
   ],
   "source": [
    "# Fetch summary statistics from the Monte Carlo simulation results\n",
    "tbl = one_year_simulation.summarize_cumulative_return()\n",
    "\n",
    "# Print summary statistics\n",
    "print(tbl)"
   ]
  },
  {
   "cell_type": "code",
   "execution_count": 53,
   "metadata": {},
   "outputs": [
    {
     "name": "stdout",
     "output_type": "stream",
     "text": [
      "There is a 95% chance that an initial investment of $500,000 in the portfolio over the next year will end within in the range of $488665.11 and $1318929.38.\n"
     ]
    }
   ],
   "source": [
    "# Use the lower and upper `95%` confidence intervals to calculate the range of the possible outcomes of our $500,000 investments in Ecom Portfolio\n",
    "ci_lower = round(tbl[8]*500000,2)\n",
    "ci_upper = round(tbl[9]*500000,2)\n",
    "\n",
    "# Print results\n",
    "print(f\"There is a 95% chance that an initial investment of $500,000 in the portfolio\"\n",
    "    f\" over the next year will end within in the range of\"\n",
    "    f\" ${ci_lower} and ${ci_upper}.\")"
   ]
  },
  {
   "cell_type": "markdown",
   "metadata": {},
   "source": [
    "***"
   ]
  },
  {
   "cell_type": "markdown",
   "metadata": {},
   "source": [
    "### Would you recommend this investment to your firm and why?\n",
    "\n",
    "Yes, because we think the potential return on this investment outweighs the potential loss and could make for even better returns over a longer period of time. "
   ]
  }
 ],
 "metadata": {
  "kernelspec": {
   "display_name": "Python 3",
   "language": "python",
   "name": "python3"
  },
  "language_info": {
   "codemirror_mode": {
    "name": "ipython",
    "version": 3
   },
   "file_extension": ".py",
   "mimetype": "text/x-python",
   "name": "python",
   "nbconvert_exporter": "python",
   "pygments_lexer": "ipython3",
   "version": "3.9.7"
  }
 },
 "nbformat": 4,
 "nbformat_minor": 4
}
