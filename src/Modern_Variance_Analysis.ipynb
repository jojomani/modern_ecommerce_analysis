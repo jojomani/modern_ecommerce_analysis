{
 "cells": [
  {
   "cell_type": "code",
   "execution_count": 140,
   "id": "7712e092-1a7b-477a-89cb-d24b5540b355",
   "metadata": {},
   "outputs": [],
   "source": [
    "import os\n",
    "import requests\n",
    "import yfinance as yf # Used to grab the stock prices, with yahoo\n",
    "import numpy as np\n",
    "import pandas as pd\n",
    "from datetime import datetime\n",
    "import seaborn as sns\n",
    "from dotenv import load_dotenv\n",
    "import alpaca_trade_api as tradeapi\n",
    "from utils.MCForecastTools import MCSimulation\n",
    "import hvplot.pandas\n",
    "from bokeh.models.formatters import NumeralTickFormatter\n"
   ]
  },
  {
   "cell_type": "code",
   "execution_count": 141,
   "id": "eaea87af-44cb-446d-a658-8ad5a0b351a6",
   "metadata": {},
   "outputs": [
    {
     "name": "stdout",
     "output_type": "stream",
     "text": [
      "yfinance.Ticker object <WMT>\n"
     ]
    }
   ],
   "source": [
    "amazon = yf.Ticker(\"AMZN\")\n",
    "walmart = yf.Ticker(\"WMT\")\n",
    "ebay = yf.Ticker(\"EBAY\")\n",
    "target = yf.Ticker(\"TGT\")\n",
    "overstock = yf.Ticker(\"OSTK\")\n",
    "print(walmart)"
   ]
  },
  {
   "cell_type": "code",
   "execution_count": 142,
   "id": "42a3a755-fc4c-42e9-a42d-f50947b3715d",
   "metadata": {},
   "outputs": [
    {
     "name": "stdout",
     "output_type": "stream",
     "text": [
      "Current Amazon Price: 3563.87\n",
      "Current Amazon Investment Value: 218937.82360980872\n",
      "Current Walmart Price: 148.73\n",
      "Current Walmart Investment Value: 152513.7658722039\n",
      "Current Ebay Price: 73.87\n",
      "Current Ebay Investment Value: 258820.5170285821\n",
      "Current Target Price: 254.03\n",
      "Current Target Investment Value: 319170.8007177831\n",
      "Current Overstock Price: 101.59\n",
      "Current Overstock Investment Value: 513080.83399398153\n"
     ]
    }
   ],
   "source": [
    "total_investment = 500000\n",
    "\n",
    "#Amazon Data\n",
    "initial_amazon_price = 1627.800049\n",
    "initial_amazon_investment = 100000\n",
    "amount_of_amazon_stock = initial_amazon_investment/initial_amazon_price\n",
    "current_amazon_price = amazon.info['open']\n",
    "current_amazon_investment_value = current_amazon_price * amount_of_amazon_stock\n",
    "\n",
    "#Walmart Data\n",
    "initial_walmart_price = 97.519066\n",
    "initial_walmart_investment = 100000\n",
    "amount_of_walmart_stock = initial_walmart_investment/initial_walmart_price\n",
    "current_walmart_price = walmart.info['open']\n",
    "current_walmart_investment_value = current_walmart_price * amount_of_walmart_stock\n",
    "\n",
    "#Ebay Data\n",
    "initial_ebay_price = 28.541014\n",
    "initial_ebay_investment = 100000\n",
    "amount_of_ebay_stock = initial_ebay_investment/initial_ebay_price\n",
    "current_ebay_price = ebay.info['open']\n",
    "current_ebay_investment_value = current_ebay_price * amount_of_ebay_stock\n",
    "\n",
    "#Target Data\n",
    "initial_target_price = 79.590614\n",
    "initial_target_investment = 100000\n",
    "amount_of_target_stock = initial_target_investment/initial_target_price\n",
    "current_target_price = target.info['open']\n",
    "current_target_investment_value = current_target_price * amount_of_target_stock\n",
    "\n",
    "#Overstock Data\n",
    "initial_overstock_price = 19.799999\n",
    "initial_overstock_investment = 100000\n",
    "amount_of_overstock_stock = initial_overstock_investment/initial_overstock_price\n",
    "current_overstock_price = overstock.info['open']\n",
    "current_overstock_investment_value = current_overstock_price * amount_of_overstock_stock\n",
    "\n",
    "\n",
    "print(\"Current Amazon Price:\",current_amazon_price)\n",
    "print(\"Current Amazon Investment Value:\",current_amazon_investment_value)\n",
    "print(\"Current Walmart Price:\",current_walmart_price)\n",
    "print(\"Current Walmart Investment Value:\",current_walmart_investment_value)\n",
    "print(\"Current Ebay Price:\",current_ebay_price)\n",
    "print(\"Current Ebay Investment Value:\",current_ebay_investment_value)\n",
    "print(\"Current Target Price:\",current_target_price)\n",
    "print(\"Current Target Investment Value:\",current_target_investment_value)\n",
    "print(\"Current Overstock Price:\",current_overstock_price)\n",
    "print(\"Current Overstock Investment Value:\",current_overstock_investment_value)"
   ]
  },
  {
   "cell_type": "markdown",
   "id": "96e633ed-9db6-4223-9488-49f3945fb18b",
   "metadata": {},
   "source": [
    "# Amazon Expected Rate of Return Calculations"
   ]
  },
  {
   "cell_type": "code",
   "execution_count": 143,
   "id": "2688676c-7251-496e-ad8b-9003ae3ef9ab",
   "metadata": {},
   "outputs": [],
   "source": [
    "amazon_historical_year1_begin = amazon.history(start=\"2018-11-05\", end=\"2018-11-06\")\n",
    "amazon_historical_year1_end = amazon.history(start=\"2019-11-05\", end=\"2019-11-06\")\n",
    "initial_value_year1_amazon = amazon_historical_year1_begin['Close']['2018-11-05']\n",
    "current_value_year1_amazon= amazon_historical_year1_end['Close']['2019-11-05']"
   ]
  },
  {
   "cell_type": "code",
   "execution_count": 144,
   "id": "040f46b9-3a03-4015-8531-5b22c6a6e9d4",
   "metadata": {},
   "outputs": [
    {
     "data": {
      "text/plain": [
       "10.683739211985838"
      ]
     },
     "execution_count": 144,
     "metadata": {},
     "output_type": "execute_result"
    }
   ],
   "source": [
    "year1_ror_amazon = ((current_value_year1_amazon - initial_value_year1_amazon)/initial_value_year1_amazon)*100\n",
    "\n",
    "year1_ror_amazon"
   ]
  },
  {
   "cell_type": "code",
   "execution_count": 145,
   "id": "cfe1d346-3516-4458-a91b-9e9e254a3c9a",
   "metadata": {},
   "outputs": [],
   "source": [
    "amazon_historical_year2_begin = amazon.history(start=\"2019-11-05\", end=\"2019-11-06\")\n",
    "amazon_historical_year2_end = amazon.history(start=\"2020-11-05\", end=\"2020-11-06\")\n",
    "initial_value_year2_amazon = amazon_historical_year2_begin['Close']['2019-11-05']\n",
    "current_value_year2_amazon= amazon_historical_year2_end['Close']['2020-11-05']"
   ]
  },
  {
   "cell_type": "code",
   "execution_count": 146,
   "id": "9b55cf91-5644-4d09-97c4-7708a41dece1",
   "metadata": {},
   "outputs": [
    {
     "data": {
      "text/plain": [
       "84.38039817859662"
      ]
     },
     "execution_count": 146,
     "metadata": {},
     "output_type": "execute_result"
    }
   ],
   "source": [
    "year2_ror_amazon = ((current_value_year2_amazon - initial_value_year2_amazon)/initial_value_year2_amazon)*100\n",
    "\n",
    "year2_ror_amazon"
   ]
  },
  {
   "cell_type": "code",
   "execution_count": 147,
   "id": "4a9b14bb-4467-4922-8680-569495099658",
   "metadata": {},
   "outputs": [],
   "source": [
    "amazon_historical_year3_begin = amazon.history(start=\"2020-11-05\", end=\"2020-11-06\")\n",
    "amazon_historical_year3_end = amazon.history(start=\"2021-11-03\", end=\"2021-11-04\")\n",
    "initial_value_year3_amazon = amazon_historical_year3_begin['Close']['2020-11-05']\n",
    "current_value_year3_amazon= amazon_historical_year3_end['Close']['2021-11-03']"
   ]
  },
  {
   "cell_type": "code",
   "execution_count": 148,
   "id": "79dae985-f65c-44ca-af7c-41c581a16d03",
   "metadata": {},
   "outputs": [
    {
     "data": {
      "text/plain": [
       "1.8663455749548463"
      ]
     },
     "execution_count": 148,
     "metadata": {},
     "output_type": "execute_result"
    }
   ],
   "source": [
    "year3_ror_amazon = ((current_value_year3_amazon - initial_value_year3_amazon)/initial_value_year3_amazon)*100\n",
    "\n",
    "year3_ror_amazon"
   ]
  },
  {
   "cell_type": "code",
   "execution_count": 149,
   "id": "f78f69e8-1488-4808-b555-8d906d18a72f",
   "metadata": {},
   "outputs": [
    {
     "data": {
      "text/plain": [
       "32.310160988512436"
      ]
     },
     "execution_count": 149,
     "metadata": {},
     "output_type": "execute_result"
    }
   ],
   "source": [
    "expected_ror_amazon = (year1_ror_amazon + year2_ror_amazon + year3_ror_amazon)/3\n",
    "\n",
    "expected_ror_amazon"
   ]
  },
  {
   "cell_type": "markdown",
   "id": "2eb1b399-5078-4f45-9ee9-c77e95765549",
   "metadata": {},
   "source": [
    "# Walmart Expected Rate of Return Calculations"
   ]
  },
  {
   "cell_type": "code",
   "execution_count": 150,
   "id": "3bdce9c0-9fb2-4af6-a2ee-335875d27d13",
   "metadata": {},
   "outputs": [],
   "source": [
    "walmart_historical_year1_begin = walmart.history(start=\"2018-11-05\", end=\"2018-11-06\")\n",
    "walmart_historical_year1_end = walmart.history(start=\"2019-11-05\", end=\"2019-11-06\")\n",
    "initial_value_year1_wmt = walmart_historical_year1_begin['Close']['2018-11-05']\n",
    "current_value_year1_wmt= walmart_historical_year1_end['Close']['2019-11-05']"
   ]
  },
  {
   "cell_type": "code",
   "execution_count": 151,
   "id": "37342c8f-884e-4e18-8546-e996aaf48fbf",
   "metadata": {},
   "outputs": [
    {
     "data": {
      "text/plain": [
       "17.952101307313033"
      ]
     },
     "execution_count": 151,
     "metadata": {},
     "output_type": "execute_result"
    }
   ],
   "source": [
    "year1_ror_wmt = ((current_value_year1_wmt - initial_value_year1_wmt)/initial_value_year1_wmt)*100\n",
    "\n",
    "year1_ror_wmt"
   ]
  },
  {
   "cell_type": "code",
   "execution_count": 152,
   "id": "31b7166c-eddc-449e-868e-892b2b7a13ce",
   "metadata": {},
   "outputs": [],
   "source": [
    "walmart_historical_year2_begin = walmart.history(start=\"2019-11-05\", end=\"2019-11-06\")\n",
    "walmart_historical_year2_end = walmart.history(start=\"2020-11-05\", end=\"2020-11-06\")\n",
    "initial_value_year2_wmt = walmart_historical_year2_begin['Close']['2019-11-05']\n",
    "current_value_year2_wmt= walmart_historical_year2_end['Close']['2020-11-05']"
   ]
  },
  {
   "cell_type": "code",
   "execution_count": 153,
   "id": "537ee0bf-88b2-4220-965e-0a441c0447b1",
   "metadata": {},
   "outputs": [
    {
     "data": {
      "text/plain": [
       "22.821508399175176"
      ]
     },
     "execution_count": 153,
     "metadata": {},
     "output_type": "execute_result"
    }
   ],
   "source": [
    "year2_ror_wmt = ((current_value_year2_wmt - initial_value_year2_wmt)/initial_value_year2_wmt)*100\n",
    "\n",
    "year2_ror_wmt"
   ]
  },
  {
   "cell_type": "code",
   "execution_count": 154,
   "id": "1d998dec-3159-4deb-9f3e-6590d3cd2e94",
   "metadata": {},
   "outputs": [],
   "source": [
    "walmart_historical_year3_begin = walmart.history(start=\"2020-11-05\", end=\"2020-11-06\")\n",
    "walmart_historical_year3_end = walmart.history(start=\"2021-11-03\", end=\"2021-11-04\")\n",
    "initial_value_year3_wmt = walmart_historical_year3_begin['Close']['2020-11-05']\n",
    "current_value_year3_wmt= walmart_historical_year3_end['Close']['2021-11-03']"
   ]
  },
  {
   "cell_type": "code",
   "execution_count": 155,
   "id": "3c9f5f13-c8fd-477a-ad3e-3e224993ae39",
   "metadata": {},
   "outputs": [
    {
     "data": {
      "text/plain": [
       "6.302263743819454"
      ]
     },
     "execution_count": 155,
     "metadata": {},
     "output_type": "execute_result"
    }
   ],
   "source": [
    "year3_ror_wmt = ((current_value_year3_wmt - initial_value_year3_wmt)/initial_value_year3_wmt)*100\n",
    "\n",
    "year3_ror_wmt"
   ]
  },
  {
   "cell_type": "code",
   "execution_count": 156,
   "id": "500d9fc5-6670-4b8b-8852-8e7f1132b1bd",
   "metadata": {},
   "outputs": [
    {
     "data": {
      "text/plain": [
       "15.69195781676922"
      ]
     },
     "execution_count": 156,
     "metadata": {},
     "output_type": "execute_result"
    }
   ],
   "source": [
    "expected_ror_wmt = (year1_ror_wmt + year2_ror_wmt + year3_ror_wmt)/3\n",
    "\n",
    "expected_ror_wmt"
   ]
  },
  {
   "cell_type": "markdown",
   "id": "27b9bc72-f226-498f-aad5-4531f563495f",
   "metadata": {},
   "source": [
    "# Ebay Expected Rate of Return Calculations"
   ]
  },
  {
   "cell_type": "code",
   "execution_count": 157,
   "id": "a770009c-9726-48ed-8844-8cdc782d76a1",
   "metadata": {},
   "outputs": [],
   "source": [
    "ebay_historical_year1_begin = ebay.history(start=\"2018-11-05\", end=\"2018-11-06\")\n",
    "ebay_historical_year1_end = ebay.history(start=\"2019-11-05\", end=\"2019-11-06\")\n",
    "initial_value_year1_ebay = ebay_historical_year1_begin['Close']['2018-11-05']\n",
    "current_value_year1_ebay= ebay_historical_year1_end['Close']['2019-11-05']"
   ]
  },
  {
   "cell_type": "code",
   "execution_count": 158,
   "id": "52be4725-10c3-4ace-8fbd-785553d58045",
   "metadata": {},
   "outputs": [
    {
     "data": {
      "text/plain": [
       "21.03659594021776"
      ]
     },
     "execution_count": 158,
     "metadata": {},
     "output_type": "execute_result"
    }
   ],
   "source": [
    "year1_ror_ebay = ((current_value_year1_ebay - initial_value_year1_ebay)/initial_value_year1_ebay)*100\n",
    "\n",
    "year1_ror_ebay"
   ]
  },
  {
   "cell_type": "code",
   "execution_count": 159,
   "id": "bcffa492-7d46-4806-92c9-f0c0ebe94a53",
   "metadata": {},
   "outputs": [],
   "source": [
    "ebay_historical_year2_begin = ebay.history(start=\"2019-11-05\", end=\"2019-11-06\")\n",
    "ebay_historical_year2_end = ebay.history(start=\"2020-11-05\", end=\"2020-11-06\")\n",
    "initial_value_year2_ebay = ebay_historical_year2_begin['Close']['2019-11-05']\n",
    "current_value_year2_ebay= ebay_historical_year2_end['Close']['2020-11-05']"
   ]
  },
  {
   "cell_type": "code",
   "execution_count": 160,
   "id": "433c715a-82c7-47d2-b671-1c2e4bdacaa5",
   "metadata": {},
   "outputs": [
    {
     "data": {
      "text/plain": [
       "41.37558096866521"
      ]
     },
     "execution_count": 160,
     "metadata": {},
     "output_type": "execute_result"
    }
   ],
   "source": [
    "year2_ror_ebay = ((current_value_year2_ebay - initial_value_year2_ebay)/initial_value_year2_ebay)*100\n",
    "\n",
    "year2_ror_ebay"
   ]
  },
  {
   "cell_type": "code",
   "execution_count": 161,
   "id": "69a35e28-a20d-445a-a8a3-a97f29b032f1",
   "metadata": {},
   "outputs": [],
   "source": [
    "ebay_historical_year3_begin = ebay.history(start=\"2020-11-05\", end=\"2020-11-06\")\n",
    "ebay_historical_year3_end = ebay.history(start=\"2021-11-03\", end=\"2021-11-04\")\n",
    "initial_value_year3_ebay = ebay_historical_year3_begin['Close']['2020-11-05']\n",
    "current_value_year3_ebay= ebay_historical_year3_end['Close']['2021-11-03']"
   ]
  },
  {
   "cell_type": "code",
   "execution_count": 162,
   "id": "b691c51f-549d-4087-b7d7-983ff871677c",
   "metadata": {},
   "outputs": [
    {
     "data": {
      "text/plain": [
       "54.4894647691238"
      ]
     },
     "execution_count": 162,
     "metadata": {},
     "output_type": "execute_result"
    }
   ],
   "source": [
    "year3_ror_ebay = ((current_value_year3_ebay - initial_value_year3_ebay)/initial_value_year3_ebay)*100\n",
    "\n",
    "year3_ror_ebay"
   ]
  },
  {
   "cell_type": "code",
   "execution_count": 163,
   "id": "ad7227e5-3e62-4d0f-80da-7cde21e15fc9",
   "metadata": {},
   "outputs": [
    {
     "data": {
      "text/plain": [
       "38.96721389266892"
      ]
     },
     "execution_count": 163,
     "metadata": {},
     "output_type": "execute_result"
    }
   ],
   "source": [
    "expected_ror_ebay = (year1_ror_ebay + year2_ror_ebay + year3_ror_ebay)/3\n",
    "\n",
    "expected_ror_ebay"
   ]
  },
  {
   "cell_type": "markdown",
   "id": "e6f48691-db1a-420e-b0b0-82968ad73d4c",
   "metadata": {},
   "source": [
    "# Target Expected Rate of Return Calculations"
   ]
  },
  {
   "cell_type": "code",
   "execution_count": 164,
   "id": "63779241-f64c-4f00-907f-afb915bda035",
   "metadata": {},
   "outputs": [],
   "source": [
    "target_historical_year1_begin = target.history(start=\"2018-11-05\", end=\"2018-11-06\")\n",
    "target_historical_year1_end = target.history(start=\"2019-11-05\", end=\"2019-11-06\")\n",
    "initial_value_year1_target = target_historical_year1_begin['Close']['2018-11-05']\n",
    "current_value_year1_target= target_historical_year1_end['Close']['2019-11-05']"
   ]
  },
  {
   "cell_type": "code",
   "execution_count": 165,
   "id": "d5db9fe9-5aaa-48cf-a16b-d08d6d590913",
   "metadata": {},
   "outputs": [
    {
     "data": {
      "text/plain": [
       "33.37209190862818"
      ]
     },
     "execution_count": 165,
     "metadata": {},
     "output_type": "execute_result"
    }
   ],
   "source": [
    "year1_ror_target = ((current_value_year1_target - initial_value_year1_target)/initial_value_year1_target)*100\n",
    "\n",
    "year1_ror_target"
   ]
  },
  {
   "cell_type": "code",
   "execution_count": 166,
   "id": "72d3b737-1596-44dc-be5d-94fd6c9534c4",
   "metadata": {},
   "outputs": [],
   "source": [
    "target_historical_year2_begin = target.history(start=\"2019-11-05\", end=\"2019-11-06\")\n",
    "target_historical_year2_end = target.history(start=\"2020-11-05\", end=\"2020-11-06\")\n",
    "initial_value_year2_target = target_historical_year2_begin['Close']['2019-11-05']\n",
    "current_value_year2_target= target_historical_year2_end['Close']['2020-11-05']"
   ]
  },
  {
   "cell_type": "code",
   "execution_count": 167,
   "id": "d85ea248-9c0f-4269-a578-bcbbda7bbacf",
   "metadata": {},
   "outputs": [
    {
     "data": {
      "text/plain": [
       "47.30763500312754"
      ]
     },
     "execution_count": 167,
     "metadata": {},
     "output_type": "execute_result"
    }
   ],
   "source": [
    "year2_ror_target = ((current_value_year2_target - initial_value_year2_target)/initial_value_year2_target)*100\n",
    "\n",
    "year2_ror_target"
   ]
  },
  {
   "cell_type": "code",
   "execution_count": 168,
   "id": "9f4c42a8-aea9-4aa2-8443-0f1a898f14a1",
   "metadata": {},
   "outputs": [],
   "source": [
    "target_historical_year3_begin = target.history(start=\"2020-11-05\", end=\"2020-11-06\")\n",
    "target_historical_year3_end = target.history(start=\"2021-11-03\", end=\"2021-11-04\")\n",
    "initial_value_year3_target = target_historical_year3_begin['Close']['2020-11-05']\n",
    "current_value_year3_target= target_historical_year3_end['Close']['2021-11-03']"
   ]
  },
  {
   "cell_type": "code",
   "execution_count": 169,
   "id": "ddf3e242-609f-4953-8ce5-210c85824259",
   "metadata": {},
   "outputs": [
    {
     "data": {
      "text/plain": [
       "66.53502906761157"
      ]
     },
     "execution_count": 169,
     "metadata": {},
     "output_type": "execute_result"
    }
   ],
   "source": [
    "year3_ror_target = ((current_value_year3_target - initial_value_year3_target)/initial_value_year3_target)*100\n",
    "\n",
    "year3_ror_target"
   ]
  },
  {
   "cell_type": "code",
   "execution_count": 170,
   "id": "8bdcbba1-b17a-411e-b8f4-05c83851f69d",
   "metadata": {},
   "outputs": [
    {
     "data": {
      "text/plain": [
       "49.07158532645576"
      ]
     },
     "execution_count": 170,
     "metadata": {},
     "output_type": "execute_result"
    }
   ],
   "source": [
    "expected_ror_target = (year1_ror_target + year2_ror_target + year3_ror_target)/3\n",
    "\n",
    "expected_ror_target"
   ]
  },
  {
   "cell_type": "markdown",
   "id": "5b010ec3-a040-4865-b3c8-999f2caf9d54",
   "metadata": {
    "tags": []
   },
   "source": [
    "# Overstock Expected Rate of Return Calculations"
   ]
  },
  {
   "cell_type": "code",
   "execution_count": 171,
   "id": "3a5dc083-9abe-4925-b007-c549a1fcae57",
   "metadata": {
    "tags": []
   },
   "outputs": [],
   "source": [
    "overstock_historical_year1_begin = overstock.history(start=\"2018-11-05\", end=\"2018-11-06\")\n",
    "overstock_historical_year1_end = overstock.history(start=\"2019-11-05\", end=\"2019-11-06\")\n",
    "initial_value_year1_overstock = overstock_historical_year1_begin['Close']['2018-11-05']\n",
    "current_value_year1_overstock= overstock_historical_year1_end['Close']['2019-11-05']"
   ]
  },
  {
   "cell_type": "code",
   "execution_count": 172,
   "id": "46cc587a-9be2-4f93-8e15-245e16719a0a",
   "metadata": {},
   "outputs": [
    {
     "data": {
      "text/plain": [
       "-49.34343374015091"
      ]
     },
     "execution_count": 172,
     "metadata": {},
     "output_type": "execute_result"
    }
   ],
   "source": [
    "year1_ror_overstock = ((current_value_year1_overstock - initial_value_year1_overstock)/initial_value_year1_overstock)*100\n",
    "\n",
    "year1_ror_overstock"
   ]
  },
  {
   "cell_type": "code",
   "execution_count": 173,
   "id": "dc777a52-be54-417f-8265-7d8e11921eae",
   "metadata": {},
   "outputs": [],
   "source": [
    "overstock_historical_year2_begin = overstock.history(start=\"2019-11-05\", end=\"2019-11-06\")\n",
    "overstock_historical_year2_end = overstock.history(start=\"2020-11-05\", end=\"2020-11-06\")\n",
    "initial_value_year2_overstock = overstock_historical_year2_begin['Close']['2019-11-05']\n",
    "current_value_year2_overstock= overstock_historical_year2_end['Close']['2020-11-05']"
   ]
  },
  {
   "cell_type": "code",
   "execution_count": 174,
   "id": "93ebc15a-80b3-456d-bd06-ea43ba5d7d9e",
   "metadata": {},
   "outputs": [
    {
     "data": {
      "text/plain": [
       "583.3499774702757"
      ]
     },
     "execution_count": 174,
     "metadata": {},
     "output_type": "execute_result"
    }
   ],
   "source": [
    "year2_ror_overstock = ((current_value_year2_overstock - initial_value_year2_overstock)/initial_value_year2_overstock)*100\n",
    "\n",
    "year2_ror_overstock"
   ]
  },
  {
   "cell_type": "code",
   "execution_count": 175,
   "id": "31aa0ee6-0378-499e-96a2-6db8bf8f85ca",
   "metadata": {},
   "outputs": [],
   "source": [
    "overstock_historical_year3_begin = overstock.history(start=\"2020-11-05\", end=\"2020-11-06\")\n",
    "overstock_historical_year3_end = overstock.history(start=\"2021-11-03\", end=\"2021-11-04\")\n",
    "initial_value_year3_overstock = overstock_historical_year3_begin['Close']['2020-11-05']\n",
    "current_value_year3_overstock= overstock_historical_year3_end['Close']['2021-11-03']"
   ]
  },
  {
   "cell_type": "code",
   "execution_count": 176,
   "id": "18a7a414-a056-491f-9cc6-714717f25bdc",
   "metadata": {},
   "outputs": [
    {
     "data": {
      "text/plain": [
       "52.90341647488361"
      ]
     },
     "execution_count": 176,
     "metadata": {},
     "output_type": "execute_result"
    }
   ],
   "source": [
    "year3_ror_overstock = ((current_value_year3_overstock - initial_value_year3_overstock)/initial_value_year3_overstock)*100\n",
    "\n",
    "year3_ror_overstock"
   ]
  },
  {
   "cell_type": "code",
   "execution_count": 177,
   "id": "449ab18f-d510-4eb3-9728-b608382819e1",
   "metadata": {},
   "outputs": [
    {
     "data": {
      "text/plain": [
       "195.6366534016695"
      ]
     },
     "execution_count": 177,
     "metadata": {},
     "output_type": "execute_result"
    }
   ],
   "source": [
    "expected_ror_overstock = (year1_ror_overstock + year2_ror_overstock + year3_ror_overstock)/3\n",
    "\n",
    "expected_ror_overstock"
   ]
  },
  {
   "cell_type": "code",
   "execution_count": 178,
   "id": "ad515303-abf7-47d2-ad9a-697b0d1d9645",
   "metadata": {},
   "outputs": [
    {
     "data": {
      "text/plain": [
       "Date\n",
       "2018-11-12    1636.849976\n",
       "2018-11-13    1631.170044\n",
       "2018-11-14    1599.010010\n",
       "2018-11-15    1619.439941\n",
       "2018-11-16    1593.410034\n",
       "                 ...     \n",
       "2021-11-04    3477.000000\n",
       "2021-11-05    3518.989990\n",
       "2021-11-08    3488.979980\n",
       "2021-11-09    3576.229980\n",
       "2021-11-10    3603.500000\n",
       "Name: Close, Length: 755, dtype: float64"
      ]
     },
     "execution_count": 178,
     "metadata": {},
     "output_type": "execute_result"
    }
   ],
   "source": [
    "amazon_history = amazon.history(period = \"3y\")\n",
    "\n",
    "amazon_history['Close']"
   ]
  },
  {
   "cell_type": "code",
   "execution_count": 179,
   "id": "e0cd8b1c-9914-42cf-af14-05f13c9f3269",
   "metadata": {},
   "outputs": [
    {
     "data": {
      "text/plain": [
       "Date\n",
       "2018-11-12     98.428764\n",
       "2018-11-13     97.547478\n",
       "2018-11-14     96.211349\n",
       "2018-11-15     94.325584\n",
       "2018-11-16     92.572510\n",
       "                 ...    \n",
       "2021-11-04    151.279999\n",
       "2021-11-05    150.229996\n",
       "2021-11-08    149.270004\n",
       "2021-11-09    149.789993\n",
       "2021-11-10    149.210007\n",
       "Name: Close, Length: 755, dtype: float64"
      ]
     },
     "execution_count": 179,
     "metadata": {},
     "output_type": "execute_result"
    }
   ],
   "source": [
    "walmart_history = walmart.history(period = \"3y\")\n",
    "\n",
    "walmart_history['Close']"
   ]
  },
  {
   "cell_type": "code",
   "execution_count": 180,
   "id": "29baf597-2215-4c01-affb-5ff6be4c443e",
   "metadata": {},
   "outputs": [
    {
     "data": {
      "text/plain": [
       "Date\n",
       "2018-11-12    27.886225\n",
       "2018-11-13    27.058115\n",
       "2018-11-14    26.855898\n",
       "2018-11-15    27.125519\n",
       "2018-11-16    27.077372\n",
       "                ...    \n",
       "2021-11-04    76.279999\n",
       "2021-11-05    75.570000\n",
       "2021-11-08    73.760002\n",
       "2021-11-09    73.959999\n",
       "2021-11-10    74.019997\n",
       "Name: Close, Length: 755, dtype: float64"
      ]
     },
     "execution_count": 180,
     "metadata": {},
     "output_type": "execute_result"
    }
   ],
   "source": [
    "ebay_history = ebay.history(period = \"3y\")\n",
    "\n",
    "ebay_history['Close']"
   ]
  },
  {
   "cell_type": "code",
   "execution_count": 181,
   "id": "57f243b9-86df-4991-96f6-d1fc5181a809",
   "metadata": {},
   "outputs": [
    {
     "data": {
      "text/plain": [
       "Date\n",
       "2018-11-12     79.702522\n",
       "2018-11-13     78.630112\n",
       "2018-11-14     77.520416\n",
       "2018-11-15     75.310349\n",
       "2018-11-16     74.303223\n",
       "                 ...    \n",
       "2021-11-04    260.440002\n",
       "2021-11-05    254.270004\n",
       "2021-11-08    253.330002\n",
       "2021-11-09    255.160004\n",
       "2021-11-10    255.100006\n",
       "Name: Close, Length: 755, dtype: float64"
      ]
     },
     "execution_count": 181,
     "metadata": {},
     "output_type": "execute_result"
    }
   ],
   "source": [
    "target_history = target.history(period = \"3y\")\n",
    "\n",
    "target_history['Close']"
   ]
  },
  {
   "cell_type": "code",
   "execution_count": 182,
   "id": "f54412a4-b1bc-436c-8e2f-0ab975115712",
   "metadata": {},
   "outputs": [
    {
     "data": {
      "text/plain": [
       "Date\n",
       "2018-11-12     17.760000\n",
       "2018-11-13     17.790001\n",
       "2018-11-14     16.950001\n",
       "2018-11-15     17.530001\n",
       "2018-11-16     17.190001\n",
       "                 ...    \n",
       "2021-11-04    104.889999\n",
       "2021-11-05    104.459999\n",
       "2021-11-08    105.360001\n",
       "2021-11-09    101.980003\n",
       "2021-11-10    100.260002\n",
       "Name: Close, Length: 755, dtype: float64"
      ]
     },
     "execution_count": 182,
     "metadata": {},
     "output_type": "execute_result"
    }
   ],
   "source": [
    "overstock_history = overstock.history(period = \"3y\")\n",
    "\n",
    "overstock_history['Close']"
   ]
  },
  {
   "cell_type": "code",
   "execution_count": 183,
   "id": "cd3582ca-cbea-4057-9bdd-cf0435a6a856",
   "metadata": {},
   "outputs": [],
   "source": [
    "start = datetime(2018, 11, 5)\n",
    "symbols_list = ['AMZN', 'WMT', 'EBAY', 'TGT', 'OSTK']\n"
   ]
  },
  {
   "cell_type": "code",
   "execution_count": 184,
   "id": "bec464bf-ac58-45f0-ac63-2c028ed42acb",
   "metadata": {},
   "outputs": [
    {
     "data": {
      "text/html": [
       "<div>\n",
       "<style scoped>\n",
       "    .dataframe tbody tr th:only-of-type {\n",
       "        vertical-align: middle;\n",
       "    }\n",
       "\n",
       "    .dataframe tbody tr th {\n",
       "        vertical-align: top;\n",
       "    }\n",
       "\n",
       "    .dataframe thead th {\n",
       "        text-align: right;\n",
       "    }\n",
       "</style>\n",
       "<table border=\"1\" class=\"dataframe\">\n",
       "  <thead>\n",
       "    <tr style=\"text-align: right;\">\n",
       "      <th></th>\n",
       "      <th>Overstock</th>\n",
       "      <th>Target</th>\n",
       "      <th>Ebay</th>\n",
       "      <th>Walmart</th>\n",
       "      <th>Amazon</th>\n",
       "    </tr>\n",
       "    <tr>\n",
       "      <th>Date</th>\n",
       "      <th></th>\n",
       "      <th></th>\n",
       "      <th></th>\n",
       "      <th></th>\n",
       "      <th></th>\n",
       "    </tr>\n",
       "  </thead>\n",
       "  <tbody>\n",
       "    <tr>\n",
       "      <th>2018-11-12</th>\n",
       "      <td>17.760000</td>\n",
       "      <td>79.702522</td>\n",
       "      <td>27.886225</td>\n",
       "      <td>98.428764</td>\n",
       "      <td>1636.849976</td>\n",
       "    </tr>\n",
       "    <tr>\n",
       "      <th>2018-11-13</th>\n",
       "      <td>17.790001</td>\n",
       "      <td>78.630112</td>\n",
       "      <td>27.058115</td>\n",
       "      <td>97.547478</td>\n",
       "      <td>1631.170044</td>\n",
       "    </tr>\n",
       "    <tr>\n",
       "      <th>2018-11-14</th>\n",
       "      <td>16.950001</td>\n",
       "      <td>77.520416</td>\n",
       "      <td>26.855898</td>\n",
       "      <td>96.211349</td>\n",
       "      <td>1599.010010</td>\n",
       "    </tr>\n",
       "    <tr>\n",
       "      <th>2018-11-15</th>\n",
       "      <td>17.530001</td>\n",
       "      <td>75.310349</td>\n",
       "      <td>27.125519</td>\n",
       "      <td>94.325584</td>\n",
       "      <td>1619.439941</td>\n",
       "    </tr>\n",
       "    <tr>\n",
       "      <th>2018-11-16</th>\n",
       "      <td>17.190001</td>\n",
       "      <td>74.303223</td>\n",
       "      <td>27.077372</td>\n",
       "      <td>92.572510</td>\n",
       "      <td>1593.410034</td>\n",
       "    </tr>\n",
       "    <tr>\n",
       "      <th>...</th>\n",
       "      <td>...</td>\n",
       "      <td>...</td>\n",
       "      <td>...</td>\n",
       "      <td>...</td>\n",
       "      <td>...</td>\n",
       "    </tr>\n",
       "    <tr>\n",
       "      <th>2021-11-04</th>\n",
       "      <td>104.889999</td>\n",
       "      <td>260.440002</td>\n",
       "      <td>76.279999</td>\n",
       "      <td>151.279999</td>\n",
       "      <td>3477.000000</td>\n",
       "    </tr>\n",
       "    <tr>\n",
       "      <th>2021-11-05</th>\n",
       "      <td>104.459999</td>\n",
       "      <td>254.270004</td>\n",
       "      <td>75.570000</td>\n",
       "      <td>150.229996</td>\n",
       "      <td>3518.989990</td>\n",
       "    </tr>\n",
       "    <tr>\n",
       "      <th>2021-11-08</th>\n",
       "      <td>105.360001</td>\n",
       "      <td>253.330002</td>\n",
       "      <td>73.760002</td>\n",
       "      <td>149.270004</td>\n",
       "      <td>3488.979980</td>\n",
       "    </tr>\n",
       "    <tr>\n",
       "      <th>2021-11-09</th>\n",
       "      <td>101.980003</td>\n",
       "      <td>255.160004</td>\n",
       "      <td>73.959999</td>\n",
       "      <td>149.789993</td>\n",
       "      <td>3576.229980</td>\n",
       "    </tr>\n",
       "    <tr>\n",
       "      <th>2021-11-10</th>\n",
       "      <td>100.260002</td>\n",
       "      <td>255.100006</td>\n",
       "      <td>74.019997</td>\n",
       "      <td>149.210007</td>\n",
       "      <td>3603.500000</td>\n",
       "    </tr>\n",
       "  </tbody>\n",
       "</table>\n",
       "<p>755 rows × 5 columns</p>\n",
       "</div>"
      ],
      "text/plain": [
       "             Overstock      Target       Ebay     Walmart       Amazon\n",
       "Date                                                                  \n",
       "2018-11-12   17.760000   79.702522  27.886225   98.428764  1636.849976\n",
       "2018-11-13   17.790001   78.630112  27.058115   97.547478  1631.170044\n",
       "2018-11-14   16.950001   77.520416  26.855898   96.211349  1599.010010\n",
       "2018-11-15   17.530001   75.310349  27.125519   94.325584  1619.439941\n",
       "2018-11-16   17.190001   74.303223  27.077372   92.572510  1593.410034\n",
       "...                ...         ...        ...         ...          ...\n",
       "2021-11-04  104.889999  260.440002  76.279999  151.279999  3477.000000\n",
       "2021-11-05  104.459999  254.270004  75.570000  150.229996  3518.989990\n",
       "2021-11-08  105.360001  253.330002  73.760002  149.270004  3488.979980\n",
       "2021-11-09  101.980003  255.160004  73.959999  149.789993  3576.229980\n",
       "2021-11-10  100.260002  255.100006  74.019997  149.210007  3603.500000\n",
       "\n",
       "[755 rows x 5 columns]"
      ]
     },
     "metadata": {},
     "output_type": "display_data"
    },
    {
     "data": {
      "text/plain": [
       "<AxesSubplot:title={'center':'Expected Rate of Return E-Commerce'}, xlabel='Date'>"
      ]
     },
     "execution_count": 184,
     "metadata": {},
     "output_type": "execute_result"
    },
    {
     "data": {
      "image/png": "[encoded data removed]",
      "text/plain": [
       "<Figure size 2160x1440 with 1 Axes>"
      ]
     },
     "metadata": {
      "needs_background": "light"
     },
     "output_type": "display_data"
    }
   ],
   "source": [
    "overstock_df = pd.DataFrame(data = overstock_history['Close'])\n",
    "target_df = pd.DataFrame(data = target_history['Close'])\n",
    "ebay_df = pd.DataFrame(data = ebay_history['Close'])\n",
    "walmart_df = pd.DataFrame(data = walmart_history['Close'])\n",
    "amazon_df = pd.DataFrame(data = amazon_history['Close'])\n",
    "\n",
    "\n",
    "dataframe = pd.concat([overstock_df, target_df, ebay_df, walmart_df, amazon_df], axis = 1)\n",
    "\n",
    "dataframe.columns = [ \"Overstock\", \"Target\", \"Ebay\", \"Walmart\", \"Amazon\"]\n",
    "display(dataframe)\n",
    "dataframe.plot(figsize=(30,20), title=(\"Expected Rate of Return E-Commerce\"))"
   ]
  },
  {
   "cell_type": "code",
   "execution_count": 217,
   "id": "fe6ebd89-7dcd-4872-8b19-ac35cf9278ba",
   "metadata": {},
   "outputs": [
    {
     "data": {
      "text/html": [
       "<div>\n",
       "<style scoped>\n",
       "    .dataframe tbody tr th:only-of-type {\n",
       "        vertical-align: middle;\n",
       "    }\n",
       "\n",
       "    .dataframe tbody tr th {\n",
       "        vertical-align: top;\n",
       "    }\n",
       "\n",
       "    .dataframe thead th {\n",
       "        text-align: right;\n",
       "    }\n",
       "</style>\n",
       "<table border=\"1\" class=\"dataframe\">\n",
       "  <thead>\n",
       "    <tr style=\"text-align: right;\">\n",
       "      <th></th>\n",
       "      <th>Overstock</th>\n",
       "      <th>Target</th>\n",
       "      <th>Ebay</th>\n",
       "      <th>Walmart</th>\n",
       "      <th>Amazon</th>\n",
       "    </tr>\n",
       "  </thead>\n",
       "  <tbody>\n",
       "    <tr>\n",
       "      <th>Overstock</th>\n",
       "      <td>1.000000</td>\n",
       "      <td>0.827967</td>\n",
       "      <td>0.883125</td>\n",
       "      <td>0.805948</td>\n",
       "      <td>0.921248</td>\n",
       "    </tr>\n",
       "    <tr>\n",
       "      <th>Target</th>\n",
       "      <td>0.827967</td>\n",
       "      <td>1.000000</td>\n",
       "      <td>0.936272</td>\n",
       "      <td>0.896504</td>\n",
       "      <td>0.887703</td>\n",
       "    </tr>\n",
       "    <tr>\n",
       "      <th>Ebay</th>\n",
       "      <td>0.883125</td>\n",
       "      <td>0.936272</td>\n",
       "      <td>1.000000</td>\n",
       "      <td>0.851938</td>\n",
       "      <td>0.922422</td>\n",
       "    </tr>\n",
       "    <tr>\n",
       "      <th>Walmart</th>\n",
       "      <td>0.805948</td>\n",
       "      <td>0.896504</td>\n",
       "      <td>0.851938</td>\n",
       "      <td>1.000000</td>\n",
       "      <td>0.921367</td>\n",
       "    </tr>\n",
       "    <tr>\n",
       "      <th>Amazon</th>\n",
       "      <td>0.921248</td>\n",
       "      <td>0.887703</td>\n",
       "      <td>0.922422</td>\n",
       "      <td>0.921367</td>\n",
       "      <td>1.000000</td>\n",
       "    </tr>\n",
       "  </tbody>\n",
       "</table>\n",
       "</div>"
      ],
      "text/plain": [
       "           Overstock    Target      Ebay   Walmart    Amazon\n",
       "Overstock   1.000000  0.827967  0.883125  0.805948  0.921248\n",
       "Target      0.827967  1.000000  0.936272  0.896504  0.887703\n",
       "Ebay        0.883125  0.936272  1.000000  0.851938  0.922422\n",
       "Walmart     0.805948  0.896504  0.851938  1.000000  0.921367\n",
       "Amazon      0.921248  0.887703  0.922422  0.921367  1.000000"
      ]
     },
     "execution_count": 217,
     "metadata": {},
     "output_type": "execute_result"
    }
   ],
   "source": [
    "corr_df = dataframe.corr(method='pearson')\n",
    " #reset symbol as index (rather than 0-X)\n",
    "corr_df.head().reset_index()\n",
    "corr_df.head(10)"
   ]
  },
  {
   "cell_type": "code",
   "execution_count": 218,
   "id": "346c4a92",
   "metadata": {},
   "outputs": [
    {
     "data": {
      "text/plain": [
       "<AxesSubplot:>"
      ]
     },
     "execution_count": 218,
     "metadata": {},
     "output_type": "execute_result"
    },
    {
     "data": {
      "image/png": "[encoded data removed]",
      "text/plain": [
       "<Figure size 432x288 with 2 Axes>"
      ]
     },
     "metadata": {
      "needs_background": "light"
     },
     "output_type": "display_data"
    }
   ],
   "source": [
    "# Create a heatmap from the correlation values\n",
    "sns.heatmap(corr_df)"
   ]
  },
  {
   "cell_type": "markdown",
   "id": "320cf162-0b0a-4724-9935-3d45d8fbc3d1",
   "metadata": {},
   "source": [
    "# Overstock Portfolio Variances"
   ]
  },
  {
   "cell_type": "code",
   "execution_count": 187,
   "id": "f25e9381-8ca5-4330-8b81-af6715c86ce1",
   "metadata": {},
   "outputs": [],
   "source": [
    "overstock_std = float(overstock_df['Close'].std())/100\n",
    "target_std = float(target_df['Close'].std())/100\n",
    "ebay_std = float(ebay_df['Close'].std())/100\n",
    "walmart_std = float(walmart_df['Close'].std())/100\n",
    "amazon_std = float(amazon_df['Close'].std())/100"
   ]
  },
  {
   "cell_type": "code",
   "execution_count": 188,
   "id": "20f305bd-609f-42b0-b4f4-1435ca123bff",
   "metadata": {},
   "outputs": [
    {
     "data": {
      "text/plain": [
       "0.32530269668578826"
      ]
     },
     "metadata": {},
     "output_type": "display_data"
    },
    {
     "data": {
      "text/plain": [
       "0.6062502251460146"
      ]
     },
     "metadata": {},
     "output_type": "display_data"
    },
    {
     "data": {
      "text/plain": [
       "0.14068479053416236"
      ]
     },
     "metadata": {},
     "output_type": "display_data"
    },
    {
     "data": {
      "text/plain": [
       "0.18688454362676346"
      ]
     },
     "metadata": {},
     "output_type": "display_data"
    },
    {
     "data": {
      "text/plain": [
       "7.2323924337529135"
      ]
     },
     "metadata": {},
     "output_type": "display_data"
    }
   ],
   "source": [
    "display(overstock_std)\n",
    "display(target_std)\n",
    "display(ebay_std)\n",
    "display(walmart_std)\n",
    "display(amazon_std)"
   ]
  },
  {
   "cell_type": "code",
   "execution_count": 189,
   "id": "1a8de642-d67d-47ba-95d3-58b36d35fa59",
   "metadata": {},
   "outputs": [],
   "source": [
    "def variance(weight1, std_1, weight2, std_2, corr_ratio):\n",
    "    variance = (((weight1 ** 2) * (std_1 ** 2)) + ((weight2 ** 2) * (std_2 ** 2)) + ((weight1 ** 2) * (std_1 ** 2) * (weight2 ** 2) * (std_2 ** 2) * (corr_ratio)))\n",
    "    return variance\n",
    "                                                                                 "
   ]
  },
  {
   "cell_type": "code",
   "execution_count": 190,
   "id": "cac6b1a1-d96f-4ccf-b3f1-8b75144af3ef",
   "metadata": {},
   "outputs": [
    {
     "name": "stdout",
     "output_type": "stream",
     "text": [
      "Overstock and Target Portfolio Variance 12.03%\n",
      "Overstock and Ebay Portfolio Variance 3.15%\n",
      "Overstock and Walmart Portfolio Variance 3.54%\n",
      "Overstock and Amazon Portfolio Variance 1338.88%\n"
     ]
    }
   ],
   "source": [
    "ostk_to_target_variance = variance(.50,overstock_std,.50,target_std,0.825182)\n",
    "ostk_to_ebay_variance = variance(.50,overstock_std,.50,ebay_std,0.880374)\n",
    "ostk_to_walmart_variance = variance(.50,overstock_std,.50,walmart_std,0.803650)\n",
    "ostk_to_amazon_variance = variance(.50,overstock_std,.50,amazon_std,0.825182)\n",
    "\n",
    "ostk_to_target_percentage = \"{:.2%}\".format(ostk_to_target_variance)\n",
    "ostk_to_ebay_percentage = \"{:.2%}\".format(ostk_to_ebay_variance)\n",
    "ostk_to_walmart_percentage = \"{:.2%}\".format(ostk_to_walmart_variance)\n",
    "ostk_to_amazon_percentage = \"{:.2%}\".format(ostk_to_amazon_variance)\n",
    "\n",
    "print(\"Overstock and Target Portfolio Variance\",ostk_to_target_percentage)\n",
    "print(\"Overstock and Ebay Portfolio Variance\",ostk_to_ebay_percentage)\n",
    "print(\"Overstock and Walmart Portfolio Variance\",ostk_to_walmart_percentage)\n",
    "print(\"Overstock and Amazon Portfolio Variance\",ostk_to_amazon_percentage)"
   ]
  },
  {
   "cell_type": "code",
   "execution_count": 191,
   "id": "09f29f19-bf76-4a76-85f5-d7d09ce6d7d0",
   "metadata": {},
   "outputs": [
    {
     "name": "stdout",
     "output_type": "stream",
     "text": [
      "Target and Ebay Portfolio Variance 9.73%\n",
      "Target and Walmart Portfolio Variance 10.13%\n",
      "Target and Amazon Portfolio Variance 1423.50%\n"
     ]
    }
   ],
   "source": [
    "tgt_to_ebay_variance = variance(.50,target_std,.50,ebay_std,0.935200)\n",
    "tgt_to_walmart_variance = variance(.50,target_std,.50,walmart_std,0.895973)\n",
    "tgt_to_amazon_variance = variance(.50,target_std,.50,amazon_std,0.887384)\n",
    "\n",
    "tgt_to_ebay_percentage = \"{:.2%}\".format(tgt_to_ebay_variance)\n",
    "tgt_to_walmart_percentage = \"{:.2%}\".format(tgt_to_walmart_variance)\n",
    "tgt_to_amazon_percentage = \"{:.2%}\".format(tgt_to_amazon_variance)\n",
    "\n",
    "\n",
    "print(\"Target and Ebay Portfolio Variance\",tgt_to_ebay_percentage)\n",
    "print(\"Target and Walmart Portfolio Variance\",tgt_to_walmart_percentage)\n",
    "print(\"Target and Amazon Portfolio Variance\",tgt_to_amazon_percentage)"
   ]
  },
  {
   "cell_type": "code",
   "execution_count": 192,
   "id": "4aa27053-89c1-40c7-b830-487becfeff12",
   "metadata": {},
   "outputs": [
    {
     "name": "stdout",
     "output_type": "stream",
     "text": [
      "Ebay and Walmart Portfolio Variance 1.37%\n",
      "Ebay and Amazon Portfolio Variance 1314.15%\n"
     ]
    }
   ],
   "source": [
    "ebay_to_walmart_variance = variance(.50,ebay_std,.50,walmart_std,0.851683)\n",
    "ebay_to_amazon_variance = variance(.50,ebay_std,.50,amazon_std,0.922619)\n",
    "\n",
    "ebay_to_walmart_percentage = \"{:.2%}\".format(ebay_to_walmart_variance)\n",
    "ebay_to_amazon_percentage = \"{:.2%}\".format(ebay_to_amazon_variance)\n",
    "\n",
    "\n",
    "print(\"Ebay and Walmart Portfolio Variance\",ebay_to_walmart_percentage)\n",
    "print(\"Ebay and Amazon Portfolio Variance\",ebay_to_amazon_percentage)"
   ]
  },
  {
   "cell_type": "code",
   "execution_count": 193,
   "id": "803901fd-3e69-4591-bd89-6a4d7c70fddc",
   "metadata": {},
   "outputs": [
    {
     "name": "stdout",
     "output_type": "stream",
     "text": [
      "Walmart and Amazon Portfolio Variance 1319.08%\n"
     ]
    }
   ],
   "source": [
    "walmart_to_amazon_variance = variance(.50,walmart_std,.50,amazon_std,0.921194)\n",
    "\n",
    "walmart_to_amazon_percentage = \"{:.2%}\".format(walmart_to_amazon_variance)\n",
    "\n",
    "print(\"Walmart and Amazon Portfolio Variance\",walmart_to_amazon_percentage)"
   ]
  },
  {
   "cell_type": "code",
   "execution_count": 194,
   "id": "19bd7685-1c93-432d-aee3-f9d684af8b22",
   "metadata": {},
   "outputs": [
    {
     "data": {
      "text/html": [
       "<div>\n",
       "<style scoped>\n",
       "    .dataframe tbody tr th:only-of-type {\n",
       "        vertical-align: middle;\n",
       "    }\n",
       "\n",
       "    .dataframe tbody tr th {\n",
       "        vertical-align: top;\n",
       "    }\n",
       "\n",
       "    .dataframe thead th {\n",
       "        text-align: right;\n",
       "    }\n",
       "</style>\n",
       "<table border=\"1\" class=\"dataframe\">\n",
       "  <thead>\n",
       "    <tr style=\"text-align: right;\">\n",
       "      <th></th>\n",
       "      <th>0</th>\n",
       "    </tr>\n",
       "  </thead>\n",
       "  <tbody>\n",
       "    <tr>\n",
       "      <th>Target</th>\n",
       "      <td>0.120346</td>\n",
       "    </tr>\n",
       "    <tr>\n",
       "      <th>Ebay</th>\n",
       "      <td>0.031519</td>\n",
       "    </tr>\n",
       "    <tr>\n",
       "      <th>Walmart</th>\n",
       "      <td>0.035373</td>\n",
       "    </tr>\n",
       "  </tbody>\n",
       "</table>\n",
       "</div>"
      ],
      "text/plain": [
       "                0\n",
       "Target   0.120346\n",
       "Ebay     0.031519\n",
       "Walmart  0.035373"
      ]
     },
     "execution_count": 194,
     "metadata": {},
     "output_type": "execute_result"
    }
   ],
   "source": [
    "overstock_vs = [ostk_to_target_variance, ostk_to_ebay_variance, ostk_to_walmart_variance]\n",
    "ebay_vs = [tgt_to_ebay_variance, ostk_to_ebay_variance, ebay_to_walmart_variance]\n",
    "target_vs = [tgt_to_ebay_variance, tgt_to_walmart_variance,  ostk_to_target_variance]\n",
    "walmart_vs =[ostk_to_walmart_variance, ebay_to_walmart_variance, tgt_to_walmart_variance]\n",
    "amazon_vs = [ostk_to_amazon_variance, ebay_to_amazon_variance,tgt_to_amazon_variance, walmart_to_amazon_variance]\n",
    "\n",
    "overstock_vs_dataframe = pd.DataFrame(overstock_vs)\n",
    "ebay_vs_dataframe = pd.DataFrame(ebay_vs)\n",
    "target_vs_dataframe = pd.DataFrame(target_vs)\n",
    "walmart_vs_dataframe = pd.DataFrame(walmart_vs)\n",
    "amazon_vs_dataframe = pd.DataFrame(amazon_vs)\n",
    "\n",
    "overstock_vs_dataframe = overstock_vs_dataframe.set_axis(['Target', 'Ebay', 'Walmart',], axis='index')\n",
    "ebay_vs_dataframe = ebay_vs_dataframe.set_axis(['Target', 'Overstock', 'Walmart',], axis='index')\n",
    "target_vs_dataframe = target_vs_dataframe.set_axis(['Ebay', 'Walmart', 'Overstock'], axis='index')\n",
    "walmart_vs_dataframe = walmart_vs_dataframe.set_axis(['Overstock', 'Ebay', 'Target',], axis='index')\n",
    "amazon_vs_dataframe = amazon_vs_dataframe.set_axis(['Overstock', 'Ebay', 'Target','Walmart'], axis='index')\n",
    "\n",
    "overstock_vs_dataframe "
   ]
  },
  {
   "cell_type": "code",
   "execution_count": 195,
   "id": "f785a2aa-9777-4d73-8637-edcbaec8e828",
   "metadata": {},
   "outputs": [],
   "source": [
    "overstock_vs_plot = overstock_vs_dataframe.hvplot.bar(\n",
    "    xlabel=\"Ecommerce Stocks\",\n",
    "    ylabel=\"Variance\", \n",
    "    rot=45,\n",
    "    label=\"Overstock Vs.\",\n",
    "    color = \"#C9412E\",\n",
    "    yformatter = \"%.3f\"\n",
    ")"
   ]
  },
  {
   "cell_type": "code",
   "execution_count": 196,
   "id": "88c5d768-ff7d-4f34-9075-96f484b47fcf",
   "metadata": {},
   "outputs": [],
   "source": [
    "ebay_vs_plot = ebay_vs_dataframe.hvplot.bar(\n",
    "    xlabel=\"Ecommerce Stocks\",\n",
    "    ylabel=\"Variance\", \n",
    "    rot=45,\n",
    "    label=\"Ebay Vs.\",\n",
    "    color = \"#DED02C\",\n",
    "    yformatter = \"%.3f\"\n",
    ")"
   ]
  },
  {
   "cell_type": "code",
   "execution_count": 197,
   "id": "e0fab2b3-ab9f-424b-a38b-103d86ae5541",
   "metadata": {},
   "outputs": [],
   "source": [
    "target_vs_plot = target_vs_dataframe.hvplot.bar(\n",
    "    xlabel=\"Ecommerce Stocks\",\n",
    "    ylabel=\"Variance\", \n",
    "    rot=45,\n",
    "    label=\"Target Vs.\",\n",
    "    color = \"#3CCF3E\",\n",
    "    yformatter = \"%.3f\"\n",
    ")"
   ]
  },
  {
   "cell_type": "code",
   "execution_count": 198,
   "id": "a2177b3c-5ea4-409f-8f4d-32f1bf49fa17",
   "metadata": {},
   "outputs": [],
   "source": [
    "walmart_vs_plot = walmart_vs_dataframe.hvplot.bar(\n",
    "    xlabel=\"Ecommerce Stocks\",\n",
    "    ylabel=\"Variance\", \n",
    "    rot=45,\n",
    "    label=\"Walmart Vs.\",\n",
    "    color = \"#1961E6\",\n",
    "    yformatter = \"%.3f\"\n",
    ")"
   ]
  },
  {
   "cell_type": "code",
   "execution_count": 199,
   "id": "af8446eb-f170-4430-8dc3-3c0a3cdf0da3",
   "metadata": {},
   "outputs": [],
   "source": [
    "amazon_vs_plot = amazon_vs_dataframe.hvplot.bar(\n",
    "    xlabel=\"Ecommerce Stocks\",\n",
    "    ylabel=\"Variance\", \n",
    "    rot=45,\n",
    "    label=\"Amazon Vs.\",\n",
    "    color = \"#923DD5\",\n",
    "    yformatter = \"%.3f\"\n",
    ")"
   ]
  },
  {
   "cell_type": "code",
   "execution_count": 219,
   "id": "3b6a6d55-3205-4e01-ad7f-3f0e185f5c42",
   "metadata": {},
   "outputs": [
    {
     "data": {},
     "metadata": {},
     "output_type": "display_data"
    },
    {
     "data": {
      "application/vnd.holoviews_exec.v0+json": "",
      "text/html": [
       "<div id='1868'>\n",
       "\n",
       "\n",
       "\n",
       "\n",
       "\n",
       "  <div class=\"bk-root\" id=\"4abee3b9-5df2-4fef-a1dc-463c2dcb4b50\" data-root-id=\"1868\"></div>\n",
       "</div>\n",
       "<script type=\"application/javascript\">(function(root) {\n",
       "  function embed_document(root) {\n",
       "    var docs_json = {\"261ff225-4efb-401b-bfb9-84a91b61ed42\":{\"defs\":[{\"extends\":null,\"module\":null,\"name\":\"ReactiveHTML1\",\"overrides\":[],\"properties\":[]},{\"extends\":null,\"module\":null,\"name\":\"FlexBox1\",\"overrides\":[],\"properties\":[{\"default\":\"flex-start\",\"kind\":null,\"name\":\"align_content\"},{\"default\":\"flex-start\",\"kind\":null,\"name\":\"align_items\"},{\"default\":\"row\",\"kind\":null,\"name\":\"flex_direction\"},{\"default\":\"wrap\",\"kind\":null,\"name\":\"flex_wrap\"},{\"default\":\"flex-start\",\"kind\":null,\"name\":\"justify_content\"}]},{\"extends\":null,\"module\":null,\"name\":\"TemplateActions1\",\"overrides\":[],\"properties\":[{\"default\":0,\"kind\":null,\"name\":\"open_modal\"},{\"default\":0,\"kind\":null,\"name\":\"close_modal\"}]},{\"extends\":null,\"module\":null,\"name\":\"MaterialTemplateActions1\",\"overrides\":[],\"properties\":[{\"default\":0,\"kind\":null,\"name\":\"open_modal\"},{\"default\":0,\"kind\":null,\"name\":\"close_modal\"}]}],\"roots\":{\"references\":[{\"attributes\":{},\"id\":\"1891\",\"type\":\"WheelZoomTool\"},{\"attributes\":{},\"id\":\"2083\",\"type\":\"UnionRenderers\"},{\"attributes\":{\"fill_color\":{\"value\":\"#C9412E\"},\"hatch_color\":{\"value\":\"#C9412E\"},\"top\":{\"field\":\"A_0\"},\"width\":{\"value\":0.8},\"x\":{\"field\":\"index\"}},\"id\":\"1905\",\"type\":\"VBar\"},{\"attributes\":{},\"id\":\"1890\",\"type\":\"PanTool\"},{\"attributes\":{},\"id\":\"1889\",\"type\":\"SaveTool\"},{\"attributes\":{},\"id\":\"1917\",\"type\":\"AllLabels\"},{\"attributes\":{\"overlay\":{\"id\":\"1894\"}},\"id\":\"1892\",\"type\":\"BoxZoomTool\"},{\"attributes\":{},\"id\":\"1893\",\"type\":\"ResetTool\"},{\"attributes\":{\"axis_label\":\"Ecommerce Stocks\",\"coordinates\":null,\"formatter\":{\"id\":\"1962\"},\"group\":null,\"major_label_orientation\":0.7853981633974483,\"major_label_policy\":{\"id\":\"1963\"},\"ticker\":{\"id\":\"1932\"}},\"id\":\"1931\",\"type\":\"CategoricalAxis\"},{\"attributes\":{\"axis\":{\"id\":\"1931\"},\"coordinates\":null,\"grid_line_color\":null,\"group\":null,\"ticker\":null},\"id\":\"1933\",\"type\":\"Grid\"},{\"attributes\":{\"axis_label\":\"Variance\",\"coordinates\":null,\"formatter\":{\"id\":\"1960\"},\"group\":null,\"major_label_policy\":{\"id\":\"1966\"},\"ticker\":{\"id\":\"1935\"}},\"id\":\"1934\",\"type\":\"LinearAxis\"},{\"attributes\":{\"bottom_units\":\"screen\",\"coordinates\":null,\"fill_alpha\":0.5,\"fill_color\":\"lightgrey\",\"group\":null,\"left_units\":\"screen\",\"level\":\"overlay\",\"line_alpha\":1.0,\"line_color\":\"black\",\"line_dash\":[4,4],\"line_width\":2,\"right_units\":\"screen\",\"syncable\":false,\"top_units\":\"screen\"},\"id\":\"1894\",\"type\":\"BoxAnnotation\"},{\"attributes\":{},\"id\":\"1939\",\"type\":\"PanTool\"},{\"attributes\":{},\"id\":\"1929\",\"type\":\"LinearScale\"},{\"attributes\":{},\"id\":\"1932\",\"type\":\"CategoricalTicker\"},{\"attributes\":{\"axis\":{\"id\":\"1934\"},\"coordinates\":null,\"dimension\":1,\"grid_line_color\":null,\"group\":null,\"ticker\":null},\"id\":\"1937\",\"type\":\"Grid\"},{\"attributes\":{},\"id\":\"1903\",\"type\":\"Selection\"},{\"attributes\":{\"fill_color\":{\"value\":\"#DED02C\"},\"hatch_color\":{\"value\":\"#DED02C\"},\"top\":{\"field\":\"A_0\"},\"width\":{\"value\":0.8},\"x\":{\"field\":\"index\"}},\"id\":\"1954\",\"type\":\"VBar\"},{\"attributes\":{\"coordinates\":null,\"group\":null,\"text\":\"Ebay Vs.\",\"text_color\":\"black\",\"text_font_size\":\"12pt\"},\"id\":\"1923\",\"type\":\"Title\"},{\"attributes\":{},\"id\":\"1935\",\"type\":\"BasicTicker\"},{\"attributes\":{},\"id\":\"1940\",\"type\":\"WheelZoomTool\"},{\"attributes\":{},\"id\":\"1938\",\"type\":\"SaveTool\"},{\"attributes\":{\"tools\":[{\"id\":\"1872\"},{\"id\":\"1889\"},{\"id\":\"1890\"},{\"id\":\"1891\"},{\"id\":\"1892\"},{\"id\":\"1893\"}]},\"id\":\"1895\",\"type\":\"Toolbar\"},{\"attributes\":{\"overlay\":{\"id\":\"1943\"}},\"id\":\"1941\",\"type\":\"BoxZoomTool\"},{\"attributes\":{},\"id\":\"1942\",\"type\":\"ResetTool\"},{\"attributes\":{\"bottom_units\":\"screen\",\"coordinates\":null,\"fill_alpha\":0.5,\"fill_color\":\"lightgrey\",\"group\":null,\"left_units\":\"screen\",\"level\":\"overlay\",\"line_alpha\":1.0,\"line_color\":\"black\",\"line_dash\":[4,4],\"line_width\":2,\"right_units\":\"screen\",\"syncable\":false,\"top_units\":\"screen\"},\"id\":\"1943\",\"type\":\"BoxAnnotation\"},{\"attributes\":{},\"id\":\"1914\",\"type\":\"AllLabels\"},{\"attributes\":{\"bottom\":{\"value\":0},\"fill_alpha\":{\"value\":1.0},\"fill_color\":{\"value\":\"#C9412E\"},\"hatch_alpha\":{\"value\":1.0},\"hatch_color\":{\"value\":\"#C9412E\"},\"hatch_scale\":{\"value\":12.0},\"hatch_weight\":{\"value\":1.0},\"line_alpha\":{\"value\":1.0},\"line_cap\":{\"value\":\"butt\"},\"line_color\":{\"value\":\"black\"},\"line_dash\":{\"value\":[]},\"line_dash_offset\":{\"value\":0},\"line_join\":{\"value\":\"bevel\"},\"line_width\":{\"value\":1},\"top\":{\"field\":\"A_0\"},\"width\":{\"value\":0.8},\"x\":{\"field\":\"index\"}},\"id\":\"1910\",\"type\":\"VBar\"},{\"attributes\":{\"source\":{\"id\":\"1902\"}},\"id\":\"1909\",\"type\":\"CDSView\"},{\"attributes\":{\"fill_alpha\":{\"value\":0.1},\"fill_color\":{\"value\":\"#3CCF3E\"},\"hatch_alpha\":{\"value\":0.1},\"hatch_color\":{\"value\":\"#3CCF3E\"},\"line_alpha\":{\"value\":0.1},\"top\":{\"field\":\"A_0\"},\"width\":{\"value\":0.8},\"x\":{\"field\":\"index\"}},\"id\":\"2004\",\"type\":\"VBar\"},{\"attributes\":{\"data\":{\"A_0\":{\"__ndarray__\":\"e8rmv+fluD/IIZ3/OSOgP8EdO4JLF4w/\",\"dtype\":\"float64\",\"order\":\"little\",\"shape\":[3]},\"index\":[\"Target\",\"Overstock\",\"Walmart\"]},\"selected\":{\"id\":\"1952\"},\"selection_policy\":{\"id\":\"2083\"}},\"id\":\"1951\",\"type\":\"ColumnDataSource\"},{\"attributes\":{\"children\":[{\"id\":\"2109\"},{\"id\":\"2107\"}]},\"id\":\"2110\",\"type\":\"Column\"},{\"attributes\":{},\"id\":\"1962\",\"type\":\"CategoricalTickFormatter\"},{\"attributes\":{\"below\":[{\"id\":\"1931\"}],\"center\":[{\"id\":\"1933\"},{\"id\":\"1937\"}],\"height\":300,\"left\":[{\"id\":\"1934\"}],\"margin\":null,\"min_border_bottom\":10,\"min_border_left\":10,\"min_border_right\":10,\"min_border_top\":10,\"renderers\":[{\"id\":\"1957\"}],\"sizing_mode\":\"fixed\",\"title\":{\"id\":\"1923\"},\"toolbar\":{\"id\":\"1944\"},\"toolbar_location\":null,\"width\":700,\"x_range\":{\"id\":\"1870\"},\"x_scale\":{\"id\":\"1927\"},\"y_range\":{\"id\":\"1871\"},\"y_scale\":{\"id\":\"1929\"}},\"id\":\"1922\",\"subtype\":\"Figure\",\"type\":\"Plot\"},{\"attributes\":{\"callback\":null,\"renderers\":[{\"id\":\"1908\"}],\"tags\":[\"hv_created\"],\"tooltips\":[[\"index\",\"@{index}\"],[\"0\",\"@{A_0}\"]]},\"id\":\"1872\",\"type\":\"HoverTool\"},{\"attributes\":{\"coordinates\":null,\"data_source\":{\"id\":\"1902\"},\"glyph\":{\"id\":\"1905\"},\"group\":null,\"hover_glyph\":null,\"muted_glyph\":{\"id\":\"1907\"},\"nonselection_glyph\":{\"id\":\"1906\"},\"selection_glyph\":{\"id\":\"1910\"},\"view\":{\"id\":\"1909\"}},\"id\":\"1908\",\"type\":\"GlyphRenderer\"},{\"attributes\":{\"fill_alpha\":{\"value\":0.2},\"fill_color\":{\"value\":\"#C9412E\"},\"hatch_alpha\":{\"value\":0.2},\"hatch_color\":{\"value\":\"#C9412E\"},\"line_alpha\":{\"value\":0.2},\"top\":{\"field\":\"A_0\"},\"width\":{\"value\":0.8},\"x\":{\"field\":\"index\"}},\"id\":\"1907\",\"type\":\"VBar\"},{\"attributes\":{\"fill_alpha\":{\"value\":0.1},\"fill_color\":{\"value\":\"#C9412E\"},\"hatch_alpha\":{\"value\":0.1},\"hatch_color\":{\"value\":\"#C9412E\"},\"line_alpha\":{\"value\":0.1},\"top\":{\"field\":\"A_0\"},\"width\":{\"value\":0.8},\"x\":{\"field\":\"index\"}},\"id\":\"1906\",\"type\":\"VBar\"},{\"attributes\":{\"fill_color\":{\"value\":\"#3CCF3E\"},\"hatch_color\":{\"value\":\"#3CCF3E\"},\"top\":{\"field\":\"A_0\"},\"width\":{\"value\":0.8},\"x\":{\"field\":\"index\"}},\"id\":\"2003\",\"type\":\"VBar\"},{\"attributes\":{\"axis\":{\"id\":\"1882\"},\"coordinates\":null,\"grid_line_color\":null,\"group\":null,\"ticker\":null},\"id\":\"1884\",\"type\":\"Grid\"},{\"attributes\":{\"coordinates\":null,\"data_source\":{\"id\":\"1951\"},\"glyph\":{\"id\":\"1954\"},\"group\":null,\"hover_glyph\":null,\"muted_glyph\":{\"id\":\"1956\"},\"nonselection_glyph\":{\"id\":\"1955\"},\"selection_glyph\":{\"id\":\"1959\"},\"view\":{\"id\":\"1958\"}},\"id\":\"1957\",\"type\":\"GlyphRenderer\"},{\"attributes\":{\"margin\":[5,5,5,5],\"name\":\"HSpacer02444\",\"sizing_mode\":\"stretch_width\"},\"id\":\"2435\",\"type\":\"Spacer\"},{\"attributes\":{\"margin\":[5,5,5,5],\"name\":\"HSpacer02443\",\"sizing_mode\":\"stretch_width\"},\"id\":\"1869\",\"type\":\"Spacer\"},{\"attributes\":{\"fill_alpha\":{\"value\":0.2},\"fill_color\":{\"value\":\"#DED02C\"},\"hatch_alpha\":{\"value\":0.2},\"hatch_color\":{\"value\":\"#DED02C\"},\"line_alpha\":{\"value\":0.2},\"top\":{\"field\":\"A_0\"},\"width\":{\"value\":0.8},\"x\":{\"field\":\"index\"}},\"id\":\"1956\",\"type\":\"VBar\"},{\"attributes\":{\"coordinates\":null,\"group\":null,\"text\":\"Overstock Vs.\",\"text_color\":\"black\",\"text_font_size\":\"12pt\"},\"id\":\"1874\",\"type\":\"Title\"},{\"attributes\":{\"toolbar\":{\"id\":\"2108\"},\"toolbar_location\":\"above\"},\"id\":\"2109\",\"type\":\"ToolbarBox\"},{\"attributes\":{},\"id\":\"1913\",\"type\":\"CategoricalTickFormatter\"},{\"attributes\":{\"children\":[[{\"id\":\"1873\"},0,0],[{\"id\":\"1922\"},0,1],[{\"id\":\"1971\"},0,2],[{\"id\":\"2020\"},0,3]]},\"id\":\"2107\",\"type\":\"GridBox\"},{\"attributes\":{\"axis_label\":\"Ecommerce Stocks\",\"coordinates\":null,\"formatter\":{\"id\":\"1913\"},\"group\":null,\"major_label_orientation\":0.7853981633974483,\"major_label_policy\":{\"id\":\"1914\"},\"ticker\":{\"id\":\"1883\"}},\"id\":\"1882\",\"type\":\"CategoricalAxis\"},{\"attributes\":{\"callback\":null,\"renderers\":[{\"id\":\"1957\"}],\"tags\":[\"hv_created\"],\"tooltips\":[[\"index\",\"@{index}\"],[\"0\",\"@{A_0}\"]]},\"id\":\"1921\",\"type\":\"HoverTool\"},{\"attributes\":{\"end\":0.13100918198845965,\"reset_end\":0.13100918198845965,\"reset_start\":0.0,\"tags\":[[[\"0\",\"0\",null]]]},\"id\":\"1871\",\"type\":\"Range1d\"},{\"attributes\":{},\"id\":\"1927\",\"type\":\"CategoricalScale\"},{\"attributes\":{\"source\":{\"id\":\"1951\"}},\"id\":\"1958\",\"type\":\"CDSView\"},{\"attributes\":{\"bottom\":{\"value\":0},\"fill_alpha\":{\"value\":1.0},\"fill_color\":{\"value\":\"#DED02C\"},\"hatch_alpha\":{\"value\":1.0},\"hatch_color\":{\"value\":\"#DED02C\"},\"hatch_scale\":{\"value\":12.0},\"hatch_weight\":{\"value\":1.0},\"line_alpha\":{\"value\":1.0},\"line_cap\":{\"value\":\"butt\"},\"line_color\":{\"value\":\"black\"},\"line_dash\":{\"value\":[]},\"line_dash_offset\":{\"value\":0},\"line_join\":{\"value\":\"bevel\"},\"line_width\":{\"value\":1},\"top\":{\"field\":\"A_0\"},\"width\":{\"value\":0.8},\"x\":{\"field\":\"index\"}},\"id\":\"1959\",\"type\":\"VBar\"},{\"attributes\":{},\"id\":\"1963\",\"type\":\"AllLabels\"},{\"attributes\":{\"children\":[{\"id\":\"1869\"},{\"id\":\"2110\"},{\"id\":\"2435\"}],\"margin\":[0,0,0,0],\"name\":\"Row02439\",\"tags\":[\"embedded\"]},\"id\":\"1868\",\"type\":\"Row\"},{\"attributes\":{},\"id\":\"1880\",\"type\":\"LinearScale\"},{\"attributes\":{\"format\":\"%.3f\"},\"id\":\"1960\",\"type\":\"PrintfTickFormatter\"},{\"attributes\":{\"axis_label\":\"Variance\",\"coordinates\":null,\"formatter\":{\"id\":\"1911\"},\"group\":null,\"major_label_policy\":{\"id\":\"1917\"},\"ticker\":{\"id\":\"1886\"}},\"id\":\"1885\",\"type\":\"LinearAxis\"},{\"attributes\":{},\"id\":\"1883\",\"type\":\"CategoricalTicker\"},{\"attributes\":{},\"id\":\"1952\",\"type\":\"Selection\"},{\"attributes\":{\"toolbars\":[{\"id\":\"1895\"},{\"id\":\"1944\"},{\"id\":\"1993\"},{\"id\":\"2042\"}],\"tools\":[{\"id\":\"1872\"},{\"id\":\"1889\"},{\"id\":\"1890\"},{\"id\":\"1891\"},{\"id\":\"1892\"},{\"id\":\"1893\"},{\"id\":\"1921\"},{\"id\":\"1938\"},{\"id\":\"1939\"},{\"id\":\"1940\"},{\"id\":\"1941\"},{\"id\":\"1942\"},{\"id\":\"1970\"},{\"id\":\"1987\"},{\"id\":\"1988\"},{\"id\":\"1989\"},{\"id\":\"1990\"},{\"id\":\"1991\"},{\"id\":\"2019\"},{\"id\":\"2036\"},{\"id\":\"2037\"},{\"id\":\"2038\"},{\"id\":\"2039\"},{\"id\":\"2040\"}]},\"id\":\"2108\",\"type\":\"ProxyToolbar\"},{\"attributes\":{\"axis\":{\"id\":\"1885\"},\"coordinates\":null,\"dimension\":1,\"grid_line_color\":null,\"group\":null,\"ticker\":null},\"id\":\"1888\",\"type\":\"Grid\"},{\"attributes\":{},\"id\":\"1878\",\"type\":\"CategoricalScale\"},{\"attributes\":{},\"id\":\"2093\",\"type\":\"UnionRenderers\"},{\"attributes\":{},\"id\":\"1886\",\"type\":\"BasicTicker\"},{\"attributes\":{\"format\":\"%.3f\"},\"id\":\"1911\",\"type\":\"PrintfTickFormatter\"},{\"attributes\":{\"fill_alpha\":{\"value\":0.1},\"fill_color\":{\"value\":\"#DED02C\"},\"hatch_alpha\":{\"value\":0.1},\"hatch_color\":{\"value\":\"#DED02C\"},\"line_alpha\":{\"value\":0.1},\"top\":{\"field\":\"A_0\"},\"width\":{\"value\":0.8},\"x\":{\"field\":\"index\"}},\"id\":\"1955\",\"type\":\"VBar\"},{\"attributes\":{\"tools\":[{\"id\":\"1921\"},{\"id\":\"1938\"},{\"id\":\"1939\"},{\"id\":\"1940\"},{\"id\":\"1941\"},{\"id\":\"1942\"}]},\"id\":\"1944\",\"type\":\"Toolbar\"},{\"attributes\":{\"data\":{\"A_0\":{\"__ndarray__\":\"JgxkGVocoj/BHTuCSxeMP4AmYjYZ8bk/\",\"dtype\":\"float64\",\"order\":\"little\",\"shape\":[3]},\"index\":[\"Overstock\",\"Ebay\",\"Target\"]},\"selected\":{\"id\":\"2050\"},\"selection_policy\":{\"id\":\"2103\"}},\"id\":\"2049\",\"type\":\"ColumnDataSource\"},{\"attributes\":{\"bottom\":{\"value\":0},\"fill_alpha\":{\"value\":1.0},\"fill_color\":{\"value\":\"#3CCF3E\"},\"hatch_alpha\":{\"value\":1.0},\"hatch_color\":{\"value\":\"#3CCF3E\"},\"hatch_scale\":{\"value\":12.0},\"hatch_weight\":{\"value\":1.0},\"line_alpha\":{\"value\":1.0},\"line_cap\":{\"value\":\"butt\"},\"line_color\":{\"value\":\"black\"},\"line_dash\":{\"value\":[]},\"line_dash_offset\":{\"value\":0},\"line_join\":{\"value\":\"bevel\"},\"line_width\":{\"value\":1},\"top\":{\"field\":\"A_0\"},\"width\":{\"value\":0.8},\"x\":{\"field\":\"index\"}},\"id\":\"2008\",\"type\":\"VBar\"},{\"attributes\":{\"source\":{\"id\":\"2000\"}},\"id\":\"2007\",\"type\":\"CDSView\"},{\"attributes\":{\"coordinates\":null,\"data_source\":{\"id\":\"2000\"},\"glyph\":{\"id\":\"2003\"},\"group\":null,\"hover_glyph\":null,\"muted_glyph\":{\"id\":\"2005\"},\"nonselection_glyph\":{\"id\":\"2004\"},\"selection_glyph\":{\"id\":\"2008\"},\"view\":{\"id\":\"2007\"}},\"id\":\"2006\",\"type\":\"GlyphRenderer\"},{\"attributes\":{\"fill_alpha\":{\"value\":0.2},\"fill_color\":{\"value\":\"#3CCF3E\"},\"hatch_alpha\":{\"value\":0.2},\"hatch_color\":{\"value\":\"#3CCF3E\"},\"line_alpha\":{\"value\":0.2},\"top\":{\"field\":\"A_0\"},\"width\":{\"value\":0.8},\"x\":{\"field\":\"index\"}},\"id\":\"2005\",\"type\":\"VBar\"},{\"attributes\":{},\"id\":\"2073\",\"type\":\"UnionRenderers\"},{\"attributes\":{\"bottom_units\":\"screen\",\"coordinates\":null,\"fill_alpha\":0.5,\"fill_color\":\"lightgrey\",\"group\":null,\"left_units\":\"screen\",\"level\":\"overlay\",\"line_alpha\":1.0,\"line_color\":\"black\",\"line_dash\":[4,4],\"line_width\":2,\"right_units\":\"screen\",\"syncable\":false,\"top_units\":\"screen\"},\"id\":\"2041\",\"type\":\"BoxAnnotation\"},{\"attributes\":{},\"id\":\"2012\",\"type\":\"AllLabels\"},{\"attributes\":{},\"id\":\"2050\",\"type\":\"Selection\"},{\"attributes\":{\"fill_color\":{\"value\":\"#1961E6\"},\"hatch_color\":{\"value\":\"#1961E6\"},\"top\":{\"field\":\"A_0\"},\"width\":{\"value\":0.8},\"x\":{\"field\":\"index\"}},\"id\":\"2052\",\"type\":\"VBar\"},{\"attributes\":{\"format\":\"%.3f\"},\"id\":\"2009\",\"type\":\"PrintfTickFormatter\"},{\"attributes\":{\"tools\":[{\"id\":\"2019\"},{\"id\":\"2036\"},{\"id\":\"2037\"},{\"id\":\"2038\"},{\"id\":\"2039\"},{\"id\":\"2040\"}]},\"id\":\"2042\",\"type\":\"Toolbar\"},{\"attributes\":{\"bottom\":{\"value\":0},\"fill_alpha\":{\"value\":1.0},\"fill_color\":{\"value\":\"#1961E6\"},\"hatch_alpha\":{\"value\":1.0},\"hatch_color\":{\"value\":\"#1961E6\"},\"hatch_scale\":{\"value\":12.0},\"hatch_weight\":{\"value\":1.0},\"line_alpha\":{\"value\":1.0},\"line_cap\":{\"value\":\"butt\"},\"line_color\":{\"value\":\"black\"},\"line_dash\":{\"value\":[]},\"line_dash_offset\":{\"value\":0},\"line_join\":{\"value\":\"bevel\"},\"line_width\":{\"value\":1},\"top\":{\"field\":\"A_0\"},\"width\":{\"value\":0.8},\"x\":{\"field\":\"index\"}},\"id\":\"2057\",\"type\":\"VBar\"},{\"attributes\":{},\"id\":\"1966\",\"type\":\"AllLabels\"},{\"attributes\":{},\"id\":\"2061\",\"type\":\"AllLabels\"},{\"attributes\":{\"fill_alpha\":{\"value\":0.1},\"fill_color\":{\"value\":\"#1961E6\"},\"hatch_alpha\":{\"value\":0.1},\"hatch_color\":{\"value\":\"#1961E6\"},\"line_alpha\":{\"value\":0.1},\"top\":{\"field\":\"A_0\"},\"width\":{\"value\":0.8},\"x\":{\"field\":\"index\"}},\"id\":\"2053\",\"type\":\"VBar\"},{\"attributes\":{\"coordinates\":null,\"group\":null,\"text\":\"Target Vs.\",\"text_color\":\"black\",\"text_font_size\":\"12pt\"},\"id\":\"1972\",\"type\":\"Title\"},{\"attributes\":{\"source\":{\"id\":\"2049\"}},\"id\":\"2056\",\"type\":\"CDSView\"},{\"attributes\":{},\"id\":\"1976\",\"type\":\"CategoricalScale\"},{\"attributes\":{\"axis\":{\"id\":\"1980\"},\"coordinates\":null,\"grid_line_color\":null,\"group\":null,\"ticker\":null},\"id\":\"1982\",\"type\":\"Grid\"},{\"attributes\":{},\"id\":\"2001\",\"type\":\"Selection\"},{\"attributes\":{\"below\":[{\"id\":\"1980\"}],\"center\":[{\"id\":\"1982\"},{\"id\":\"1986\"}],\"height\":300,\"left\":[{\"id\":\"1983\"}],\"margin\":null,\"min_border_bottom\":10,\"min_border_left\":10,\"min_border_right\":10,\"min_border_top\":10,\"renderers\":[{\"id\":\"2006\"}],\"sizing_mode\":\"fixed\",\"title\":{\"id\":\"1972\"},\"toolbar\":{\"id\":\"1993\"},\"toolbar_location\":null,\"width\":700,\"x_range\":{\"id\":\"1870\"},\"x_scale\":{\"id\":\"1976\"},\"y_range\":{\"id\":\"1871\"},\"y_scale\":{\"id\":\"1978\"}},\"id\":\"1971\",\"subtype\":\"Figure\",\"type\":\"Plot\"},{\"attributes\":{\"coordinates\":null,\"data_source\":{\"id\":\"2049\"},\"glyph\":{\"id\":\"2052\"},\"group\":null,\"hover_glyph\":null,\"muted_glyph\":{\"id\":\"2054\"},\"nonselection_glyph\":{\"id\":\"2053\"},\"selection_glyph\":{\"id\":\"2057\"},\"view\":{\"id\":\"2056\"}},\"id\":\"2055\",\"type\":\"GlyphRenderer\"},{\"attributes\":{\"fill_alpha\":{\"value\":0.2},\"fill_color\":{\"value\":\"#1961E6\"},\"hatch_alpha\":{\"value\":0.2},\"hatch_color\":{\"value\":\"#1961E6\"},\"line_alpha\":{\"value\":0.2},\"top\":{\"field\":\"A_0\"},\"width\":{\"value\":0.8},\"x\":{\"field\":\"index\"}},\"id\":\"2054\",\"type\":\"VBar\"},{\"attributes\":{},\"id\":\"1988\",\"type\":\"PanTool\"},{\"attributes\":{},\"id\":\"1981\",\"type\":\"CategoricalTicker\"},{\"attributes\":{\"axis_label\":\"Variance\",\"coordinates\":null,\"formatter\":{\"id\":\"2009\"},\"group\":null,\"major_label_policy\":{\"id\":\"2015\"},\"ticker\":{\"id\":\"1984\"}},\"id\":\"1983\",\"type\":\"LinearAxis\"},{\"attributes\":{\"axis_label\":\"Ecommerce Stocks\",\"coordinates\":null,\"formatter\":{\"id\":\"2011\"},\"group\":null,\"major_label_orientation\":0.7853981633974483,\"major_label_policy\":{\"id\":\"2012\"},\"ticker\":{\"id\":\"1981\"}},\"id\":\"1980\",\"type\":\"CategoricalAxis\"},{\"attributes\":{\"format\":\"%.3f\"},\"id\":\"2058\",\"type\":\"PrintfTickFormatter\"},{\"attributes\":{},\"id\":\"2011\",\"type\":\"CategoricalTickFormatter\"},{\"attributes\":{},\"id\":\"1978\",\"type\":\"LinearScale\"},{\"attributes\":{\"factors\":[\"Target\",\"Ebay\",\"Walmart\",\"Overstock\"],\"tags\":[[[\"index\",\"index\",null]]]},\"id\":\"1870\",\"type\":\"FactorRange\"},{\"attributes\":{\"axis\":{\"id\":\"1983\"},\"coordinates\":null,\"dimension\":1,\"grid_line_color\":null,\"group\":null,\"ticker\":null},\"id\":\"1986\",\"type\":\"Grid\"},{\"attributes\":{},\"id\":\"2015\",\"type\":\"AllLabels\"},{\"attributes\":{},\"id\":\"2060\",\"type\":\"CategoricalTickFormatter\"},{\"attributes\":{\"callback\":null,\"renderers\":[{\"id\":\"2006\"}],\"tags\":[\"hv_created\"],\"tooltips\":[[\"index\",\"@{index}\"],[\"0\",\"@{A_0}\"]]},\"id\":\"1970\",\"type\":\"HoverTool\"},{\"attributes\":{\"coordinates\":null,\"group\":null,\"text\":\"Walmart Vs.\",\"text_color\":\"black\",\"text_font_size\":\"12pt\"},\"id\":\"2021\",\"type\":\"Title\"},{\"attributes\":{},\"id\":\"2025\",\"type\":\"CategoricalScale\"},{\"attributes\":{},\"id\":\"1984\",\"type\":\"BasicTicker\"},{\"attributes\":{},\"id\":\"1989\",\"type\":\"WheelZoomTool\"},{\"attributes\":{\"below\":[{\"id\":\"2029\"}],\"center\":[{\"id\":\"2031\"},{\"id\":\"2035\"}],\"height\":300,\"left\":[{\"id\":\"2032\"}],\"margin\":null,\"min_border_bottom\":10,\"min_border_left\":10,\"min_border_right\":10,\"min_border_top\":10,\"renderers\":[{\"id\":\"2055\"}],\"sizing_mode\":\"fixed\",\"title\":{\"id\":\"2021\"},\"toolbar\":{\"id\":\"2042\"},\"toolbar_location\":null,\"width\":700,\"x_range\":{\"id\":\"1870\"},\"x_scale\":{\"id\":\"2025\"},\"y_range\":{\"id\":\"1871\"},\"y_scale\":{\"id\":\"2027\"}},\"id\":\"2020\",\"subtype\":\"Figure\",\"type\":\"Plot\"},{\"attributes\":{},\"id\":\"1987\",\"type\":\"SaveTool\"},{\"attributes\":{},\"id\":\"2064\",\"type\":\"AllLabels\"},{\"attributes\":{\"overlay\":{\"id\":\"1992\"}},\"id\":\"1990\",\"type\":\"BoxZoomTool\"},{\"attributes\":{},\"id\":\"1991\",\"type\":\"ResetTool\"},{\"attributes\":{\"axis\":{\"id\":\"2029\"},\"coordinates\":null,\"grid_line_color\":null,\"group\":null,\"ticker\":null},\"id\":\"2031\",\"type\":\"Grid\"},{\"attributes\":{},\"id\":\"2037\",\"type\":\"PanTool\"},{\"attributes\":{\"bottom_units\":\"screen\",\"coordinates\":null,\"fill_alpha\":0.5,\"fill_color\":\"lightgrey\",\"group\":null,\"left_units\":\"screen\",\"level\":\"overlay\",\"line_alpha\":1.0,\"line_color\":\"black\",\"line_dash\":[4,4],\"line_width\":2,\"right_units\":\"screen\",\"syncable\":false,\"top_units\":\"screen\"},\"id\":\"1992\",\"type\":\"BoxAnnotation\"},{\"attributes\":{},\"id\":\"2030\",\"type\":\"CategoricalTicker\"},{\"attributes\":{},\"id\":\"2027\",\"type\":\"LinearScale\"},{\"attributes\":{\"axis_label\":\"Variance\",\"coordinates\":null,\"formatter\":{\"id\":\"2058\"},\"group\":null,\"major_label_policy\":{\"id\":\"2064\"},\"ticker\":{\"id\":\"2033\"}},\"id\":\"2032\",\"type\":\"LinearAxis\"},{\"attributes\":{},\"id\":\"2038\",\"type\":\"WheelZoomTool\"},{\"attributes\":{\"axis_label\":\"Ecommerce Stocks\",\"coordinates\":null,\"formatter\":{\"id\":\"2060\"},\"group\":null,\"major_label_orientation\":0.7853981633974483,\"major_label_policy\":{\"id\":\"2061\"},\"ticker\":{\"id\":\"2030\"}},\"id\":\"2029\",\"type\":\"CategoricalAxis\"},{\"attributes\":{\"data\":{\"A_0\":{\"__ndarray__\":\"f5x+FALPvj/IIZ3/OSOgPyYMZBlaHKI/\",\"dtype\":\"float64\",\"order\":\"little\",\"shape\":[3]},\"index\":[\"Target\",\"Ebay\",\"Walmart\"]},\"selected\":{\"id\":\"1903\"},\"selection_policy\":{\"id\":\"2073\"}},\"id\":\"1902\",\"type\":\"ColumnDataSource\"},{\"attributes\":{\"data\":{\"A_0\":{\"__ndarray__\":\"e8rmv+fluD+AJmI2GfG5P3+cfhQCz74/\",\"dtype\":\"float64\",\"order\":\"little\",\"shape\":[3]},\"index\":[\"Ebay\",\"Walmart\",\"Overstock\"]},\"selected\":{\"id\":\"2001\"},\"selection_policy\":{\"id\":\"2093\"}},\"id\":\"2000\",\"type\":\"ColumnDataSource\"},{\"attributes\":{\"tools\":[{\"id\":\"1970\"},{\"id\":\"1987\"},{\"id\":\"1988\"},{\"id\":\"1989\"},{\"id\":\"1990\"},{\"id\":\"1991\"}]},\"id\":\"1993\",\"type\":\"Toolbar\"},{\"attributes\":{\"callback\":null,\"renderers\":[{\"id\":\"2055\"}],\"tags\":[\"hv_created\"],\"tooltips\":[[\"index\",\"@{index}\"],[\"0\",\"@{A_0}\"]]},\"id\":\"2019\",\"type\":\"HoverTool\"},{\"attributes\":{\"axis\":{\"id\":\"2032\"},\"coordinates\":null,\"dimension\":1,\"grid_line_color\":null,\"group\":null,\"ticker\":null},\"id\":\"2035\",\"type\":\"Grid\"},{\"attributes\":{},\"id\":\"2033\",\"type\":\"BasicTicker\"},{\"attributes\":{},\"id\":\"2103\",\"type\":\"UnionRenderers\"},{\"attributes\":{},\"id\":\"2036\",\"type\":\"SaveTool\"},{\"attributes\":{\"overlay\":{\"id\":\"2041\"}},\"id\":\"2039\",\"type\":\"BoxZoomTool\"},{\"attributes\":{},\"id\":\"2040\",\"type\":\"ResetTool\"},{\"attributes\":{\"below\":[{\"id\":\"1882\"}],\"center\":[{\"id\":\"1884\"},{\"id\":\"1888\"}],\"height\":300,\"left\":[{\"id\":\"1885\"}],\"margin\":null,\"min_border_bottom\":10,\"min_border_left\":10,\"min_border_right\":10,\"min_border_top\":10,\"renderers\":[{\"id\":\"1908\"}],\"sizing_mode\":\"fixed\",\"title\":{\"id\":\"1874\"},\"toolbar\":{\"id\":\"1895\"},\"toolbar_location\":null,\"width\":700,\"x_range\":{\"id\":\"1870\"},\"x_scale\":{\"id\":\"1878\"},\"y_range\":{\"id\":\"1871\"},\"y_scale\":{\"id\":\"1880\"}},\"id\":\"1873\",\"subtype\":\"Figure\",\"type\":\"Plot\"}],\"root_ids\":[\"1868\"]},\"title\":\"Bokeh Application\",\"version\":\"2.4.1\"}};\n",
       "    var render_items = [{\"docid\":\"261ff225-4efb-401b-bfb9-84a91b61ed42\",\"root_ids\":[\"1868\"],\"roots\":{\"1868\":\"4abee3b9-5df2-4fef-a1dc-463c2dcb4b50\"}}];\n",
       "    root.Bokeh.embed.embed_items_notebook(docs_json, render_items);\n",
       "  }\n",
       "  if (root.Bokeh !== undefined && root.Bokeh.Panel !== undefined) {\n",
       "    embed_document(root);\n",
       "  } else {\n",
       "    var attempts = 0;\n",
       "    var timer = setInterval(function(root) {\n",
       "      if (root.Bokeh !== undefined && root.Bokeh.Panel !== undefined) {\n",
       "        clearInterval(timer);\n",
       "        embed_document(root);\n",
       "      } else if (document.readyState == \"complete\") {\n",
       "        attempts++;\n",
       "        if (attempts > 200) {\n",
       "          clearInterval(timer);\n",
       "          console.log(\"Bokeh: ERROR: Unable to run BokehJS code because BokehJS library is missing\");\n",
       "        }\n",
       "      }\n",
       "    }, 25, root)\n",
       "  }\n",
       "})(window);</script>"
      ],
      "text/plain": [
       ":Layout\n",
       "   .Bars.Overstock_Vs_full_stop :Bars   [index]   (0)\n",
       "   .Bars.Ebay_Vs_full_stop      :Bars   [index]   (0)\n",
       "   .Bars.Target_Vs_full_stop    :Bars   [index]   (0)\n",
       "   .Bars.Walmart_Vs_full_stop   :Bars   [index]   (0)"
      ]
     },
     "execution_count": 219,
     "metadata": {
      "application/vnd.holoviews_exec.v0+json": {
       "id": "1868"
      }
     },
     "output_type": "execute_result"
    }
   ],
   "source": [
    "overstock_vs_plot + ebay_vs_plot + target_vs_plot + walmart_vs_plot "
   ]
  },
  {
   "cell_type": "code",
   "execution_count": 201,
   "id": "29fdf71c-abd6-4ee4-9217-ab70604d907b",
   "metadata": {},
   "outputs": [
    {
     "data": {},
     "metadata": {},
     "output_type": "display_data"
    },
    {
     "data": {
      "application/vnd.holoviews_exec.v0+json": "",
      "text/html": [
       "<div id='1751'>\n",
       "\n",
       "\n",
       "\n",
       "\n",
       "\n",
       "  <div class=\"bk-root\" id=\"019750f9-4ffc-42be-b7f1-dbe9680f85de\" data-root-id=\"1751\"></div>\n",
       "</div>\n",
       "<script type=\"application/javascript\">(function(root) {\n",
       "  function embed_document(root) {\n",
       "    var docs_json = {\"6017a067-9b4b-4e0d-9760-c97be9459a87\":{\"defs\":[{\"extends\":null,\"module\":null,\"name\":\"ReactiveHTML1\",\"overrides\":[],\"properties\":[]},{\"extends\":null,\"module\":null,\"name\":\"FlexBox1\",\"overrides\":[],\"properties\":[{\"default\":\"flex-start\",\"kind\":null,\"name\":\"align_content\"},{\"default\":\"flex-start\",\"kind\":null,\"name\":\"align_items\"},{\"default\":\"row\",\"kind\":null,\"name\":\"flex_direction\"},{\"default\":\"wrap\",\"kind\":null,\"name\":\"flex_wrap\"},{\"default\":\"flex-start\",\"kind\":null,\"name\":\"justify_content\"}]},{\"extends\":null,\"module\":null,\"name\":\"TemplateActions1\",\"overrides\":[],\"properties\":[{\"default\":0,\"kind\":null,\"name\":\"open_modal\"},{\"default\":0,\"kind\":null,\"name\":\"close_modal\"}]},{\"extends\":null,\"module\":null,\"name\":\"MaterialTemplateActions1\",\"overrides\":[],\"properties\":[{\"default\":0,\"kind\":null,\"name\":\"open_modal\"},{\"default\":0,\"kind\":null,\"name\":\"close_modal\"}]}],\"roots\":{\"references\":[{\"attributes\":{\"fill_alpha\":{\"value\":0.2},\"fill_color\":{\"value\":\"#923DD5\"},\"hatch_alpha\":{\"value\":0.2},\"hatch_color\":{\"value\":\"#923DD5\"},\"line_alpha\":{\"value\":0.2},\"top\":{\"field\":\"A_0\"},\"width\":{\"value\":0.8},\"x\":{\"field\":\"index\"}},\"id\":\"1790\",\"type\":\"VBar\"},{\"attributes\":{},\"id\":\"1800\",\"type\":\"AllLabels\"},{\"attributes\":{},\"id\":\"1809\",\"type\":\"UnionRenderers\"},{\"attributes\":{\"source\":{\"id\":\"1785\"}},\"id\":\"1792\",\"type\":\"CDSView\"},{\"attributes\":{\"overlay\":{\"id\":\"1777\"}},\"id\":\"1775\",\"type\":\"BoxZoomTool\"},{\"attributes\":{},\"id\":\"1776\",\"type\":\"ResetTool\"},{\"attributes\":{\"coordinates\":null,\"data_source\":{\"id\":\"1785\"},\"glyph\":{\"id\":\"1788\"},\"group\":null,\"hover_glyph\":null,\"muted_glyph\":{\"id\":\"1790\"},\"nonselection_glyph\":{\"id\":\"1789\"},\"selection_glyph\":{\"id\":\"1793\"},\"view\":{\"id\":\"1792\"}},\"id\":\"1791\",\"type\":\"GlyphRenderer\"},{\"attributes\":{\"bottom\":{\"value\":0},\"fill_alpha\":{\"value\":1.0},\"fill_color\":{\"value\":\"#923DD5\"},\"hatch_alpha\":{\"value\":1.0},\"hatch_color\":{\"value\":\"#923DD5\"},\"hatch_scale\":{\"value\":12.0},\"hatch_weight\":{\"value\":1.0},\"line_alpha\":{\"value\":1.0},\"line_cap\":{\"value\":\"butt\"},\"line_color\":{\"value\":\"black\"},\"line_dash\":{\"value\":[]},\"line_dash_offset\":{\"value\":0},\"line_join\":{\"value\":\"bevel\"},\"line_width\":{\"value\":1},\"top\":{\"field\":\"A_0\"},\"width\":{\"value\":0.8},\"x\":{\"field\":\"index\"}},\"id\":\"1793\",\"type\":\"VBar\"},{\"attributes\":{\"margin\":[5,5,5,5],\"name\":\"HSpacer02361\",\"sizing_mode\":\"stretch_width\"},\"id\":\"1821\",\"type\":\"Spacer\"},{\"attributes\":{\"bottom_units\":\"screen\",\"coordinates\":null,\"fill_alpha\":0.5,\"fill_color\":\"lightgrey\",\"group\":null,\"left_units\":\"screen\",\"level\":\"overlay\",\"line_alpha\":1.0,\"line_color\":\"black\",\"line_dash\":[4,4],\"line_width\":2,\"right_units\":\"screen\",\"syncable\":false,\"top_units\":\"screen\"},\"id\":\"1777\",\"type\":\"BoxAnnotation\"},{\"attributes\":{},\"id\":\"1763\",\"type\":\"LinearScale\"},{\"attributes\":{\"fill_alpha\":{\"value\":0.1},\"fill_color\":{\"value\":\"#923DD5\"},\"hatch_alpha\":{\"value\":0.1},\"hatch_color\":{\"value\":\"#923DD5\"},\"line_alpha\":{\"value\":0.1},\"top\":{\"field\":\"A_0\"},\"width\":{\"value\":0.8},\"x\":{\"field\":\"index\"}},\"id\":\"1789\",\"type\":\"VBar\"},{\"attributes\":{},\"id\":\"1797\",\"type\":\"AllLabels\"},{\"attributes\":{\"tools\":[{\"id\":\"1755\"},{\"id\":\"1772\"},{\"id\":\"1773\"},{\"id\":\"1774\"},{\"id\":\"1775\"},{\"id\":\"1776\"}]},\"id\":\"1778\",\"type\":\"Toolbar\"},{\"attributes\":{\"factors\":[\"Overstock\",\"Ebay\",\"Target\",\"Walmart\"],\"tags\":[[[\"index\",\"index\",null]]]},\"id\":\"1753\",\"type\":\"FactorRange\"},{\"attributes\":{\"margin\":[5,5,5,5],\"name\":\"HSpacer02360\",\"sizing_mode\":\"stretch_width\"},\"id\":\"1752\",\"type\":\"Spacer\"},{\"attributes\":{\"format\":\"%.3f\"},\"id\":\"1794\",\"type\":\"PrintfTickFormatter\"},{\"attributes\":{\"axis_label\":\"Variance\",\"coordinates\":null,\"formatter\":{\"id\":\"1794\"},\"group\":null,\"major_label_policy\":{\"id\":\"1800\"},\"ticker\":{\"id\":\"1769\"}},\"id\":\"1768\",\"type\":\"LinearAxis\"},{\"attributes\":{\"coordinates\":null,\"group\":null,\"text\":\"Amazon Vs.\",\"text_color\":\"black\",\"text_font_size\":\"12pt\"},\"id\":\"1757\",\"type\":\"Title\"},{\"attributes\":{},\"id\":\"1786\",\"type\":\"Selection\"},{\"attributes\":{\"data\":{\"A_0\":{\"__ndarray__\":\"SbaPmhHHKkC6ME15dUgqQDD/ulVTeCxAdRV6DK9hKkA=\",\"dtype\":\"float64\",\"order\":\"little\",\"shape\":[4]},\"index\":[\"Overstock\",\"Ebay\",\"Target\",\"Walmart\"]},\"selected\":{\"id\":\"1786\"},\"selection_policy\":{\"id\":\"1809\"}},\"id\":\"1785\",\"type\":\"ColumnDataSource\"},{\"attributes\":{},\"id\":\"1761\",\"type\":\"CategoricalScale\"},{\"attributes\":{\"below\":[{\"id\":\"1765\"}],\"center\":[{\"id\":\"1767\"},{\"id\":\"1771\"}],\"height\":300,\"left\":[{\"id\":\"1768\"}],\"margin\":[5,5,5,5],\"min_border_bottom\":10,\"min_border_left\":10,\"min_border_right\":10,\"min_border_top\":10,\"renderers\":[{\"id\":\"1791\"}],\"sizing_mode\":\"fixed\",\"title\":{\"id\":\"1757\"},\"toolbar\":{\"id\":\"1778\"},\"width\":700,\"x_range\":{\"id\":\"1753\"},\"x_scale\":{\"id\":\"1761\"},\"y_range\":{\"id\":\"1754\"},\"y_scale\":{\"id\":\"1763\"}},\"id\":\"1756\",\"subtype\":\"Figure\",\"type\":\"Plot\"},{\"attributes\":{\"callback\":null,\"renderers\":[{\"id\":\"1791\"}],\"tags\":[\"hv_created\"],\"tooltips\":[[\"index\",\"@{index}\"],[\"0\",\"@{A_0}\"]]},\"id\":\"1755\",\"type\":\"HoverTool\"},{\"attributes\":{\"children\":[{\"id\":\"1752\"},{\"id\":\"1756\"},{\"id\":\"1821\"}],\"margin\":[0,0,0,0],\"name\":\"Row02356\",\"tags\":[\"embedded\"]},\"id\":\"1751\",\"type\":\"Row\"},{\"attributes\":{\"end\":14.344359748761342,\"reset_end\":14.344359748761342,\"reset_start\":0.0,\"tags\":[[[\"0\",\"0\",null]]]},\"id\":\"1754\",\"type\":\"Range1d\"},{\"attributes\":{\"fill_color\":{\"value\":\"#923DD5\"},\"hatch_color\":{\"value\":\"#923DD5\"},\"top\":{\"field\":\"A_0\"},\"width\":{\"value\":0.8},\"x\":{\"field\":\"index\"}},\"id\":\"1788\",\"type\":\"VBar\"},{\"attributes\":{\"axis_label\":\"Ecommerce Stocks\",\"coordinates\":null,\"formatter\":{\"id\":\"1796\"},\"group\":null,\"major_label_orientation\":0.7853981633974483,\"major_label_policy\":{\"id\":\"1797\"},\"ticker\":{\"id\":\"1766\"}},\"id\":\"1765\",\"type\":\"CategoricalAxis\"},{\"attributes\":{},\"id\":\"1766\",\"type\":\"CategoricalTicker\"},{\"attributes\":{},\"id\":\"1773\",\"type\":\"PanTool\"},{\"attributes\":{},\"id\":\"1774\",\"type\":\"WheelZoomTool\"},{\"attributes\":{\"axis\":{\"id\":\"1768\"},\"coordinates\":null,\"dimension\":1,\"grid_line_color\":null,\"group\":null,\"ticker\":null},\"id\":\"1771\",\"type\":\"Grid\"},{\"attributes\":{},\"id\":\"1796\",\"type\":\"CategoricalTickFormatter\"},{\"attributes\":{\"axis\":{\"id\":\"1765\"},\"coordinates\":null,\"grid_line_color\":null,\"group\":null,\"ticker\":null},\"id\":\"1767\",\"type\":\"Grid\"},{\"attributes\":{},\"id\":\"1772\",\"type\":\"SaveTool\"},{\"attributes\":{},\"id\":\"1769\",\"type\":\"BasicTicker\"}],\"root_ids\":[\"1751\"]},\"title\":\"Bokeh Application\",\"version\":\"2.4.1\"}};\n",
       "    var render_items = [{\"docid\":\"6017a067-9b4b-4e0d-9760-c97be9459a87\",\"root_ids\":[\"1751\"],\"roots\":{\"1751\":\"019750f9-4ffc-42be-b7f1-dbe9680f85de\"}}];\n",
       "    root.Bokeh.embed.embed_items_notebook(docs_json, render_items);\n",
       "  }\n",
       "  if (root.Bokeh !== undefined && root.Bokeh.Panel !== undefined) {\n",
       "    embed_document(root);\n",
       "  } else {\n",
       "    var attempts = 0;\n",
       "    var timer = setInterval(function(root) {\n",
       "      if (root.Bokeh !== undefined && root.Bokeh.Panel !== undefined) {\n",
       "        clearInterval(timer);\n",
       "        embed_document(root);\n",
       "      } else if (document.readyState == \"complete\") {\n",
       "        attempts++;\n",
       "        if (attempts > 200) {\n",
       "          clearInterval(timer);\n",
       "          console.log(\"Bokeh: ERROR: Unable to run BokehJS code because BokehJS library is missing\");\n",
       "        }\n",
       "      }\n",
       "    }, 25, root)\n",
       "  }\n",
       "})(window);</script>"
      ],
      "text/plain": [
       ":Bars   [index]   (0)"
      ]
     },
     "execution_count": 201,
     "metadata": {
      "application/vnd.holoviews_exec.v0+json": {
       "id": "1751"
      }
     },
     "output_type": "execute_result"
    }
   ],
   "source": [
    "amazon_vs_plot"
   ]
  },
  {
   "cell_type": "markdown",
   "id": "5968343a",
   "metadata": {},
   "source": [
    "Monte Carlo Simulation"
   ]
  },
  {
   "cell_type": "code",
   "execution_count": 202,
   "id": "30689223",
   "metadata": {},
   "outputs": [
    {
     "data": {
      "text/plain": [
       "True"
      ]
     },
     "execution_count": 202,
     "metadata": {},
     "output_type": "execute_result"
    }
   ],
   "source": [
    "# Load the environment variables from the .env file\n",
    "#by calling the load_dotenv function\n",
    "load_dotenv(\"/Users/johannmaiga/Downloads/MyFiles/FinTech Class/.api_keys\")"
   ]
  },
  {
   "cell_type": "code",
   "execution_count": 203,
   "id": "d1cf269e",
   "metadata": {},
   "outputs": [],
   "source": [
    "# Set the variables for the Alpaca API and secret keys\n",
    "alpaca_api_key = os.getenv(\"ALPACA_API_KEY\")\n",
    "alpaca_secret_key = os.getenv(\"ALPACA_SECRET_KEY\")\n",
    "\n",
    "# Create the Alpaca tradeapi.REST object\n",
    "alpaca = tradeapi.REST(\n",
    "    alpaca_api_key,\n",
    "    alpaca_secret_key,\n",
    "    api_version=\"v2\")"
   ]
  },
  {
   "cell_type": "code",
   "execution_count": 204,
   "id": "ccc49bdd",
   "metadata": {},
   "outputs": [],
   "source": [
    "# Set the tickers for both the bond and stock portion of the portfolio\n",
    "tickers = [\"SPY\"]\n",
    "\n",
    "# Set timeframe to 1D \n",
    "timeframe = \"1D\"\n",
    "\n",
    "# Format current date as ISO format\n",
    "start = pd.Timestamp(\"2018-11-05\", tz=\"America/New_York\").isoformat()\n",
    "end = pd.Timestamp(\"2020-11-04\", tz=\"America/New_York\").isoformat()\n",
    "\n",
    "# Set number of rows to 1000 to retrieve the maximum amount of rows\n",
    "limit_rows = 1000"
   ]
  },
  {
   "cell_type": "code",
   "execution_count": 205,
   "id": "bb411a11",
   "metadata": {},
   "outputs": [
    {
     "data": {
      "text/html": [
       "<div>\n",
       "<style scoped>\n",
       "    .dataframe tbody tr th:only-of-type {\n",
       "        vertical-align: middle;\n",
       "    }\n",
       "\n",
       "    .dataframe tbody tr th {\n",
       "        vertical-align: top;\n",
       "    }\n",
       "\n",
       "    .dataframe thead tr th {\n",
       "        text-align: left;\n",
       "    }\n",
       "</style>\n",
       "<table border=\"1\" class=\"dataframe\">\n",
       "  <thead>\n",
       "    <tr>\n",
       "      <th></th>\n",
       "      <th colspan=\"5\" halign=\"left\">SPY</th>\n",
       "    </tr>\n",
       "    <tr>\n",
       "      <th></th>\n",
       "      <th>open</th>\n",
       "      <th>high</th>\n",
       "      <th>low</th>\n",
       "      <th>close</th>\n",
       "      <th>volume</th>\n",
       "    </tr>\n",
       "  </thead>\n",
       "  <tbody>\n",
       "    <tr>\n",
       "      <th>2018-11-05</th>\n",
       "      <td>272.44</td>\n",
       "      <td>274.01</td>\n",
       "      <td>271.3500</td>\n",
       "      <td>273.38</td>\n",
       "      <td>55157537</td>\n",
       "    </tr>\n",
       "    <tr>\n",
       "      <th>2018-11-06</th>\n",
       "      <td>273.32</td>\n",
       "      <td>275.30</td>\n",
       "      <td>273.2500</td>\n",
       "      <td>275.12</td>\n",
       "      <td>49731823</td>\n",
       "    </tr>\n",
       "    <tr>\n",
       "      <th>2018-11-07</th>\n",
       "      <td>277.56</td>\n",
       "      <td>281.10</td>\n",
       "      <td>275.1398</td>\n",
       "      <td>280.91</td>\n",
       "      <td>84960994</td>\n",
       "    </tr>\n",
       "    <tr>\n",
       "      <th>2018-11-08</th>\n",
       "      <td>280.14</td>\n",
       "      <td>281.22</td>\n",
       "      <td>279.2200</td>\n",
       "      <td>280.44</td>\n",
       "      <td>49392193</td>\n",
       "    </tr>\n",
       "    <tr>\n",
       "      <th>2018-11-09</th>\n",
       "      <td>279.03</td>\n",
       "      <td>279.24</td>\n",
       "      <td>276.1800</td>\n",
       "      <td>277.83</td>\n",
       "      <td>70577729</td>\n",
       "    </tr>\n",
       "  </tbody>\n",
       "</table>\n",
       "</div>"
      ],
      "text/plain": [
       "               SPY                                    \n",
       "              open    high       low   close    volume\n",
       "2018-11-05  272.44  274.01  271.3500  273.38  55157537\n",
       "2018-11-06  273.32  275.30  273.2500  275.12  49731823\n",
       "2018-11-07  277.56  281.10  275.1398  280.91  84960994\n",
       "2018-11-08  280.14  281.22  279.2200  280.44  49392193\n",
       "2018-11-09  279.03  279.24  276.1800  277.83  70577729"
      ]
     },
     "execution_count": 205,
     "metadata": {},
     "output_type": "execute_result"
    }
   ],
   "source": [
    "ecom_stocks = alpaca.get_barset(\n",
    "    tickers,\n",
    "    timeframe,\n",
    "    start = start,\n",
    "    end = end,\n",
    "    limit = limit_rows\n",
    ").df\n",
    "\n",
    "\n",
    "# Display both the first and last five rows of the DataFrame\n",
    "ecom_stocks.index = ecom_stocks.index.date\n",
    "ecom_stocks.head()"
   ]
  },
  {
   "cell_type": "code",
   "execution_count": 206,
   "id": "c7ad6cf4",
   "metadata": {},
   "outputs": [
    {
     "data": {
      "text/html": [
       "<div>\n",
       "<style scoped>\n",
       "    .dataframe tbody tr th:only-of-type {\n",
       "        vertical-align: middle;\n",
       "    }\n",
       "\n",
       "    .dataframe tbody tr th {\n",
       "        vertical-align: top;\n",
       "    }\n",
       "\n",
       "    .dataframe thead tr th {\n",
       "        text-align: left;\n",
       "    }\n",
       "</style>\n",
       "<table border=\"1\" class=\"dataframe\">\n",
       "  <thead>\n",
       "    <tr>\n",
       "      <th></th>\n",
       "      <th colspan=\"6\" halign=\"left\">SPY</th>\n",
       "    </tr>\n",
       "    <tr>\n",
       "      <th></th>\n",
       "      <th>open</th>\n",
       "      <th>high</th>\n",
       "      <th>low</th>\n",
       "      <th>close</th>\n",
       "      <th>volume</th>\n",
       "      <th>daily_return</th>\n",
       "    </tr>\n",
       "  </thead>\n",
       "  <tbody>\n",
       "    <tr>\n",
       "      <th>2018-11-06</th>\n",
       "      <td>273.32</td>\n",
       "      <td>275.300</td>\n",
       "      <td>273.2500</td>\n",
       "      <td>275.120</td>\n",
       "      <td>49731823</td>\n",
       "      <td>0.006365</td>\n",
       "    </tr>\n",
       "    <tr>\n",
       "      <th>2018-11-07</th>\n",
       "      <td>277.56</td>\n",
       "      <td>281.100</td>\n",
       "      <td>275.1398</td>\n",
       "      <td>280.910</td>\n",
       "      <td>84960994</td>\n",
       "      <td>0.021045</td>\n",
       "    </tr>\n",
       "    <tr>\n",
       "      <th>2018-11-08</th>\n",
       "      <td>280.14</td>\n",
       "      <td>281.220</td>\n",
       "      <td>279.2200</td>\n",
       "      <td>280.440</td>\n",
       "      <td>49392193</td>\n",
       "      <td>-0.001673</td>\n",
       "    </tr>\n",
       "    <tr>\n",
       "      <th>2018-11-09</th>\n",
       "      <td>279.03</td>\n",
       "      <td>279.240</td>\n",
       "      <td>276.1800</td>\n",
       "      <td>277.830</td>\n",
       "      <td>70577729</td>\n",
       "      <td>-0.009307</td>\n",
       "    </tr>\n",
       "    <tr>\n",
       "      <th>2018-11-12</th>\n",
       "      <td>277.15</td>\n",
       "      <td>277.460</td>\n",
       "      <td>271.9900</td>\n",
       "      <td>272.490</td>\n",
       "      <td>78678065</td>\n",
       "      <td>-0.019220</td>\n",
       "    </tr>\n",
       "    <tr>\n",
       "      <th>...</th>\n",
       "      <td>...</td>\n",
       "      <td>...</td>\n",
       "      <td>...</td>\n",
       "      <td>...</td>\n",
       "      <td>...</td>\n",
       "      <td>...</td>\n",
       "    </tr>\n",
       "    <tr>\n",
       "      <th>2020-10-29</th>\n",
       "      <td>326.91</td>\n",
       "      <td>333.395</td>\n",
       "      <td>325.0900</td>\n",
       "      <td>329.990</td>\n",
       "      <td>74362731</td>\n",
       "      <td>0.010163</td>\n",
       "    </tr>\n",
       "    <tr>\n",
       "      <th>2020-10-30</th>\n",
       "      <td>328.28</td>\n",
       "      <td>329.690</td>\n",
       "      <td>322.6000</td>\n",
       "      <td>326.530</td>\n",
       "      <td>93413096</td>\n",
       "      <td>-0.010485</td>\n",
       "    </tr>\n",
       "    <tr>\n",
       "      <th>2020-11-02</th>\n",
       "      <td>330.20</td>\n",
       "      <td>332.360</td>\n",
       "      <td>327.2400</td>\n",
       "      <td>330.210</td>\n",
       "      <td>69167640</td>\n",
       "      <td>0.011270</td>\n",
       "    </tr>\n",
       "    <tr>\n",
       "      <th>2020-11-03</th>\n",
       "      <td>333.69</td>\n",
       "      <td>338.250</td>\n",
       "      <td>330.2935</td>\n",
       "      <td>335.970</td>\n",
       "      <td>74330624</td>\n",
       "      <td>0.017443</td>\n",
       "    </tr>\n",
       "    <tr>\n",
       "      <th>2020-11-04</th>\n",
       "      <td>340.86</td>\n",
       "      <td>347.940</td>\n",
       "      <td>339.5900</td>\n",
       "      <td>343.495</td>\n",
       "      <td>101560371</td>\n",
       "      <td>0.022398</td>\n",
       "    </tr>\n",
       "  </tbody>\n",
       "</table>\n",
       "<p>503 rows × 6 columns</p>\n",
       "</div>"
      ],
      "text/plain": [
       "               SPY                                                    \n",
       "              open     high       low    close     volume daily_return\n",
       "2018-11-06  273.32  275.300  273.2500  275.120   49731823     0.006365\n",
       "2018-11-07  277.56  281.100  275.1398  280.910   84960994     0.021045\n",
       "2018-11-08  280.14  281.220  279.2200  280.440   49392193    -0.001673\n",
       "2018-11-09  279.03  279.240  276.1800  277.830   70577729    -0.009307\n",
       "2018-11-12  277.15  277.460  271.9900  272.490   78678065    -0.019220\n",
       "...            ...      ...       ...      ...        ...          ...\n",
       "2020-10-29  326.91  333.395  325.0900  329.990   74362731     0.010163\n",
       "2020-10-30  328.28  329.690  322.6000  326.530   93413096    -0.010485\n",
       "2020-11-02  330.20  332.360  327.2400  330.210   69167640     0.011270\n",
       "2020-11-03  333.69  338.250  330.2935  335.970   74330624     0.017443\n",
       "2020-11-04  340.86  347.940  339.5900  343.495  101560371     0.022398\n",
       "\n",
       "[503 rows x 6 columns]"
      ]
     },
     "execution_count": 206,
     "metadata": {},
     "output_type": "execute_result"
    }
   ],
   "source": [
    "one_year_simulation = MCSimulation(\n",
    "    portfolio_data=ecom_stocks,\n",
    "    num_simulation=500,\n",
    "    num_trading_days=252,\n",
    ")\n",
    "\n",
    "# Review the simulation input data\n",
    "one_year_simulation.portfolio_data.dropna()"
   ]
  },
  {
   "cell_type": "code",
   "execution_count": 207,
   "id": "d637ab53",
   "metadata": {},
   "outputs": [
    {
     "name": "stdout",
     "output_type": "stream",
     "text": [
      "Running Monte Carlo simulation number 0.\n",
      "Running Monte Carlo simulation number 10.\n",
      "Running Monte Carlo simulation number 20.\n",
      "Running Monte Carlo simulation number 30.\n",
      "Running Monte Carlo simulation number 40.\n",
      "Running Monte Carlo simulation number 50.\n",
      "Running Monte Carlo simulation number 60.\n",
      "Running Monte Carlo simulation number 70.\n",
      "Running Monte Carlo simulation number 80.\n",
      "Running Monte Carlo simulation number 90.\n",
      "Running Monte Carlo simulation number 100.\n"
     ]
    },
    {
     "name": "stderr",
     "output_type": "stream",
     "text": [
      "/Users/johannmaiga/Downloads/MyFiles/FinTech Class/Repos/modern_ecommerce_analysis/utils/MCForecastTools.py:127: PerformanceWarning: DataFrame is highly fragmented.  This is usually the result of calling `frame.insert` many times, which has poor performance.  Consider joining all columns at once using pd.concat(axis=1) instead.  To get a de-fragmented frame, use `newframe = frame.copy()`\n",
      "  portfolio_cumulative_returns[n] = (1 + sim_df.fillna(0)).cumprod()\n"
     ]
    },
    {
     "name": "stdout",
     "output_type": "stream",
     "text": [
      "Running Monte Carlo simulation number 110.\n",
      "Running Monte Carlo simulation number 120.\n",
      "Running Monte Carlo simulation number 130.\n",
      "Running Monte Carlo simulation number 140.\n",
      "Running Monte Carlo simulation number 150.\n",
      "Running Monte Carlo simulation number 160.\n",
      "Running Monte Carlo simulation number 170.\n",
      "Running Monte Carlo simulation number 180.\n",
      "Running Monte Carlo simulation number 190.\n",
      "Running Monte Carlo simulation number 200.\n",
      "Running Monte Carlo simulation number 210.\n",
      "Running Monte Carlo simulation number 220.\n",
      "Running Monte Carlo simulation number 230.\n",
      "Running Monte Carlo simulation number 240.\n",
      "Running Monte Carlo simulation number 250.\n",
      "Running Monte Carlo simulation number 260.\n",
      "Running Monte Carlo simulation number 270.\n",
      "Running Monte Carlo simulation number 280.\n",
      "Running Monte Carlo simulation number 290.\n",
      "Running Monte Carlo simulation number 300.\n",
      "Running Monte Carlo simulation number 310.\n",
      "Running Monte Carlo simulation number 320.\n",
      "Running Monte Carlo simulation number 330.\n",
      "Running Monte Carlo simulation number 340.\n",
      "Running Monte Carlo simulation number 350.\n",
      "Running Monte Carlo simulation number 360.\n",
      "Running Monte Carlo simulation number 370.\n",
      "Running Monte Carlo simulation number 380.\n",
      "Running Monte Carlo simulation number 390.\n",
      "Running Monte Carlo simulation number 400.\n",
      "Running Monte Carlo simulation number 410.\n",
      "Running Monte Carlo simulation number 420.\n",
      "Running Monte Carlo simulation number 430.\n",
      "Running Monte Carlo simulation number 440.\n",
      "Running Monte Carlo simulation number 450.\n",
      "Running Monte Carlo simulation number 460.\n",
      "Running Monte Carlo simulation number 470.\n",
      "Running Monte Carlo simulation number 480.\n",
      "Running Monte Carlo simulation number 490.\n"
     ]
    },
    {
     "data": {
      "text/html": [
       "<div>\n",
       "<style scoped>\n",
       "    .dataframe tbody tr th:only-of-type {\n",
       "        vertical-align: middle;\n",
       "    }\n",
       "\n",
       "    .dataframe tbody tr th {\n",
       "        vertical-align: top;\n",
       "    }\n",
       "\n",
       "    .dataframe thead th {\n",
       "        text-align: right;\n",
       "    }\n",
       "</style>\n",
       "<table border=\"1\" class=\"dataframe\">\n",
       "  <thead>\n",
       "    <tr style=\"text-align: right;\">\n",
       "      <th></th>\n",
       "      <th>0</th>\n",
       "      <th>1</th>\n",
       "      <th>2</th>\n",
       "      <th>3</th>\n",
       "      <th>4</th>\n",
       "      <th>5</th>\n",
       "      <th>6</th>\n",
       "      <th>7</th>\n",
       "      <th>8</th>\n",
       "      <th>9</th>\n",
       "      <th>...</th>\n",
       "      <th>490</th>\n",
       "      <th>491</th>\n",
       "      <th>492</th>\n",
       "      <th>493</th>\n",
       "      <th>494</th>\n",
       "      <th>495</th>\n",
       "      <th>496</th>\n",
       "      <th>497</th>\n",
       "      <th>498</th>\n",
       "      <th>499</th>\n",
       "    </tr>\n",
       "  </thead>\n",
       "  <tbody>\n",
       "    <tr>\n",
       "      <th>0</th>\n",
       "      <td>1.000000</td>\n",
       "      <td>1.000000</td>\n",
       "      <td>1.000000</td>\n",
       "      <td>1.000000</td>\n",
       "      <td>1.000000</td>\n",
       "      <td>1.000000</td>\n",
       "      <td>1.000000</td>\n",
       "      <td>1.000000</td>\n",
       "      <td>1.000000</td>\n",
       "      <td>1.000000</td>\n",
       "      <td>...</td>\n",
       "      <td>1.000000</td>\n",
       "      <td>1.000000</td>\n",
       "      <td>1.000000</td>\n",
       "      <td>1.000000</td>\n",
       "      <td>1.000000</td>\n",
       "      <td>1.000000</td>\n",
       "      <td>1.000000</td>\n",
       "      <td>1.000000</td>\n",
       "      <td>1.000000</td>\n",
       "      <td>1.000000</td>\n",
       "    </tr>\n",
       "    <tr>\n",
       "      <th>1</th>\n",
       "      <td>1.011863</td>\n",
       "      <td>1.020654</td>\n",
       "      <td>1.021335</td>\n",
       "      <td>0.999235</td>\n",
       "      <td>1.009797</td>\n",
       "      <td>1.005521</td>\n",
       "      <td>1.008749</td>\n",
       "      <td>0.996218</td>\n",
       "      <td>1.003212</td>\n",
       "      <td>0.998285</td>\n",
       "      <td>...</td>\n",
       "      <td>1.018344</td>\n",
       "      <td>1.010589</td>\n",
       "      <td>1.005299</td>\n",
       "      <td>1.020611</td>\n",
       "      <td>0.965572</td>\n",
       "      <td>1.000472</td>\n",
       "      <td>1.006549</td>\n",
       "      <td>1.015534</td>\n",
       "      <td>0.983928</td>\n",
       "      <td>0.994063</td>\n",
       "    </tr>\n",
       "    <tr>\n",
       "      <th>2</th>\n",
       "      <td>1.008951</td>\n",
       "      <td>1.036771</td>\n",
       "      <td>1.044037</td>\n",
       "      <td>0.990540</td>\n",
       "      <td>0.998252</td>\n",
       "      <td>1.026542</td>\n",
       "      <td>1.009014</td>\n",
       "      <td>0.989311</td>\n",
       "      <td>0.985743</td>\n",
       "      <td>1.000579</td>\n",
       "      <td>...</td>\n",
       "      <td>1.035722</td>\n",
       "      <td>1.036675</td>\n",
       "      <td>1.029950</td>\n",
       "      <td>1.031589</td>\n",
       "      <td>0.949484</td>\n",
       "      <td>0.998557</td>\n",
       "      <td>0.999187</td>\n",
       "      <td>0.996255</td>\n",
       "      <td>0.998700</td>\n",
       "      <td>1.029272</td>\n",
       "    </tr>\n",
       "    <tr>\n",
       "      <th>3</th>\n",
       "      <td>1.002084</td>\n",
       "      <td>1.021952</td>\n",
       "      <td>1.055622</td>\n",
       "      <td>1.024423</td>\n",
       "      <td>0.986648</td>\n",
       "      <td>1.049758</td>\n",
       "      <td>1.028091</td>\n",
       "      <td>0.976861</td>\n",
       "      <td>1.007420</td>\n",
       "      <td>1.013030</td>\n",
       "      <td>...</td>\n",
       "      <td>1.042304</td>\n",
       "      <td>1.053267</td>\n",
       "      <td>1.026069</td>\n",
       "      <td>1.015855</td>\n",
       "      <td>0.951138</td>\n",
       "      <td>1.009209</td>\n",
       "      <td>0.991821</td>\n",
       "      <td>1.009592</td>\n",
       "      <td>0.992023</td>\n",
       "      <td>1.026335</td>\n",
       "    </tr>\n",
       "    <tr>\n",
       "      <th>4</th>\n",
       "      <td>1.020844</td>\n",
       "      <td>1.024333</td>\n",
       "      <td>1.064368</td>\n",
       "      <td>1.032724</td>\n",
       "      <td>0.993956</td>\n",
       "      <td>1.071008</td>\n",
       "      <td>1.032984</td>\n",
       "      <td>0.953164</td>\n",
       "      <td>0.990311</td>\n",
       "      <td>1.014483</td>\n",
       "      <td>...</td>\n",
       "      <td>1.027069</td>\n",
       "      <td>1.046940</td>\n",
       "      <td>0.989557</td>\n",
       "      <td>0.981326</td>\n",
       "      <td>0.978218</td>\n",
       "      <td>1.033742</td>\n",
       "      <td>1.001906</td>\n",
       "      <td>1.018142</td>\n",
       "      <td>0.964191</td>\n",
       "      <td>1.027791</td>\n",
       "    </tr>\n",
       "    <tr>\n",
       "      <th>...</th>\n",
       "      <td>...</td>\n",
       "      <td>...</td>\n",
       "      <td>...</td>\n",
       "      <td>...</td>\n",
       "      <td>...</td>\n",
       "      <td>...</td>\n",
       "      <td>...</td>\n",
       "      <td>...</td>\n",
       "      <td>...</td>\n",
       "      <td>...</td>\n",
       "      <td>...</td>\n",
       "      <td>...</td>\n",
       "      <td>...</td>\n",
       "      <td>...</td>\n",
       "      <td>...</td>\n",
       "      <td>...</td>\n",
       "      <td>...</td>\n",
       "      <td>...</td>\n",
       "      <td>...</td>\n",
       "      <td>...</td>\n",
       "      <td>...</td>\n",
       "    </tr>\n",
       "    <tr>\n",
       "      <th>248</th>\n",
       "      <td>0.618106</td>\n",
       "      <td>1.216266</td>\n",
       "      <td>1.590527</td>\n",
       "      <td>0.818981</td>\n",
       "      <td>1.229778</td>\n",
       "      <td>1.588114</td>\n",
       "      <td>1.086247</td>\n",
       "      <td>1.385700</td>\n",
       "      <td>1.130960</td>\n",
       "      <td>2.016855</td>\n",
       "      <td>...</td>\n",
       "      <td>1.328387</td>\n",
       "      <td>1.103755</td>\n",
       "      <td>1.534656</td>\n",
       "      <td>1.296901</td>\n",
       "      <td>1.424913</td>\n",
       "      <td>1.265626</td>\n",
       "      <td>0.813100</td>\n",
       "      <td>1.233882</td>\n",
       "      <td>0.848727</td>\n",
       "      <td>1.211962</td>\n",
       "    </tr>\n",
       "    <tr>\n",
       "      <th>249</th>\n",
       "      <td>0.628148</td>\n",
       "      <td>1.240355</td>\n",
       "      <td>1.583424</td>\n",
       "      <td>0.825385</td>\n",
       "      <td>1.287894</td>\n",
       "      <td>1.610136</td>\n",
       "      <td>1.055425</td>\n",
       "      <td>1.423316</td>\n",
       "      <td>1.129816</td>\n",
       "      <td>2.021292</td>\n",
       "      <td>...</td>\n",
       "      <td>1.323574</td>\n",
       "      <td>1.105645</td>\n",
       "      <td>1.538671</td>\n",
       "      <td>1.279558</td>\n",
       "      <td>1.455920</td>\n",
       "      <td>1.264857</td>\n",
       "      <td>0.821518</td>\n",
       "      <td>1.224924</td>\n",
       "      <td>0.874784</td>\n",
       "      <td>1.208762</td>\n",
       "    </tr>\n",
       "    <tr>\n",
       "      <th>250</th>\n",
       "      <td>0.636012</td>\n",
       "      <td>1.258264</td>\n",
       "      <td>1.573982</td>\n",
       "      <td>0.807491</td>\n",
       "      <td>1.282680</td>\n",
       "      <td>1.620484</td>\n",
       "      <td>1.070098</td>\n",
       "      <td>1.458924</td>\n",
       "      <td>1.139955</td>\n",
       "      <td>1.971554</td>\n",
       "      <td>...</td>\n",
       "      <td>1.301951</td>\n",
       "      <td>1.101863</td>\n",
       "      <td>1.508807</td>\n",
       "      <td>1.276855</td>\n",
       "      <td>1.496663</td>\n",
       "      <td>1.284112</td>\n",
       "      <td>0.821700</td>\n",
       "      <td>1.193210</td>\n",
       "      <td>0.863186</td>\n",
       "      <td>1.180755</td>\n",
       "    </tr>\n",
       "    <tr>\n",
       "      <th>251</th>\n",
       "      <td>0.623910</td>\n",
       "      <td>1.260483</td>\n",
       "      <td>1.548708</td>\n",
       "      <td>0.818587</td>\n",
       "      <td>1.268774</td>\n",
       "      <td>1.622788</td>\n",
       "      <td>1.081383</td>\n",
       "      <td>1.504360</td>\n",
       "      <td>1.134237</td>\n",
       "      <td>1.949394</td>\n",
       "      <td>...</td>\n",
       "      <td>1.307183</td>\n",
       "      <td>1.073379</td>\n",
       "      <td>1.536262</td>\n",
       "      <td>1.260571</td>\n",
       "      <td>1.493664</td>\n",
       "      <td>1.262034</td>\n",
       "      <td>0.829114</td>\n",
       "      <td>1.191523</td>\n",
       "      <td>0.857618</td>\n",
       "      <td>1.184172</td>\n",
       "    </tr>\n",
       "    <tr>\n",
       "      <th>252</th>\n",
       "      <td>0.625262</td>\n",
       "      <td>1.258986</td>\n",
       "      <td>1.589407</td>\n",
       "      <td>0.845976</td>\n",
       "      <td>1.270934</td>\n",
       "      <td>1.622800</td>\n",
       "      <td>1.059219</td>\n",
       "      <td>1.502568</td>\n",
       "      <td>1.142840</td>\n",
       "      <td>1.963245</td>\n",
       "      <td>...</td>\n",
       "      <td>1.298980</td>\n",
       "      <td>1.061710</td>\n",
       "      <td>1.593684</td>\n",
       "      <td>1.239062</td>\n",
       "      <td>1.465381</td>\n",
       "      <td>1.253527</td>\n",
       "      <td>0.842651</td>\n",
       "      <td>1.212780</td>\n",
       "      <td>0.840861</td>\n",
       "      <td>1.162406</td>\n",
       "    </tr>\n",
       "  </tbody>\n",
       "</table>\n",
       "<p>253 rows × 500 columns</p>\n",
       "</div>"
      ],
      "text/plain": [
       "          0         1         2         3         4         5         6    \\\n",
       "0    1.000000  1.000000  1.000000  1.000000  1.000000  1.000000  1.000000   \n",
       "1    1.011863  1.020654  1.021335  0.999235  1.009797  1.005521  1.008749   \n",
       "2    1.008951  1.036771  1.044037  0.990540  0.998252  1.026542  1.009014   \n",
       "3    1.002084  1.021952  1.055622  1.024423  0.986648  1.049758  1.028091   \n",
       "4    1.020844  1.024333  1.064368  1.032724  0.993956  1.071008  1.032984   \n",
       "..        ...       ...       ...       ...       ...       ...       ...   \n",
       "248  0.618106  1.216266  1.590527  0.818981  1.229778  1.588114  1.086247   \n",
       "249  0.628148  1.240355  1.583424  0.825385  1.287894  1.610136  1.055425   \n",
       "250  0.636012  1.258264  1.573982  0.807491  1.282680  1.620484  1.070098   \n",
       "251  0.623910  1.260483  1.548708  0.818587  1.268774  1.622788  1.081383   \n",
       "252  0.625262  1.258986  1.589407  0.845976  1.270934  1.622800  1.059219   \n",
       "\n",
       "          7         8         9    ...       490       491       492  \\\n",
       "0    1.000000  1.000000  1.000000  ...  1.000000  1.000000  1.000000   \n",
       "1    0.996218  1.003212  0.998285  ...  1.018344  1.010589  1.005299   \n",
       "2    0.989311  0.985743  1.000579  ...  1.035722  1.036675  1.029950   \n",
       "3    0.976861  1.007420  1.013030  ...  1.042304  1.053267  1.026069   \n",
       "4    0.953164  0.990311  1.014483  ...  1.027069  1.046940  0.989557   \n",
       "..        ...       ...       ...  ...       ...       ...       ...   \n",
       "248  1.385700  1.130960  2.016855  ...  1.328387  1.103755  1.534656   \n",
       "249  1.423316  1.129816  2.021292  ...  1.323574  1.105645  1.538671   \n",
       "250  1.458924  1.139955  1.971554  ...  1.301951  1.101863  1.508807   \n",
       "251  1.504360  1.134237  1.949394  ...  1.307183  1.073379  1.536262   \n",
       "252  1.502568  1.142840  1.963245  ...  1.298980  1.061710  1.593684   \n",
       "\n",
       "          493       494       495       496       497       498       499  \n",
       "0    1.000000  1.000000  1.000000  1.000000  1.000000  1.000000  1.000000  \n",
       "1    1.020611  0.965572  1.000472  1.006549  1.015534  0.983928  0.994063  \n",
       "2    1.031589  0.949484  0.998557  0.999187  0.996255  0.998700  1.029272  \n",
       "3    1.015855  0.951138  1.009209  0.991821  1.009592  0.992023  1.026335  \n",
       "4    0.981326  0.978218  1.033742  1.001906  1.018142  0.964191  1.027791  \n",
       "..        ...       ...       ...       ...       ...       ...       ...  \n",
       "248  1.296901  1.424913  1.265626  0.813100  1.233882  0.848727  1.211962  \n",
       "249  1.279558  1.455920  1.264857  0.821518  1.224924  0.874784  1.208762  \n",
       "250  1.276855  1.496663  1.284112  0.821700  1.193210  0.863186  1.180755  \n",
       "251  1.260571  1.493664  1.262034  0.829114  1.191523  0.857618  1.184172  \n",
       "252  1.239062  1.465381  1.253527  0.842651  1.212780  0.840861  1.162406  \n",
       "\n",
       "[253 rows x 500 columns]"
      ]
     },
     "execution_count": 207,
     "metadata": {},
     "output_type": "execute_result"
    }
   ],
   "source": [
    "# Run the Monte Carlo simulation to forecast 1 year cumulative returns\n",
    "one_year_simulation.calc_cumulative_return()"
   ]
  },
  {
   "cell_type": "code",
   "execution_count": 208,
   "id": "2365065b",
   "metadata": {},
   "outputs": [
    {
     "data": {
      "text/plain": [
       "<AxesSubplot:title={'center':'500 Simulations of Cumulative Portfolio Return Trajectories Over the Next 252 Trading Days.'}>"
      ]
     },
     "execution_count": 208,
     "metadata": {},
     "output_type": "execute_result"
    },
    {
     "data": {
      "image/png": "[encoded data removed]",
      "text/plain": [
       "<Figure size 432x288 with 1 Axes>"
      ]
     },
     "metadata": {
      "needs_background": "light"
     },
     "output_type": "display_data"
    }
   ],
   "source": [
    "# Plot simulation outcomes\n",
    "one_year_simulation.plot_simulation()"
   ]
  },
  {
   "cell_type": "markdown",
   "id": "9d9e7718",
   "metadata": {},
   "source": []
  },
  {
   "cell_type": "code",
   "execution_count": 209,
   "id": "1d3ce8f3-84d0-40e7-9224-6cb7f4136f48",
   "metadata": {},
   "outputs": [],
   "source": [
    "# Gathering historical data for our list of 5-10 Eommerce stocks from 2018-2021 and putting in into a dataframe\n",
    "\n",
    "# selected_stocks = yf.download(\"AMZN\", group_by='tickers', start=\"2018-11-05\", end=\"2021-11-04\")\n",
    "# selected_stocks.head()"
   ]
  },
  {
   "cell_type": "code",
   "execution_count": 210,
   "id": "a4c45a24",
   "metadata": {},
   "outputs": [],
   "source": [
    "# ecom_stocks.reset_index()\n",
    "# selected_stocks.index = selected_stocks.index.date"
   ]
  },
  {
   "cell_type": "code",
   "execution_count": 211,
   "id": "e4c8e7fc",
   "metadata": {},
   "outputs": [],
   "source": [
    "# cols = [4, 10, 16, 22, 28]\n",
    "\n",
    "# cols = [4]\n",
    "# ecom_stocks = selected_stocks.drop(selected_stocks.columns[cols], axis=1)\n",
    "# ecom_stocks"
   ]
  },
  {
   "cell_type": "code",
   "execution_count": 212,
   "id": "7c8dbf80",
   "metadata": {},
   "outputs": [],
   "source": [
    "# Formatting the column names into lower case\n",
    "# ecom_stocks.rename(str.lower, axis='columns')"
   ]
  },
  {
   "cell_type": "code",
   "execution_count": 213,
   "id": "5bb4d198",
   "metadata": {},
   "outputs": [],
   "source": [
    "# ecom_stocks.reset_index(level=1)\n"
   ]
  },
  {
   "cell_type": "code",
   "execution_count": 214,
   "id": "6b2480cf-d609-4fca-beb3-e38ec5b69014",
   "metadata": {},
   "outputs": [],
   "source": [
    "# one_year_simulation = MCSimulation(\n",
    "#     portfolio_data=ecom_stocks,\n",
    "#     weights=[0.25, 0.75],\n",
    "#     num_simulation=500,\n",
    "#     num_trading_days=252,\n",
    "# )\n",
    "\n",
    "# # Review the simulation input data\n",
    "# ecom_stocks.portfolio_data.dropna()\n",
    "# # ecom_stocks.calc_cumulative_return()"
   ]
  }
 ],
 "metadata": {
  "interpreter": {
   "hash": "7869c662c8a6f446188a32e32fc890b6a582dec6cee26594b9b99aec6f2cb252"
  },
  "kernelspec": {
   "display_name": "Python 3",
   "language": "python",
   "name": "python3"
  },
  "language_info": {
   "codemirror_mode": {
    "name": "ipython",
    "version": 3
   },
   "file_extension": ".py",
   "mimetype": "text/x-python",
   "name": "python",
   "nbconvert_exporter": "python",
   "pygments_lexer": "ipython3",
   "version": "3.9.7"
  }
 },
 "nbformat": 4,
 "nbformat_minor": 5
}
