{
 "cells": [
  {
   "cell_type": "code",
   "execution_count": 104,
   "id": "7712e092-1a7b-477a-89cb-d24b5540b355",
   "metadata": {},
   "outputs": [],
   "source": [
    "import requests\n",
    "import yfinance as yf\n",
    "import numpy as np\n",
    "import pandas as pd\n",
    " #used to grab the stock prices, with yahoo\n",
    "from datetime import datetime"
   ]
  },
  {
   "cell_type": "code",
   "execution_count": 84,
   "id": "eaea87af-44cb-446d-a658-8ad5a0b351a6",
   "metadata": {},
   "outputs": [
    {
     "name": "stdout",
     "output_type": "stream",
     "text": [
      "yfinance.Ticker object <WMT>\n"
     ]
    }
   ],
   "source": [
    "amazon = yf.Ticker(\"AMZN\")\n",
    "walmart = yf.Ticker(\"WMT\")\n",
    "ebay = yf.Ticker(\"EBAY\")\n",
    "target = yf.Ticker(\"TGT\")\n",
    "overstock = yf.Ticker(\"OSTK\")\n",
    "print(walmart)"
   ]
  },
  {
   "cell_type": "code",
   "execution_count": 85,
   "id": "42a3a755-fc4c-42e9-a42d-f50947b3715d",
   "metadata": {},
   "outputs": [
    {
     "name": "stdout",
     "output_type": "stream",
     "text": [
      "Current Amazon Price: 3370\n",
      "Current Amazon Investment Value: 207027.88417227773\n",
      "Current Walmart Price: 150.18\n",
      "Current Walmart Investment Value: 154000.6546001989\n",
      "Current Ebay Price: 75.66\n",
      "Current Ebay Investment Value: 265092.19329067983\n",
      "Current Target Price: 73.15\n",
      "Current Target Investment Value: 209059.71940213096\n",
      "Current Overstock Price: 103.76\n",
      "Current Overstock Investment Value: 524040.43050709245\n"
     ]
    }
   ],
   "source": [
    "total_investment = 500000\n",
    "\n",
    "#Amazon Data\n",
    "initial_amazon_price = 1627.800049\n",
    "initial_amazon_investment = 100000\n",
    "amount_of_amazon_stock = initial_amazon_investment/initial_amazon_price\n",
    "current_amazon_price = amazon.info['open']\n",
    "current_amazon_investment_value = current_amazon_price * amount_of_amazon_stock\n",
    "\n",
    "#Walmart Data\n",
    "initial_walmart_price = 97.519066\n",
    "initial_walmart_investment = 100000\n",
    "amount_of_walmart_stock = initial_walmart_investment/initial_walmart_price\n",
    "current_walmart_price = walmart.info['open']\n",
    "current_walmart_investment_value = current_walmart_price * amount_of_walmart_stock\n",
    "\n",
    "#Ebay Data\n",
    "initial_ebay_price = 28.541014\n",
    "initial_ebay_investment = 100000\n",
    "amount_of_ebay_stock = initial_ebay_investment/initial_ebay_price\n",
    "current_ebay_price = ebay.info['open']\n",
    "current_ebay_investment_value = current_ebay_price * amount_of_ebay_stock\n",
    "\n",
    "#Chewy Data\n",
    "initial_target_price = 79.590614\n",
    "initial_target_investment = 100000\n",
    "amount_of_target_stock = initial_target_investment/initial_target_price\n",
    "current_target_price = target.info['open']\n",
    "current_target_investment_value = current_target_price * amount_of_target_stock\n",
    "\n",
    "#Overstock Data\n",
    "initial_overstock_price = 19.799999\n",
    "initial_overstock_investment = 100000\n",
    "amount_of_overstock_stock = initial_overstock_investment/initial_overstock_price\n",
    "current_overstock_price = overstock.info['open']\n",
    "current_overstock_investment_value = current_overstock_price * amount_of_overstock_stock\n",
    "\n",
    "\n",
    "print(\"Current Amazon Price:\",current_amazon_price)\n",
    "print(\"Current Amazon Investment Value:\",current_amazon_investment_value)\n",
    "print(\"Current Walmart Price:\",current_walmart_price)\n",
    "print(\"Current Walmart Investment Value:\",current_walmart_investment_value)\n",
    "print(\"Current Ebay Price:\",current_ebay_price)\n",
    "print(\"Current Ebay Investment Value:\",current_ebay_investment_value)\n",
    "print(\"Current Target Price:\",current_chewy_price)\n",
    "print(\"Current Target Investment Value:\",current_chewy_investment_value)\n",
    "print(\"Current Overstock Price:\",current_overstock_price)\n",
    "print(\"Current Overstock Investment Value:\",current_overstock_investment_value)"
   ]
  },
  {
   "cell_type": "markdown",
   "id": "96e633ed-9db6-4223-9488-49f3945fb18b",
   "metadata": {},
   "source": [
    "# Amazon Expected Rate of Return Calculations"
   ]
  },
  {
   "cell_type": "code",
   "execution_count": 38,
   "id": "2688676c-7251-496e-ad8b-9003ae3ef9ab",
   "metadata": {},
   "outputs": [],
   "source": [
    "amazon_historical_year1_begin = amazon.history(start=\"2018-11-05\", end=\"2018-11-06\")\n",
    "amazon_historical_year1_end = amazon.history(start=\"2019-11-05\", end=\"2019-11-06\")\n",
    "initial_value_year1_amazon = amazon_historical_year1_begin['Close']['2018-11-05']\n",
    "current_value_year1_amazon= amazon_historical_year1_end['Close']['2019-11-05']"
   ]
  },
  {
   "cell_type": "code",
   "execution_count": 39,
   "id": "040f46b9-3a03-4015-8531-5b22c6a6e9d4",
   "metadata": {},
   "outputs": [
    {
     "data": {
      "text/plain": [
       "10.683739211985838"
      ]
     },
     "execution_count": 39,
     "metadata": {},
     "output_type": "execute_result"
    }
   ],
   "source": [
    "year1_ror_amazon = ((current_value_year1_amazon - initial_value_year1_amazon)/initial_value_year1_amazon)*100\n",
    "\n",
    "year1_ror_amazon"
   ]
  },
  {
   "cell_type": "code",
   "execution_count": 41,
   "id": "cfe1d346-3516-4458-a91b-9e9e254a3c9a",
   "metadata": {},
   "outputs": [],
   "source": [
    "amazon_historical_year2_begin = amazon.history(start=\"2019-11-05\", end=\"2019-11-06\")\n",
    "amazon_historical_year2_end = amazon.history(start=\"2020-11-05\", end=\"2020-11-06\")\n",
    "initial_value_year2_amazon = amazon_historical_year2_begin['Close']['2019-11-05']\n",
    "current_value_year2_amazon= amazon_historical_year2_end['Close']['2020-11-05']"
   ]
  },
  {
   "cell_type": "code",
   "execution_count": 42,
   "id": "9b55cf91-5644-4d09-97c4-7708a41dece1",
   "metadata": {},
   "outputs": [
    {
     "data": {
      "text/plain": [
       "84.38039817859662"
      ]
     },
     "execution_count": 42,
     "metadata": {},
     "output_type": "execute_result"
    }
   ],
   "source": [
    "year2_ror_amazon = ((current_value_year2_amazon - initial_value_year2_amazon)/initial_value_year2_amazon)*100\n",
    "\n",
    "year2_ror_amazon"
   ]
  },
  {
   "cell_type": "code",
   "execution_count": 44,
   "id": "4a9b14bb-4467-4922-8680-569495099658",
   "metadata": {},
   "outputs": [],
   "source": [
    "amazon_historical_year3_begin = amazon.history(start=\"2020-11-05\", end=\"2020-11-06\")\n",
    "amazon_historical_year3_end = amazon.history(start=\"2021-11-03\", end=\"2021-11-04\")\n",
    "initial_value_year3_amazon = amazon_historical_year3_begin['Close']['2020-11-05']\n",
    "current_value_year3_amazon= amazon_historical_year3_end['Close']['2021-11-03']"
   ]
  },
  {
   "cell_type": "code",
   "execution_count": 45,
   "id": "79dae985-f65c-44ca-af7c-41c581a16d03",
   "metadata": {},
   "outputs": [
    {
     "data": {
      "text/plain": [
       "1.8663455749548463"
      ]
     },
     "execution_count": 45,
     "metadata": {},
     "output_type": "execute_result"
    }
   ],
   "source": [
    "year3_ror_amazon = ((current_value_year3_amazon - initial_value_year3_amazon)/initial_value_year3_amazon)*100\n",
    "\n",
    "year3_ror_amazon"
   ]
  },
  {
   "cell_type": "code",
   "execution_count": 46,
   "id": "f78f69e8-1488-4808-b555-8d906d18a72f",
   "metadata": {},
   "outputs": [
    {
     "data": {
      "text/plain": [
       "32.310160988512436"
      ]
     },
     "execution_count": 46,
     "metadata": {},
     "output_type": "execute_result"
    }
   ],
   "source": [
    "expected_ror_amazon = (year1_ror_amazon + year2_ror_amazon + year3_ror_amazon)/3\n",
    "\n",
    "expected_ror_amazon"
   ]
  },
  {
   "cell_type": "markdown",
   "id": "2eb1b399-5078-4f45-9ee9-c77e95765549",
   "metadata": {},
   "source": [
    "# Walmart Expected Rate of Return Calculations"
   ]
  },
  {
   "cell_type": "code",
   "execution_count": 6,
   "id": "3bdce9c0-9fb2-4af6-a2ee-335875d27d13",
   "metadata": {},
   "outputs": [],
   "source": [
    "walmart_historical_year1_begin = walmart.history(start=\"2018-11-05\", end=\"2018-11-06\")\n",
    "walmart_historical_year1_end = walmart.history(start=\"2019-11-05\", end=\"2019-11-06\")\n",
    "initial_value_year1_wmt = walmart_historical_year1_begin['Close']['2018-11-05']\n",
    "current_value_year1_wmt= walmart_historical_year1_end['Close']['2019-11-05']"
   ]
  },
  {
   "cell_type": "code",
   "execution_count": 7,
   "id": "37342c8f-884e-4e18-8546-e996aaf48fbf",
   "metadata": {},
   "outputs": [
    {
     "data": {
      "text/plain": [
       "17.952111939766628"
      ]
     },
     "execution_count": 7,
     "metadata": {},
     "output_type": "execute_result"
    }
   ],
   "source": [
    "year1_ror_wmt = ((current_value_year1_wmt - initial_value_year1_wmt)/initial_value_year1_wmt)*100\n",
    "\n",
    "year1_ror_wmt"
   ]
  },
  {
   "cell_type": "code",
   "execution_count": null,
   "id": "31b7166c-eddc-449e-868e-892b2b7a13ce",
   "metadata": {},
   "outputs": [],
   "source": [
    "walmart_historical_year2_begin = walmart.history(start=\"2019-11-05\", end=\"2019-11-06\")\n",
    "walmart_historical_year2_end = walmart.history(start=\"2020-11-05\", end=\"2020-11-06\")\n",
    "initial_value_year2_wmt = walmart_historical_year2_begin['Close']['2019-11-05']\n",
    "current_value_year2_wmt= walmart_historical_year2_end['Close']['2020-11-05']"
   ]
  },
  {
   "cell_type": "code",
   "execution_count": 14,
   "id": "537ee0bf-88b2-4220-965e-0a441c0447b1",
   "metadata": {},
   "outputs": [
    {
     "data": {
      "text/plain": [
       "22.8214869871709"
      ]
     },
     "execution_count": 14,
     "metadata": {},
     "output_type": "execute_result"
    }
   ],
   "source": [
    "year2_ror_wmt = ((current_value_year2_wmt - initial_value_year2_wmt)/initial_value_year2_wmt)*100\n",
    "\n",
    "year2_ror_wmt"
   ]
  },
  {
   "cell_type": "code",
   "execution_count": 12,
   "id": "1d998dec-3159-4deb-9f3e-6590d3cd2e94",
   "metadata": {},
   "outputs": [],
   "source": [
    "walmart_historical_year3_begin = walmart.history(start=\"2020-11-05\", end=\"2020-11-06\")\n",
    "walmart_historical_year3_end = walmart.history(start=\"2021-11-03\", end=\"2021-11-04\")\n",
    "initial_value_year3_wmt = walmart_historical_year3_begin['Close']['2020-11-05']\n",
    "current_value_year3_wmt= walmart_historical_year3_end['Close']['2021-11-03']"
   ]
  },
  {
   "cell_type": "code",
   "execution_count": 13,
   "id": "3c9f5f13-c8fd-477a-ad3e-3e224993ae39",
   "metadata": {},
   "outputs": [
    {
     "data": {
      "text/plain": [
       "6.302263743819454"
      ]
     },
     "execution_count": 13,
     "metadata": {},
     "output_type": "execute_result"
    }
   ],
   "source": [
    "year3_ror_wmt = ((current_value_year3_wmt - initial_value_year3_wmt)/initial_value_year3_wmt)*100\n",
    "\n",
    "year3_ror_wmt"
   ]
  },
  {
   "cell_type": "code",
   "execution_count": 15,
   "id": "500d9fc5-6670-4b8b-8852-8e7f1132b1bd",
   "metadata": {},
   "outputs": [
    {
     "data": {
      "text/plain": [
       "15.69195422358566"
      ]
     },
     "execution_count": 15,
     "metadata": {},
     "output_type": "execute_result"
    }
   ],
   "source": [
    "expected_ror_wmt = (year1_ror_wmt + year2_ror_wmt + year3_ror_wmt)/3\n",
    "\n",
    "expected_ror_wmt"
   ]
  },
  {
   "cell_type": "markdown",
   "id": "27b9bc72-f226-498f-aad5-4531f563495f",
   "metadata": {},
   "source": [
    "# Ebay Expected Rate of Return Calculations"
   ]
  },
  {
   "cell_type": "code",
   "execution_count": 56,
   "id": "a770009c-9726-48ed-8844-8cdc782d76a1",
   "metadata": {},
   "outputs": [],
   "source": [
    "ebay_historical_year1_begin = ebay.history(start=\"2018-11-05\", end=\"2018-11-06\")\n",
    "ebay_historical_year1_end = ebay.history(start=\"2019-11-05\", end=\"2019-11-06\")\n",
    "initial_value_year1_ebay = ebay_historical_year1_begin['Close']['2018-11-05']\n",
    "current_value_year1_ebay= ebay_historical_year1_end['Close']['2019-11-05']"
   ]
  },
  {
   "cell_type": "code",
   "execution_count": 57,
   "id": "52be4725-10c3-4ace-8fbd-785553d58045",
   "metadata": {},
   "outputs": [
    {
     "data": {
      "text/plain": [
       "21.036574485872823"
      ]
     },
     "execution_count": 57,
     "metadata": {},
     "output_type": "execute_result"
    }
   ],
   "source": [
    "year1_ror_ebay = ((current_value_year1_ebay - initial_value_year1_ebay)/initial_value_year1_ebay)*100\n",
    "\n",
    "year1_ror_ebay"
   ]
  },
  {
   "cell_type": "code",
   "execution_count": 58,
   "id": "bcffa492-7d46-4806-92c9-f0c0ebe94a53",
   "metadata": {},
   "outputs": [],
   "source": [
    "ebay_historical_year2_begin = ebay.history(start=\"2019-11-05\", end=\"2019-11-06\")\n",
    "ebay_historical_year2_end = ebay.history(start=\"2020-11-05\", end=\"2020-11-06\")\n",
    "initial_value_year2_ebay = ebay_historical_year2_begin['Close']['2019-11-05']\n",
    "current_value_year2_ebay= ebay_historical_year2_end['Close']['2020-11-05']"
   ]
  },
  {
   "cell_type": "code",
   "execution_count": 59,
   "id": "433c715a-82c7-47d2-b671-1c2e4bdacaa5",
   "metadata": {},
   "outputs": [
    {
     "data": {
      "text/plain": [
       "41.37555888332547"
      ]
     },
     "execution_count": 59,
     "metadata": {},
     "output_type": "execute_result"
    }
   ],
   "source": [
    "year2_ror_ebay = ((current_value_year2_ebay - initial_value_year2_ebay)/initial_value_year2_ebay)*100\n",
    "\n",
    "year2_ror_ebay"
   ]
  },
  {
   "cell_type": "code",
   "execution_count": 60,
   "id": "69a35e28-a20d-445a-a8a3-a97f29b032f1",
   "metadata": {},
   "outputs": [],
   "source": [
    "ebay_historical_year3_begin = ebay.history(start=\"2020-11-05\", end=\"2020-11-06\")\n",
    "ebay_historical_year3_end = ebay.history(start=\"2021-11-03\", end=\"2021-11-04\")\n",
    "initial_value_year3_ebay = ebay_historical_year3_begin['Close']['2020-11-05']\n",
    "current_value_year3_ebay= ebay_historical_year3_end['Close']['2021-11-03']"
   ]
  },
  {
   "cell_type": "code",
   "execution_count": 61,
   "id": "b691c51f-549d-4087-b7d7-983ff871677c",
   "metadata": {},
   "outputs": [
    {
     "data": {
      "text/plain": [
       "54.4894647691238"
      ]
     },
     "execution_count": 61,
     "metadata": {},
     "output_type": "execute_result"
    }
   ],
   "source": [
    "year3_ror_ebay = ((current_value_year3_ebay - initial_value_year3_ebay)/initial_value_year3_ebay)*100\n",
    "\n",
    "year3_ror_ebay"
   ]
  },
  {
   "cell_type": "code",
   "execution_count": 62,
   "id": "ad7227e5-3e62-4d0f-80da-7cde21e15fc9",
   "metadata": {},
   "outputs": [
    {
     "data": {
      "text/plain": [
       "38.96719937944069"
      ]
     },
     "execution_count": 62,
     "metadata": {},
     "output_type": "execute_result"
    }
   ],
   "source": [
    "expected_ror_ebay = (year1_ror_ebay + year2_ror_ebay + year3_ror_ebay)/3\n",
    "\n",
    "expected_ror_ebay"
   ]
  },
  {
   "cell_type": "markdown",
   "id": "e6f48691-db1a-420e-b0b0-82968ad73d4c",
   "metadata": {},
   "source": [
    "# Target Expected Rate of Return Calculations"
   ]
  },
  {
   "cell_type": "code",
   "execution_count": 70,
   "id": "63779241-f64c-4f00-907f-afb915bda035",
   "metadata": {},
   "outputs": [],
   "source": [
    "target_historical_year1_begin = target.history(start=\"2018-11-05\", end=\"2018-11-06\")\n",
    "target_historical_year1_end = target.history(start=\"2019-11-05\", end=\"2019-11-06\")\n",
    "initial_value_year1_target = target_historical_year1_begin['Close']['2018-11-05']\n",
    "current_value_year1_target= target_historical_year1_end['Close']['2019-11-05']"
   ]
  },
  {
   "cell_type": "code",
   "execution_count": 72,
   "id": "d5db9fe9-5aaa-48cf-a16b-d08d6d590913",
   "metadata": {},
   "outputs": [
    {
     "data": {
      "text/plain": [
       "33.372088709647265"
      ]
     },
     "execution_count": 72,
     "metadata": {},
     "output_type": "execute_result"
    }
   ],
   "source": [
    "year1_ror_target = ((current_value_year1_target - initial_value_year1_target)/initial_value_year1_target)*100\n",
    "\n",
    "year1_ror_target"
   ]
  },
  {
   "cell_type": "code",
   "execution_count": 73,
   "id": "72d3b737-1596-44dc-be5d-94fd6c9534c4",
   "metadata": {},
   "outputs": [],
   "source": [
    "target_historical_year2_begin = target.history(start=\"2019-11-05\", end=\"2019-11-06\")\n",
    "target_historical_year2_end = target.history(start=\"2020-11-05\", end=\"2020-11-06\")\n",
    "initial_value_year2_target = target_historical_year2_begin['Close']['2019-11-05']\n",
    "current_value_year2_target= target_historical_year2_end['Close']['2020-11-05']"
   ]
  },
  {
   "cell_type": "code",
   "execution_count": 74,
   "id": "d85ea248-9c0f-4269-a578-bcbbda7bbacf",
   "metadata": {},
   "outputs": [
    {
     "data": {
      "text/plain": [
       "47.30763500312754"
      ]
     },
     "execution_count": 74,
     "metadata": {},
     "output_type": "execute_result"
    }
   ],
   "source": [
    "year2_ror_target = ((current_value_year2_target - initial_value_year2_target)/initial_value_year2_target)*100\n",
    "\n",
    "year2_ror_target"
   ]
  },
  {
   "cell_type": "code",
   "execution_count": 75,
   "id": "9f4c42a8-aea9-4aa2-8443-0f1a898f14a1",
   "metadata": {},
   "outputs": [],
   "source": [
    "target_historical_year3_begin = target.history(start=\"2020-11-05\", end=\"2020-11-06\")\n",
    "target_historical_year3_end = target.history(start=\"2021-11-03\", end=\"2021-11-04\")\n",
    "initial_value_year3_target = target_historical_year3_begin['Close']['2020-11-05']\n",
    "current_value_year3_target= target_historical_year3_end['Close']['2021-11-03']"
   ]
  },
  {
   "cell_type": "code",
   "execution_count": 76,
   "id": "ddf3e242-609f-4953-8ce5-210c85824259",
   "metadata": {},
   "outputs": [
    {
     "data": {
      "text/plain": [
       "66.5350453183703"
      ]
     },
     "execution_count": 76,
     "metadata": {},
     "output_type": "execute_result"
    }
   ],
   "source": [
    "year3_ror_target = ((current_value_year3_target - initial_value_year3_target)/initial_value_year3_target)*100\n",
    "\n",
    "year3_ror_target"
   ]
  },
  {
   "cell_type": "code",
   "execution_count": 77,
   "id": "8bdcbba1-b17a-411e-b8f4-05c83851f69d",
   "metadata": {},
   "outputs": [
    {
     "data": {
      "text/plain": [
       "49.071589677048365"
      ]
     },
     "execution_count": 77,
     "metadata": {},
     "output_type": "execute_result"
    }
   ],
   "source": [
    "expected_ror_target = (year1_ror_target + year2_ror_target + year3_ror_target)/3\n",
    "\n",
    "expected_ror_target"
   ]
  },
  {
   "cell_type": "markdown",
   "id": "5b010ec3-a040-4865-b3c8-999f2caf9d54",
   "metadata": {},
   "source": [
    "# Overstock Expected Rate of Return Calculations"
   ]
  },
  {
   "cell_type": "code",
   "execution_count": 88,
   "id": "3a5dc083-9abe-4925-b007-c549a1fcae57",
   "metadata": {},
   "outputs": [],
   "source": [
    "overstock_historical_year1_begin = overstock.history(start=\"2018-11-05\", end=\"2018-11-06\")\n",
    "overstock_historical_year1_end = overstock.history(start=\"2019-11-05\", end=\"2019-11-06\")\n",
    "initial_value_year1_overstock = overstock_historical_year1_begin['Close']['2018-11-05']\n",
    "current_value_year1_overstock= overstock_historical_year1_end['Close']['2019-11-05']"
   ]
  },
  {
   "cell_type": "code",
   "execution_count": 89,
   "id": "46cc587a-9be2-4f93-8e15-245e16719a0a",
   "metadata": {},
   "outputs": [
    {
     "data": {
      "text/plain": [
       "-49.34343374015091"
      ]
     },
     "execution_count": 89,
     "metadata": {},
     "output_type": "execute_result"
    }
   ],
   "source": [
    "year1_ror_overstock = ((current_value_year1_overstock - initial_value_year1_overstock)/initial_value_year1_overstock)*100\n",
    "\n",
    "year1_ror_overstock"
   ]
  },
  {
   "cell_type": "code",
   "execution_count": 91,
   "id": "dc777a52-be54-417f-8265-7d8e11921eae",
   "metadata": {},
   "outputs": [],
   "source": [
    "overstock_historical_year2_begin = overstock.history(start=\"2019-11-05\", end=\"2019-11-06\")\n",
    "overstock_historical_year2_end = overstock.history(start=\"2020-11-05\", end=\"2020-11-06\")\n",
    "initial_value_year2_overstock = overstock_historical_year2_begin['Close']['2019-11-05']\n",
    "current_value_year2_overstock= overstock_historical_year2_end['Close']['2020-11-05']"
   ]
  },
  {
   "cell_type": "code",
   "execution_count": 92,
   "id": "93ebc15a-80b3-456d-bd06-ea43ba5d7d9e",
   "metadata": {},
   "outputs": [
    {
     "data": {
      "text/plain": [
       "583.3499774702757"
      ]
     },
     "execution_count": 92,
     "metadata": {},
     "output_type": "execute_result"
    }
   ],
   "source": [
    "year2_ror_overstock = ((current_value_year2_overstock - initial_value_year2_overstock)/initial_value_year2_overstock)*100\n",
    "\n",
    "year2_ror_overstock"
   ]
  },
  {
   "cell_type": "code",
   "execution_count": 95,
   "id": "31aa0ee6-0378-499e-96a2-6db8bf8f85ca",
   "metadata": {},
   "outputs": [],
   "source": [
    "overstock_historical_year3_begin = overstock.history(start=\"2020-11-05\", end=\"2020-11-06\")\n",
    "overstock_historical_year3_end = overstock.history(start=\"2021-11-03\", end=\"2021-11-04\")\n",
    "initial_value_year3_overstock = overstock_historical_year3_begin['Close']['2020-11-05']\n",
    "current_value_year3_overstock= overstock_historical_year3_end['Close']['2021-11-03']"
   ]
  },
  {
   "cell_type": "code",
   "execution_count": 96,
   "id": "18a7a414-a056-491f-9cc6-714717f25bdc",
   "metadata": {},
   "outputs": [
    {
     "data": {
      "text/plain": [
       "52.90341647488361"
      ]
     },
     "execution_count": 96,
     "metadata": {},
     "output_type": "execute_result"
    }
   ],
   "source": [
    "year3_ror_overstock = ((current_value_year3_overstock - initial_value_year3_overstock)/initial_value_year3_overstock)*100\n",
    "\n",
    "year3_ror_overstock"
   ]
  },
  {
   "cell_type": "code",
   "execution_count": 97,
   "id": "449ab18f-d510-4eb3-9728-b608382819e1",
   "metadata": {},
   "outputs": [
    {
     "data": {
      "text/plain": [
       "195.6366534016695"
      ]
     },
     "execution_count": 97,
     "metadata": {},
     "output_type": "execute_result"
    }
   ],
   "source": [
    "expected_ror_overstock = (year1_ror_overstock + year2_ror_overstock + year3_ror_overstock)/3\n",
    "\n",
    "expected_ror_overstock"
   ]
  },
  {
   "cell_type": "code",
   "execution_count": 27,
   "id": "ad515303-abf7-47d2-ad9a-697b0d1d9645",
   "metadata": {},
   "outputs": [
    {
     "data": {
      "text/plain": [
       "Date\n",
       "2018-11-05    1627.800049\n",
       "2018-11-06    1642.810059\n",
       "2018-11-07    1755.489990\n",
       "2018-11-08    1754.910034\n",
       "2018-11-09    1712.430054\n",
       "                 ...     \n",
       "2021-10-29    3372.429932\n",
       "2021-11-01    3318.110107\n",
       "2021-11-02    3312.750000\n",
       "2021-11-03    3384.000000\n",
       "2021-11-04    3497.435059\n",
       "Name: Close, Length: 756, dtype: float64"
      ]
     },
     "execution_count": 27,
     "metadata": {},
     "output_type": "execute_result"
    }
   ],
   "source": [
    "amazon_history = amazon.history(period = \"3y\")\n",
    "\n",
    "amazon_history['Close']"
   ]
  },
  {
   "cell_type": "code",
   "execution_count": 28,
   "id": "e0cd8b1c-9914-42cf-af14-05f13c9f3269",
   "metadata": {},
   "outputs": [
    {
     "data": {
      "text/plain": [
       "Date\n",
       "2018-11-05     97.519051\n",
       "2018-11-06     97.917061\n",
       "2018-11-07     98.855186\n",
       "2018-11-08     99.385857\n",
       "2018-11-09    100.030235\n",
       "                 ...    \n",
       "2021-10-29    149.419998\n",
       "2021-11-01    149.789993\n",
       "2021-11-02    149.720001\n",
       "2021-11-03    150.179993\n",
       "2021-11-04    151.720001\n",
       "Name: Close, Length: 756, dtype: float64"
      ]
     },
     "execution_count": 28,
     "metadata": {},
     "output_type": "execute_result"
    }
   ],
   "source": [
    "walmart_history = walmart.history(period = \"3y\")\n",
    "\n",
    "walmart_history['Close']"
   ]
  },
  {
   "cell_type": "code",
   "execution_count": 29,
   "id": "29baf597-2215-4c01-affb-5ff6be4c443e",
   "metadata": {},
   "outputs": [
    {
     "data": {
      "text/plain": [
       "Date\n",
       "2018-11-05    28.541014\n",
       "2018-11-06    28.839518\n",
       "2018-11-07    28.752857\n",
       "2018-11-08    28.733597\n",
       "2018-11-09    28.531384\n",
       "                ...    \n",
       "2021-10-29    76.720001\n",
       "2021-11-01    76.300003\n",
       "2021-11-02    74.900002\n",
       "2021-11-03    75.449997\n",
       "2021-11-04    76.300003\n",
       "Name: Close, Length: 756, dtype: float64"
      ]
     },
     "execution_count": 29,
     "metadata": {},
     "output_type": "execute_result"
    }
   ],
   "source": [
    "ebay_history = ebay.history(period = \"3y\")\n",
    "\n",
    "ebay_history['Close']"
   ]
  },
  {
   "cell_type": "code",
   "execution_count": 67,
   "id": "57f243b9-86df-4991-96f6-d1fc5181a809",
   "metadata": {},
   "outputs": [
    {
     "data": {
      "text/plain": [
       "Date\n",
       "2018-11-05     79.590614\n",
       "2018-11-06     79.814415\n",
       "2018-11-07     80.905487\n",
       "2018-11-08     81.688782\n",
       "2018-11-09     81.073326\n",
       "                 ...    \n",
       "2021-10-29    259.619995\n",
       "2021-11-01    257.920013\n",
       "2021-11-02    260.260010\n",
       "2021-11-03    260.410004\n",
       "2021-11-04    260.410004\n",
       "Name: Close, Length: 756, dtype: float64"
      ]
     },
     "execution_count": 67,
     "metadata": {},
     "output_type": "execute_result"
    }
   ],
   "source": [
    "target_history = target.history(period = \"3y\")\n",
    "\n",
    "target_history['Close']"
   ]
  },
  {
   "cell_type": "code",
   "execution_count": 81,
   "id": "f54412a4-b1bc-436c-8e2f-0ab975115712",
   "metadata": {},
   "outputs": [
    {
     "data": {
      "text/plain": [
       "Date\n",
       "2018-11-05     19.799999\n",
       "2018-11-06     19.520000\n",
       "2018-11-07     20.580000\n",
       "2018-11-08     20.360001\n",
       "2018-11-09     17.200001\n",
       "                 ...    \n",
       "2021-10-29     95.230003\n",
       "2021-11-01     94.669998\n",
       "2021-11-02    101.360001\n",
       "2021-11-03    104.800003\n",
       "2021-11-04    105.150002\n",
       "Name: Close, Length: 756, dtype: float64"
      ]
     },
     "execution_count": 81,
     "metadata": {},
     "output_type": "execute_result"
    }
   ],
   "source": [
    "overstock_history = overstock.history(period = \"3y\")\n",
    "\n",
    "overstock_history['Close']"
   ]
  },
  {
   "cell_type": "code",
   "execution_count": 105,
   "id": "cd3582ca-cbea-4057-9bdd-cf0435a6a856",
   "metadata": {},
   "outputs": [],
   "source": [
    "start = datetime(2018, 11, 5)\n",
    "symbols_list = ['AMZN', 'WMT', 'EBAY', 'TGT', 'OSTK']\n"
   ]
  },
  {
   "cell_type": "code",
   "execution_count": 153,
   "id": "bec464bf-ac58-45f0-ac63-2c028ed42acb",
   "metadata": {},
   "outputs": [
    {
     "data": {
      "text/html": [
       "<div>\n",
       "<style scoped>\n",
       "    .dataframe tbody tr th:only-of-type {\n",
       "        vertical-align: middle;\n",
       "    }\n",
       "\n",
       "    .dataframe tbody tr th {\n",
       "        vertical-align: top;\n",
       "    }\n",
       "\n",
       "    .dataframe thead th {\n",
       "        text-align: right;\n",
       "    }\n",
       "</style>\n",
       "<table border=\"1\" class=\"dataframe\">\n",
       "  <thead>\n",
       "    <tr style=\"text-align: right;\">\n",
       "      <th></th>\n",
       "      <th>Overstock</th>\n",
       "      <th>Target</th>\n",
       "      <th>Ebay</th>\n",
       "      <th>Walmart</th>\n",
       "      <th>Amazon</th>\n",
       "    </tr>\n",
       "    <tr>\n",
       "      <th>Date</th>\n",
       "      <th></th>\n",
       "      <th></th>\n",
       "      <th></th>\n",
       "      <th></th>\n",
       "      <th></th>\n",
       "    </tr>\n",
       "  </thead>\n",
       "  <tbody>\n",
       "    <tr>\n",
       "      <th>2018-11-05</th>\n",
       "      <td>19.799999</td>\n",
       "      <td>79.590614</td>\n",
       "      <td>28.541014</td>\n",
       "      <td>97.519051</td>\n",
       "      <td>1627.800049</td>\n",
       "    </tr>\n",
       "    <tr>\n",
       "      <th>2018-11-06</th>\n",
       "      <td>19.520000</td>\n",
       "      <td>79.814415</td>\n",
       "      <td>28.839518</td>\n",
       "      <td>97.917061</td>\n",
       "      <td>1642.810059</td>\n",
       "    </tr>\n",
       "    <tr>\n",
       "      <th>2018-11-07</th>\n",
       "      <td>20.580000</td>\n",
       "      <td>80.905487</td>\n",
       "      <td>28.752857</td>\n",
       "      <td>98.855186</td>\n",
       "      <td>1755.489990</td>\n",
       "    </tr>\n",
       "    <tr>\n",
       "      <th>2018-11-08</th>\n",
       "      <td>20.360001</td>\n",
       "      <td>81.688782</td>\n",
       "      <td>28.733597</td>\n",
       "      <td>99.385857</td>\n",
       "      <td>1754.910034</td>\n",
       "    </tr>\n",
       "    <tr>\n",
       "      <th>2018-11-09</th>\n",
       "      <td>17.200001</td>\n",
       "      <td>81.073326</td>\n",
       "      <td>28.531384</td>\n",
       "      <td>100.030235</td>\n",
       "      <td>1712.430054</td>\n",
       "    </tr>\n",
       "    <tr>\n",
       "      <th>...</th>\n",
       "      <td>...</td>\n",
       "      <td>...</td>\n",
       "      <td>...</td>\n",
       "      <td>...</td>\n",
       "      <td>...</td>\n",
       "    </tr>\n",
       "    <tr>\n",
       "      <th>2021-10-29</th>\n",
       "      <td>95.230003</td>\n",
       "      <td>259.619995</td>\n",
       "      <td>76.720001</td>\n",
       "      <td>149.419998</td>\n",
       "      <td>3372.429932</td>\n",
       "    </tr>\n",
       "    <tr>\n",
       "      <th>2021-11-01</th>\n",
       "      <td>94.669998</td>\n",
       "      <td>257.920013</td>\n",
       "      <td>76.300003</td>\n",
       "      <td>149.789993</td>\n",
       "      <td>3318.110107</td>\n",
       "    </tr>\n",
       "    <tr>\n",
       "      <th>2021-11-02</th>\n",
       "      <td>101.360001</td>\n",
       "      <td>260.260010</td>\n",
       "      <td>74.900002</td>\n",
       "      <td>149.720001</td>\n",
       "      <td>3312.750000</td>\n",
       "    </tr>\n",
       "    <tr>\n",
       "      <th>2021-11-03</th>\n",
       "      <td>104.800003</td>\n",
       "      <td>260.410004</td>\n",
       "      <td>75.449997</td>\n",
       "      <td>150.179993</td>\n",
       "      <td>3384.000000</td>\n",
       "    </tr>\n",
       "    <tr>\n",
       "      <th>2021-11-04</th>\n",
       "      <td>105.150002</td>\n",
       "      <td>260.410004</td>\n",
       "      <td>76.300003</td>\n",
       "      <td>151.720001</td>\n",
       "      <td>3497.435059</td>\n",
       "    </tr>\n",
       "  </tbody>\n",
       "</table>\n",
       "<p>756 rows × 5 columns</p>\n",
       "</div>"
      ],
      "text/plain": [
       "             Overstock      Target       Ebay     Walmart       Amazon\n",
       "Date                                                                  \n",
       "2018-11-05   19.799999   79.590614  28.541014   97.519051  1627.800049\n",
       "2018-11-06   19.520000   79.814415  28.839518   97.917061  1642.810059\n",
       "2018-11-07   20.580000   80.905487  28.752857   98.855186  1755.489990\n",
       "2018-11-08   20.360001   81.688782  28.733597   99.385857  1754.910034\n",
       "2018-11-09   17.200001   81.073326  28.531384  100.030235  1712.430054\n",
       "...                ...         ...        ...         ...          ...\n",
       "2021-10-29   95.230003  259.619995  76.720001  149.419998  3372.429932\n",
       "2021-11-01   94.669998  257.920013  76.300003  149.789993  3318.110107\n",
       "2021-11-02  101.360001  260.260010  74.900002  149.720001  3312.750000\n",
       "2021-11-03  104.800003  260.410004  75.449997  150.179993  3384.000000\n",
       "2021-11-04  105.150002  260.410004  76.300003  151.720001  3497.435059\n",
       "\n",
       "[756 rows x 5 columns]"
      ]
     },
     "metadata": {},
     "output_type": "display_data"
    }
   ],
   "source": [
    "overstock_df = pd.DataFrame(data = overstock_history['Close'])\n",
    "target_df = pd.DataFrame(data = target_history['Close'])\n",
    "ebay_df = pd.DataFrame(data = ebay_history['Close'])\n",
    "walmart_df = pd.DataFrame(data = walmart_history['Close'])\n",
    "amazon_df = pd.DataFrame(data = amazon_history['Close'])\n",
    "\n",
    "\n",
    "dataframe = pd.concat([overstock_df, target_df, ebay_df, walmart_df, amazon_df], axis = 1)\n",
    "\n",
    "dataframe.columns = [ \"Overstock\", \"Target\", \"Ebay\", \"Walmart\", \"Amazon\"]\n",
    "display(dataframe)"
   ]
  },
  {
   "cell_type": "code",
   "execution_count": 155,
   "id": "fe6ebd89-7dcd-4872-8b19-ac35cf9278ba",
   "metadata": {},
   "outputs": [
    {
     "data": {
      "text/html": [
       "<div>\n",
       "<style scoped>\n",
       "    .dataframe tbody tr th:only-of-type {\n",
       "        vertical-align: middle;\n",
       "    }\n",
       "\n",
       "    .dataframe tbody tr th {\n",
       "        vertical-align: top;\n",
       "    }\n",
       "\n",
       "    .dataframe thead th {\n",
       "        text-align: right;\n",
       "    }\n",
       "</style>\n",
       "<table border=\"1\" class=\"dataframe\">\n",
       "  <thead>\n",
       "    <tr style=\"text-align: right;\">\n",
       "      <th></th>\n",
       "      <th>Overstock</th>\n",
       "      <th>Target</th>\n",
       "      <th>Ebay</th>\n",
       "      <th>Walmart</th>\n",
       "      <th>Amazon</th>\n",
       "    </tr>\n",
       "  </thead>\n",
       "  <tbody>\n",
       "    <tr>\n",
       "      <th>Overstock</th>\n",
       "      <td>1.000000</td>\n",
       "      <td>0.825182</td>\n",
       "      <td>0.880374</td>\n",
       "      <td>0.803650</td>\n",
       "      <td>0.920481</td>\n",
       "    </tr>\n",
       "    <tr>\n",
       "      <th>Target</th>\n",
       "      <td>0.825182</td>\n",
       "      <td>1.000000</td>\n",
       "      <td>0.935200</td>\n",
       "      <td>0.895973</td>\n",
       "      <td>0.887384</td>\n",
       "    </tr>\n",
       "    <tr>\n",
       "      <th>Ebay</th>\n",
       "      <td>0.880374</td>\n",
       "      <td>0.935200</td>\n",
       "      <td>1.000000</td>\n",
       "      <td>0.851683</td>\n",
       "      <td>0.922619</td>\n",
       "    </tr>\n",
       "    <tr>\n",
       "      <th>Walmart</th>\n",
       "      <td>0.803650</td>\n",
       "      <td>0.895973</td>\n",
       "      <td>0.851683</td>\n",
       "      <td>1.000000</td>\n",
       "      <td>0.921194</td>\n",
       "    </tr>\n",
       "    <tr>\n",
       "      <th>Amazon</th>\n",
       "      <td>0.920481</td>\n",
       "      <td>0.887384</td>\n",
       "      <td>0.922619</td>\n",
       "      <td>0.921194</td>\n",
       "      <td>1.000000</td>\n",
       "    </tr>\n",
       "  </tbody>\n",
       "</table>\n",
       "</div>"
      ],
      "text/plain": [
       "           Overstock    Target      Ebay   Walmart    Amazon\n",
       "Overstock   1.000000  0.825182  0.880374  0.803650  0.920481\n",
       "Target      0.825182  1.000000  0.935200  0.895973  0.887384\n",
       "Ebay        0.880374  0.935200  1.000000  0.851683  0.922619\n",
       "Walmart     0.803650  0.895973  0.851683  1.000000  0.921194\n",
       "Amazon      0.920481  0.887384  0.922619  0.921194  1.000000"
      ]
     },
     "execution_count": 155,
     "metadata": {},
     "output_type": "execute_result"
    }
   ],
   "source": [
    "corr_df = dataframe.corr(method='pearson')\n",
    " #reset symbol as index (rather than 0-X)\n",
    "corr_df.head().reset_index()\n",
    "corr_df.head(10)"
   ]
  },
  {
   "cell_type": "markdown",
   "id": "320cf162-0b0a-4724-9935-3d45d8fbc3d1",
   "metadata": {},
   "source": [
    "# Overstock Portfolio Variances"
   ]
  },
  {
   "cell_type": "code",
   "execution_count": null,
   "id": "f25e9381-8ca5-4330-8b81-af6715c86ce1",
   "metadata": {},
   "outputs": [],
   "source": []
  }
 ],
 "metadata": {
  "kernelspec": {
   "display_name": "Python 3",
   "language": "python",
   "name": "python3"
  },
  "language_info": {
   "codemirror_mode": {
    "name": "ipython",
    "version": 3
   },
   "file_extension": ".py",
   "mimetype": "text/x-python",
   "name": "python",
   "nbconvert_exporter": "python",
   "pygments_lexer": "ipython3",
   "version": "3.7.6"
  }
 },
 "nbformat": 4,
 "nbformat_minor": 5
}
